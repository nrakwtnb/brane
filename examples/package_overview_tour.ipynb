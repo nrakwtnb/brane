{
 "cells": [
  {
   "cell_type": "markdown",
   "id": "ab6a4ad2",
   "metadata": {},
   "source": [
    "# Package overview tour"
   ]
  },
  {
   "cell_type": "markdown",
   "id": "ed0f8fc5",
   "metadata": {},
   "source": [
    "This tutorial describes what it can do and how to use it. This does not cover all but shows the most interesting features."
   ]
  },
  {
   "cell_type": "markdown",
   "id": "9d4d5347",
   "metadata": {},
   "source": [
    "Let's read the core I/O interface class: eXtended-I/O"
   ]
  },
  {
   "cell_type": "code",
   "execution_count": 1,
   "id": "95a94282",
   "metadata": {
    "scrolled": true
   },
   "outputs": [],
   "source": [
    "from brane import ExtendedIO as xio"
   ]
  },
  {
   "cell_type": "markdown",
   "id": "ae44397c",
   "metadata": {},
   "source": [
    "## Read / Write operations via eXtended-I/O"
   ]
  },
  {
   "cell_type": "markdown",
   "id": "2f082049",
   "metadata": {},
   "source": [
    "### text"
   ]
  },
  {
   "cell_type": "markdown",
   "id": "55db96d8",
   "metadata": {},
   "source": [
    "First of all, let's write the following text as a normal text:"
   ]
  },
  {
   "cell_type": "code",
   "execution_count": 2,
   "id": "810b5c53",
   "metadata": {},
   "outputs": [],
   "source": [
    "text = \"\"\"\n",
    "name,role,birthyear\n",
    "Alice,sender,1978\n",
    "Bob,receiver,1978\n",
    "Carol,,1984\n",
    "Eve,eavesdropper,1988\n",
    "Mallory,attacker,2003\n",
    "Walter,warden,\n",
    "Ivan,issuer,2002\n",
    "\"\"\".strip()"
   ]
  },
  {
   "cell_type": "markdown",
   "id": "f088efdc",
   "metadata": {},
   "source": [
    "It's very simple. Specify the string and the path."
   ]
  },
  {
   "cell_type": "code",
   "execution_count": 3,
   "id": "c5955ba8",
   "metadata": {},
   "outputs": [],
   "source": [
    "xio.write(text, \"./text.txt\")"
   ]
  },
  {
   "cell_type": "markdown",
   "id": "63daf9e0",
   "metadata": {},
   "source": [
    "And you can see that this is written as just an ordinary text."
   ]
  },
  {
   "cell_type": "code",
   "execution_count": 4,
   "id": "d2d7a0b8",
   "metadata": {},
   "outputs": [
    {
     "name": "stdout",
     "output_type": "stream",
     "text": [
      "name,role,birthyear\r\n",
      "Alice,sender,1978\r\n",
      "Bob,receiver,1978\r\n",
      "Carol,,1984\r\n",
      "Eve,eavesdropper,1988\r\n",
      "Mallory,attacker,2003\r\n",
      "Walter,warden,\r\n",
      "Ivan,issuer,2002"
     ]
    }
   ],
   "source": [
    "!cat ./text"
   ]
  },
  {
   "cell_type": "code",
   "execution_count": 5,
   "id": "3a104cf5",
   "metadata": {},
   "outputs": [
    {
     "name": "stdout",
     "output_type": "stream",
     "text": [
      "name,role,birthyear\n",
      "Alice,sender,1978\n",
      "Bob,receiver,1978\n",
      "Carol,,1984\n",
      "Eve,eavesdropper,1988\n",
      "Mallory,attacker,2003\n",
      "Walter,warden,\n",
      "Ivan,issuer,2002\n"
     ]
    }
   ],
   "source": [
    "text_reload = xio.read(\"./text.txt\")\n",
    "assert type(text_reload) == str\n",
    "print(text_reload)"
   ]
  },
  {
   "cell_type": "code",
   "execution_count": 6,
   "id": "f795b847",
   "metadata": {},
   "outputs": [
    {
     "data": {
      "text/plain": [
       "True"
      ]
     },
     "execution_count": 6,
     "metadata": {},
     "output_type": "execute_result"
    }
   ],
   "source": [
    "text == text_reload"
   ]
  },
  {
   "cell_type": "markdown",
   "id": "8cd1d25c",
   "metadata": {},
   "source": [
    "The reloaded one is string and same as the orginal one."
   ]
  },
  {
   "cell_type": "markdown",
   "id": "0523c477",
   "metadata": {},
   "source": [
    "Next, you save this text as csv file. The extension is just the symbol of the format but meaningless to the filesystem."
   ]
  },
  {
   "cell_type": "code",
   "execution_count": 7,
   "id": "dd341567",
   "metadata": {},
   "outputs": [],
   "source": [
    "xio.write(text, \"./actor.csv\", module_name=\"TextIO\")   # [Note]: replaced by 'textio' in the future"
   ]
  },
  {
   "cell_type": "markdown",
   "id": "3bcbe79c",
   "metadata": {},
   "source": [
    "### csv"
   ]
  },
  {
   "cell_type": "markdown",
   "id": "cc517bda",
   "metadata": {},
   "source": [
    "Now try reading the csv file. It's just a text with a csv extension in the filename."
   ]
  },
  {
   "cell_type": "code",
   "execution_count": 8,
   "id": "92c2de1c",
   "metadata": {
    "scrolled": true
   },
   "outputs": [
    {
     "name": "stdout",
     "output_type": "stream",
     "text": [
      "<class 'pandas.core.frame.DataFrame'>\n"
     ]
    },
    {
     "data": {
      "text/html": [
       "<div>\n",
       "<style scoped>\n",
       "    .dataframe tbody tr th:only-of-type {\n",
       "        vertical-align: middle;\n",
       "    }\n",
       "\n",
       "    .dataframe tbody tr th {\n",
       "        vertical-align: top;\n",
       "    }\n",
       "\n",
       "    .dataframe thead th {\n",
       "        text-align: right;\n",
       "    }\n",
       "</style>\n",
       "<table border=\"1\" class=\"dataframe\">\n",
       "  <thead>\n",
       "    <tr style=\"text-align: right;\">\n",
       "      <th></th>\n",
       "      <th>name</th>\n",
       "      <th>role</th>\n",
       "      <th>birthyear</th>\n",
       "    </tr>\n",
       "  </thead>\n",
       "  <tbody>\n",
       "    <tr>\n",
       "      <th>0</th>\n",
       "      <td>Alice</td>\n",
       "      <td>sender</td>\n",
       "      <td>1978.0</td>\n",
       "    </tr>\n",
       "    <tr>\n",
       "      <th>1</th>\n",
       "      <td>Bob</td>\n",
       "      <td>receiver</td>\n",
       "      <td>1978.0</td>\n",
       "    </tr>\n",
       "    <tr>\n",
       "      <th>2</th>\n",
       "      <td>Carol</td>\n",
       "      <td>NaN</td>\n",
       "      <td>1984.0</td>\n",
       "    </tr>\n",
       "    <tr>\n",
       "      <th>3</th>\n",
       "      <td>Eve</td>\n",
       "      <td>eavesdropper</td>\n",
       "      <td>1988.0</td>\n",
       "    </tr>\n",
       "    <tr>\n",
       "      <th>4</th>\n",
       "      <td>Mallory</td>\n",
       "      <td>attacker</td>\n",
       "      <td>2003.0</td>\n",
       "    </tr>\n",
       "    <tr>\n",
       "      <th>5</th>\n",
       "      <td>Walter</td>\n",
       "      <td>warden</td>\n",
       "      <td>NaN</td>\n",
       "    </tr>\n",
       "    <tr>\n",
       "      <th>6</th>\n",
       "      <td>Ivan</td>\n",
       "      <td>issuer</td>\n",
       "      <td>2002.0</td>\n",
       "    </tr>\n",
       "  </tbody>\n",
       "</table>\n",
       "</div>"
      ],
      "text/plain": [
       "      name          role  birthyear\n",
       "0    Alice        sender     1978.0\n",
       "1      Bob      receiver     1978.0\n",
       "2    Carol           NaN     1984.0\n",
       "3      Eve  eavesdropper     1988.0\n",
       "4  Mallory      attacker     2003.0\n",
       "5   Walter        warden        NaN\n",
       "6     Ivan        issuer     2002.0"
      ]
     },
     "execution_count": 8,
     "metadata": {},
     "output_type": "execute_result"
    }
   ],
   "source": [
    "df = xio.read(\"actor.csv\")\n",
    "print(type(df))\n",
    "df"
   ]
  },
  {
   "cell_type": "markdown",
   "id": "221b2fca",
   "metadata": {},
   "source": [
    "In this turn, you find that the loaded object is not a text but pandas DataFrame.\n",
    "If you would like to use the bultin's csv package in some reason, you can do it by passing the module_name as 'csv'."
   ]
  },
  {
   "cell_type": "code",
   "execution_count": 9,
   "id": "ba503cc3",
   "metadata": {},
   "outputs": [
    {
     "name": "stdout",
     "output_type": "stream",
     "text": [
      "<class 'list'>\n"
     ]
    },
    {
     "data": {
      "text/plain": [
       "[['name', 'role', 'birthyear'],\n",
       " ['Alice', 'sender', '1978'],\n",
       " ['Bob', 'receiver', '1978'],\n",
       " ['Carol', '', '1984'],\n",
       " ['Eve', 'eavesdropper', '1988'],\n",
       " ['Mallory', 'attacker', '2003'],\n",
       " ['Walter', 'warden', ''],\n",
       " ['Ivan', 'issuer', '2002']]"
      ]
     },
     "execution_count": 9,
     "metadata": {},
     "output_type": "execute_result"
    }
   ],
   "source": [
    "df = xio.read(\"actor.csv\", module_name=\"Csv\")  # [Note]: replaced by 'csv' in the future\n",
    "print(type(df))\n",
    "df"
   ]
  },
  {
   "cell_type": "markdown",
   "id": "6009a145",
   "metadata": {},
   "source": [
    "Again, you can spcify the pandas module for module_name to ensure. It's better to add type annotation if you know the type of the loaded object."
   ]
  },
  {
   "cell_type": "code",
   "execution_count": 10,
   "id": "bf29fb28",
   "metadata": {},
   "outputs": [
    {
     "name": "stdout",
     "output_type": "stream",
     "text": [
      "<class 'pandas.core.frame.DataFrame'>\n"
     ]
    },
    {
     "data": {
      "text/html": [
       "<div>\n",
       "<style scoped>\n",
       "    .dataframe tbody tr th:only-of-type {\n",
       "        vertical-align: middle;\n",
       "    }\n",
       "\n",
       "    .dataframe tbody tr th {\n",
       "        vertical-align: top;\n",
       "    }\n",
       "\n",
       "    .dataframe thead th {\n",
       "        text-align: right;\n",
       "    }\n",
       "</style>\n",
       "<table border=\"1\" class=\"dataframe\">\n",
       "  <thead>\n",
       "    <tr style=\"text-align: right;\">\n",
       "      <th></th>\n",
       "      <th>name</th>\n",
       "      <th>role</th>\n",
       "      <th>birthyear</th>\n",
       "    </tr>\n",
       "  </thead>\n",
       "  <tbody>\n",
       "    <tr>\n",
       "      <th>0</th>\n",
       "      <td>Alice</td>\n",
       "      <td>sender</td>\n",
       "      <td>1978.0</td>\n",
       "    </tr>\n",
       "    <tr>\n",
       "      <th>1</th>\n",
       "      <td>Bob</td>\n",
       "      <td>receiver</td>\n",
       "      <td>1978.0</td>\n",
       "    </tr>\n",
       "    <tr>\n",
       "      <th>2</th>\n",
       "      <td>Carol</td>\n",
       "      <td>NaN</td>\n",
       "      <td>1984.0</td>\n",
       "    </tr>\n",
       "    <tr>\n",
       "      <th>3</th>\n",
       "      <td>Eve</td>\n",
       "      <td>eavesdropper</td>\n",
       "      <td>1988.0</td>\n",
       "    </tr>\n",
       "    <tr>\n",
       "      <th>4</th>\n",
       "      <td>Mallory</td>\n",
       "      <td>attacker</td>\n",
       "      <td>2003.0</td>\n",
       "    </tr>\n",
       "    <tr>\n",
       "      <th>5</th>\n",
       "      <td>Walter</td>\n",
       "      <td>warden</td>\n",
       "      <td>NaN</td>\n",
       "    </tr>\n",
       "    <tr>\n",
       "      <th>6</th>\n",
       "      <td>Ivan</td>\n",
       "      <td>issuer</td>\n",
       "      <td>2002.0</td>\n",
       "    </tr>\n",
       "  </tbody>\n",
       "</table>\n",
       "</div>"
      ],
      "text/plain": [
       "      name          role  birthyear\n",
       "0    Alice        sender     1978.0\n",
       "1      Bob      receiver     1978.0\n",
       "2    Carol           NaN     1984.0\n",
       "3      Eve  eavesdropper     1988.0\n",
       "4  Mallory      attacker     2003.0\n",
       "5   Walter        warden        NaN\n",
       "6     Ivan        issuer     2002.0"
      ]
     },
     "execution_count": 10,
     "metadata": {},
     "output_type": "execute_result"
    }
   ],
   "source": [
    "import pandas as pd\n",
    "df: pd.DataFrame = xio.read(\"actor.csv\", module_name=\"Pandas\")  # [Note]: replaced by 'pandas' in the future\n",
    "print(type(df))\n",
    "df"
   ]
  },
  {
   "cell_type": "markdown",
   "id": "a9e23a54",
   "metadata": {},
   "source": [
    "Let's save the pandas dataframe. As you may know, this will save the index too:"
   ]
  },
  {
   "cell_type": "code",
   "execution_count": 11,
   "id": "eaf4ce01",
   "metadata": {},
   "outputs": [
    {
     "name": "stdout",
     "output_type": "stream",
     "text": [
      "name,role,birthyear\r\n",
      "Alice,sender,1978.0\r\n",
      "Bob,receiver,1978.0\r\n",
      "Carol,,1984.0\r\n",
      "Eve,eavesdropper,1988.0\r\n",
      "Mallory,attacker,2003.0\r\n",
      "Walter,warden,\r\n",
      "Ivan,issuer,2002.0\r\n"
     ]
    }
   ],
   "source": [
    "xio.write(df, \"actor_w_index.csv\")\n",
    "!cat ./actor_w_index.csv"
   ]
  },
  {
   "cell_type": "markdown",
   "id": "7cf3791e",
   "metadata": {},
   "source": [
    "Wow, no index appears. This is because some most common parameters are set in advance.\n",
    "For pandas, `index=None` is such a parameter."
   ]
  },
  {
   "cell_type": "markdown",
   "id": "831d1b9e",
   "metadata": {},
   "source": [
    "Of course, you can specify the index too."
   ]
  },
  {
   "cell_type": "code",
   "execution_count": 12,
   "id": "859679d3",
   "metadata": {
    "scrolled": true
   },
   "outputs": [
    {
     "name": "stdout",
     "output_type": "stream",
     "text": [
      ",name,role,birthyear\r\n",
      "0,Alice,sender,1978.0\r\n",
      "1,Bob,receiver,1978.0\r\n",
      "2,Carol,,1984.0\r\n",
      "3,Eve,eavesdropper,1988.0\r\n",
      "4,Mallory,attacker,2003.0\r\n",
      "5,Walter,warden,\r\n",
      "6,Ivan,issuer,2002.0\r\n"
     ]
    }
   ],
   "source": [
    "xio.write(obj=df, path=\"actor_w_name_index.csv\", index=True)\n",
    "!cat ./actor_w_name_index.csv"
   ]
  },
  {
   "cell_type": "markdown",
   "id": "792c8393",
   "metadata": {},
   "source": [
    "Here, for clarity, we put the keyword arguments like obj and path,"
   ]
  },
  {
   "cell_type": "markdown",
   "id": "f807db93",
   "metadata": {},
   "source": [
    "## Customization"
   ]
  },
  {
   "cell_type": "markdown",
   "id": "d4f1bcf5",
   "metadata": {},
   "source": [
    "* consider new extension .hello and a corresponding module Hello\n",
    "* it treats the Python dictionary"
   ]
  },
  {
   "cell_type": "markdown",
   "id": "e61c824c",
   "metadata": {},
   "source": [
    "from brane import Module, Format, Object"
   ]
  },
  {
   "cell_type": "markdown",
   "id": "bb82ddbc",
   "metadata": {},
   "source": [
    "### define own module"
   ]
  },
  {
   "cell_type": "markdown",
   "id": "7252556c",
   "metadata": {},
   "source": [
    "For that purpose, let's define our own format 'hello' with its classs implementation as follows.\n",
    "\n",
    "* header (1st line): a symbol which plays role as a separator in the following lines\n",
    "* body (any other sequent line): each line consisting of key and value with the separator specified in the header."
   ]
  },
  {
   "cell_type": "code",
   "execution_count": 13,
   "id": "b3ac9183",
   "metadata": {},
   "outputs": [],
   "source": [
    "#from brane.typing import *\n",
    "from __future__ import annotations\n",
    "from typing import Union\n",
    "\n",
    "class HelloClass():\n",
    "    def __init__(self, mapper: dict[str, Union[str, int]]):\n",
    "        self.mapper = mapper\n",
    "\n",
    "    def __repr__(self):\n",
    "        return self.mapper.__repr__()\n",
    "\n",
    "class HelloIO():\n",
    "    @staticmethod\n",
    "    def load(path: str):\n",
    "        with open(path, \"r\") as f:\n",
    "            file: str = f.read()\n",
    "        sep, *lines = file.split(\"\\n\")\n",
    "        data: dict = {}\n",
    "        for l in lines:\n",
    "            k, v = l.split(sep)\n",
    "            data[k] = v\n",
    "        return HelloClass(mapper=data)\n",
    "\n",
    "    @staticmethod\n",
    "    def dump(mapper: HelloClass, path: str, sep: str = \": \"):\n",
    "        with open(path, \"w\") as f:\n",
    "            f.write(f\"{sep}\")\n",
    "            for key, value in obj.mapper.items():\n",
    "                f.write(f\"\\n{key}{sep}{value}\")"
   ]
  },
  {
   "cell_type": "markdown",
   "id": "05c49b01",
   "metadata": {},
   "source": [
    "Now, test it:"
   ]
  },
  {
   "cell_type": "code",
   "execution_count": 14,
   "id": "a20e9341",
   "metadata": {},
   "outputs": [],
   "source": [
    "obj = HelloClass(mapper={\n",
    "    \"Jan\": 1,\n",
    "    \"Feb\": 2,\n",
    "    \"Mar\": 3,\n",
    "})"
   ]
  },
  {
   "cell_type": "markdown",
   "id": "ca263c21",
   "metadata": {},
   "source": [
    "Save it."
   ]
  },
  {
   "cell_type": "code",
   "execution_count": 15,
   "id": "5b6cf98d",
   "metadata": {},
   "outputs": [],
   "source": [
    "HelloIO.dump(mapper=obj, path=\"./test.hello\")"
   ]
  },
  {
   "cell_type": "code",
   "execution_count": 16,
   "id": "cb22ccf4",
   "metadata": {},
   "outputs": [
    {
     "name": "stdout",
     "output_type": "stream",
     "text": [
      ": \r\n",
      "Jan: 1\r\n",
      "Feb: 2\r\n",
      "Mar: 3"
     ]
    }
   ],
   "source": [
    "!cat ./test.hello"
   ]
  },
  {
   "cell_type": "markdown",
   "id": "328b4fc5",
   "metadata": {},
   "source": [
    "Load it."
   ]
  },
  {
   "cell_type": "code",
   "execution_count": 17,
   "id": "7d93a225",
   "metadata": {},
   "outputs": [
    {
     "data": {
      "text/plain": [
       "{'Jan': '1', 'Feb': '2', 'Mar': '3'}"
      ]
     },
     "execution_count": 17,
     "metadata": {},
     "output_type": "execute_result"
    }
   ],
   "source": [
    "HelloIO.load(path=\"./test.hello\")"
   ]
  },
  {
   "cell_type": "markdown",
   "id": "4c7937d6",
   "metadata": {},
   "source": [
    "Good."
   ]
  },
  {
   "cell_type": "markdown",
   "id": "c2559c94",
   "metadata": {},
   "source": [
    "### define new Module subclass"
   ]
  },
  {
   "cell_type": "code",
   "execution_count": 18,
   "id": "5ad3c463",
   "metadata": {},
   "outputs": [],
   "source": [
    "from brane.core import Module\n",
    "\n",
    "class HelloModule(Module):\n",
    "    name = \"hello\"  # ID of this Module class\n",
    "    loaded = True  # If you define the read/write classmethod directly in th Module subclass, you must set this.\n",
    "\n",
    "    @classmethod\n",
    "    def read(cls, path: str, *args, **kwargs):\n",
    "        return HelloIO.load(path=path)\n",
    "\n",
    "    @classmethod\n",
    "    def write(cls, obj, path, *args, **kwargs):\n",
    "        return HelloIO.dump(mapper=obj, path=path)"
   ]
  },
  {
   "cell_type": "markdown",
   "id": "93ba39a9",
   "metadata": {},
   "source": [
    "You must define three attributes at this class:\n",
    "\n",
    "* name (propetry): This is the ID of the new module.\n",
    "* read (classmethod): This defines the reading/loading process with the keyword arguments path at least.\n",
    "* write (classmethod): This defines the writing/saving process with the keyword arguments obj & path at least."
   ]
  },
  {
   "cell_type": "markdown",
   "id": "6b04bd0e",
   "metadata": {},
   "source": [
    "Test it again."
   ]
  },
  {
   "cell_type": "code",
   "execution_count": 19,
   "id": "95b72e32",
   "metadata": {},
   "outputs": [
    {
     "data": {
      "text/plain": [
       "{'Jan': '1', 'Feb': '2', 'Mar': '3'}"
      ]
     },
     "execution_count": 19,
     "metadata": {},
     "output_type": "execute_result"
    }
   ],
   "source": [
    "HelloModule.read(obj=obj, path=\"./test.hello\")"
   ]
  },
  {
   "cell_type": "code",
   "execution_count": 20,
   "id": "a07807ff",
   "metadata": {},
   "outputs": [],
   "source": [
    "HelloModule.write(obj=obj, path=\"./test2.hello\")"
   ]
  },
  {
   "cell_type": "code",
   "execution_count": 21,
   "id": "b85cb1be",
   "metadata": {},
   "outputs": [
    {
     "name": "stdout",
     "output_type": "stream",
     "text": [
      ": \r\n",
      "Jan: 1\r\n",
      "Feb: 2\r\n",
      "Mar: 3"
     ]
    }
   ],
   "source": [
    "!cat ./test2.hello"
   ]
  },
  {
   "cell_type": "markdown",
   "id": "616b733d",
   "metadata": {},
   "source": [
    "No problem at all."
   ]
  },
  {
   "cell_type": "markdown",
   "id": "c1d65143",
   "metadata": {},
   "source": [
    "### define new Format subclass"
   ]
  },
  {
   "cell_type": "markdown",
   "id": "f0b74cf8",
   "metadata": {},
   "source": [
    "Next, we must implement another class called `Format` which connect the above reading/writing module and the extension."
   ]
  },
  {
   "cell_type": "code",
   "execution_count": 22,
   "id": "df9f93a1",
   "metadata": {},
   "outputs": [],
   "source": [
    "from brane.core import Format\n",
    "\n",
    "class HelloFormat(Format):\n",
    "    name = \"hello\"  # ID of this Format class\n",
    "    module = HelloModule\n",
    "    # module_name = HelloModule.name  # equivalent to \"hello\" in our case\n",
    "    default_extension = \"hello\"  # the extension in the path"
   ]
  },
  {
   "cell_type": "markdown",
   "id": "e0ecf25d",
   "metadata": {},
   "source": [
    "* name (propetry): This is the ID of the new format.\n",
    "* module (property): Assign the correspnding `Module` subclass.\n",
    "* default_extension (property): The extension name."
   ]
  },
  {
   "cell_type": "code",
   "execution_count": 23,
   "id": "787b14a9",
   "metadata": {
    "scrolled": true
   },
   "outputs": [
    {
     "data": {
      "text/plain": [
       "{'Jan': '1', 'Feb': '2', 'Mar': '3'}"
      ]
     },
     "execution_count": 23,
     "metadata": {},
     "output_type": "execute_result"
    }
   ],
   "source": [
    "xio.read(\"./test.hello\")"
   ]
  },
  {
   "cell_type": "markdown",
   "id": "5c9f9e6b",
   "metadata": {},
   "source": [
    "OK, great work ! Now, the brane I/O choose the correct module based on the extension."
   ]
  },
  {
   "cell_type": "markdown",
   "id": "6371a92c",
   "metadata": {},
   "source": [
    "### define new Object subclass"
   ]
  },
  {
   "cell_type": "markdown",
   "id": "f7507a20",
   "metadata": {},
   "source": [
    "Finally, let's save our Hello object in our Hello format i.e. with the `.hello` extension."
   ]
  },
  {
   "cell_type": "code",
   "execution_count": 24,
   "id": "4ba15ab1",
   "metadata": {},
   "outputs": [],
   "source": [
    "from brane.core import Object\n",
    "\n",
    "class HelloObject(Object):\n",
    "    format = HelloFormat\n",
    "    module = HelloModule\n",
    "    object_type = HelloClass"
   ]
  },
  {
   "cell_type": "markdown",
   "id": "81c04f71",
   "metadata": {},
   "source": [
    "In our case, it's still simple:\n",
    "\n",
    "* module (property): The corresponding `Module` subclass.\n",
    "* format (property): The corresponding `Format` subclass.\n",
    "* object_type (property): The type of the target objects, here, `HelloClass`."
   ]
  },
  {
   "cell_type": "code",
   "execution_count": 25,
   "id": "9851c6ad",
   "metadata": {},
   "outputs": [],
   "source": [
    "xio.write(obj=obj, path=\"./auto.hello\")"
   ]
  },
  {
   "cell_type": "code",
   "execution_count": 26,
   "id": "3916ff1b",
   "metadata": {},
   "outputs": [
    {
     "name": "stdout",
     "output_type": "stream",
     "text": [
      ": \r\n",
      "Jan: 1\r\n",
      "Feb: 2\r\n",
      "Mar: 3"
     ]
    }
   ],
   "source": [
    "!cat ./auto.hello"
   ]
  },
  {
   "cell_type": "markdown",
   "id": "c7aa0bfe",
   "metadata": {},
   "source": [
    "Now, we've learned the basic definition & registration of our own I/O to the eXtend-I/O."
   ]
  },
  {
   "cell_type": "markdown",
   "id": "13dfc396",
   "metadata": {},
   "source": [
    "## Hook system\n",
    "\n",
    "coming soon..."
   ]
  }
 ],
 "metadata": {
  "kernelspec": {
   "display_name": "IOManager_Exp_Py39",
   "language": "python",
   "name": "iomanager_exp_py39"
  },
  "language_info": {
   "codemirror_mode": {
    "name": "ipython",
    "version": 3
   },
   "file_extension": ".py",
   "mimetype": "text/x-python",
   "name": "python",
   "nbconvert_exporter": "python",
   "pygments_lexer": "ipython3",
   "version": "3.9.12"
  },
  "toc": {
   "base_numbering": 1,
   "nav_menu": {},
   "number_sections": true,
   "sideBar": true,
   "skip_h1_title": false,
   "title_cell": "Table of Contents",
   "title_sidebar": "Contents",
   "toc_cell": false,
   "toc_position": {},
   "toc_section_display": true,
   "toc_window_display": true
  }
 },
 "nbformat": 4,
 "nbformat_minor": 5
}
