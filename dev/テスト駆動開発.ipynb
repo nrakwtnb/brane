{
 "cells": [
  {
   "cell_type": "code",
   "execution_count": 1,
   "metadata": {
    "ExecuteTime": {
     "end_time": "2022-05-18T15:13:47.372118Z",
     "start_time": "2022-05-18T15:13:47.219848Z"
    }
   },
   "outputs": [],
   "source": [
    "%load_ext autoreload\n",
    "%autoreload 2\n",
    "import pytest"
   ]
  },
  {
   "cell_type": "code",
   "execution_count": 2,
   "metadata": {
    "ExecuteTime": {
     "end_time": "2022-05-18T15:13:47.456750Z",
     "start_time": "2022-05-18T15:13:47.391500Z"
    }
   },
   "outputs": [
    {
     "name": "stdout",
     "output_type": "stream",
     "text": [
      "brane.__init__.py called\n",
      "[DEBUG]: in MetaModule class_info={'__module__': 'brane.core.module', '__qualname__': 'Module', '__annotations__': {'name': 'Optional[str]', 'module_name': 'Optional[str]', 'module': 'Any', 'loaded': 'bool', 'module_method_read': 'Optional[str]', 'read_method': 'Callable', 'module_method_write': 'Optional[str]', 'write_method': 'Callable', 'file_arg_first': 'bool', 'file_open_for_read': 'bool', 'open_mode_for_read': 'dict', 'file_open_for_write': 'bool', 'open_mode_for_write': 'dict', 'object_method_write': 'Optional[str]', 'base_args_read': 'tuple', 'base_kwargs_read': 'dict', 'base_args_write': 'tuple', 'base_kwargs_write': 'dict'}, 'name': None, 'module_name': None, 'module': None, 'loaded': False, 'module_method_read': None, 'read_method': None, 'module_method_write': None, 'write_method': None, 'file_arg_first': True, 'file_open_for_read': False, 'open_mode_for_read': {'mode': 'r'}, 'file_open_for_write': False, 'open_mode_for_write': {'mode': 'w'}, 'object_method_write': None, 'require_file_stream_read': False, 'base_args_read': (), 'base_kwargs_read': {}, 'base_args_write': (), 'base_kwargs_write': {}, 'generate_params_read': None, 'generate_params_write': None, 'load_modules': <classmethod object at 0x7ffadc1b3490>, 'read': <classmethod object at 0x7ffadc13c130>, 'write': <classmethod object at 0x7ffadc13c220>, '_registered_subclasses': {}, 'registered_modules': {}}\n",
      "[DEBUG]: register cls.name = None, cls = <class 'brane.core.module.Module'>\n",
      "[DEBUG]: in MetaModule class_info={'__module__': 'brane.core.module', '__qualname__': 'NoneModule', 'valid': False, 'name': 'None'}\n",
      "[DEBUG]: in MetaFormat default_extension=None class_info={'__module__': 'brane.core.format', '__qualname__': 'Format', '__annotations__': {'default_extension': 'Optional[str]', 'variation': 'list[str]'}, 'data_type': None, 'default_extension': None, '_registered_subclasses': {}, 'registered_formats': {}, 'variation': [None], 'check_extension': <classmethod object at 0x7ffadc13c8e0>, 'name': None}\n",
      "[DEBUG]: register cls.name = None, cls = <class 'brane.core.format.Format'>\n",
      "[DEBUG]: in MetaFormat default_extension=None class_info={'__module__': 'brane.core.format', '__qualname__': 'NoneFormat', 'valid': False, 'name': None, 'variation': [None]}\n",
      "[DEBUG]: register cls.name = Object, cls = <class 'brane.core.object.Object'>\n",
      "[DEBUG]: in MetaModule class_info={'module_name': 'json', 'base_kwargs_write': {'indent': 2}, 'file_arg_first': False, 'file_open_for_read': True, 'file_open_for_write': True, 'module_method_read': 'load', 'module_method_write': 'dump', 'name': 'json'}\n",
      "[DEBUG]: register cls.name = json, cls = <class 'brane.core.module.JsonModule'>\n",
      "[DEBUG]: in MetaModule class_info={'name': 'Pillow', 'module_name': 'PIL.Image', 'module_method_read': 'open', 'object_method_write': 'save'}\n",
      "[DEBUG]: register cls.name = Pillow, cls = <class 'brane.core.module.PillowModule'>\n",
      "[DEBUG]: in MetaModule class_info={'module_name': 'cv2', 'module_method_read': 'imread', 'module_method_write': 'imwrite', 'file_arg_first': True, 'name': 'cv2'}\n",
      "[DEBUG]: register cls.name = cv2, cls = <class 'brane.core.module.CV2Module'>\n",
      "[DEBUG]: in MetaModule class_info={'module_name': 'pandas', 'module_method_read': 'read_csv', 'object_method_write': 'to_csv', 'base_kwargs_write': {'index': None}, 'name': 'pandas'}\n",
      "[DEBUG]: register cls.name = pandas, cls = <class 'brane.core.module.PandasModule'>\n",
      "[DEBUG]: in MetaModule class_info={'module_name': 'numpy', 'module_method_read': 'load', 'module_method_write': 'save', 'file_arg_first': True, 'name': 'numpy'}\n",
      "[DEBUG]: register cls.name = numpy, cls = <class 'brane.core.module.NumpyModule'>\n",
      "[DEBUG]: in MetaFormat default_extension=jpg class_info={'__module__': 'brane.libs.formats', '__qualname__': 'JPEGFormat', 'name': 'JPEG', 'data_type': <class 'brane.libs.formats.ImageType'>, 'default_extension': 'jpg', 'variation': ['jpeg', 'jpg'], 'module': <class 'brane.core.module.PillowModule'>}\n",
      "[DEBUG]: register cls.name = JPEG, cls = <class 'brane.libs.formats.JPEGFormat'>\n",
      "[DEBUG]: in MetaFormat default_extension=csv class_info={'__module__': 'brane.libs.formats', '__qualname__': 'CSVFormat', 'data_type': <class 'brane.libs.formats.TableType'>, 'default_extension': 'csv', 'module': <class 'brane.core.module.PandasModule'>, 'name': 'csv', 'variation': ['csv']}\n",
      "[DEBUG]: register cls.name = csv, cls = <class 'brane.libs.formats.CSVFormat'>\n",
      "[DEBUG]: in MetaFormat default_extension=png class_info={'name': 'PNG', 'data_type': <class 'brane.libs.formats.ImageType'>, 'default_extension': 'png', 'module': <class 'brane.core.module.PillowModule'>, 'variation': ['png']}\n",
      "[DEBUG]: register cls.name = PNG, cls = <class 'brane.core.format.PNGFormat'>\n",
      "[DEBUG]: in MetaFormat default_extension=json class_info={'name': 'Json', 'data_type': <class 'brane.libs.formats.DictType'>, 'default_extension': 'json', 'module': <class 'brane.core.module.JsonModule'>, 'variation': ['json']}\n",
      "[DEBUG]: register cls.name = Json, cls = <class 'brane.core.format.JsonFormat'>\n",
      "[DEBUG]: in MetaFormat default_extension=tsv class_info={'name': 'TSV', 'data_type': <class 'brane.libs.formats.TableType'>, 'default_extension': 'tsv', 'module': <class 'brane.core.module.PandasModule'>, 'variation': ['tsv']}\n",
      "[DEBUG]: register cls.name = TSV, cls = <class 'brane.core.format.TSVFormat'>\n",
      "[DEBUG]: register cls.name = PIL_Image_Object, cls = <class 'brane.libs.objects.PIL_Image_Object'>\n",
      "[DEBUG]: register cls.name = PIL_JPEG_Object, cls = <class 'brane.libs.objects.PIL_JPEG_Object'>\n",
      "[DEBUG]: register cls.name = PIL_PNG_Object, cls = <class 'brane.libs.objects.PIL_PNG_Object'>\n",
      "[DEBUG]: register cls.name = Pandas_DataFrame_Object, cls = <class 'brane.libs.objects.Pandas_DataFrame_Object'>\n",
      "[DEBUG]: register cls.name = Json_Json_Object, cls = <class 'brane.libs.objects.Json_Json_Object'>\n"
     ]
    }
   ],
   "source": [
    "from brane import IOManager as gio"
   ]
  },
  {
   "cell_type": "code",
   "execution_count": 3,
   "metadata": {
    "ExecuteTime": {
     "end_time": "2022-05-18T15:13:52.694671Z",
     "start_time": "2022-05-18T15:13:52.655597Z"
    }
   },
   "outputs": [
    {
     "name": "stdout",
     "output_type": "stream",
     "text": [
      "Overwriting ./tests/utils/pillow.py\n"
     ]
    }
   ],
   "source": [
    "%%writefile ./tests/utils/pillow.py\n",
    "\n",
    "def load_with_PIL(path: str, get_data: bool = False):\n",
    "    from PIL import Image\n",
    "    img = Image.open(path)\n",
    "    if get_data:\n",
    "        return img.getdata()\n",
    "    else:\n",
    "        return img\n",
    "\n",
    "def check_PIL_images_equality(*imgs) -> bool:\n",
    "    from PIL import ImageChops\n",
    "    if len(imgs) < 2:\n",
    "        assert False# [TODO]: use `raise customError`\n",
    "    img_base = imgs[0]\n",
    "    for img_target in imgs[1:]:\n",
    "        diff = ImageChops.difference(img_base, img_target).getbbox()\n",
    "        if diff:\n",
    "            return False\n",
    "        else:\n",
    "            return True"
   ]
  },
  {
   "cell_type": "code",
   "execution_count": 4,
   "metadata": {
    "ExecuteTime": {
     "end_time": "2022-05-18T15:13:53.767933Z",
     "start_time": "2022-05-18T15:13:53.756423Z"
    }
   },
   "outputs": [],
   "source": [
    "from pathlib import Path\n",
    "\n",
    "test_resource_dir = Path(\"./tests/assets/\")\n",
    "test_output_dir = Path(\"./test_output/\")"
   ]
  },
  {
   "cell_type": "markdown",
   "metadata": {},
   "source": [
    "# simple read-write operations"
   ]
  },
  {
   "cell_type": "markdown",
   "metadata": {},
   "source": [
    "## read a single file with various extension and modules"
   ]
  },
  {
   "cell_type": "markdown",
   "metadata": {},
   "source": [
    "* 各拡張子についてテスト"
   ]
  },
  {
   "cell_type": "code",
   "execution_count": null,
   "metadata": {},
   "outputs": [],
   "source": []
  },
  {
   "cell_type": "code",
   "execution_count": 5,
   "metadata": {
    "ExecuteTime": {
     "end_time": "2022-05-04T15:35:05.070316Z",
     "start_time": "2022-05-04T15:35:05.043710Z"
    },
    "scrolled": true
   },
   "outputs": [],
   "source": [
    "# jpeg w/ PIL\n",
    "class TestEquality():\n",
    "    def check_equality(self, objs):\n",
    "        pass\n",
    "\n",
    "    def test_read(self, base_path, target_path_list):\n",
    "        for \n",
    "        \n",
    "        # [MEMO]: If we compare them with == opearators, it returns False, to say,\n",
    "        # assert obj0 == obj1 == obj2 == obj2 -> False\n",
    "        obj0 = load_with_PIL(test_resource_dir / \"sample01.jpeg\")\n",
    "        obj1 = gio.read(test_resource_dir / \"sample01.jpeg\")\n",
    "        obj2 = gio.read(test_resource_dir / \"sample01.jpg\")\n",
    "        obj3 = gio.read(test_resource_dir / \"sample01.JPG\")\n",
    "\n",
    "        assert check_PIL_images_equality(obj0, obj1, obj2, obj3)"
   ]
  },
  {
   "cell_type": "code",
   "execution_count": null,
   "metadata": {},
   "outputs": [],
   "source": []
  },
  {
   "cell_type": "markdown",
   "metadata": {
    "ExecuteTime": {
     "end_time": "2022-05-04T15:35:05.070316Z",
     "start_time": "2022-05-04T15:35:05.043710Z"
    }
   },
   "source": [
    "    # jpeg w/ PIL\n",
    "class TestReadSingle():\n",
    "    def test_read_single_jpg_w_PIL(self):\n",
    "        # [MEMO]: If we compare them with == opearators, it returns False, to say,\n",
    "        # assert obj0 == obj1 == obj2 == obj2 -> False\n",
    "        obj0 = load_with_PIL(test_resource_dir / \"sample01.jpeg\")\n",
    "        obj1 = gio.read(test_resource_dir / \"sample01.jpeg\")\n",
    "        obj2 = gio.read(test_resource_dir / \"sample01.jpg\")\n",
    "        obj3 = gio.read(test_resource_dir / \"sample01.JPG\")\n",
    "\n",
    "        assert check_images_equality(obj0, obj1, obj2, obj3)"
   ]
  },
  {
   "cell_type": "code",
   "execution_count": 8,
   "metadata": {
    "ExecuteTime": {
     "end_time": "2022-05-04T18:35:35.997122Z",
     "start_time": "2022-05-04T18:35:35.970530Z"
    }
   },
   "outputs": [
    {
     "data": {
      "text/plain": [
       "<_pytest.mark.structures.MarkGenerator at 0x7ff5e403f3c8>"
      ]
     },
     "execution_count": 8,
     "metadata": {},
     "output_type": "execute_result"
    }
   ],
   "source": [
    "pytest.mark"
   ]
  },
  {
   "cell_type": "code",
   "execution_count": null,
   "metadata": {},
   "outputs": [],
   "source": [
    "conftest.py\n",
    "def pytest_addoption(parser):\n",
    "    parse.addoption(--arg-name'', default=\"\", help=\"\")"
   ]
  },
  {
   "cell_type": "code",
   "execution_count": null,
   "metadata": {},
   "outputs": [],
   "source": [
    "def test_method(self, request):\n",
    "    request.config.getoption(\"\")"
   ]
  },
  {
   "cell_type": "code",
   "execution_count": null,
   "metadata": {},
   "outputs": [],
   "source": [
    "@pytest.fixture"
   ]
  },
  {
   "cell_type": "code",
   "execution_count": null,
   "metadata": {},
   "outputs": [],
   "source": [
    "@classmethod\n",
    "setup_class(cls)\n",
    "@classmethod\n",
    "teardown_class(cls)\n",
    "setup_method(self, method)\n",
    "teardown_method(self, method)"
   ]
  },
  {
   "cell_type": "code",
   "execution_count": null,
   "metadata": {},
   "outputs": [],
   "source": [
    "@pytest.mark.skip(reason=\"\")"
   ]
  },
  {
   "cell_type": "code",
   "execution_count": null,
   "metadata": {},
   "outputs": [],
   "source": [
    "@pytest.mark.skipif(bool, reason=\"\")"
   ]
  },
  {
   "cell_type": "code",
   "execution_count": null,
   "metadata": {},
   "outputs": [],
   "source": []
  },
  {
   "cell_type": "code",
   "execution_count": null,
   "metadata": {},
   "outputs": [],
   "source": [
    "# jpeg w/ cv2\n",
    "obj0 = load_with_cv2(test_resource_dir / \"sample01.jpeg\")\n",
    "obj1 = gio.read(test_resource_dir / \"sample01.jpeg\", module=\"cv2\")\n",
    "obj2 = gio.read(test_resource_dir / \"sample01.jpg\", module=\"cv2\")\n",
    "obj3 = gio.read(test_resource_dir / \"sample01.JPG\", module=\"cv2\")\n",
    "\n",
    "assert obj1 == obj2 == obj3 == obj0"
   ]
  },
  {
   "cell_type": "code",
   "execution_count": null,
   "metadata": {},
   "outputs": [],
   "source": [
    "# png\n",
    "# csv / tsv\n",
    "# json\n",
    "# text"
   ]
  },
  {
   "cell_type": "code",
   "execution_count": null,
   "metadata": {},
   "outputs": [],
   "source": []
  },
  {
   "cell_type": "code",
   "execution_count": null,
   "metadata": {},
   "outputs": [],
   "source": [
    "# 複数ファイルを読み込み（ファイル名をキーとする辞書で返すか、ファイル名でソートしたリストで返す）\n",
    "objs = gio.read_all_as_dict(\"./test*.jpg\")\n",
    "objs = gio.read_all_as_list(\"./test*.jpg\", sort_func=sort_by_filename)"
   ]
  },
  {
   "cell_type": "code",
   "execution_count": null,
   "metadata": {},
   "outputs": [],
   "source": []
  },
  {
   "cell_type": "code",
   "execution_count": null,
   "metadata": {},
   "outputs": [],
   "source": []
  },
  {
   "cell_type": "code",
   "execution_count": 14,
   "metadata": {
    "ExecuteTime": {
     "end_time": "2022-05-05T10:18:29.987743Z",
     "start_time": "2022-05-05T10:18:29.947871Z"
    }
   },
   "outputs": [
    {
     "name": "stdout",
     "output_type": "stream",
     "text": [
      "Writing ./tests/test_01.py\n"
     ]
    }
   ],
   "source": [
    "%%writefile ./tests/test_01.py\n",
    "from brane import IOManager as gio\n",
    "from utils.pillow import load_with_PIL, check_PIL_images_equality\n",
    "\n",
    "from pathlib import Path\n",
    "\n",
    "@pytest.fixture\n",
    "def test_resource_dir():\n",
    "    test_resource_dir = Path(\"./test_resource/\")\n",
    "    return test_resource_dir\n",
    "\n",
    "@pytest.fixture\n",
    "def test_output_dir():\n",
    "    test_output_dir = Path(\"./test_output/\")\n",
    "    return test_output_dir\n",
    "\n",
    "\n",
    "def test_01(test_resource_dir):\n",
    "    obj0 = load_with_PIL(test_resource_dir / \"sample01.jpeg\")\n",
    "    obj1 = gio.read(test_resource_dir / \"sample01.jpeg\")\n",
    "    obj2 = gio.read(test_resource_dir / \"sample01.jpg\")\n",
    "    obj3 = gio.read(test_resource_dir / \"sample01.JPG\")\n",
    "\n",
    "    assert check_PIL_images_equality(obj0, obj1, obj2, obj3)"
   ]
  },
  {
   "cell_type": "code",
   "execution_count": 5,
   "metadata": {
    "ExecuteTime": {
     "end_time": "2022-05-08T08:27:46.682826Z",
     "start_time": "2022-05-08T08:27:46.155826Z"
    }
   },
   "outputs": [
    {
     "name": "stdout",
     "output_type": "stream",
     "text": [
      "\u001b[1m============================= test session starts ==============================\u001b[0m\n",
      "platform linux -- Python 3.9.12, pytest-7.1.2, pluggy-1.0.0 -- /home/noriaki/.anyenv/envs/pyenv/versions/3.9.12/bin/python3.9\n",
      "cachedir: .pytest_cache\n",
      "rootdir: /home/noriaki/Development/MLTools/IOcontroller/experiments\n",
      "collected 1 item                                                               \u001b[0m\n",
      "\n",
      "tests/test_01.py::test_01 \u001b[31mFAILED\u001b[0m\u001b[31m                                         [100%]\u001b[0m\n",
      "\n",
      "=================================== FAILURES ===================================\n",
      "\u001b[31m\u001b[1m___________________________________ test_01 ____________________________________\u001b[0m\n",
      "\n",
      "    \u001b[94mdef\u001b[39;49;00m \u001b[92mtest_01\u001b[39;49;00m():\n",
      ">       obj0 = load_with_PIL(test_resource_dir / \u001b[33m\"\u001b[39;49;00m\u001b[33msample01.jpeg\u001b[39;49;00m\u001b[33m\"\u001b[39;49;00m)\n",
      "\n",
      "\u001b[1m\u001b[31mtests/test_01.py\u001b[0m:29: \n",
      "_ _ _ _ _ _ _ _ _ _ _ _ _ _ _ _ _ _ _ _ _ _ _ _ _ _ _ _ _ _ _ _ _ _ _ _ _ _ _ _ \n",
      "\n",
      "path = PosixPath('test_resource/sample01.jpeg'), get_data = False\n",
      "\n",
      "    \u001b[94mdef\u001b[39;49;00m \u001b[92mload_with_PIL\u001b[39;49;00m(path: \u001b[96mstr\u001b[39;49;00m, get_data: \u001b[96mbool\u001b[39;49;00m = \u001b[94mFalse\u001b[39;49;00m):\n",
      ">       \u001b[94mfrom\u001b[39;49;00m \u001b[04m\u001b[96mPIL\u001b[39;49;00m \u001b[94mimport\u001b[39;49;00m Image\n",
      "\u001b[1m\u001b[31mE       ModuleNotFoundError: No module named 'PIL'\u001b[0m\n",
      "\n",
      "\u001b[1m\u001b[31mtests/test_01.py\u001b[0m:9: ModuleNotFoundError\n",
      "=========================== short test summary info ============================\n",
      "FAILED tests/test_01.py::test_01 - ModuleNotFoundError: No module named 'PIL'\n",
      "\u001b[31m============================== \u001b[31m\u001b[1m1 failed\u001b[0m\u001b[31m in 0.12s\u001b[0m\u001b[31m ===============================\u001b[0m\n"
     ]
    }
   ],
   "source": [
    "!pytest -vv ./tests/test_01.py"
   ]
  },
  {
   "cell_type": "code",
   "execution_count": null,
   "metadata": {},
   "outputs": [],
   "source": []
  },
  {
   "cell_type": "markdown",
   "metadata": {},
   "source": [
    "## write a single file with various extension and modules"
   ]
  },
  {
   "cell_type": "markdown",
   "metadata": {},
   "source": [
    "## read multiple file with various extension and modules"
   ]
  },
  {
   "cell_type": "markdown",
   "metadata": {},
   "source": [
    "## write multiple file with various extension and modules"
   ]
  },
  {
   "cell_type": "code",
   "execution_count": null,
   "metadata": {},
   "outputs": [],
   "source": []
  },
  {
   "cell_type": "code",
   "execution_count": null,
   "metadata": {},
   "outputs": [],
   "source": []
  },
  {
   "cell_type": "code",
   "execution_count": null,
   "metadata": {},
   "outputs": [],
   "source": []
  },
  {
   "cell_type": "code",
   "execution_count": null,
   "metadata": {},
   "outputs": [],
   "source": []
  },
  {
   "cell_type": "markdown",
   "metadata": {},
   "source": [
    "# Hook operations"
   ]
  },
  {
   "cell_type": "code",
   "execution_count": null,
   "metadata": {},
   "outputs": [],
   "source": [
    "# 例外テスト\n",
    "\n",
    "# 存在しないパス\n",
    "obj = gio.read(test_resource_dir / \"sample02.jpg\")"
   ]
  },
  {
   "cell_type": "code",
   "execution_count": 5,
   "metadata": {
    "ExecuteTime": {
     "end_time": "2022-05-04T20:18:09.129810Z",
     "start_time": "2022-05-04T20:18:09.107046Z"
    }
   },
   "outputs": [],
   "source": [
    "from ext.events import BasicEvents\n",
    "from ext.hooks import PILResizeHook"
   ]
  },
  {
   "cell_type": "code",
   "execution_count": 6,
   "metadata": {
    "ExecuteTime": {
     "end_time": "2022-05-04T20:18:09.360360Z",
     "start_time": "2022-05-04T20:18:09.319259Z"
    }
   },
   "outputs": [],
   "source": [
    "BasicEvents.read_post.add_hooks(PILResizeHook(size=(50,50)))"
   ]
  },
  {
   "cell_type": "code",
   "execution_count": 10,
   "metadata": {
    "ExecuteTime": {
     "end_time": "2022-05-04T20:18:12.977926Z",
     "start_time": "2022-05-04T20:18:12.941556Z"
    }
   },
   "outputs": [
    {
     "name": "stdout",
     "output_type": "stream",
     "text": [
      "@Meta: <class 'ext.objects.PIL_JPEG_Object'>\n",
      "resize\n"
     ]
    }
   ],
   "source": [
    "obj = gio.read(test_resource_dir / \"sample01.jpg\")"
   ]
  },
  {
   "cell_type": "code",
   "execution_count": 11,
   "metadata": {
    "ExecuteTime": {
     "end_time": "2022-05-04T20:18:15.508305Z",
     "start_time": "2022-05-04T20:18:15.461265Z"
    }
   },
   "outputs": [
    {
     "data": {
      "text/plain": [
       "(50, 50)"
      ]
     },
     "execution_count": 11,
     "metadata": {},
     "output_type": "execute_result"
    }
   ],
   "source": [
    "obj.size"
   ]
  },
  {
   "cell_type": "code",
   "execution_count": null,
   "metadata": {},
   "outputs": [],
   "source": []
  },
  {
   "cell_type": "code",
   "execution_count": null,
   "metadata": {},
   "outputs": [],
   "source": []
  }
 ],
 "metadata": {
  "kernelspec": {
   "display_name": "IOManager_Exp_Py39",
   "language": "python",
   "name": "iomanager_exp_py39"
  },
  "language_info": {
   "codemirror_mode": {
    "name": "ipython",
    "version": 3
   },
   "file_extension": ".py",
   "mimetype": "text/x-python",
   "name": "python",
   "nbconvert_exporter": "python",
   "pygments_lexer": "ipython3",
   "version": "3.9.12"
  },
  "toc": {
   "base_numbering": 1,
   "nav_menu": {},
   "number_sections": true,
   "sideBar": true,
   "skip_h1_title": false,
   "title_cell": "Table of Contents",
   "title_sidebar": "Contents",
   "toc_cell": false,
   "toc_position": {
    "height": "calc(100% - 180px)",
    "left": "10px",
    "top": "150px",
    "width": "337.25px"
   },
   "toc_section_display": true,
   "toc_window_display": true
  }
 },
 "nbformat": 4,
 "nbformat_minor": 2
}
