{
 "cells": [
  {
   "cell_type": "markdown",
   "metadata": {},
   "source": [
    "brane: rich IO management systems\n",
    "\n",
    "* avoid setting common args every time\n",
    "    - use the same config\n",
    "* less human error\n",
    "    - avoid forgetting parent directory creation\n",
    "* "
   ]
  },
  {
   "cell_type": "markdown",
   "metadata": {
    "ExecuteTime": {
     "end_time": "2022-04-27T17:07:34.394925Z",
     "start_time": "2022-04-27T17:07:34.387465Z"
    }
   },
   "source": [
    "* main functions\n",
    "    + 統一的なIOインターフェイス\n",
    "        + 拡張子とconfigに基づく動的なモジュール判別\n",
    "        + メタデータに基づく動的なモジュール判別\n",
    "        + 複数ファイル\n",
    "            + 正規表現・ルールベースによる指定\n",
    "        + 他のマシン、GCSやS3などへの読み書き\n",
    "    + 高度なHook機能\n",
    "    + IOロギング"
   ]
  },
  {
   "cell_type": "markdown",
   "metadata": {},
   "source": [
    "### release & schedule"
   ]
  },
  {
   "cell_type": "markdown",
   "metadata": {},
   "source": [
    "* 2022/6: 1st bleeding edge version (v0.0-be.1) -> put on github (pre-repo) and create simple setup.py -> done\n",
    "    * UIO:\n",
    "        + multiple files support may be incomplete -> API may breakingly change in the future\n",
    "        + remote storage also incomplete -> will be implemented for gcs & s3\n",
    "        + only support basic & minimum set of extension -> working\n",
    "        + loaded as module config (may not including global, local ...) -> allow user to incorpolate user-def config\n",
    "    * Hook:\n",
    "        + only support basic & minimum set of hook functions -> working\n",
    "            - mainly focus on image and table\n",
    "    * introduced @ tsed meeting\n",
    "* 2022/7: 2nd bleeding edge version (v0.0-be.2) -> add some test functions and consider light CI/CD\n",
    "    * User:\n",
    "        * add documentations format\n",
    "        * add simple tutorial\n",
    "    * UIO:\n",
    "        + multiple files support is enough updated (still provide minimum functions) -> ???\n",
    "        + remote storage may support (but restricted) -> ???\n",
    "        + increase the number of extensions\n",
    "        + implement customization via config\n",
    "    * Hook:\n",
    "        + implement customization via config as possible\n",
    "* 2022/8: 3th bleeding edge version (v0.0-be.3) -> add more test functions and mypy checks\n",
    "    * User:\n",
    "        * small documentations (customization, hook)\n",
    "        * add several tutorials\n",
    "    * UIO:\n",
    "        + complete basic functions as possible\n",
    "        + refine multiple files\n",
    "        + refine customization via config\n",
    "    * Hook:\n",
    "        + refine customization via config\n",
    "    * logging:\n",
    "        + add very simple functions\n",
    "    * introduced @ hongo & kashiwa\n",
    "* 2022/9: pre-alpha (0.1-pre-alpha) or night-build -> new repo\n",
    "    * User:\n",
    "        * consider document structure\n",
    "        * update typings\n",
    "        * upload to pypi\n",
    "        * many tests\n",
    "    * UID:\n",
    "        + implement as possible\n",
    "    + Hook:\n",
    "        + consider extension modules\n",
    "    * introduced @ TDSE\n",
    "* 2022/10: 1st alpha (0.1-alpha.1)\n",
    "    * User:\n",
    "        * try plugins for IO, hook\n",
    "        * update document\n",
    "        * update typings\n",
    "        * upload to pypi\n",
    "        * many tests\n",
    "    * UID:\n",
    "        + implement as possible\n",
    "    + Hook:\n",
    "        + consider extension modules\n",
    "* 2022/11: 2nd alpha (0.1-alpha.2)\n",
    "    * User:\n",
    "    * UID:\n",
    "    + Hook:\n",
    "    * introduced @ Zenn, Medium\n",
    "* 2022/12: beta (0.1-beta)\n",
    "    * User:\n",
    "    * UID:\n",
    "    + Hook:\n",
    "    * introduced @ Qiita Advent Calendar\n",
    "* 2023/3: public beta (0.1-public)\n",
    "    * User:\n",
    "    * UID:\n",
    "    + Hook:\n",
    "* 2023/4: rc (0.1-rc)\n",
    "    * User:\n",
    "    * UID:\n",
    "    + Hook:\n",
    "* 2023/5: rc (0.1)\n",
    "    * User:\n",
    "    * UID:\n",
    "    + Hook:"
   ]
  },
  {
   "cell_type": "markdown",
   "metadata": {},
   "source": [
    "* schedule (past)\n",
    "    + 4月 : 一通り実装\n",
    "    + 5月 : モジュール化とユーザ定義取り込み（一部のみ）\n",
    "    + 6月 : 簡単なdocument（how to use）を作成、PyPIへの登録\n",
    "    + 7月 : 設計の再見直し・機能強化（主にhookの追加）\n",
    "    + 8月 : documentの拡充とextentionサポート\n",
    "    + 9月 : API再整理と自動デプロイ\n",
    "    + 10月 : documentの改良・FileManagerとの連携強化・beta版をリリース\n",
    "    + 11月 : ユーザ定義周りの強化と各種宣伝 (Qiita, Zenn, Medium)\n",
    "    + 12月 : stable版のリリース"
   ]
  },
  {
   "cell_type": "markdown",
   "metadata": {},
   "source": [
    "* version & schedule\n",
    "    + follow: https://semver.org/lang/ja/"
   ]
  },
  {
   "cell_type": "markdown",
   "metadata": {
    "ExecuteTime": {
     "end_time": "2022-05-06T23:12:45.827436Z",
     "start_time": "2022-05-06T23:12:45.757938Z"
    }
   },
   "source": [
    "* python version support\n",
    "\n",
    "|version|start|end|latest|\n",
    "|-|-|-|-|\n",
    "|3.10|7 months ago (04 Oct 2021) | Ends in 4 years (04 Oct 2026) | 3.10.4\n",
    "|3.9 |1 year and 7 months ago (05 Oct 2020) | Ends in 3 years and 5 months (05 Oct 2025) | 3.9.12\n",
    "|3.8 |2 years and 6 months ago (14 Oct 2019) | Ends in 2 years and 5 months (14 Oct 2024) | 3.8.13\n",
    "|3.7 |3 years and 10 months ago (27 Jun 2018) | Ends in 1 year and 1 month (27 Jun 2023) | 3.7.13"
   ]
  },
  {
   "cell_type": "markdown",
   "metadata": {},
   "source": [
    "* Bleeding Edge（ブリーディング・エッジ）-> 2022/7\n",
    "    * これは、まだ開発の段階で、使用するのにリスクがある（＝血を流す可能性がある）ということを示しています。\n",
    "* Nightly Build（ナイトリー・ビルド） -> 2022/8\n",
    "    * これは、バージョン管理ツール（Jenkinsなど）で毎晩自動的に生成されるバージョンのことで、ビルドは通っていることが多いですが、Bleeding Edge同様、使用にはリスクのあるバージョンです。\n",
    "* Pre-Alpha（Nightly Build） -> 2022/9\n",
    "    * まだ予定している機能がすべて実装されていない段階のバージョンです。開発途中の毎晩ビルドされるテスト用のバージョンを示す場合もあります。\n",
    "    * 予定している機能がまだ実装されていない段階のこと。もしくは、Nightly Buildを表すこともある。\n",
    "* Alpha -> 2022/11\n",
    "    * 開発途中のバージョンです。特に開発の初期段階にあるものを指します。プロトタイプとして開発されたものは、含みません。\n",
    "    * 未実装の機能や、未知の致命的な不具合が残っている場合もあります。動作が不安定であるという前提で開発者やテスト担当者が利用するものです。\n",
    "    * 開発途中のバージョン。特に開発の初期段階にあるものを指す。機能が実装されていなかったり、致命的なバグが存在している可能性がある。主にテスト用。\n",
    "* Beta -> 2022/12\n",
    "    * 予定していた機能が一通り正常に動作する状態です。想定外の不具合や異常終了があるかもしれません。公式リリース前に一部のユーザーや開発メンバー周辺向けにテスト公開するくらいの出来のものです。\n",
    "    * アプリケーションのクラッシュやデータ損失、速度の遅さなどのリスクもあり、既知のバグがまだ残っている可能性があります。アルファ版で不安定過ぎる機能は、ベータ版では機能が停止されているような場合もあります。\n",
    "    * 未実装の機能や、未知の致命的な不具合が残っている場合もあります。動作が不安定であるという前提で開発者やテスト担当者が利用するものです。\n",
    "    * 機能が一通り揃っているバージョン。α版よりは安定しているものの、まだ細かいバグがある可能性がある。\n",
    "* Public Beta -> 2023/3\n",
    "    * 一般に広く公開してバグ報告を受けるのを主な目的とするバージョンです。ベータ版を一部のユーザーに試用してもらい、不具合の洗い出し、機能要望などを聞き出すためにあります。\n",
    "    * また、製品版になる前にユーザーを獲得するための手段として期間限定で無料配布するような場合もあります。\n",
    "    * バグを探すために、一般ユーザに使ってもらい、品質を向上させるためのバージョン。無料配布し、事前にユーザを獲得する狙いもある。\n",
    "* RC（Release Candidate）\n",
    "    * リリース候補版のことです。致命的なバグがないかぎり、このバージョンがリリースされる予定となります。十分なテストが完了し、特に大きな不具合がなければ、このバージョンと同じものが、正式版となります。\n",
    "    * RC版の段階で重大な不具合が見つかり修正された場合は、RC2、RC3……とカウントアップする場合もあります。\n",
    "    * リリースの候補になるバージョンのこと。次のバージョンが出ると、RC1, RC2, RC3, ...とカウントが加算される。\n",
    "* RTM（Release to Manufacturing）または、GM（Golden Master）\n",
    "    * 出荷版です。パッケージアプリケーションの場合、このバージョンがCD-ROMやDVD-ROMになって出荷されます。最終版をマスタとして複製がたくさん作られることから「Golden Master」と呼ぶこともあります。\n",
    "* GA（General Availability）\n",
    "    * 一般ユーザーが入手可能なバージョン。リリース版のこと。"
   ]
  },
  {
   "cell_type": "markdown",
   "metadata": {},
   "source": [
    "　2010年3月の原稿執筆時現在で最新版に更新すると、「Google Chrome 5.0.307.11 beta」と表記されています。以下、数字を細かく見ると、以下のように分類できます。\n",
    "\n",
    "    5：メジャーバージョン\n",
    "    0：マイナーバージョン。この場合は、バージョン5の最初のもの\n",
    "    307：累積バージョン。ビルドバージョン。Chromeが出てから307番目に作られたもの\n",
    "    11：累積バージョンのマイナー番号（子番号）。リビジョン（修正版）\n",
    "\n",
    "　また、数字のほかに、文言も追加されています。\n",
    "\n",
    "    Stable：安定版。より多くのテストがなされ、一般に安定して使えるもの\n",
    "    Beta：ベータ版。新しい機能をより早く試してみたい人向け。多少不安定な場合もあり\n",
    "    Dev：開発版。開発者向けのプレビュー版\n"
   ]
  },
  {
   "cell_type": "markdown",
   "metadata": {},
   "source": [
    "**Alpha**\n",
    "\n",
    "The alpha phase of the release life cycle is the first phase to begin software testing (alpha is the first letter of the Greek alphabet, used as the number 1). In this phase, developers generally test the software using white-box techniques. Additional validation is then performed using black-box or gray-box techniques, by another testing team. Moving to black-box testing inside the organization is known as alpha release\n",
    "\n",
    "Alpha software can be unstable and could cause crashes or data loss. Alpha software may not contain all of the features that are planned for the final version. In general, external availability of alpha software is uncommon in proprietary software, while open source software often has publicly available alpha versions. The alpha phase usually ends with a feature freeze, indicating that no more features will be added to the software. At this time, the software is said to be feature complete.\n",
    "\n",
    "**Beta**\n",
    "\n",
    "Beta, named after the second letter of the Greek alphabet, is the software development phase following alpha. Software in the beta stage is also known as betaware. The beta phase generally begins when the software is feature complete but likely to contain a number of known or unknown bugs. Software in the beta phase will generally have many more bugs in it than completed software, as well as speed/performance issues and may still cause crashes or data loss. The focus of beta testing is reducing impacts to users, often incorporating usability testing. The process of delivering a beta version to the users is called beta release and this is typically the first time that the software is available outside of the organization that developed it. Beta version software is often useful for demonstrations and previews within an organization and to prospective customers. Some developers refer to this stage as a preview, preview release, prototype, technical preview/technology preview (TP), or early access. Some software is kept in perpetual beta, where new features and functionality are continually added to the software without establishing a firm \"final\" release.\n",
    "\n",
    "Beta testers are people who actively report issues of beta software. They are usually customers or representatives of prospective customers of the organization that develops the software. Beta testers tend to volunteer their services free of charge but often receive versions of the product they test, discounts on the release version, or other incentives.\n",
    "\n",
    "As the Internet has facilitated the rapid and inexpensive distribution of software, companies have begun to take a looser approach to the use of the word \"beta\". In February 2005, ZDNet published an article about the recent phenomenon of a beta version often staying for years and being used as if it were at the production level, disparagingly called \"perpetual beta\". It noted that Gmail and Google News, for example, had been in beta for a long period of time and were not expected to drop the beta status despite the fact that they were widely used; however, Google News did leave beta in January 2006, followed by Google Apps, including Gmail, in July 2009. This technique may allow a developer to delay offering full support and responsibility for remaining issues. In the context of Web 2.0, people even talk of perpetual betas to signify that some software is meant to stay in a beta state. Also, \"beta\" is sometimes used to indicate something more like a release candidate, or as a form of time-limited demo, or marketing technique. Since the introduction of Windows 8, Microsoft has no longer been naming its software as a beta. Instead, they have been using the term preview for most pre-release software. Since the launch of the Windows Insider Program back in 2014, all pre-release builds that are released through the program are known as Insider Preview builds.\n",
    "\n",
    "**Snapshot and Release**\n",
    "\n",
    "A snapshot version in Maven is one that has not been released.\n",
    "\n",
    "The idea is that before a 1.0 release (or any other release) is done, there exists a 1.0-SNAPSHOT. That version is what might become 1.0. It's basically \"1.0 under development\". This might be close to a real 1.0 release, or pretty far (right after the 0.9 release, for example).\n",
    "\n",
    "The difference between a \"real\" version and a snapshot version is that snapshots might get updates. That means that downloading 1.0-SNAPSHOT today might give a different file than downloading it yesterday or tomorrow.\n",
    "\n",
    "Usually, snapshot dependencies should only exist during development and no released version (i.e. no non-snapshot) should have a dependency on a snapshot version.\n",
    "\n",
    "**Nightly**\n",
    "\n",
    "A nightly build is a neutral build that takes place automatically. These typically take place when no one is likely to be working in the office so that there are no changes to the source code during the build.\n",
    "\n",
    "Nightly builds are a good thing, they provide immediate feedback to developers if they broke the build. Having a nightly build means that the software is stable and is likely to build for new users. Software that is not built regularly is difficult to release.\n",
    "\n",
    "**Milestone**\n",
    "\n",
    "Milestone versions include specific sets of functions and are released as soon as the functionality is complete.\n",
    "\n",
    "**Release Candidate [RC]**\n",
    "\n",
    "Release candidate. A release candidate (RC), also known as \"going silver\", is a beta version with the potential to be a final product, which is ready to release unless significant bugs emerge.\n",
    "\n",
    "Release Candidate (RC) is the build released internally to check if any critical problems have gone undetected into the code during the previous development period. Release candidates are NOT for production deployment, but they are for testing purposes only."
   ]
  },
  {
   "cell_type": "markdown",
   "metadata": {},
   "source": [
    "### tasks"
   ]
  },
  {
   "cell_type": "markdown",
   "metadata": {},
   "source": [
    "#### current scope\n",
    "\n",
    "* ~4/25\n",
    "\n",
    "+ hookの改良\n",
    "    - []: hookにidを付与して、重複登録を避ける\n",
    "    - [+]: Hookに__repr__を定義\n",
    "    - [+]: 登録済みhookの表示\n",
    "    - []: hookのon/off切り替え(activate fieldの付与)\n",
    "- [+]: NoneClassをそれぞれ定義\n",
    "+ configの開発\n",
    "    - []: configの随時読み込み\n",
    "    - [@]: 各クラスのconfig化\n",
    "\n",
    "#### reviewed scope\n",
    "\n",
    "- [@]: moduleのload (クラス定義のimport回避)\n",
    "+ hookの改良\n",
    "    - [@]: 登録したフックの初期化\n",
    "- [@]: IOManager経由(method)で登録\n",
    "- [@]: Info classを定義"
   ]
  },
  {
   "cell_type": "markdown",
   "metadata": {},
   "source": [
    "#### functions\n",
    "\n",
    "###### high-priotilized\n",
    "\n",
    "* クラス定義の自動読み込み(IOManagerで適当なモジュールを今は読み込ませている)\n",
    "* hooksの登録作業の簡易化\n",
    "    - 名前指定だけで登録\n",
    "        - hook poolに定義\n",
    "        - hook chainでhookを作成\n",
    "    - 登録したhookの除去\n",
    "* objectの遅延loadが、保存時にObject2Module内で行われるが、モジュール数が膨大になると時間がかかるため、高速化\n",
    "    - 予めハッシュ計算しておく？\n",
    "\n",
    "###### middle-priotilized\n",
    "\n",
    "###### low-priotilized"
   ]
  },
  {
   "cell_type": "markdown",
   "metadata": {},
   "source": [
    "#### class & specifications\n",
    "\n",
    "###### high-priotilized\n",
    "\n",
    "* hookの二重登録の防止\n",
    "* 各クラスタイプに対し、Noneを定義\n",
    "* キャッシュの保存先を指定(global, project, local)\n",
    "\n",
    "###### middle-priotilized\n",
    "\n",
    "* クラウド対応\n",
    "\n",
    "###### low-priotilized"
   ]
  },
  {
   "cell_type": "markdown",
   "metadata": {},
   "source": [
    "#### coding\n",
    "* typings\n",
    "* refactoring\n",
    "    - remove old implementations or comments\n",
    "    - rename temporal name\n",
    "    - update file-tree structres\n",
    "* logging"
   ]
  },
  {
   "cell_type": "markdown",
   "metadata": {},
   "source": [
    "### working memo"
   ]
  },
  {
   "cell_type": "markdown",
   "metadata": {},
   "source": [
    "##### progress memo\n",
    "* args/kwargs指定: prototype作成\n",
    "* objから保存方法の自動判別: prototype作成\n",
    "* 簡単なhookの開発 -> prototype作成\n",
    "    - pre: pathチェック -> ok\n",
    "    - post: 画像ならリサイズ -> ok\n",
    "* extentionの正規化(ext2format)を整備 -> prototypeを作成"
   ]
  },
  {
   "cell_type": "markdown",
   "metadata": {},
   "source": [
    "##### schedule\n",
    "* -4/9:\n",
    "    + hook:\n",
    "        - hookのon/off\n",
    "    + read:\n",
    "    + write:\n",
    "        - objとformatが複雑に絡み合う例を等価\n",
    "            - あるサイズ以上ならjpg、未満ならpng\n",
    "            - jpgならImageで、pngならcv2で書込\n",
    "* -4/16:\n",
    "    + hookの改良\n",
    "    + mapping:\n",
    "        - rule APIの構築\n",
    "        - user定義の取り込み\n",
    "* -4/30:\n",
    "    + hook id/nameの作成\n",
    "    + core/global/local configの順次読み込み\n",
    "* -5/7\n",
    "    + Module化・整備\n",
    "        + ファイルの分離やフィールド名・関数名などの見直し\n",
    "    + tutorialの拡充\n",
    "    + API引数の拡充\n",
    "* -5/14\n",
    "    + debugging toolの開発\n",
    "    + object class・登録部分の改良\n",
    "* -5/21\n",
    "    + お試しパッケージ化\n",
    "    + Module・Format・Object・Extnsionクラス・hook APIの本格拡充\n",
    "* -5/28\n",
    "    + 再整備\n",
    "    + debugging toolの本格開発\n",
    "    + テストケースの作成\n",
    "    + docstingsの充実\n",
    "* -6/4\n",
    "    + パッケージ化\n",
    "    + 簡易CI/CDの作成\n",
    "    + 最適化\n",
    "* -6/11\n",
    "    + alpha版のfix\n",
    "    + PyPIへの登録\n",
    "* -6/18\n",
    "    + documentの作成(自動生成)\n",
    "    + docstringの作成\n",
    "* -6/25\n",
    "    + tutorialの作成\n",
    "    + debugging toolの仮取り込み\n",
    "    + refactoringの再検討\n",
    "* -7/2\n",
    "    + 既存API機能の拡充\n",
    "    + user definitionに関する簡易ドキュメントの作成\n",
    "    + "
   ]
  },
  {
   "cell_type": "markdown",
   "metadata": {},
   "source": [
    "##### history memo\n",
    "* -4/2:\n",
    "    + read:\n",
    "        - argsの指定 -> \n",
    "    + write:\n",
    "        - objを与えると自動判別 -> prototype作成"
   ]
  },
  {
   "cell_type": "markdown",
   "metadata": {
    "ExecuteTime": {
     "end_time": "2021-04-16T12:43:55.643103Z",
     "start_time": "2021-04-16T12:43:55.616592Z"
    }
   },
   "source": [
    "### Idea"
   ]
  },
  {
   "cell_type": "markdown",
   "metadata": {},
   "source": [
    "* maplotlib\n",
    "* databaseのR/Wも取り込みたい\n",
    "* user interaction (inputとかstdoutとか)"
   ]
  },
  {
   "cell_type": "markdown",
   "metadata": {},
   "source": [
    "* read_as_list/dictでempty list/dictの時にエラーを出すか、選択出るようにする\n",
    "* writeの場合も"
   ]
  },
  {
   "cell_type": "markdown",
   "metadata": {},
   "source": [
    "* 拡張子&モジュール自動判定機能と、フック機能はある程度分離する\n",
    "* event & hooks:\n",
    "    * how to connect\n",
    "        + evnetにhookを登録していく\n",
    "        + hookにeventを登録していく"
   ]
  },
  {
   "cell_type": "markdown",
   "metadata": {},
   "source": [
    "* 非同期機能\n",
    "    + ファイルが作成・更新されるまで待つ\n",
    "        - lockingなど読み込み可能になるまでを判定する機能\n",
    "        - 更新変化で走る\n",
    "    + ファイルの書込をバックグラウンドで実施\n",
    "* data validtion\n",
    "* hookの組み合わせをIDとして管理"
   ]
  },
  {
   "cell_type": "markdown",
   "metadata": {},
   "source": [
    "* customizability\n",
    "* reprodcution\n",
    "* reusability\n",
    "    + hook関数やその組み合わせを再利用しやすくする"
   ]
  },
  {
   "cell_type": "markdown",
   "metadata": {},
   "source": [
    "* パスの辞書を渡すと、同一キーで、値が読み込んだオブジェクトの、辞書を返す\n",
    "* パスのリストを渡すと、同一順序で、読み込んだオブジェクトのリストを返す\n",
    "* 対象ディレクトリを指定し、オブジェクトの辞書を渡すと、書込を実施\n",
    "    + デフォルトは、キーをファイル名、拡張子は推論\n",
    "    + マッピング関数やフォーマット文字列を渡して、ファイル名を生成することも可能（異なるディレクトリに書込可能にする）\n",
    "* 対象ディレクトリを指定し、オブジェクトのリストを渡すと、書込を実施\n",
    "    + デフォルトは、ファイル名の連番を生成\n",
    "    + マッピング関数やフォーマット文字列を渡して、ファイル名を生成することも可能（異なるディレクトリに書込可能にする）\n",
    "\n",
    "* 上書きは明示的に禁止、インタアクティブに確認、暗黙的に書き換え、をyaml等で設定できるようにする"
   ]
  },
  {
   "cell_type": "markdown",
   "metadata": {},
   "source": [
    "* 書込前にファイルサイズをチェック\n",
    "    + 読み書き時間をプログレスバーで指定？\n",
    "        + ルールベース\n",
    "        + ログを残して、統計推論モデルを作成?\n",
    "        + 統計推論モデルをダウンロード?\n",
    "* "
   ]
  },
  {
   "cell_type": "markdown",
   "metadata": {},
   "source": [
    "??pd.read_csvをしたようなヘルプ参照機能。\n",
    "無理そうならxio.get_module(\"csv\")でpandasを返すようにしたり、\n",
    "xio.get_read_method_from_extension(\"csv\")でpandas.read_csvを返すようにしたり..."
   ]
  },
  {
   "cell_type": "markdown",
   "metadata": {},
   "source": [
    "moduleのversion checkを各Moduleサブクラスで実施"
   ]
  },
  {
   "cell_type": "markdown",
   "metadata": {},
   "source": [
    "### extension & module list"
   ]
  },
  {
   "cell_type": "markdown",
   "metadata": {},
   "source": [
    "* TODO:\n",
    "    * tsvについてCSVModuleで読み込み"
   ]
  },
  {
   "cell_type": "markdown",
   "metadata": {
    "ExecuteTime": {
     "end_time": "2021-04-13T14:31:31.615852Z",
     "start_time": "2021-04-13T14:31:31.608470Z"
    }
   },
   "source": [
    "* core\n",
    "    + only depending on built-in\n",
    "* basic\n",
    "    + widely or usually used\n",
    "* reinforce\n",
    "    + not freqeuntly but still famous"
   ]
  },
  {
   "cell_type": "markdown",
   "metadata": {},
   "source": [
    "#### Core-builtin (widely (no limitation on domain) and usually used)\n",
    "##### 画像系\n",
    "##### テキスト系\n",
    "* txt: (textio)\n",
    "##### 構造化テキスト系\n",
    "* json: JSON\n",
    "##### Python系\n",
    "    * pkl"
   ]
  },
  {
   "cell_type": "markdown",
   "metadata": {},
   "source": [
    "#### Core-third-party (widely (no limitation on domain) and usually (many starsin github) used)\n",
    "##### 画像系\n",
    "* jpeg, jpg: Pillow (cv2)\n",
    "* png: Pillow (cv2)\n",
    "##### 構造化テキスト系\n",
    "* csv: Pandas (CSV)\n",
    "* tsv: Pandas (CSV?)\n",
    "* yaml, yml: PyYAML\n",
    "* toml: \n",
    "* ini: \n",
    "    * xml\n",
    "##### Python系\n",
    "    * npy\n",
    "    * npz\n",
    "##### Windows\n",
    "    * xls, xlsx"
   ]
  },
  {
   "cell_type": "markdown",
   "metadata": {},
   "source": [
    "#### Plus?\n"
   ]
  },
  {
   "cell_type": "markdown",
   "metadata": {},
   "source": [
    "#### memo\n",
    "* dat, mat, pdf,  ...\n",
    "zip, gz, gzip, txt, sql, ebs, avro, orc, parquet, hdf5, 7z, tbz2, iso, tar, bz2, z, graph, properties, offsets, flac, ogg, wav, aac, mp3, gif, avi, mov, mp4, mpg, m4v, dat, mat, fig\n",
    "orc, avro, \n",
    "\n",
    "* h5, hdf5\n",
    "##### 画像系\n",
    "* bmp\n",
    "##### 画像系(特殊)\n",
    "* svg\n",
    "* gif\n",
    "##### テキスト系\n",
    "* md\n",
    "##### データ通信系\n",
    "* pb\n",
    "##### アーカイブ・圧縮系\n",
    "* zip\n",
    "* tar\n",
    "* tar.gz\n",
    "(bz, ...)\n",
    "##### モデル系\n",
    "* caffemodel\n",
    "* joblib\n",
    "##### Windows\n",
    "* ppt\n",
    "* doc\n",
    "##### その他\n",
    "* bin\n",
    "---\n",
    "##### プログラム系\n",
    "* exe\n",
    "* sh\n",
    "* c\n",
    "* h\n",
    "* cpp\n",
    "* js\n",
    "* jsx\n",
    "* css\n",
    "* html\n",
    "* sql\n",
    "* rb\n",
    "* go\n",
    "(Haskell, Rust)"
   ]
  },
  {
   "cell_type": "markdown",
   "metadata": {},
   "source": [
    "### hook functions"
   ]
  },
  {
   "cell_type": "markdown",
   "metadata": {},
   "source": [
    "#### read pre\n",
    "\n",
    "#### read post\n",
    "##### pandas module\n",
    "* optimize the dataframe\n",
    "##### Pillow module / cv2 module\n",
    "* resize the image\n",
    "\n",
    "#### read all pre\n",
    "\n",
    "#### read all post\n",
    "##### pandas module\n",
    "* concat dataframes into a sigle dataframe"
   ]
  },
  {
   "cell_type": "markdown",
   "metadata": {},
   "source": [
    "#### write pre\n",
    "* check whether the parent directory exists or not and create it\n",
    "* check whether the target path is allowed or not by user config\n",
    "* check whether the file exists or not and then forbidden overwriting or allow user to decide it interactively\n",
    "\n",
    "#### write post\n",
    "* upload data to remote storage\n",
    "\n",
    "#### write all pre\n",
    "\n",
    "#### write all post"
   ]
  },
  {
   "cell_type": "markdown",
   "metadata": {},
   "source": [
    "[TODO]:\n",
    "    * あるModule/Format/Object/Hookが存在するかのチェック関数"
   ]
  },
  {
   "cell_type": "markdown",
   "metadata": {},
   "source": [
    "### start"
   ]
  },
  {
   "cell_type": "code",
   "execution_count": 1,
   "metadata": {
    "ExecuteTime": {
     "end_time": "2022-06-08T17:29:59.899174Z",
     "start_time": "2022-06-08T17:29:59.854921Z"
    }
   },
   "outputs": [],
   "source": [
    "%load_ext autoreload\n",
    "%autoreload 2\n",
    "\n",
    "from typing import Any, Union, Optional, Callable, Tuple, Dict, List, Set, Sequence, Iterable, Generator, Generic\n",
    "\n",
    "TYPE_PY = \"./brane/typing.py\"\n",
    "BASE_PY = \"./brane/core/base.py\"\n",
    "MODULE_PY = \"./brane/core/module.py\"\n",
    "FORMAT_PY = \"./brane/core/format.py\"\n",
    "OBJECT_PY = \"./brane/core/object.py\"\n",
    "HOOK_PY = \"./brane/core/hook.py\"\n",
    "EVENT_PY = \"./brane/core/event.py\"\n",
    "MAPPER_PY = \"./brane/core/mapper.py\"\n",
    "FACTORY_PY = \"./brane/core/factory.py\"\n",
    "UTILS_PY = \"./brane/core/utils.py\"\n",
    "MAIN_PY = \"./brane/core/iomanager.py\"\n",
    "\n",
    "LIB_HOOK_PY = \"./brane/libs/hooks.py\"\n",
    "#LIB_EVENT_PY = \"./brane/libs/events.py\"\n",
    "\n",
    "MODULE_CFG_CORE = \"./config/modules/core.yaml\"\n",
    "MODULE_CFG_THIRDPARTY = \"./config/modules/basic.yaml\"\n",
    "FORMAT_CFG_CORE = \"./config/formats/core.yaml\"\n",
    "FORMAT_CFG_THIRDPARTY = \"./config/formats/basic.yaml\"\n",
    "OBJECT_CFG_CORE = \"./config/objects/core.yaml\"\n",
    "OBJECT_CFG_THIRDPARTY = \"./config/objects/basic.yaml\"\n",
    "HOOK_CFG_CORE = \"./config/hooks/core.yaml\"\n",
    "HOOK_CFG_THIRDPARTY = \"./config/hooks/basic.yaml\"\n",
    "\n",
    "def generate_import(module_path, names):\n",
    "    return \"from \" + module_path.lstrip(\"./\").replace(\".py\", \"\").replace(\"/\", \".\") + f\" import {names}\"\n",
    "\n",
    "import os\n",
    "os.environ[\"BRANE_MODE\"] = 'debug'\n"
   ]
  },
  {
   "cell_type": "markdown",
   "metadata": {},
   "source": [
    "### workspace"
   ]
  },
  {
   "cell_type": "code",
   "execution_count": null,
   "metadata": {},
   "outputs": [],
   "source": [
    "!mkdir -p ./brane/core/\n",
    "#!touch ./brane/core/__init__.py\n",
    "!mkdir -p ./brane/libs/\n",
    "!touch ./brane/libs/__init__.py"
   ]
  },
  {
   "cell_type": "markdown",
   "metadata": {
    "ExecuteTime": {
     "end_time": "2022-05-15T14:46:33.068901Z",
     "start_time": "2022-05-15T14:46:33.045102Z"
    }
   },
   "source": [
    "import os\n",
    "\n",
    "for dirname in list(set([ os.path.dirname(path) for path in [\n",
    "    TYPE_PY, BASE_PY, MODULE_PY, FORMAT_PY, OBJECT_PY,\n",
    "    HOOK_PY, EVENT_PY, MAPPER_PY, UTILS_PY, MAIN_PY,\n",
    "    LIB_MODULE_PY, LIB_FORMAT_PY, LIB_OBJECT_PY, LIB_HOOK_PY, LIB_EVENT_PY\n",
    "] ])):\n",
    "    if dirname.replace(\"./\", \"\") not in [\"brane/core\", \"brane/libs\", \"brane\"]:\n",
    "        print(dirname)\n",
    "        os.makedirs(dirname, exist_ok=True)"
   ]
  },
  {
   "cell_type": "code",
   "execution_count": 2,
   "metadata": {
    "ExecuteTime": {
     "end_time": "2022-06-08T17:30:03.088285Z",
     "start_time": "2022-06-08T17:30:03.066183Z"
    }
   },
   "outputs": [
    {
     "name": "stdout",
     "output_type": "stream",
     "text": [
      "Overwriting ./brane/__init__.py\n"
     ]
    }
   ],
   "source": [
    "%%writefile ./brane/__init__.py\n",
    "from brane.core.iomanager import ExtendedIO  # noqa: F401\n",
    "ExtendedIO.setup_hooks()\n",
    "\n",
    "import os # noqa: E402\n",
    "if os.environ.get(\"BRANE_MODE\", None) == 'debug':\n",
    "    print(\"brane.__init__.py called\")"
   ]
  },
  {
   "cell_type": "markdown",
   "metadata": {},
   "source": [
    "\n",
    "\n",
    "from brane.core.format import Format\n",
    "from brane.core.module import Module\n",
    "from brane.core.object import Object"
   ]
  },
  {
   "cell_type": "code",
   "execution_count": 3,
   "metadata": {
    "ExecuteTime": {
     "end_time": "2022-06-08T17:30:04.214473Z",
     "start_time": "2022-06-08T17:30:04.201762Z"
    }
   },
   "outputs": [
    {
     "name": "stdout",
     "output_type": "stream",
     "text": [
      "Overwriting ./brane/core/__init__.py\n"
     ]
    }
   ],
   "source": [
    "%%writefile ./brane/core/__init__.py\n",
    "from brane.core.module import Module  # noqa: F401\n",
    "from brane.core.format import Format  # noqa: F401\n",
    "from brane.core.object import Object  # noqa: F401\n",
    "\n",
    "from brane.core.mapper import ExtensionMapper, ObjectFormat2Module  # noqa: F401"
   ]
  },
  {
   "cell_type": "code",
   "execution_count": 6,
   "metadata": {
    "ExecuteTime": {
     "end_time": "2022-06-01T16:51:55.373993Z",
     "start_time": "2022-06-01T16:51:55.246904Z"
    }
   },
   "outputs": [],
   "source": [
    "!touch ./brane/__main__.py\n"
   ]
  },
  {
   "cell_type": "markdown",
   "metadata": {},
   "source": [
    "## Utils & Typing"
   ]
  },
  {
   "cell_type": "code",
   "execution_count": 4,
   "metadata": {
    "ExecuteTime": {
     "end_time": "2022-06-08T17:30:08.605524Z",
     "start_time": "2022-06-08T17:30:08.592549Z"
    }
   },
   "outputs": [
    {
     "name": "stdout",
     "output_type": "stream",
     "text": [
      "Overwriting ./brane/typing.py\n"
     ]
    }
   ],
   "source": [
    "%%writefile {TYPE_PY}\n",
    "from __future__ import annotations\n",
    "from typing import Any, Union, Optional, Callable, Sequence, Generator, Generic, Tuple, Dict, List, Set, NamedTuple, TypeVar  # noqa: F401\n",
    "\n",
    "try:\n",
    "    from typing import TypedDict, Protocol  # noqa: F401 # >=3.8\n",
    "except ImportError:\n",
    "    from typing_extensions import TypedDict, Protocol  # noqa: F401 # <=3.7\n",
    "\n",
    "\n",
    "# define the types for universal objects\n",
    "\n",
    "def _generate_file_type():\n",
    "    import pathlib\n",
    "    import io\n",
    "    PathType = Union[str, pathlib.Path]\n",
    "    FileType = Union[PathType, io.TextIOWrapper]# [TODO]: more types should be added\n",
    "    return PathType, FileType\n",
    "\n",
    "PathType, FileType = _generate_file_type()\n",
    "del _generate_file_type\n",
    "\n",
    "\n",
    "# define the package specific types\n",
    "\n",
    "class ModuleClassType:\n",
    "    _registered_subclasses: dict\n",
    "    priority: int\n",
    "    name: Optional[str]\n",
    "    module: Any\n",
    "    loaded: bool\n",
    "    module_read_method: Optional[Callable]\n",
    "    module_read_method_name: Optional[str]\n",
    "    file_read_method_name: Optional[str]\n",
    "    file_open_for_read: bool\n",
    "    open_mode_for_read: dict[str, Any]\n",
    "    transform: Optional[Callable]\n",
    "    transform_name: Optional[str]\n",
    "    transform_info: Optional[tuple[str, ...]]\n",
    "\n",
    "    module_write_method: Callable = None\n",
    "    module_write_method_name: Optional[str]\n",
    "    writer_method_name: Optional[str]\n",
    "    object_write_method_name: Optional[str]\n",
    "    file_write_method_name: Optional[str]\n",
    "    file_open_for_write: bool\n",
    "    open_mode_for_write: dict[str, Any]\n",
    "\n",
    "    file_arg_first: bool\n",
    "    object_unpacking_type: str\n",
    "    file_keyword_at_write: Optional[str]\n",
    "    obj_keyword_at_write: Optional[str]\n",
    "    \n",
    "    base_args_read: tuple\n",
    "    base_kwargs_read: dict\n",
    "    base_args_write: tuple\n",
    "    base_kwargs_write: dict\n",
    "    #generate_params_read\n",
    "    #generate_params_write\n",
    "\n",
    "class FormatClassType:\n",
    "    pass\n",
    "\n",
    "class ObjectClassType:\n",
    "    pass\n",
    "\n",
    "class HookClassType:\n",
    "    pass\n",
    "\n",
    "class EventClassType:\n",
    "    pass\n",
    "\n",
    "HookFlagType = Optional[Union[str, set[str]]]\n",
    "\n",
    "class ContextInterface(TypedDict):\n",
    "    object: Optional[Any] = None\n",
    "    objects: Optional[list[Any]] = None\n",
    "    path: Optional[PathType] = None\n",
    "    paths: Optional[list[PathType]] = None\n",
    "    file: Optional[FileType] = None\n",
    "    files: Optional[list[FileType]] = None\n",
    "    Module: Optional[ModuleClassType] = None\n",
    "    Format: Optional[FormatClassType] = None\n",
    "\n",
    "\n",
    "# used for debug purpose temporalily\n",
    "def print(*value, sep=' ', end='\\n', file=None, flush=False):\n",
    "    import os\n",
    "    import sys\n",
    "    import builtins\n",
    "    if file is None:\n",
    "        file = sys.stdout\n",
    "    if os.environ.get(\"BRANE_MODE\", None) == 'debug':\n",
    "        builtins.print(*value, end=end, file=file, flush=flush)\n",
    "    else:\n",
    "        pass"
   ]
  },
  {
   "cell_type": "code",
   "execution_count": 5,
   "metadata": {
    "ExecuteTime": {
     "end_time": "2022-06-08T17:30:10.586646Z",
     "start_time": "2022-06-08T17:30:10.572277Z"
    }
   },
   "outputs": [
    {
     "name": "stdout",
     "output_type": "stream",
     "text": [
      "Overwriting ./brane/core/utils.py\n"
     ]
    }
   ],
   "source": [
    "%%writefile {UTILS_PY}\n",
    "from __future__ import annotations\n",
    "import os"
   ]
  },
  {
   "cell_type": "code",
   "execution_count": 6,
   "metadata": {
    "ExecuteTime": {
     "end_time": "2022-06-08T17:30:10.952262Z",
     "start_time": "2022-06-08T17:30:10.814145Z"
    }
   },
   "outputs": [],
   "source": [
    "!echo '{generate_import(TYPE_PY, \"*  # noqa: F403\")}' >> {UTILS_PY}"
   ]
  },
  {
   "cell_type": "code",
   "execution_count": 7,
   "metadata": {
    "ExecuteTime": {
     "end_time": "2022-06-08T17:30:11.209231Z",
     "start_time": "2022-06-08T17:30:11.189848Z"
    }
   },
   "outputs": [
    {
     "name": "stdout",
     "output_type": "stream",
     "text": [
      "Appending to ./brane/core/utils.py\n"
     ]
    }
   ],
   "source": [
    "%%writefile -a {UTILS_PY}\n",
    "\n",
    "def integrate_args(base_args: tuple, new_args: tuple) -> tuple:\n",
    "    if len(base_args) >= len(new_args):\n",
    "        base_args_list = list(base_args)\n",
    "    else:\n",
    "        additional_num = len(new_args) - len(base_args)\n",
    "        base_args_list = list(base_args) + \\\n",
    "            [None for _ in range(additional_num)]\n",
    "\n",
    "    for i, arg in enumerate(new_args):\n",
    "        if arg is not None:\n",
    "            base_args_list[i] = arg\n",
    "    return tuple(base_args_list)\n",
    "\n",
    "\n",
    "def integrate_kwargs(base_kwargs: dict, new_kwargs: dict) -> dict:\n",
    "    return {**base_kwargs, **new_kwargs}\n",
    "\n",
    "\n",
    "def sort_mapper(mapper: dict[str, Any], key: str, ascending: bool = False) -> dict[str, Any]:  # Any should has key\n",
    "    \"\"\"\n",
    "    Args:\n",
    "        mapper:\n",
    "        key:\n",
    "        ascending:\n",
    "    \"\"\"\n",
    "    return dict(sorted(mapper.items(), key=lambda x: getattr(x[1], key), reverse=not ascending))  # [TODO]: Any is dictionary case\n",
    "\n",
    "\n",
    "def get_extension_from_filname_default(path: str) -> str:\n",
    "    ext = os.path.splitext(path)[1][1:]\n",
    "    return ext"
   ]
  },
  {
   "cell_type": "markdown",
   "metadata": {
    "ExecuteTime": {
     "end_time": "2022-06-01T16:52:02.406365Z",
     "start_time": "2022-06-01T16:52:02.384690Z"
    }
   },
   "source": [
    "%%writefile -a {UTILS_PY}\n",
    "\n",
    "def generate_classes(info_dict: dict, bases=(object,), prefix: str = \"\", suffix: str = \"\"):  # temporal name\n",
    "    info = info_dict.copy()\n",
    "    generated_classes_info = {}\n",
    "\n",
    "    for class_name, class_info in info.items():\n",
    "        full_class_name = prefix+class_name+suffix\n",
    "        _ = type(full_class_name, bases, class_info)"
   ]
  },
  {
   "cell_type": "markdown",
   "metadata": {},
   "source": [
    "## Base"
   ]
  },
  {
   "cell_type": "markdown",
   "metadata": {},
   "source": [
    "### definition"
   ]
  },
  {
   "cell_type": "code",
   "execution_count": 8,
   "metadata": {
    "ExecuteTime": {
     "end_time": "2022-06-08T17:30:13.512542Z",
     "start_time": "2022-06-08T17:30:13.491515Z"
    },
    "scrolled": false
   },
   "outputs": [
    {
     "name": "stdout",
     "output_type": "stream",
     "text": [
      "Overwriting ./brane/core/base.py\n"
     ]
    }
   ],
   "source": [
    "%%writefile {BASE_PY}\n",
    "from __future__ import annotations"
   ]
  },
  {
   "cell_type": "code",
   "execution_count": 9,
   "metadata": {
    "ExecuteTime": {
     "end_time": "2022-06-08T17:30:13.976728Z",
     "start_time": "2022-06-08T17:30:13.725266Z"
    }
   },
   "outputs": [],
   "source": [
    "!echo '{generate_import(TYPE_PY, \"* # noqa: F403\")}' >> {BASE_PY}\n",
    "!echo '{generate_import(UTILS_PY, \"sort_mapper\")}' >> {BASE_PY}"
   ]
  },
  {
   "cell_type": "code",
   "execution_count": 10,
   "metadata": {
    "ExecuteTime": {
     "end_time": "2022-06-08T17:30:14.046328Z",
     "start_time": "2022-06-08T17:30:14.017007Z"
    }
   },
   "outputs": [
    {
     "name": "stdout",
     "output_type": "stream",
     "text": [
      "Appending to ./brane/core/base.py\n"
     ]
    }
   ],
   "source": [
    "%%writefile -a {BASE_PY}\n",
    "from collections import OrderedDict  # deprecated ? (builtin dict is already ordered)\n",
    "\n",
    "class BaseSubclassRegister(object):\n",
    "    valid: bool = True\n",
    "    # [CHECK]: cannot access to it by `cls.__registered_subclasses`\n",
    "    # __registered_subclasses = []\n",
    "    _registered_subclasses = OrderedDict()  # not list\n",
    "    priority: int = -1\n",
    "\n",
    "    def __init_subclass__(cls):\n",
    "        # [ARG]: not register the subclass if name is None ?\n",
    "        if cls.valid:\n",
    "            #cls._registered_subclasses.append(cls)\n",
    "            name = getattr(cls, \"name\", None)\n",
    "            \n",
    "            if name in cls._registered_subclasses:# for debug\n",
    "                print(f\"[DEBUG]: overwritten cls.name = {name}, cls = {cls}\")\n",
    "            else:\n",
    "                print(f\"[DEBUG]: register cls.name = {name}, cls = {cls}\")\n",
    "            # assume the base is one of Module, Format, Object\n",
    "            base = cls.__base__\n",
    "            if issubclass(base, BaseSubclassRegister) and base != BaseSubclassRegister:\n",
    "                print(f\"[DEBUG]: registered @ {base}\")\n",
    "                base._registered_subclasses.update({ name: cls })\n",
    "                # sort by priority\n",
    "                base._registered_subclasses = OrderedDict(sort_mapper(mapper=cls._registered_subclasses, key=\"priority\"))\n",
    "\n",
    "\n",
    "class MetaFalse(type):\n",
    "    def __new__(cls, classname: str, bases: tuple[type], class_info: dict):\n",
    "        new_class_info = class_info.copy()\n",
    "        new_class_info.update({\"__bool__\": lambda cls: False})\n",
    "        return type.__new__(cls, classname, bases, new_class_info)\n",
    "\n",
    "    def __bool__(cls) -> bool:\n",
    "        return False"
   ]
  },
  {
   "cell_type": "code",
   "execution_count": 11,
   "metadata": {
    "ExecuteTime": {
     "end_time": "2022-06-08T17:30:15.792122Z",
     "start_time": "2022-06-08T17:30:15.775562Z"
    }
   },
   "outputs": [
    {
     "name": "stdout",
     "output_type": "stream",
     "text": [
      "Appending to ./brane/core/base.py\n"
     ]
    }
   ],
   "source": [
    "%%writefile -a {BASE_PY}\n",
    "\n",
    "class Context(ContextInterface):\n",
    "    \"\"\"The context/state infomation in the IO flows.\n",
    "    \n",
    "    Attributes:\n",
    "        object\n",
    "        objects\n",
    "        path\n",
    "        paths\n",
    "        file\n",
    "        files\n",
    "        Module\n",
    "\n",
    "    \"\"\"\n",
    "    object = None\n",
    "    objects = None\n",
    "    path = None\n",
    "    paths = None\n",
    "    file = None\n",
    "    files = None\n",
    "    Module = None"
   ]
  },
  {
   "cell_type": "markdown",
   "metadata": {},
   "source": [
    "### working"
   ]
  },
  {
   "cell_type": "code",
   "execution_count": 28,
   "metadata": {
    "ExecuteTime": {
     "end_time": "2022-05-15T14:46:33.911973Z",
     "start_time": "2022-05-15T14:46:33.745691Z"
    }
   },
   "outputs": [
    {
     "ename": "NameError",
     "evalue": "name 'cls' is not defined",
     "output_type": "error",
     "traceback": [
      "\u001b[0;31m---------------------------------------------------------------------------\u001b[0m",
      "\u001b[0;31mNameError\u001b[0m                                 Traceback (most recent call last)",
      "Input \u001b[0;32mIn [28]\u001b[0m, in \u001b[0;36m<cell line: 7>\u001b[0;34m()\u001b[0m\n\u001b[1;32m      3\u001b[0m     \u001b[38;5;129m@classmethod\u001b[39m\n\u001b[1;32m      4\u001b[0m     \u001b[38;5;28;01mdef\u001b[39;00m \u001b[38;5;21mb\u001b[39m(\u001b[38;5;28mcls\u001b[39m):\n\u001b[1;32m      5\u001b[0m         \u001b[38;5;28;01mreturn\u001b[39;00m \u001b[38;5;28mcls\u001b[39m\n\u001b[0;32m----> 7\u001b[0m \u001b[38;5;28;01mclass\u001b[39;00m \u001b[38;5;21;01mTmp2\u001b[39;00m(Tmp):\n\u001b[1;32m      8\u001b[0m     c \u001b[38;5;241m=\u001b[39m \u001b[38;5;28mcls\u001b[39m\u001b[38;5;241m.\u001b[39m_Tmp__a\n",
      "Input \u001b[0;32mIn [28]\u001b[0m, in \u001b[0;36mTmp2\u001b[0;34m()\u001b[0m\n\u001b[1;32m      7\u001b[0m \u001b[38;5;28;01mclass\u001b[39;00m \u001b[38;5;21;01mTmp2\u001b[39;00m(Tmp):\n\u001b[0;32m----> 8\u001b[0m     c \u001b[38;5;241m=\u001b[39m \u001b[38;5;28;43mcls\u001b[39;49m\u001b[38;5;241m.\u001b[39m_Tmp__a\n",
      "\u001b[0;31mNameError\u001b[0m: name 'cls' is not defined"
     ]
    }
   ],
   "source": [
    "class Tmp():\n",
    "    __a = []\n",
    "    @classmethod\n",
    "    def b(cls):\n",
    "        return cls\n",
    "\n",
    "class Tmp2(Tmp):\n",
    "    c = cls._Tmp__a"
   ]
  },
  {
   "cell_type": "code",
   "execution_count": null,
   "metadata": {
    "ExecuteTime": {
     "end_time": "2022-05-15T14:46:33.916750Z",
     "start_time": "2022-05-15T14:46:33.916724Z"
    }
   },
   "outputs": [],
   "source": [
    "Tmp2.c"
   ]
  },
  {
   "cell_type": "code",
   "execution_count": null,
   "metadata": {
    "ExecuteTime": {
     "end_time": "2022-05-15T14:46:33.918826Z",
     "start_time": "2022-05-15T14:46:33.918800Z"
    }
   },
   "outputs": [],
   "source": [
    "cls = Tmp.b()"
   ]
  },
  {
   "cell_type": "code",
   "execution_count": null,
   "metadata": {
    "ExecuteTime": {
     "end_time": "2022-05-15T14:46:33.921627Z",
     "start_time": "2022-05-15T14:46:33.921601Z"
    }
   },
   "outputs": [],
   "source": [
    "cls._Tmp__a"
   ]
  },
  {
   "cell_type": "code",
   "execution_count": null,
   "metadata": {},
   "outputs": [],
   "source": []
  },
  {
   "cell_type": "code",
   "execution_count": null,
   "metadata": {
    "ExecuteTime": {
     "end_time": "2022-05-15T14:46:33.923697Z",
     "start_time": "2022-05-15T14:46:33.923670Z"
    }
   },
   "outputs": [],
   "source": [
    "assert False\n",
    "\n",
    "    \n",
    "    if len(base_args) >= len(new_args):\n",
    "        base_args\n",
    "        return tuple( new_args[i] if new_args[i] is not None else base_args[i] for i in range(len(base_args)) )\n",
    "    else:\n",
    "        return tuple( new_args[i] if new_args[i] is not None else base_args[i] for i in range(len(new_args)) )"
   ]
  },
  {
   "cell_type": "code",
   "execution_count": null,
   "metadata": {},
   "outputs": [],
   "source": []
  },
  {
   "cell_type": "markdown",
   "metadata": {},
   "source": [
    "## Module"
   ]
  },
  {
   "cell_type": "markdown",
   "metadata": {},
   "source": [
    "### definition"
   ]
  },
  {
   "cell_type": "markdown",
   "metadata": {},
   "source": [
    "#### core"
   ]
  },
  {
   "cell_type": "code",
   "execution_count": 12,
   "metadata": {
    "ExecuteTime": {
     "end_time": "2022-06-08T17:30:19.513489Z",
     "start_time": "2022-06-08T17:30:19.491080Z"
    },
    "scrolled": false
   },
   "outputs": [
    {
     "name": "stdout",
     "output_type": "stream",
     "text": [
      "Overwriting ./brane/core/module.py\n"
     ]
    }
   ],
   "source": [
    "%%writefile {MODULE_PY}\n",
    "from __future__ import annotations"
   ]
  },
  {
   "cell_type": "code",
   "execution_count": 13,
   "metadata": {
    "ExecuteTime": {
     "end_time": "2022-06-08T17:30:20.224501Z",
     "start_time": "2022-06-08T17:30:19.754013Z"
    }
   },
   "outputs": [],
   "source": [
    "!echo '{generate_import(TYPE_PY, \"* # noqa: F403\")}' >> {MODULE_PY}\n",
    "!echo '{generate_import(BASE_PY, \"BaseSubclassRegister\")}' >> {MODULE_PY}\n",
    "!echo '{generate_import(UTILS_PY, \"integrate_args, integrate_kwargs\")}' >> {MODULE_PY}\n",
    "!echo '{generate_import(BASE_PY, \"MetaFalse\")}' >> {MODULE_PY}"
   ]
  },
  {
   "cell_type": "code",
   "execution_count": 14,
   "metadata": {
    "ExecuteTime": {
     "end_time": "2022-06-08T17:30:20.266732Z",
     "start_time": "2022-06-08T17:30:20.229474Z"
    }
   },
   "outputs": [
    {
     "name": "stdout",
     "output_type": "stream",
     "text": [
      "Appending to ./brane/core/module.py\n"
     ]
    }
   ],
   "source": [
    "%%writefile -a {MODULE_PY}\n",
    "import importlib\n",
    "\n",
    "class MetaModule(type):\n",
    "    def __new__(cls, classname: str, bases: tuple[type], class_info: dict):  # [TODO]: refine typing\n",
    "        new_class_info: dict = class_info.copy()\n",
    "        if new_class_info.get(\"name\", None) is None:\n",
    "            new_class_info[\"name\"] = new_class_info.get(\"module_name\", None)\n",
    "            \n",
    "        print(f\"[DEBUG]: in MetaModule class_info={new_class_info}\")\n",
    "        return type.__new__(cls, classname, bases, new_class_info)\n",
    "\n",
    "    # [TODO] python>=3.9, move to class as classmethod property\n",
    "    @property\n",
    "    def registered_modules(cls) -> dict:  # [TODO]: refine typing\n",
    "        return cls._registered_subclasses\n",
    "\n",
    "class Module(ModuleClassType, BaseSubclassRegister, metaclass=MetaModule):\n",
    "    \"\"\"\n",
    "    Needed to be inheritated. The child class correspond to module.\n",
    "    \n",
    "    Args:\n",
    "        name:\n",
    "        module_name:\n",
    "        module:\n",
    "        loaded:\n",
    "\n",
    "        module_read_method_name:\n",
    "        module_read_method:\n",
    "        file_read_method_name:\n",
    "        file_open_for_read:\n",
    "        open_mode_for_read:\n",
    "        transform:\n",
    "        transform_name:\n",
    "        transform_info:\n",
    "\n",
    "        module_write_method_name:\n",
    "        module_write_method:\n",
    "        writer_method_name:\n",
    "        object_write_method_name:\n",
    "        file_write_method_name:\n",
    "        file_open_for_write:\n",
    "        open_mode_for_write:\n",
    "        \n",
    "        file_arg_first:\n",
    "        object_unpacking_type:\n",
    "        file_keyword_at_write:\n",
    "        obj_keyword_at_write:\n",
    "\n",
    "        base_args_read:\n",
    "        base_kwargs_read:\n",
    "        base_args_write:\n",
    "        base_kwargs_write:\n",
    "        generate_params_read:\n",
    "        generate_params_write:\n",
    "        \n",
    "    Note:\n",
    "        Argument version v0.0\n",
    "    \"\"\"\n",
    "    _registered_subclasses: dict = {}\n",
    "    priority: int = 50\n",
    "\n",
    "    # should be unqiue. package name specifed at pip install is usually set\n",
    "    name: Optional[str] = None\n",
    "    # module name for base. allow the string like \"module1.module2\"\n",
    "    module_name: Optional[str] = None\n",
    "    # the module specified by the module_name is set at load_modules method\n",
    "    module: Any = None\n",
    "    # temporal / experimental\n",
    "    loaded: bool = False\n",
    "\n",
    "    module_read_method: Optional[Callable] = None\n",
    "    module_read_method_name: Optional[str] = None\n",
    "    file_read_method_name: Optional[str] = None\n",
    "    file_open_for_read: bool = False\n",
    "    open_mode_for_read: dict[str, Any] = {\"mode\": \"r\"}\n",
    "    transform: Optional[Callable] = None\n",
    "    transform_name: Optional[str] = None\n",
    "    transform_info: Optional[tuple[str, ...]] = None\n",
    "\n",
    "    module_write_method: Callable = None\n",
    "    module_write_method_name: Optional[str] = None\n",
    "    writer_method_name: Optional[str] = None\n",
    "    object_write_method_name: Optional[str] = None\n",
    "    file_write_method_name: Optional[str] = None\n",
    "    file_open_for_write: bool = False\n",
    "    open_mode_for_write: dict[str, Any] = {\"mode\": \"w\"}\n",
    "\n",
    "    file_arg_first: bool = True\n",
    "    object_unpacking_type: str = None\n",
    "    file_keyword_at_write: Optional[str] = None\n",
    "    obj_keyword_at_write: Optional[str] = None\n",
    "    \n",
    "    base_args_read: tuple = ()\n",
    "    base_kwargs_read: dict = {}\n",
    "    base_args_write: tuple = ()\n",
    "    base_kwargs_write: dict = {}\n",
    "    generate_params_read = None # unnecessary ?\n",
    "    generate_params_write = None\n",
    "\n",
    "    @classmethod\n",
    "    def load_modules(cls):\n",
    "        \"\"\" lazy loading of modules and setting their attributes or methods to this class.\n",
    "        \"\"\"\n",
    "        if cls.loaded:\n",
    "            return None\n",
    "\n",
    "        if cls.module_name:\n",
    "            if cls.module is None:\n",
    "                cls.module = importlib.import_module(cls.module_name)\n",
    "\n",
    "        # set read method\n",
    "        if cls.module_read_method_name:\n",
    "            cls.module_read_method = getattr(cls.module, cls.module_read_method_name)\n",
    "        elif cls.file_read_method_name:\n",
    "            pass\n",
    "        else:\n",
    "            # [ARGS]: other error type ?\n",
    "            raise ValueError(\n",
    "                \"neither 'module_read_method_name' nor 'file_read_method_name' is undefined\"\n",
    "            )\n",
    "        if cls.transform_name:\n",
    "            cls.transform = getattr(cls.module, cls.transform_name)\n",
    "        if cls.transform_info:\n",
    "            transform_module_name, *attrs = cls.transform_info\n",
    "            method = importlib.import_module(transform_module_name)\n",
    "            for attr in attrs:\n",
    "                method = getattr(method, attr)\n",
    "            cls.transform = method\n",
    "\n",
    "        # set write method\n",
    "        if cls.module_write_method_name:\n",
    "            cls.module_write_method = getattr(cls.module, cls.module_write_method_name)\n",
    "        elif cls.object_write_method_name:\n",
    "            pass\n",
    "        elif cls.file_write_method_name:\n",
    "            pass\n",
    "        else:\n",
    "            # [ARGS]: other error type ?\n",
    "            raise ValueError(\n",
    "                \"neither 'module_write_method_name', 'object_write_method_name' nor 'file_write_method_name' is undefined\"\n",
    "            )\n",
    "        \n",
    "        cls.loaded = True\n",
    "\n",
    "    @classmethod\n",
    "    def reload_modules(cls):\n",
    "        \"\"\" reload modules or re-setting attributes or methods.\n",
    "        \"\"\"\n",
    "        cls.loaded = False\n",
    "        cls.load_modules()\n",
    "\n",
    "    @classmethod\n",
    "    def read(cls, path: Optional[PathType] = None, file: Optional[FileType] = None, *args, **kwargs) -> Any:\n",
    "        \"\"\" read from path or file stream.\n",
    "\n",
    "        Args:\n",
    "            path: path object\n",
    "            file: file stream object\n",
    "        \n",
    "        Returns:\n",
    "            Any: loaded objects\n",
    "        \"\"\"\n",
    "        if path is None and file is None:\n",
    "            raise ValueError(\"Either path or file argument should be not None.\")\n",
    "\n",
    "        # generate the args and keyword args passed to read method\n",
    "        base_args_read, base_kwargs_read = cls.base_args_read, cls.base_kwargs_read.copy()\n",
    "        # [ARG]: unnecessary\n",
    "        # if cls.generate_params_read:\n",
    "        #     base_args_read, base_kwargs_read = cls.generate_params_read(base_args_read, base_kwargs_read)\n",
    "\n",
    "        args_read: tuple = integrate_args(base_args_read, args)\n",
    "        kwargs_read: dict = integrate_kwargs(base_kwargs_read, kwargs)\n",
    "\n",
    "        if file is None:\n",
    "            if cls.file_open_for_read:\n",
    "                file = open(path, **cls.open_mode_for_read)\n",
    "            else:\n",
    "                file = path\n",
    "        assert file is not None\n",
    "\n",
    "        if cls.module_read_method:\n",
    "            obj = cls.module_read_method(file, *args_read, **kwargs_read)\n",
    "        elif cls.file_read_method_name:  # file read object\n",
    "            if not hasattr(file, cls.file_read_method_name):\n",
    "                raise AttributeError()  # [TODO]: error messsage\n",
    "            obj = getattr(file, cls.file_read_method_name)(*args_read, **kwargs_read)\n",
    "        else:\n",
    "            raise NotImplementedError\n",
    "\n",
    "        # do post-process\n",
    "        if cls.transform:\n",
    "            obj = cls.transform(obj)\n",
    "\n",
    "        if cls.file_open_for_read:\n",
    "            file.close()\n",
    "\n",
    "        # [TODO]: assertion ( isinstance(obj, cls.object) ) if cls.object is not None\n",
    "        return obj\n",
    "\n",
    "    @classmethod\n",
    "    def write(cls, obj: Any, path: Optional[PathType] = None, file: Optional[FileType] = None, *args, **kwargs):\n",
    "        \"\"\" write objects to the file specified by path object or file object.\n",
    "\n",
    "        Args:\n",
    "            obj: object to save\n",
    "            path: path object\n",
    "            file: file stream object\n",
    "        \"\"\"\n",
    "        if path is None and file is None:\n",
    "            raise ValueError(\"Either path or file argument should be not None.\")\n",
    "\n",
    "        base_args_write, base_kwargs_write = cls.base_args_write, cls.base_kwargs_write.copy()\n",
    "        if cls.generate_params_write:\n",
    "            base_args_write, base_kwargs_write = cls.generate_params_write(obj, base_args_write, base_kwargs_write)\n",
    "\n",
    "        args_write = integrate_args(base_args_write, args)\n",
    "        kwargs_write = integrate_kwargs(base_kwargs_write, kwargs)\n",
    "\n",
    "        if file is None:\n",
    "            if cls.file_open_for_write:\n",
    "                file = open(path, **cls.open_mode_for_write)\n",
    "            else:\n",
    "                file = path\n",
    "\n",
    "        \"\"\" Patterns\n",
    "        # pass both file & obj at the same time\n",
    "        * condition:\n",
    "            * (module_write_method_name is not None)\n",
    "            * (writer_method_name is None)\n",
    "\n",
    "        ## both positional arguments\n",
    "        * condition:\n",
    "            * (object_unpacking_type != 'mapping')\n",
    "        * call:\n",
    "            * module.write(file, obj, *args, **kwargs)\n",
    "                + condition:\n",
    "                    + (file_arg_first is True)\n",
    "                    + (object_unpacking_type == None)\n",
    "                + (file, obj, *args, ), { **kwargs }\n",
    "            * module.write(file, *obj, **kwargs)\n",
    "                + condition:\n",
    "                    + (file_arg_first is True)\n",
    "                    + (object_unpacking_type == 'sequence')\n",
    "                + (file, *obj, ), { **kwargs }\n",
    "            * module.write(obj, file, *args, **kwargs)\n",
    "                + condition:\n",
    "                    + (file_arg_first is False)\n",
    "                    + (object_unpacking_type == None)\n",
    "                + (obj, file, *args ), { **kwargs }\n",
    "            * module.write(*obj, file, **kwargs)\n",
    "                + condition:\n",
    "                    + (file_arg_first is False)\n",
    "                    + (object_unpacking_type == 'sequence')\n",
    "                + (*obj, file, ), { **kwargs }\n",
    "\n",
    "        ## file is positional and object is keyword argument\n",
    "        * condition:\n",
    "            * (object_unpacking_type == 'mapping')\n",
    "            * (file_keyword_at_write is None)\n",
    "        * call:\n",
    "            * module.write(file, obj=obj, **kwargs)\n",
    "                + condition:\n",
    "                    + (obj_keyword_at_write is not None)\n",
    "                + (file,), { obj: obj, **kwargs }\n",
    "            * module.write(file, **obj)\n",
    "                + condition:\n",
    "                    + (obj_keyword_at_write is None)\n",
    "                + (file,), { **obj }\n",
    "\n",
    "        ## both keyword arguments\n",
    "        * condition:\n",
    "            * (object_unpacking_type == 'mapping')\n",
    "            * (file_keyword_at_write is not None)\n",
    "        * call:\n",
    "            * module.write(file=file, obj=obj, **kwargs)\n",
    "                + (), { file: file, obj: obj, **kwargs }\n",
    "\n",
    "        # pass only file and then write object\n",
    "        * condition:\n",
    "            * (module_write_method_name is not None)\n",
    "            * (writer_method_name is not None)\n",
    "        * call:\n",
    "            * module.write(file, *args, **kwargs).write(obj)\n",
    "                + condition:\n",
    "                    + (object_unpacking_type is None)\n",
    "                + (file, *args, ), { **kwargs }\n",
    "            * module.write(file, *args, **kwargs).write(*obj)\n",
    "                + condition:\n",
    "                    + (object_unpacking_type == 'sequence')\n",
    "                + (file, *args, ), { **kwargs }\n",
    "            * module.write(file, *args, **kwargs).write(**obj)\n",
    "                + condition:\n",
    "                    + (object_unpacking_type == 'mapping')\n",
    "                + (file, *args, ), { **kwargs }\n",
    "\n",
    "        # object write file\n",
    "        * condition:\n",
    "            * (object_write_method_name is not None)\n",
    "        * call:\n",
    "            * obj.write(file, *args, **kwargs)\n",
    "                + (file, *args), { **kwargs }\n",
    "\n",
    "        \"\"\"\n",
    "\n",
    "        if cls.module_write_method_name:\n",
    "            if cls.writer_method_name:  # pass only file and then write object\n",
    "                writer = cls.module_write_method(file, *args_write, **kwargs_write)\n",
    "                if not hasattr(writer, cls.writer_method_name):\n",
    "                    raise AttributeError()  # [TODO]: error messsage\n",
    "                if cls.object_unpacking_type is None:\n",
    "                    getattr(writer, cls.writer_method_name)(obj)\n",
    "                elif cls.object_unpacking_type == 'sequence':\n",
    "                    getattr(writer, cls.writer_method_name)(*obj)\n",
    "                elif cls.object_unpacking_type == 'mapping':\n",
    "                    getattr(writer, cls.writer_method_name)(**obj)\n",
    "                else:\n",
    "                    raise NotImplementedError(f\"object_unpacking_type: {cls.object_unpacking_type}\")\n",
    "            else:  # pass both file & obj at the same time\n",
    "                if cls.object_unpacking_type is None:\n",
    "                    if cls.file_arg_first:\n",
    "                        cls.module_write_method(file, obj, *args_write, **kwargs_write)\n",
    "                    else:\n",
    "                        cls.module_write_method(obj, file, *args_write, **kwargs_write)\n",
    "                elif object_unpacking_type == 'sequence':\n",
    "                    if len(args_write) > 0:\n",
    "                        raise AssertionError()  # [TODO]: error messsage\n",
    "                    if cls.file_arg_first:\n",
    "                        cls.module_write_method(file, *obj, **kwargs_write)\n",
    "                    else:\n",
    "                        cls.module_write_method(*obj, file, **kwargs_write)\n",
    "                elif object_unpacking_type == 'mapping':\n",
    "                    if len(args_write) > 0:\n",
    "                        raise AssertionError()  # [TODO]: error messsage\n",
    "                    args_, kwargs_ = list(), dict()\n",
    "                    if cls.file_keyword_at_write:\n",
    "                        kwargs_.update({cls.file_keyword_at_write: file})\n",
    "                        if cls.obj_keyword_at_write:\n",
    "                            kwargs_.update({cls.obj_keyword_at_write: obj})\n",
    "                        else:\n",
    "                            raise AssertionError\n",
    "                    else:\n",
    "                        args_.append(file)\n",
    "                        if cls.obj_keyword_at_write:\n",
    "                            kwargs_.update({cls.obj_keyword_at_write: obj})\n",
    "                        else:\n",
    "                            kwargs_.update(**obj)\n",
    "                            if len(kwargs_write) > 0:\n",
    "                                raise AssertionError()  # [TODO]: error messsage\n",
    "                    cls.module_write_method(*args_, **kwargs_, **kwargs_write)\n",
    "        elif cls.object_write_method_name:  # object write file\n",
    "            if not hasattr(obj, cls.object_write_method_name):\n",
    "                raise AttributeError()  # [TODO]: error messsage\n",
    "            getattr(obj, cls.object_write_method_name)(file, *args_write, **kwargs_write)\n",
    "        elif cls.file_write_method_name:  # file write object\n",
    "            if not hasattr(file, cls.file_write_method_name):\n",
    "                raise AttributeError()  # [TODO]: error messsage\n",
    "            getattr(file, cls.file_write_method_name)(obj, *args_write, **kwargs_write)\n",
    "        else:\n",
    "            raise NotImplementedError\n",
    "\n",
    "        if cls.file_open_for_write:\n",
    "            file.close()\n",
    "\n",
    "\n",
    "class MetaNoneModule(MetaModule, MetaFalse):# [MEMO]: deprecated after removing MetaModule\n",
    "    pass\n",
    "\n",
    "\n",
    "class NoneModule(Module, metaclass=MetaNoneModule):\n",
    "    valid = False###\n",
    "    name = \"None\"\n",
    "    \n",
    "    #@classmethod # not work for class\n",
    "    #def __bool__(cls):\n",
    "    #    return False"
   ]
  },
  {
   "cell_type": "markdown",
   "metadata": {},
   "source": [
    "#### config"
   ]
  },
  {
   "cell_type": "code",
   "execution_count": 15,
   "metadata": {
    "ExecuteTime": {
     "end_time": "2022-06-08T17:30:24.057920Z",
     "start_time": "2022-06-08T17:30:24.033397Z"
    }
   },
   "outputs": [
    {
     "name": "stdout",
     "output_type": "stream",
     "text": [
      "Overwriting ./config/modules/core.yaml\n"
     ]
    }
   ],
   "source": [
    "%%writefile {MODULE_CFG_CORE}\n",
    "TextIO:\n",
    "    name: textio\n",
    "    file_read_method_name: read\n",
    "    file_open_for_read: true\n",
    "    file_write_method_name: write\n",
    "    file_open_for_write: true\n",
    "\n",
    "Json:\n",
    "    module_name: json\n",
    "\n",
    "    file_open_for_read: true\n",
    "    module_read_method_name: load\n",
    "\n",
    "    file_open_for_write: true\n",
    "    module_write_method_name: dump\n",
    "    file_arg_first: false\n",
    "    base_kwargs_write:\n",
    "        indent: 2\n",
    "\n",
    "Csv:\n",
    "    module_name: csv\n",
    "\n",
    "    file_open_for_read: true\n",
    "    module_read_method_name: reader\n",
    "    transform_info:\n",
    "        - builtins\n",
    "        - list\n",
    "\n",
    "    file_open_for_write: true\n",
    "    module_write_method_name: writer\n",
    "    writer_method_name: writerows\n",
    "\n",
    "Pickle:\n",
    "    module_name: pickle\n",
    "\n",
    "    file_open_for_read: true\n",
    "    module_read_method_name: load\n",
    "    open_mode_for_read:\n",
    "        mode: rb\n",
    "\n",
    "    file_open_for_write: true\n",
    "    module_write_method_name: dump\n",
    "    open_mode_for_write:\n",
    "        mode: wb\n",
    "    file_arg_first: false"
   ]
  },
  {
   "cell_type": "code",
   "execution_count": 16,
   "metadata": {
    "ExecuteTime": {
     "end_time": "2022-06-08T17:30:24.342580Z",
     "start_time": "2022-06-08T17:30:24.327667Z"
    }
   },
   "outputs": [
    {
     "name": "stdout",
     "output_type": "stream",
     "text": [
      "Overwriting ./config/modules/basic.yaml\n"
     ]
    }
   ],
   "source": [
    "%%writefile {MODULE_CFG_THIRDPARTY}\n",
    "Pillow:\n",
    "    name: Pillow\n",
    "    module_name: PIL.Image\n",
    "\n",
    "    module_read_method_name: open\n",
    "\n",
    "    object_write_method_name: save\n",
    "\n",
    "CV2:\n",
    "    name: opencv-python\n",
    "    module_name: cv2\n",
    "\n",
    "    module_read_method_name: imread\n",
    "\n",
    "    module_write_method_name: imwrite\n",
    "    file_arg_first: true\n",
    "\n",
    "Pandas:\n",
    "    module_name: pandas\n",
    "\n",
    "    module_read_method_name: read_csv\n",
    "\n",
    "    object_write_method_name: to_csv\n",
    "    base_kwargs_write:\n",
    "        index: null\n",
    "\n",
    "Numpy:\n",
    "    # should we care about file close ?\n",
    "    module_name: numpy\n",
    "\n",
    "    module_read_method_name: load\n",
    "\n",
    "    module_write_method_name: save\n",
    "    file_arg_first: true\n",
    "\n",
    "Numpz1:\n",
    "    # should we care about file close ?\n",
    "    name: numpz1\n",
    "    module_name: numpy\n",
    "\n",
    "    module_read_method_name: load\n",
    "    transform_info:\n",
    "        - builtins\n",
    "        - dict\n",
    "\n",
    "    module_write_method_name: savez\n",
    "    file_arg_first: true\n",
    "    object_unpacking_type: mapping\n",
    "\n",
    "Numpz2:\n",
    "    # should we care about file close ?\n",
    "    name: numpz2\n",
    "    module_name: numpy\n",
    "\n",
    "    module_read_method_name: load\n",
    "    transform_info:\n",
    "        - builtins\n",
    "        - dict\n",
    "\n",
    "    module_write_method_name: savez\n",
    "    file_arg_first: true\n",
    "    object_unpacking_type: sequence\n",
    "\n",
    "Pyyaml:\n",
    "    name: PyYAML\n",
    "    module_name: yaml\n",
    "\n",
    "    file_open_for_read: true\n",
    "    module_read_method_name: safe_load\n",
    "\n",
    "    file_open_for_write: true\n",
    "    module_write_method_name: safe_dump\n",
    "    file_arg_first: false\n",
    "\n",
    "Toml:\n",
    "    module_name: toml\n",
    "\n",
    "    file_open_for_read: true\n",
    "    module_read_method_name: load\n",
    "\n",
    "    file_open_for_write: true\n",
    "    module_write_method_name: dump\n",
    "    file_arg_first: false"
   ]
  },
  {
   "cell_type": "markdown",
   "metadata": {},
   "source": [
    "#### workspace"
   ]
  },
  {
   "cell_type": "markdown",
   "metadata": {},
   "source": [
    "\n",
    "        module_read_method_name:\n",
    "        module_read_method:\n",
    "        file_read_method_name:\n",
    "        file_open_for_read:\n",
    "        open_mode_for_read:\n",
    "        transform:\n",
    "        transform_name:\n",
    "        transform_info:\n",
    "\n",
    "        module_write_method_name:\n",
    "        module_write_method:\n",
    "        writer_method_name:\n",
    "        object_write_method_name:\n",
    "        file_write_method_name:\n",
    "        file_open_for_write:\n",
    "        open_mode_for_write:\n",
    "        \n",
    "        file_arg_first:\n",
    "        object_unpacking_type:\n",
    "        file_keyword_at_write:\n",
    "        obj_keyword_at_write:"
   ]
  },
  {
   "cell_type": "markdown",
   "metadata": {
    "ExecuteTime": {
     "end_time": "2022-06-07T15:57:11.214578Z",
     "start_time": "2022-06-07T15:57:11.187178Z"
    }
   },
   "source": [
    "from brane import IOManager as gio"
   ]
  },
  {
   "cell_type": "markdown",
   "metadata": {
    "ExecuteTime": {
     "end_time": "2022-06-07T16:30:52.826416Z",
     "start_time": "2022-06-07T16:30:52.497068Z"
    }
   },
   "source": [
    "xio.factory.activate()"
   ]
  },
  {
   "cell_type": "code",
   "execution_count": 3,
   "metadata": {
    "ExecuteTime": {
     "end_time": "2022-06-07T16:32:33.845131Z",
     "start_time": "2022-06-07T16:32:33.748190Z"
    }
   },
   "outputs": [
    {
     "name": "stdout",
     "output_type": "stream",
     "text": [
      "[DEBUG]: in MetaFormat default_extension=None class_info={'__module__': 'brane.core.format', '__qualname__': 'Format', '__annotations__': {'default_extension': 'Optional[str]', 'variation': 'list[str]'}, '_registered_subclasses': {}, 'priority': 50, 'data_type': None, 'default_extension': None, 'variation': [None], 'check_extension': <classmethod object at 0x7f5a786dc490>, 'name': None}\n",
      "[DEBUG]: register cls.name = None, cls = <class 'brane.core.format.Format'>\n",
      "[DEBUG]: in MetaFormat default_extension=None class_info={'__module__': 'brane.core.format', '__qualname__': 'NoneFormat', 'valid': False, 'name': None, 'variation': [None]}\n",
      "[DEBUG]: in MetaModule class_info={'__module__': 'brane.core.module', '__qualname__': 'Module', '__annotations__': {'_registered_subclasses': 'dict', 'priority': 'int', 'name': 'Optional[str]', 'module_name': 'Optional[str]', 'module': 'Any', 'loaded': 'bool', 'module_read_method': 'Optional[Callable]', 'module_read_method_name': 'Optional[str]', 'file_read_method_name': 'Optional[str]', 'file_open_for_read': 'bool', 'open_mode_for_read': 'dict[str, Any]', 'transform': 'Optional[Callable]', 'transform_name': 'Optional[str]', 'transform_info': 'Optional[tuple[str, ...]]', 'module_write_method': 'Callable', 'module_write_method_name': 'Optional[str]', 'writer_method_name': 'Optional[str]', 'object_write_method_name': 'Optional[str]', 'file_write_method_name': 'Optional[str]', 'file_open_for_write': 'bool', 'open_mode_for_write': 'dict[str, Any]', 'file_arg_first': 'bool', 'object_unpacking_type': 'str', 'file_keyword_at_write': 'Optional[str]', 'obj_keyword_at_write': 'Optional[str]', 'base_args_read': 'tuple', 'base_kwargs_read': 'dict', 'base_args_write': 'tuple', 'base_kwargs_write': 'dict'}, '__doc__': '\\n    Needed to be inheritated. The child class correspond to module.\\n    \\n    Args:\\n        name:\\n        module_name:\\n        module:\\n        loaded:\\n\\n        module_read_method_name:\\n        module_read_method:\\n        file_read_method_name:\\n        file_open_for_read:\\n        open_mode_for_read:\\n        transform:\\n        transform_name:\\n        transform_info:\\n\\n        module_write_method_name:\\n        module_write_method:\\n        writer_method_name:\\n        object_write_method_name:\\n        file_write_method_name:\\n        file_open_for_write:\\n        open_mode_for_write:\\n        \\n        file_arg_first:\\n        object_unpacking_type:\\n        file_keyword_at_write:\\n        obj_keyword_at_write:\\n\\n        base_args_read:\\n        base_kwargs_read:\\n        base_args_write:\\n        base_kwargs_write:\\n        generate_params_read:\\n        generate_params_write:\\n        \\n    Note:\\n        Argument version v0.0\\n    ', '_registered_subclasses': {}, 'priority': 50, 'name': None, 'module_name': None, 'module': None, 'loaded': False, 'module_read_method': None, 'module_read_method_name': None, 'file_read_method_name': None, 'file_open_for_read': False, 'open_mode_for_read': {'mode': 'r'}, 'transform': None, 'transform_name': None, 'transform_info': None, 'module_write_method': None, 'module_write_method_name': None, 'writer_method_name': None, 'object_write_method_name': None, 'file_write_method_name': None, 'file_open_for_write': False, 'open_mode_for_write': {'mode': 'w'}, 'file_arg_first': True, 'object_unpacking_type': None, 'file_keyword_at_write': None, 'obj_keyword_at_write': None, 'base_args_read': (), 'base_kwargs_read': {}, 'base_args_write': (), 'base_kwargs_write': {}, 'generate_params_read': None, 'generate_params_write': None, 'load_modules': <classmethod object at 0x7f5a78789130>, 'reload_modules': <classmethod object at 0x7f5a78789ee0>, 'read': <classmethod object at 0x7f5a787d8a60>, 'write': <classmethod object at 0x7f5a787d87f0>}\n",
      "[DEBUG]: register cls.name = None, cls = <class 'brane.core.module.Module'>\n",
      "[DEBUG]: in MetaModule class_info={'__module__': 'brane.core.module', '__qualname__': 'NoneModule', 'valid': False, 'name': 'None'}\n",
      "[DEBUG]: register cls.name = Object, cls = <class 'brane.core.object.Object'>\n",
      "[DEBUG]: in MetaModule class_info={'module_name': 'json', 'file_open_for_read': True, 'module_read_method_name': 'load', 'file_open_for_write': True, 'module_write_method_name': 'dump', 'file_arg_first': False, 'base_kwargs_write': {'indent': 2}, 'name': 'json'}\n",
      "[DEBUG]: register cls.name = json, cls = <class 'brane.core.module.JsonModule'>\n",
      "[DEBUG]: registered @ <class 'brane.core.module.Module'>\n",
      "[DEBUG]: in MetaModule class_info={'module_name': 'csv', 'file_open_for_read': True, 'module_read_method_name': 'reader', 'transform_info': ['builtins', 'list'], 'file_open_for_write': True, 'module_write_method_name': 'writer', 'writer_method_name': 'writerows', 'name': 'csv'}\n",
      "[DEBUG]: register cls.name = csv, cls = <class 'brane.core.module.CsvModule'>\n",
      "[DEBUG]: registered @ <class 'brane.core.module.Module'>\n",
      "[DEBUG]: in MetaModule class_info={'module_name': 'pickle', 'file_open_for_read': True, 'module_read_method_name': 'load', 'file_open_for_write': True, 'module_write_method_name': 'dump', 'file_arg_first': False, 'name': 'pickle'}\n",
      "[DEBUG]: register cls.name = pickle, cls = <class 'brane.core.module.PickleModule'>\n",
      "[DEBUG]: registered @ <class 'brane.core.module.Module'>\n",
      "[DEBUG]: in MetaModule class_info={'name': 'Pillow', 'module_name': 'PIL.Image', 'module_read_method_name': 'open', 'object_write_method_name': 'save'}\n",
      "[DEBUG]: register cls.name = Pillow, cls = <class 'brane.core.module.PillowModule'>\n",
      "[DEBUG]: registered @ <class 'brane.core.module.Module'>\n",
      "[DEBUG]: in MetaModule class_info={'name': 'opencv-python', 'module_name': 'cv2', 'module_read_method_name': 'imread', 'module_write_method_name': 'imwrite', 'file_arg_first': True}\n",
      "[DEBUG]: register cls.name = opencv-python, cls = <class 'brane.core.module.CV2Module'>\n",
      "[DEBUG]: registered @ <class 'brane.core.module.Module'>\n",
      "[DEBUG]: in MetaModule class_info={'module_name': 'pandas', 'module_read_method_name': 'read_csv', 'object_write_method_name': 'to_csv', 'base_kwargs_write': {'index': None}, 'name': 'pandas'}\n",
      "[DEBUG]: register cls.name = pandas, cls = <class 'brane.core.module.PandasModule'>\n",
      "[DEBUG]: registered @ <class 'brane.core.module.Module'>\n",
      "[DEBUG]: in MetaModule class_info={'module_name': 'numpy', 'module_read_method_name': 'load', 'module_write_method_name': 'save', 'file_arg_first': True, 'name': 'numpy'}\n",
      "[DEBUG]: register cls.name = numpy, cls = <class 'brane.core.module.NumpyModule'>\n",
      "[DEBUG]: registered @ <class 'brane.core.module.Module'>\n",
      "[DEBUG]: in MetaModule class_info={'name': 'numpz1', 'module_name': 'numpy', 'module_read_method_name': 'load', 'transform_info': ['builtins', 'dict'], 'module_write_method_name': 'savez', 'file_arg_first': True, 'object_unpacking_type': 'mapping'}\n",
      "[DEBUG]: register cls.name = numpz1, cls = <class 'brane.core.module.Numpz1Module'>\n",
      "[DEBUG]: registered @ <class 'brane.core.module.Module'>\n",
      "[DEBUG]: in MetaModule class_info={'name': 'numpz2', 'module_name': 'numpy', 'module_read_method_name': 'load', 'transform_info': ['builtins', 'dict'], 'module_write_method_name': 'savez', 'file_arg_first': True, 'object_unpacking_type': 'sequence'}\n",
      "[DEBUG]: register cls.name = numpz2, cls = <class 'brane.core.module.Numpz2Module'>\n",
      "[DEBUG]: registered @ <class 'brane.core.module.Module'>\n",
      "[DEBUG]: in MetaModule class_info={'name': 'PyYAML', 'module_name': 'yaml', 'file_open_for_read': True, 'module_read_method_name': 'safe_load', 'file_open_for_write': True, 'module_write_method_name': 'safe_dump', 'file_arg_first': False}\n",
      "[DEBUG]: register cls.name = PyYAML, cls = <class 'brane.core.module.PyyamlModule'>\n",
      "[DEBUG]: registered @ <class 'brane.core.module.Module'>\n",
      "[DEBUG]: in MetaModule class_info={'module_name': 'toml', 'file_open_for_read': True, 'module_read_method_name': 'load', 'file_open_for_write': True, 'module_write_method_name': 'dump', 'file_arg_first': False, 'name': 'toml'}\n",
      "[DEBUG]: register cls.name = toml, cls = <class 'brane.core.module.TomlModule'>\n",
      "[DEBUG]: registered @ <class 'brane.core.module.Module'>\n",
      "[DEBUG]: register cls.name = Pickle_PKL_Object, cls = <class 'brane.core.object.Pickle_PKL_Object'>\n",
      "[DEBUG]: registered @ <class 'brane.core.object.Object'>\n",
      "[DEBUG]: register cls.name = Json_JSON_Object, cls = <class 'brane.core.object.Json_JSON_Object'>\n",
      "[DEBUG]: registered @ <class 'brane.core.object.Object'>\n",
      "[DEBUG]: register cls.name = PIL_Image_Object, cls = <class 'brane.core.object.PIL_Image_Object'>\n",
      "[DEBUG]: registered @ <class 'brane.core.object.Object'>\n",
      "[DEBUG]: register cls.name = PIL_JPEG_Object, cls = <class 'brane.core.object.PIL_JPEG_Object'>\n",
      "[DEBUG]: registered @ <class 'brane.core.object.Object'>\n",
      "[DEBUG]: register cls.name = PIL_PNG_Object, cls = <class 'brane.core.object.PIL_PNG_Object'>\n",
      "[DEBUG]: registered @ <class 'brane.core.object.Object'>\n",
      "[DEBUG]: register cls.name = Pandas_DataFrame_Object, cls = <class 'brane.core.object.Pandas_DataFrame_Object'>\n",
      "[DEBUG]: registered @ <class 'brane.core.object.Object'>\n",
      "[DEBUG]: in MetaFormat default_extension=json class_info={'default_extension': 'json', 'module_name': 'Json', 'module': <class 'brane.core.module.JsonModule'>, 'name': 'json', 'variation': ['json']}\n",
      "[DEBUG]: register cls.name = json, cls = <class 'brane.core.format.JSONFormat'>\n",
      "[DEBUG]: registered @ <class 'brane.core.format.Format'>\n",
      "[DEBUG]: in MetaFormat default_extension=pkl class_info={'default_extension': 'pkl', 'module_name': 'Pickle', 'module': <class 'brane.core.module.PickleModule'>, 'name': 'pkl', 'variation': ['pkl']}\n",
      "[DEBUG]: register cls.name = pkl, cls = <class 'brane.core.format.PKLFormat'>\n",
      "[DEBUG]: registered @ <class 'brane.core.format.Format'>\n",
      "[DEBUG]: in MetaFormat default_extension=png class_info={'default_extension': 'png', 'module_name': 'Pillow', 'module': <class 'brane.core.module.PillowModule'>, 'name': 'png', 'variation': ['png']}\n",
      "[DEBUG]: register cls.name = png, cls = <class 'brane.core.format.PNGFormat'>\n",
      "[DEBUG]: registered @ <class 'brane.core.format.Format'>\n",
      "[DEBUG]: in MetaFormat default_extension=tsv class_info={'default_extension': 'tsv', 'module_name': 'Pandas', 'module': <class 'brane.core.module.PandasModule'>, 'name': 'tsv', 'variation': ['tsv']}\n",
      "[DEBUG]: register cls.name = tsv, cls = <class 'brane.core.format.TSVFormat'>\n",
      "[DEBUG]: registered @ <class 'brane.core.format.Format'>\n",
      "[DEBUG]: in MetaFormat default_extension=jpeg class_info={'default_extension': 'jpeg', 'variation': ['jpg', 'jpeg'], 'module_name': 'Pillow', 'module': <class 'brane.core.module.PillowModule'>, 'name': 'jpeg'}\n",
      "[DEBUG]: register cls.name = jpeg, cls = <class 'brane.core.format.JPEGFormat'>\n",
      "[DEBUG]: registered @ <class 'brane.core.format.Format'>\n",
      "[DEBUG]: in MetaFormat default_extension=csv class_info={'default_extension': 'csv', 'module_name': 'Pandas', 'module': <class 'brane.core.module.PandasModule'>, 'name': 'csv', 'variation': ['csv']}\n",
      "[DEBUG]: register cls.name = csv, cls = <class 'brane.core.format.CSVFormat'>\n",
      "[DEBUG]: registered @ <class 'brane.core.format.Format'>\n",
      "brane.__init__.py called\n"
     ]
    }
   ],
   "source": [
    "from brane.core.module import Module"
   ]
  },
  {
   "cell_type": "code",
   "execution_count": 4,
   "metadata": {
    "ExecuteTime": {
     "end_time": "2022-06-07T16:32:53.540322Z",
     "start_time": "2022-06-07T16:32:53.507261Z"
    }
   },
   "outputs": [
    {
     "data": {
      "text/plain": [
       "OrderedDict([('json', brane.core.module.JsonModule),\n",
       "             ('csv', brane.core.module.CsvModule),\n",
       "             ('pickle', brane.core.module.PickleModule),\n",
       "             ('Pillow', brane.core.module.PillowModule),\n",
       "             ('opencv-python', brane.core.module.CV2Module),\n",
       "             ('pandas', brane.core.module.PandasModule),\n",
       "             ('numpy', brane.core.module.NumpyModule),\n",
       "             ('numpz1', brane.core.module.Numpz1Module),\n",
       "             ('numpz2', brane.core.module.Numpz2Module),\n",
       "             ('PyYAML', brane.core.module.PyyamlModule),\n",
       "             ('toml', brane.core.module.TomlModule)])"
      ]
     },
     "execution_count": 4,
     "metadata": {},
     "output_type": "execute_result"
    }
   ],
   "source": [
    "Module.registered_modules"
   ]
  },
  {
   "cell_type": "code",
   "execution_count": null,
   "metadata": {},
   "outputs": [],
   "source": []
  },
  {
   "cell_type": "code",
   "execution_count": 10,
   "metadata": {
    "ExecuteTime": {
     "end_time": "2022-06-07T16:33:53.534741Z",
     "start_time": "2022-06-07T16:33:53.513970Z"
    }
   },
   "outputs": [
    {
     "name": "stdout",
     "output_type": "stream",
     "text": [
      "[DEBUG]: in MetaModule class_info={'__module__': '__main__', '__qualname__': 'TextIOModule', 'name': 'textio', 'file_read_method_name': 'read', 'file_open_for_read': True, 'file_write_method_name': 'write', 'file_open_for_write': True}\n",
      "[DEBUG]: overwritten cls.name = textio, cls = <class '__main__.TextIOModule'>\n",
      "[DEBUG]: registered @ <class 'brane.core.module.Module'>\n"
     ]
    }
   ],
   "source": [
    "class TextIOModule(Module):\n",
    "    name = \"textio\"\n",
    "    file_read_method_name = \"read\"\n",
    "    file_open_for_read = True\n",
    "    file_write_method_name = \"write\"\n",
    "    file_open_for_write = True"
   ]
  },
  {
   "cell_type": "code",
   "execution_count": null,
   "metadata": {},
   "outputs": [],
   "source": []
  },
  {
   "cell_type": "code",
   "execution_count": null,
   "metadata": {},
   "outputs": [],
   "source": []
  },
  {
   "cell_type": "code",
   "execution_count": null,
   "metadata": {},
   "outputs": [],
   "source": []
  },
  {
   "cell_type": "code",
   "execution_count": null,
   "metadata": {},
   "outputs": [],
   "source": []
  },
  {
   "cell_type": "code",
   "execution_count": null,
   "metadata": {},
   "outputs": [],
   "source": []
  },
  {
   "cell_type": "code",
   "execution_count": null,
   "metadata": {
    "ExecuteTime": {
     "end_time": "2022-05-15T14:46:33.944317Z",
     "start_time": "2022-05-15T14:46:33.944291Z"
    }
   },
   "outputs": [],
   "source": [
    "class TmpModule(TextIOModule):\n",
    "    pass\n",
    "\n",
    "class TmpModule2(PandasModule):\n",
    "    valid = False"
   ]
  },
  {
   "cell_type": "code",
   "execution_count": null,
   "metadata": {
    "ExecuteTime": {
     "end_time": "2022-05-15T14:46:33.946262Z",
     "start_time": "2022-05-15T14:46:33.946238Z"
    }
   },
   "outputs": [],
   "source": [
    "modules_info = { m.name : m for m in Module.registered_modules }### tmp\n",
    "if None in modules_info:\n",
    "    modules_info.pop(None)\n",
    "modules_info"
   ]
  },
  {
   "cell_type": "markdown",
   "metadata": {
    "ExecuteTime": {
     "end_time": "2021-03-31T01:10:00.127101Z",
     "start_time": "2021-03-31T01:10:00.121367Z"
    }
   },
   "source": [
    "textio keyは上書きされてしまう"
   ]
  },
  {
   "cell_type": "markdown",
   "metadata": {},
   "source": [
    "### test"
   ]
  },
  {
   "cell_type": "markdown",
   "metadata": {
    "ExecuteTime": {
     "end_time": "2022-06-07T16:37:13.759612Z",
     "start_time": "2022-06-07T16:37:13.745091Z"
    }
   },
   "source": [
    "from brane import IOManager as gio"
   ]
  },
  {
   "cell_type": "markdown",
   "metadata": {
    "ExecuteTime": {
     "end_time": "2022-06-07T16:37:14.864509Z",
     "start_time": "2022-06-07T16:37:14.821110Z"
    }
   },
   "source": [
    "xio.factory.activate()"
   ]
  },
  {
   "cell_type": "code",
   "execution_count": 19,
   "metadata": {
    "ExecuteTime": {
     "end_time": "2022-06-07T16:37:24.683432Z",
     "start_time": "2022-06-07T16:37:24.672687Z"
    },
    "scrolled": true
   },
   "outputs": [],
   "source": [
    "from brane.core.module import Module, NoneModule"
   ]
  },
  {
   "cell_type": "code",
   "execution_count": 20,
   "metadata": {
    "ExecuteTime": {
     "end_time": "2022-06-07T16:37:25.790258Z",
     "start_time": "2022-06-07T16:37:25.766093Z"
    }
   },
   "outputs": [
    {
     "data": {
      "text/plain": [
       "(False, True)"
      ]
     },
     "execution_count": 20,
     "metadata": {},
     "output_type": "execute_result"
    }
   ],
   "source": [
    "bool(NoneModule), bool(NoneModule())"
   ]
  },
  {
   "cell_type": "code",
   "execution_count": 21,
   "metadata": {
    "ExecuteTime": {
     "end_time": "2022-06-07T16:37:26.541929Z",
     "start_time": "2022-06-07T16:37:26.513728Z"
    }
   },
   "outputs": [
    {
     "data": {
      "text/plain": [
       "OrderedDict([('json', brane.core.module.JsonModule),\n",
       "             ('csv', brane.core.module.CsvModule),\n",
       "             ('pickle', brane.core.module.PickleModule),\n",
       "             ('Pillow', brane.core.module.PillowModule),\n",
       "             ('opencv-python', brane.core.module.CV2Module),\n",
       "             ('pandas', brane.core.module.PandasModule),\n",
       "             ('numpy', brane.core.module.NumpyModule),\n",
       "             ('numpz1', brane.core.module.Numpz1Module),\n",
       "             ('numpz2', brane.core.module.Numpz2Module),\n",
       "             ('PyYAML', brane.core.module.PyyamlModule),\n",
       "             ('toml', brane.core.module.TomlModule),\n",
       "             ('textio', brane.core.module.TextIOModule)])"
      ]
     },
     "execution_count": 21,
     "metadata": {},
     "output_type": "execute_result"
    }
   ],
   "source": [
    "Module.registered_modules"
   ]
  },
  {
   "cell_type": "markdown",
   "metadata": {},
   "source": [
    "#### test on module generated from config"
   ]
  },
  {
   "cell_type": "code",
   "execution_count": 5,
   "metadata": {
    "ExecuteTime": {
     "end_time": "2022-06-07T15:56:36.561099Z",
     "start_time": "2022-06-07T15:56:36.538362Z"
    }
   },
   "outputs": [],
   "source": [
    "JsonModule = Module.registered_modules[\"json\"]\n",
    "JsonModule.load_modules()"
   ]
  },
  {
   "cell_type": "code",
   "execution_count": 6,
   "metadata": {
    "ExecuteTime": {
     "end_time": "2022-06-07T15:56:37.838154Z",
     "start_time": "2022-06-07T15:56:37.824985Z"
    }
   },
   "outputs": [
    {
     "data": {
      "text/plain": [
       "{'a': 1, 'b': True, 'c': [1, 2, 3], 'd': {'e': None}}"
      ]
     },
     "execution_count": 6,
     "metadata": {},
     "output_type": "execute_result"
    }
   ],
   "source": [
    "JsonModule.read(path=\"./assets/dict.json\")"
   ]
  },
  {
   "cell_type": "code",
   "execution_count": 7,
   "metadata": {
    "ExecuteTime": {
     "end_time": "2022-06-07T15:56:38.742329Z",
     "start_time": "2022-06-07T15:56:38.718035Z"
    }
   },
   "outputs": [
    {
     "data": {
      "text/plain": [
       "{'a': 1, 'b': True, 'c': [1, 2, 3], 'd': {'e': None}}"
      ]
     },
     "execution_count": 7,
     "metadata": {},
     "output_type": "execute_result"
    }
   ],
   "source": [
    "with open(\"./assets/dict.json\", \"r\") as f:\n",
    "    tmp = JsonModule.read(file=f)\n",
    "tmp"
   ]
  },
  {
   "cell_type": "code",
   "execution_count": 8,
   "metadata": {
    "ExecuteTime": {
     "end_time": "2022-06-07T15:56:42.677232Z",
     "start_time": "2022-06-07T15:56:42.293886Z"
    }
   },
   "outputs": [],
   "source": [
    "PandasModule = Module.registered_modules[\"pandas\"]\n",
    "PandasModule.load_modules()"
   ]
  },
  {
   "cell_type": "code",
   "execution_count": 9,
   "metadata": {
    "ExecuteTime": {
     "end_time": "2022-06-07T15:56:42.698207Z",
     "start_time": "2022-06-07T15:56:42.679471Z"
    }
   },
   "outputs": [
    {
     "data": {
      "text/html": [
       "<div>\n",
       "<style scoped>\n",
       "    .dataframe tbody tr th:only-of-type {\n",
       "        vertical-align: middle;\n",
       "    }\n",
       "\n",
       "    .dataframe tbody tr th {\n",
       "        vertical-align: top;\n",
       "    }\n",
       "\n",
       "    .dataframe thead th {\n",
       "        text-align: right;\n",
       "    }\n",
       "</style>\n",
       "<table border=\"1\" class=\"dataframe\">\n",
       "  <thead>\n",
       "    <tr style=\"text-align: right;\">\n",
       "      <th></th>\n",
       "      <th>a</th>\n",
       "      <th>b</th>\n",
       "    </tr>\n",
       "  </thead>\n",
       "  <tbody>\n",
       "    <tr>\n",
       "      <th>0</th>\n",
       "      <td>1</td>\n",
       "      <td>-1</td>\n",
       "    </tr>\n",
       "    <tr>\n",
       "      <th>1</th>\n",
       "      <td>2</td>\n",
       "      <td>4</td>\n",
       "    </tr>\n",
       "    <tr>\n",
       "      <th>2</th>\n",
       "      <td>6</td>\n",
       "      <td>0</td>\n",
       "    </tr>\n",
       "  </tbody>\n",
       "</table>\n",
       "</div>"
      ],
      "text/plain": [
       "   a  b\n",
       "0  1 -1\n",
       "1  2  4\n",
       "2  6  0"
      ]
     },
     "execution_count": 9,
     "metadata": {},
     "output_type": "execute_result"
    }
   ],
   "source": [
    "PandasModule.read(\"./assets/df_tiny01.csv\")"
   ]
  },
  {
   "cell_type": "code",
   "execution_count": 82,
   "metadata": {
    "ExecuteTime": {
     "end_time": "2022-06-07T16:16:53.206157Z",
     "start_time": "2022-06-07T16:16:53.191678Z"
    }
   },
   "outputs": [],
   "source": [
    "CsvModule = Module.registered_modules[\"csv\"]\n",
    "CsvModule.load_modules()"
   ]
  },
  {
   "cell_type": "code",
   "execution_count": 83,
   "metadata": {
    "ExecuteTime": {
     "end_time": "2022-06-07T16:16:56.534825Z",
     "start_time": "2022-06-07T16:16:56.513380Z"
    }
   },
   "outputs": [],
   "source": [
    "df = CsvModule.read(\"./assets/df_tiny01.csv\")"
   ]
  },
  {
   "cell_type": "code",
   "execution_count": 84,
   "metadata": {
    "ExecuteTime": {
     "end_time": "2022-06-07T16:17:00.100524Z",
     "start_time": "2022-06-07T16:17:00.057496Z"
    }
   },
   "outputs": [],
   "source": [
    "CsvModule.write(df, \"./tmp_output/df_.csv\")"
   ]
  },
  {
   "cell_type": "code",
   "execution_count": 85,
   "metadata": {
    "ExecuteTime": {
     "end_time": "2022-06-07T16:17:00.838375Z",
     "start_time": "2022-06-07T16:17:00.688485Z"
    }
   },
   "outputs": [
    {
     "name": "stdout",
     "output_type": "stream",
     "text": [
      "a,b\r",
      "\r\n",
      "1,-1\r",
      "\r\n",
      "2,4\r",
      "\r\n",
      "6,0\r",
      "\r\n"
     ]
    }
   ],
   "source": [
    "!cat ./tmp_output/df_.csv"
   ]
  },
  {
   "cell_type": "code",
   "execution_count": 19,
   "metadata": {
    "ExecuteTime": {
     "end_time": "2022-06-07T15:57:53.486511Z",
     "start_time": "2022-06-07T15:57:53.471602Z"
    }
   },
   "outputs": [],
   "source": [
    "NumpyModule = Module.registered_modules[\"numpy\"]\n",
    "NumpyModule.load_modules()"
   ]
  },
  {
   "cell_type": "code",
   "execution_count": 22,
   "metadata": {
    "ExecuteTime": {
     "end_time": "2022-06-07T15:58:47.746667Z",
     "start_time": "2022-06-07T15:58:47.729834Z"
    }
   },
   "outputs": [],
   "source": [
    "import numpy as np"
   ]
  },
  {
   "cell_type": "code",
   "execution_count": 33,
   "metadata": {
    "ExecuteTime": {
     "end_time": "2022-06-07T16:04:30.105964Z",
     "start_time": "2022-06-07T16:04:30.075024Z"
    }
   },
   "outputs": [],
   "source": [
    "tmp1 = np.array([[1,2,3,4],[8,7,6,5]])\n",
    "tmp2 = np.array([[[0,1], [1,0]], [[1,1], [0,0]]])"
   ]
  },
  {
   "cell_type": "code",
   "execution_count": 45,
   "metadata": {
    "ExecuteTime": {
     "end_time": "2022-06-07T16:06:13.999999Z",
     "start_time": "2022-06-07T16:06:13.969866Z"
    }
   },
   "outputs": [],
   "source": [
    "np.save(\"./assets/array.npy\", tmp1)\n",
    "np.savez(\"./assets/array_seq.npz\", tmp1, tmp2)\n",
    "np.savez(\"./assets/array_map.npz\", **{\"x\": tmp1, \"y\": tmp2})"
   ]
  },
  {
   "cell_type": "code",
   "execution_count": 35,
   "metadata": {
    "ExecuteTime": {
     "end_time": "2022-06-07T16:04:42.785388Z",
     "start_time": "2022-06-07T16:04:42.747801Z"
    }
   },
   "outputs": [
    {
     "data": {
      "text/plain": [
       "array([[1, 2, 3, 4],\n",
       "       [8, 7, 6, 5]])"
      ]
     },
     "execution_count": 35,
     "metadata": {},
     "output_type": "execute_result"
    }
   ],
   "source": [
    "NumpyModule.read(\"./assets/array.npy\")"
   ]
  },
  {
   "cell_type": "code",
   "execution_count": 46,
   "metadata": {
    "ExecuteTime": {
     "end_time": "2022-06-07T16:06:16.527977Z",
     "start_time": "2022-06-07T16:06:16.496534Z"
    }
   },
   "outputs": [
    {
     "data": {
      "text/plain": [
       "{'x': array([[1, 2, 3, 4],\n",
       "        [8, 7, 6, 5]]),\n",
       " 'y': array([[[0, 1],\n",
       "         [1, 0]],\n",
       " \n",
       "        [[1, 1],\n",
       "         [0, 0]]])}"
      ]
     },
     "execution_count": 46,
     "metadata": {},
     "output_type": "execute_result"
    }
   ],
   "source": [
    "dict(NumpyModule.read(\"./assets/array_map.npz\"))"
   ]
  },
  {
   "cell_type": "code",
   "execution_count": 30,
   "metadata": {
    "ExecuteTime": {
     "end_time": "2022-06-07T16:00:12.157448Z",
     "start_time": "2022-06-07T16:00:12.142218Z"
    }
   },
   "outputs": [],
   "source": [
    "NumpyModule.write(tmp, \"./tmp_output/array.npy\")"
   ]
  },
  {
   "cell_type": "code",
   "execution_count": 65,
   "metadata": {
    "ExecuteTime": {
     "end_time": "2022-06-07T16:11:15.859988Z",
     "start_time": "2022-06-07T16:11:15.845682Z"
    }
   },
   "outputs": [],
   "source": [
    "NumpzModule = Module.registered_modules[\"numpz2\"]\n",
    "NumpzModule.load_modules()"
   ]
  },
  {
   "cell_type": "code",
   "execution_count": 67,
   "metadata": {
    "ExecuteTime": {
     "end_time": "2022-06-07T16:11:18.667255Z",
     "start_time": "2022-06-07T16:11:18.642727Z"
    }
   },
   "outputs": [
    {
     "data": {
      "text/plain": [
       "{'x': array([[1, 2, 3, 4],\n",
       "        [8, 7, 6, 5]]),\n",
       " 'y': array([[[0, 1],\n",
       "         [1, 0]],\n",
       " \n",
       "        [[1, 1],\n",
       "         [0, 0]]])}"
      ]
     },
     "execution_count": 67,
     "metadata": {},
     "output_type": "execute_result"
    }
   ],
   "source": [
    "NumpzModule.read(\"./assets/array_map.npz\")"
   ]
  },
  {
   "cell_type": "code",
   "execution_count": 11,
   "metadata": {
    "ExecuteTime": {
     "end_time": "2022-06-07T16:33:54.455768Z",
     "start_time": "2022-06-07T16:33:54.436522Z"
    }
   },
   "outputs": [],
   "source": [
    "TextIOModule = Module.registered_modules[\"textio\"]\n",
    "TextIOModule.load_modules()"
   ]
  },
  {
   "cell_type": "code",
   "execution_count": 7,
   "metadata": {
    "ExecuteTime": {
     "end_time": "2022-06-07T16:32:58.302440Z",
     "start_time": "2022-06-07T16:32:58.288542Z"
    }
   },
   "outputs": [],
   "source": [
    "tmp = \"\"\"abc\n",
    "def\n",
    "ghi\"\"\""
   ]
  },
  {
   "cell_type": "code",
   "execution_count": 12,
   "metadata": {
    "ExecuteTime": {
     "end_time": "2022-06-07T16:33:55.987883Z",
     "start_time": "2022-06-07T16:33:55.966780Z"
    }
   },
   "outputs": [],
   "source": [
    "TextIOModule.write(tmp, \"./assets/text.txt\")"
   ]
  },
  {
   "cell_type": "code",
   "execution_count": 13,
   "metadata": {
    "ExecuteTime": {
     "end_time": "2022-06-07T16:34:03.504635Z",
     "start_time": "2022-06-07T16:34:03.367272Z"
    }
   },
   "outputs": [
    {
     "name": "stdout",
     "output_type": "stream",
     "text": [
      "abc\r\n",
      "def\r\n",
      "ghi"
     ]
    }
   ],
   "source": [
    "!cat ./assets/text.txt"
   ]
  },
  {
   "cell_type": "code",
   "execution_count": 14,
   "metadata": {
    "ExecuteTime": {
     "end_time": "2022-06-07T16:34:12.650034Z",
     "start_time": "2022-06-07T16:34:12.627660Z"
    }
   },
   "outputs": [
    {
     "data": {
      "text/plain": [
       "'abc\\ndef\\nghi'"
      ]
     },
     "execution_count": 14,
     "metadata": {},
     "output_type": "execute_result"
    }
   ],
   "source": [
    "TextIOModule.read(\"./assets/text.txt\")"
   ]
  },
  {
   "cell_type": "code",
   "execution_count": 22,
   "metadata": {
    "ExecuteTime": {
     "end_time": "2022-06-07T16:37:53.078550Z",
     "start_time": "2022-06-07T16:37:53.042994Z"
    }
   },
   "outputs": [],
   "source": [
    "PickleModule = Module.registered_modules[\"pickle\"]\n",
    "PickleModule.load_modules()"
   ]
  },
  {
   "cell_type": "code",
   "execution_count": 30,
   "metadata": {
    "ExecuteTime": {
     "end_time": "2022-06-07T16:39:16.773744Z",
     "start_time": "2022-06-07T16:39:16.744167Z"
    }
   },
   "outputs": [
    {
     "data": {
      "text/plain": [
       "<__main__.A at 0x7f5a78077460>"
      ]
     },
     "execution_count": 30,
     "metadata": {},
     "output_type": "execute_result"
    }
   ],
   "source": [
    "class A():\n",
    "    def __init__(self, x):\n",
    "        self.x = x\n",
    "a = A(x=2)\n",
    "a"
   ]
  },
  {
   "cell_type": "code",
   "execution_count": 31,
   "metadata": {
    "ExecuteTime": {
     "end_time": "2022-06-07T16:39:17.528550Z",
     "start_time": "2022-06-07T16:39:17.510473Z"
    }
   },
   "outputs": [],
   "source": [
    "PickleModule.write(a, \"./assets/pyobj.pkl\")"
   ]
  },
  {
   "cell_type": "code",
   "execution_count": 32,
   "metadata": {
    "ExecuteTime": {
     "end_time": "2022-06-07T16:39:21.123409Z",
     "start_time": "2022-06-07T16:39:21.097285Z"
    }
   },
   "outputs": [
    {
     "data": {
      "text/plain": [
       "<__main__.A at 0x7f5a780896a0>"
      ]
     },
     "execution_count": 32,
     "metadata": {},
     "output_type": "execute_result"
    }
   ],
   "source": [
    "a_ = PickleModule.read(\"./assets/pyobj.pkl\")\n",
    "a_"
   ]
  },
  {
   "cell_type": "code",
   "execution_count": 33,
   "metadata": {
    "ExecuteTime": {
     "end_time": "2022-06-07T16:39:23.404697Z",
     "start_time": "2022-06-07T16:39:23.380787Z"
    }
   },
   "outputs": [
    {
     "data": {
      "text/plain": [
       "2"
      ]
     },
     "execution_count": 33,
     "metadata": {},
     "output_type": "execute_result"
    }
   ],
   "source": [
    "a_.x"
   ]
  },
  {
   "cell_type": "code",
   "execution_count": null,
   "metadata": {},
   "outputs": [],
   "source": []
  },
  {
   "cell_type": "markdown",
   "metadata": {},
   "source": [
    "### working"
   ]
  },
  {
   "cell_type": "code",
   "execution_count": 88,
   "metadata": {
    "ExecuteTime": {
     "end_time": "2022-05-15T17:40:55.134150Z",
     "start_time": "2022-05-15T17:40:53.950081Z"
    }
   },
   "outputs": [
    {
     "name": "stdout",
     "output_type": "stream",
     "text": [
      "[DEBUG]: in MetaFormat default_extension=None class_info={'__module__': 'core.format', '__qualname__': 'Format', '__annotations__': {'default_extension': 'Optional[str]', 'variation': 'list[str]'}, 'data_type': None, 'default_extension': None, '_registered_subclasses': {}, 'registered_formats': {}, 'variation': [None], 'check_extension': <classmethod object at 0x7fb3778d1e80>, 'name': None}\n",
      "[DEBUG]: register cls.name = None, cls = <class 'core.format.Format'>\n",
      "[DEBUG]: in MetaFormat default_extension=None class_info={'__module__': 'core.format', '__qualname__': 'NoneFormat', 'valid': False, 'name': None, 'variation': [None]}\n",
      "[DEBUG]: in MetaFormat default_extension=None class_info={'__module__': 'brane.core.format', '__qualname__': 'Format', '__annotations__': {'default_extension': 'Optional[str]', 'variation': 'list[str]'}, 'data_type': None, 'default_extension': None, '_registered_subclasses': {}, 'registered_formats': {}, 'variation': [None], 'check_extension': <classmethod object at 0x7fb3778d1e20>, 'name': None}\n",
      "[DEBUG]: register cls.name = None, cls = <class 'brane.core.format.Format'>\n",
      "[DEBUG]: in MetaFormat default_extension=None class_info={'__module__': 'brane.core.format', '__qualname__': 'NoneFormat', 'valid': False, 'name': None, 'variation': [None]}\n"
     ]
    }
   ],
   "source": [
    "import importlib"
   ]
  },
  {
   "cell_type": "code",
   "execution_count": null,
   "metadata": {},
   "outputs": [],
   "source": [
    "m = importlib.import_module(\"Pillow\")"
   ]
  },
  {
   "cell_type": "code",
   "execution_count": 94,
   "metadata": {
    "ExecuteTime": {
     "end_time": "2022-05-17T17:28:30.507213Z",
     "start_time": "2022-05-17T17:28:30.455363Z"
    }
   },
   "outputs": [],
   "source": [
    "m = importlib.import_module(\"PIL.Image\")"
   ]
  },
  {
   "cell_type": "code",
   "execution_count": 98,
   "metadata": {
    "ExecuteTime": {
     "end_time": "2022-05-17T17:28:47.804916Z",
     "start_time": "2022-05-17T17:28:47.771567Z"
    }
   },
   "outputs": [
    {
     "data": {
      "text/plain": [
       "True"
      ]
     },
     "execution_count": 98,
     "metadata": {},
     "output_type": "execute_result"
    }
   ],
   "source": [
    "m == Image"
   ]
  },
  {
   "cell_type": "code",
   "execution_count": 100,
   "metadata": {
    "ExecuteTime": {
     "end_time": "2022-05-17T17:29:04.926367Z",
     "start_time": "2022-05-17T17:29:04.887408Z"
    }
   },
   "outputs": [],
   "source": [
    "import PIL"
   ]
  },
  {
   "cell_type": "code",
   "execution_count": 97,
   "metadata": {
    "ExecuteTime": {
     "end_time": "2022-05-17T17:28:44.741061Z",
     "start_time": "2022-05-17T17:28:44.712145Z"
    }
   },
   "outputs": [],
   "source": [
    "from PIL import Image"
   ]
  },
  {
   "cell_type": "code",
   "execution_count": null,
   "metadata": {},
   "outputs": [],
   "source": []
  },
  {
   "cell_type": "code",
   "execution_count": 90,
   "metadata": {
    "ExecuteTime": {
     "end_time": "2022-05-15T17:42:08.126896Z",
     "start_time": "2022-05-15T17:42:08.090535Z"
    }
   },
   "outputs": [
    {
     "data": {
      "text/plain": [
       "'pandas'"
      ]
     },
     "execution_count": 90,
     "metadata": {},
     "output_type": "execute_result"
    }
   ],
   "source": [
    "m = importlib.import_module('pandas')\n",
    "m.__name__"
   ]
  },
  {
   "cell_type": "code",
   "execution_count": 92,
   "metadata": {
    "ExecuteTime": {
     "end_time": "2022-05-15T17:42:18.808050Z",
     "start_time": "2022-05-15T17:42:18.772037Z"
    }
   },
   "outputs": [
    {
     "data": {
      "text/plain": [
       "pandas.core.frame.DataFrame"
      ]
     },
     "execution_count": 92,
     "metadata": {},
     "output_type": "execute_result"
    }
   ],
   "source": [
    "m.DataFrame"
   ]
  },
  {
   "cell_type": "code",
   "execution_count": null,
   "metadata": {},
   "outputs": [],
   "source": []
  },
  {
   "cell_type": "code",
   "execution_count": null,
   "metadata": {},
   "outputs": [],
   "source": [
    "\n",
    "n = importlib.import_module('bar.some') # -> 'module'\n",
    "n.__name__ # -> 'bar.some'\n"
   ]
  },
  {
   "cell_type": "code",
   "execution_count": 89,
   "metadata": {
    "ExecuteTime": {
     "end_time": "2022-05-15T17:41:13.799929Z",
     "start_time": "2022-05-15T17:41:13.759988Z"
    }
   },
   "outputs": [
    {
     "data": {
      "text/plain": [
       "<module 'importlib.resources' from '/home/noriaki/.anyenv/envs/pyenv/versions/3.9.12/lib/python3.9/importlib/resources.py'>"
      ]
     },
     "execution_count": 89,
     "metadata": {},
     "output_type": "execute_result"
    }
   ],
   "source": [
    "importlib.resources"
   ]
  },
  {
   "cell_type": "code",
   "execution_count": null,
   "metadata": {},
   "outputs": [],
   "source": []
  },
  {
   "cell_type": "code",
   "execution_count": null,
   "metadata": {},
   "outputs": [],
   "source": []
  },
  {
   "cell_type": "code",
   "execution_count": null,
   "metadata": {
    "ExecuteTime": {
     "end_time": "2022-05-15T14:46:33.962933Z",
     "start_time": "2022-05-15T14:46:33.962905Z"
    }
   },
   "outputs": [],
   "source": [
    "super(PILModule.__class__)"
   ]
  },
  {
   "cell_type": "code",
   "execution_count": null,
   "metadata": {
    "ExecuteTime": {
     "end_time": "2022-05-15T14:46:33.964538Z",
     "start_time": "2022-05-15T14:46:33.964514Z"
    }
   },
   "outputs": [],
   "source": [
    "Module.__subclasses__()"
   ]
  },
  {
   "cell_type": "code",
   "execution_count": null,
   "metadata": {
    "ExecuteTime": {
     "end_time": "2022-05-15T14:46:33.966510Z",
     "start_time": "2022-05-15T14:46:33.966485Z"
    }
   },
   "outputs": [],
   "source": [
    "def get_all_descendant_nodes(parent_node, get_child_nodes, depth=0):\n",
    "    # max_recursion\n",
    "    # remove duplices ?\n",
    "    # how will we treat in the case of not-DAG i.e. cyclic graphs ?\n",
    "    # メモ化（child nodeが2つ以上のparent nodeを持つ場合、2回探索されてしまう）\n",
    "    \n",
    "    all_descendant_nodes = []\n",
    "    children_nodes = get_child_nodes(parent_node)\n",
    "    for child_node in children_nodes:\n",
    "        all_descendant_nodes.extend( get_all_descendant_nodes(child_node, get_child_nodes=get_child_nodes, depth=depth+1) + [(child_node, depth+1)] )\n",
    "\n",
    "    return all_descendant_nodes\n",
    "    #if len(children_nodes) > 0:\n",
    "    #    return all_descendant_nodes\n",
    "    #else:\n",
    "    #    return [parent_node]"
   ]
  },
  {
   "cell_type": "code",
   "execution_count": null,
   "metadata": {
    "ExecuteTime": {
     "end_time": "2022-05-15T14:46:33.968099Z",
     "start_time": "2022-05-15T14:46:33.968065Z"
    }
   },
   "outputs": [],
   "source": [
    "get_all_descendant_nodes(Module, lambda cls: cls.__subclasses__())"
   ]
  },
  {
   "cell_type": "code",
   "execution_count": null,
   "metadata": {
    "ExecuteTime": {
     "end_time": "2022-05-15T14:46:33.969659Z",
     "start_time": "2022-05-15T14:46:33.969635Z"
    }
   },
   "outputs": [],
   "source": [
    "Module.__subclasses__"
   ]
  },
  {
   "cell_type": "code",
   "execution_count": null,
   "metadata": {
    "ExecuteTime": {
     "end_time": "2022-05-15T14:46:33.972700Z",
     "start_time": "2022-05-15T14:46:33.972673Z"
    },
    "scrolled": true
   },
   "outputs": [],
   "source": [
    "PILModule.mro()"
   ]
  },
  {
   "cell_type": "code",
   "execution_count": null,
   "metadata": {},
   "outputs": [],
   "source": []
  },
  {
   "cell_type": "code",
   "execution_count": null,
   "metadata": {
    "ExecuteTime": {
     "end_time": "2022-05-15T14:46:33.974063Z",
     "start_time": "2022-05-15T14:46:33.974040Z"
    }
   },
   "outputs": [],
   "source": [
    "def f1(*args_, **kwargs_):\n",
    "    def f2(func):\n",
    "        def f3(*args, **kwargs)\n",
    "            func(*args, )"
   ]
  },
  {
   "cell_type": "markdown",
   "metadata": {},
   "source": [
    "PandaModule.read_generator({\"sep\":\" \"}) => pd.read_csv(*, sep=\" \")\n",
    "でcsvとtsv両方に対応できるようにする"
   ]
  },
  {
   "cell_type": "code",
   "execution_count": null,
   "metadata": {},
   "outputs": [],
   "source": []
  },
  {
   "cell_type": "code",
   "execution_count": null,
   "metadata": {
    "ExecuteTime": {
     "end_time": "2022-05-15T14:46:33.975742Z",
     "start_time": "2022-05-15T14:46:33.975716Z"
    }
   },
   "outputs": [],
   "source": [
    "class Tmp():\n",
    "    __a = []\n",
    "    _b = []\n",
    "class Tmp2(Tmp):\n",
    "    @classmethod\n",
    "    def f(cls):\n",
    "        return cls.__a\n",
    "    @classmethod\n",
    "    def g(cls):\n",
    "        return cls.__b"
   ]
  },
  {
   "cell_type": "code",
   "execution_count": null,
   "metadata": {
    "ExecuteTime": {
     "end_time": "2022-05-15T14:46:33.977079Z",
     "start_time": "2022-05-15T14:46:33.977055Z"
    }
   },
   "outputs": [],
   "source": [
    "Tmp._Tmp__a"
   ]
  },
  {
   "cell_type": "code",
   "execution_count": null,
   "metadata": {
    "ExecuteTime": {
     "end_time": "2022-05-15T14:46:33.978559Z",
     "start_time": "2022-05-15T14:46:33.978536Z"
    }
   },
   "outputs": [],
   "source": [
    "Tmp2._Tmp__a"
   ]
  },
  {
   "cell_type": "code",
   "execution_count": null,
   "metadata": {
    "ExecuteTime": {
     "end_time": "2022-05-15T14:46:33.980299Z",
     "start_time": "2022-05-15T14:46:33.980269Z"
    }
   },
   "outputs": [],
   "source": [
    "Tmp2._Tmp2__a"
   ]
  },
  {
   "cell_type": "code",
   "execution_count": null,
   "metadata": {
    "ExecuteTime": {
     "end_time": "2022-05-15T14:46:33.981748Z",
     "start_time": "2022-05-15T14:46:33.981724Z"
    }
   },
   "outputs": [],
   "source": [
    "Tmp2.f()"
   ]
  },
  {
   "cell_type": "code",
   "execution_count": null,
   "metadata": {},
   "outputs": [],
   "source": []
  },
  {
   "cell_type": "code",
   "execution_count": null,
   "metadata": {
    "ExecuteTime": {
     "end_time": "2022-05-15T14:46:33.985923Z",
     "start_time": "2022-05-15T14:46:33.985891Z"
    }
   },
   "outputs": [],
   "source": [
    "df = pd.DataFrame({\"a\":[1], \"b\":[\"a\\\"a,\"], \"c\":[None], \"d\": [{\"a\":2}], \"e\": [lambda x:x]})"
   ]
  },
  {
   "cell_type": "code",
   "execution_count": null,
   "metadata": {
    "ExecuteTime": {
     "end_time": "2022-05-15T14:46:33.988879Z",
     "start_time": "2022-05-15T14:46:33.988851Z"
    }
   },
   "outputs": [],
   "source": [
    "df"
   ]
  },
  {
   "cell_type": "code",
   "execution_count": null,
   "metadata": {
    "ExecuteTime": {
     "end_time": "2022-05-15T14:46:33.991175Z",
     "start_time": "2022-05-15T14:46:33.991149Z"
    }
   },
   "outputs": [],
   "source": [
    "df.to_csv(\"./df_test.csv\", index=None)"
   ]
  },
  {
   "cell_type": "code",
   "execution_count": null,
   "metadata": {
    "ExecuteTime": {
     "end_time": "2022-05-15T14:46:33.993892Z",
     "start_time": "2022-05-15T14:46:33.993866Z"
    }
   },
   "outputs": [],
   "source": [
    "def check_characters_inclusion(target_chars):\n",
    "    def check_characters_inclusion_(x):\n",
    "        set_x = set(str(x))\n",
    "        return { t: t in set_x for t in target_chars }\n",
    "    return check_characters_inclusion_\n",
    "\n",
    "target_chars = (\",\", \"\\t\")\n",
    "df_check = df.applymap(check_characters_inclusion(target_chars))\n",
    "char2inclusion = {}\n",
    "for char in target_chars:\n",
    "    df_ = df_check.applymap(lambda x: x[char])\n",
    "    char2inclusion.update({ char: df_.any(axis=0).any() })"
   ]
  },
  {
   "cell_type": "code",
   "execution_count": null,
   "metadata": {
    "ExecuteTime": {
     "end_time": "2022-05-15T14:46:33.996196Z",
     "start_time": "2022-05-15T14:46:33.996170Z"
    }
   },
   "outputs": [],
   "source": [
    "char2inclusion"
   ]
  },
  {
   "cell_type": "code",
   "execution_count": null,
   "metadata": {
    "ExecuteTime": {
     "end_time": "2022-05-15T14:46:34.000262Z",
     "start_time": "2022-05-15T14:46:34.000234Z"
    }
   },
   "outputs": [],
   "source": [
    "df.to_csv()"
   ]
  },
  {
   "cell_type": "code",
   "execution_count": null,
   "metadata": {
    "ExecuteTime": {
     "end_time": "2022-05-15T14:46:34.003719Z",
     "start_time": "2022-05-15T14:46:34.003690Z"
    }
   },
   "outputs": [],
   "source": [
    "!cat ./df_test.csv"
   ]
  },
  {
   "cell_type": "code",
   "execution_count": null,
   "metadata": {
    "ExecuteTime": {
     "end_time": "2022-05-15T14:46:34.005870Z",
     "start_time": "2022-05-15T14:46:34.005845Z"
    }
   },
   "outputs": [],
   "source": [
    "df2 = pd.read_csv(\"./df_test.csv\")"
   ]
  },
  {
   "cell_type": "code",
   "execution_count": null,
   "metadata": {
    "ExecuteTime": {
     "end_time": "2022-05-15T14:46:34.008752Z",
     "start_time": "2022-05-15T14:46:34.008726Z"
    }
   },
   "outputs": [],
   "source": [
    "df2"
   ]
  },
  {
   "cell_type": "code",
   "execution_count": null,
   "metadata": {
    "ExecuteTime": {
     "end_time": "2022-05-15T14:46:34.010817Z",
     "start_time": "2022-05-15T14:46:34.010792Z"
    }
   },
   "outputs": [],
   "source": [
    "type(df2[\"e\"].iloc[0])"
   ]
  },
  {
   "cell_type": "code",
   "execution_count": null,
   "metadata": {},
   "outputs": [],
   "source": []
  },
  {
   "cell_type": "code",
   "execution_count": null,
   "metadata": {
    "ExecuteTime": {
     "end_time": "2022-05-15T14:46:34.018656Z",
     "start_time": "2022-05-15T14:46:34.018629Z"
    }
   },
   "outputs": [],
   "source": [
    "df.dtypes"
   ]
  },
  {
   "cell_type": "code",
   "execution_count": null,
   "metadata": {
    "ExecuteTime": {
     "end_time": "2022-05-15T14:46:34.020565Z",
     "start_time": "2022-05-15T14:46:34.020538Z"
    }
   },
   "outputs": [],
   "source": [
    "generate_params_write\n",
    "def check_csv_or_tsv(df, pd.DataFrame):# pd.Series\n",
    "    for "
   ]
  },
  {
   "cell_type": "code",
   "execution_count": null,
   "metadata": {},
   "outputs": [],
   "source": []
  },
  {
   "cell_type": "code",
   "execution_count": null,
   "metadata": {
    "ExecuteTime": {
     "end_time": "2022-05-15T14:46:34.023023Z",
     "start_time": "2022-05-15T14:46:34.022993Z"
    }
   },
   "outputs": [],
   "source": [
    "import io"
   ]
  },
  {
   "cell_type": "code",
   "execution_count": null,
   "metadata": {
    "ExecuteTime": {
     "end_time": "2022-05-15T14:46:34.025695Z",
     "start_time": "2022-05-15T14:46:34.025667Z"
    }
   },
   "outputs": [],
   "source": [
    "f = open(\"./tmp.csv\", \"r\")\n",
    "type(f)"
   ]
  },
  {
   "cell_type": "code",
   "execution_count": null,
   "metadata": {
    "ExecuteTime": {
     "end_time": "2022-05-15T14:46:34.027774Z",
     "start_time": "2022-05-15T14:46:34.027748Z"
    }
   },
   "outputs": [],
   "source": [
    "isinstance(f, io.TextIOWrapper)"
   ]
  },
  {
   "cell_type": "code",
   "execution_count": null,
   "metadata": {
    "ExecuteTime": {
     "end_time": "2022-05-15T14:46:34.029806Z",
     "start_time": "2022-05-15T14:46:34.029779Z"
    }
   },
   "outputs": [],
   "source": [
    "f.close()"
   ]
  },
  {
   "cell_type": "code",
   "execution_count": 29,
   "metadata": {
    "ExecuteTime": {
     "end_time": "2022-05-15T14:46:34.091314Z",
     "start_time": "2022-05-15T14:46:34.033527Z"
    }
   },
   "outputs": [
    {
     "ename": "FileNotFoundError",
     "evalue": "[Errno 2] No such file or directory: './tmp.csv'",
     "output_type": "error",
     "traceback": [
      "\u001b[0;31m---------------------------------------------------------------------------\u001b[0m",
      "\u001b[0;31mFileNotFoundError\u001b[0m                         Traceback (most recent call last)",
      "Input \u001b[0;32mIn [29]\u001b[0m, in \u001b[0;36m<cell line: 1>\u001b[0;34m()\u001b[0m\n\u001b[0;32m----> 1\u001b[0m f \u001b[38;5;241m=\u001b[39m \u001b[38;5;28;43mopen\u001b[39;49m\u001b[43m(\u001b[49m\u001b[38;5;124;43m\"\u001b[39;49m\u001b[38;5;124;43m./tmp.csv\u001b[39;49m\u001b[38;5;124;43m\"\u001b[39;49m\u001b[43m,\u001b[49m\u001b[43m \u001b[49m\u001b[38;5;124;43m\"\u001b[39;49m\u001b[38;5;124;43mrb\u001b[39;49m\u001b[38;5;124;43m\"\u001b[39;49m\u001b[43m)\u001b[49m\n",
      "\u001b[0;31mFileNotFoundError\u001b[0m: [Errno 2] No such file or directory: './tmp.csv'"
     ]
    }
   ],
   "source": [
    "f = open(\"./tmp.csv\", \"rb\")"
   ]
  },
  {
   "cell_type": "code",
   "execution_count": null,
   "metadata": {
    "ExecuteTime": {
     "end_time": "2022-05-15T14:46:34.094090Z",
     "start_time": "2022-05-15T14:46:34.094067Z"
    }
   },
   "outputs": [],
   "source": [
    "type(f)"
   ]
  },
  {
   "cell_type": "code",
   "execution_count": null,
   "metadata": {
    "ExecuteTime": {
     "end_time": "2022-05-15T14:46:34.096209Z",
     "start_time": "2022-05-15T14:46:34.096184Z"
    }
   },
   "outputs": [],
   "source": [
    "isinstance(f, io.BufferedReader)"
   ]
  },
  {
   "cell_type": "code",
   "execution_count": null,
   "metadata": {
    "ExecuteTime": {
     "end_time": "2022-05-15T14:46:34.097912Z",
     "start_time": "2022-05-15T14:46:34.097888Z"
    }
   },
   "outputs": [],
   "source": [
    "f.close()"
   ]
  },
  {
   "cell_type": "code",
   "execution_count": null,
   "metadata": {},
   "outputs": [],
   "source": []
  },
  {
   "cell_type": "markdown",
   "metadata": {},
   "source": [
    "### backup"
   ]
  },
  {
   "cell_type": "markdown",
   "metadata": {},
   "source": [
    "\n",
    "    #sequence_unpacking_for_obj: bool = False\n",
    "    #mapping_unpacking_for_obj: bool = False\n",
    "\n",
    "    # temporal arg name # unnecessary ?\n",
    "    # require_file_stream_read = False\n"
   ]
  },
  {
   "cell_type": "markdown",
   "metadata": {},
   "source": [
    "\n",
    "        \n",
    "        module_write_method_name -> module_write_method_name\n",
    "        writer_method_name\n",
    "        object_unpacking_type\n",
    "        file_arg_first\n",
    "         -> file_keyword_at_write\n",
    "        obj_keyword_at_write -> obj_keyword_at_write"
   ]
  },
  {
   "cell_type": "markdown",
   "metadata": {
    "ExecuteTime": {
     "end_time": "2022-06-04T18:59:01.740232Z",
     "start_time": "2022-06-04T18:59:01.668623Z"
    }
   },
   "source": [
    "        if cls.module_method_write:\n",
    "            if cls.writer_method_name:\n",
    "                writer = cls.write_method(file, *args_write, **kwargs_write)\n",
    "                if hasattr(writer, cls.writer_method_name):\n",
    "                    #if cls.sequence_unpacking_for_obj:\n",
    "                    getattr(writer, cls.writer_method_name)(obj)\n",
    "                else:\n",
    "                    raise AttributeError\n",
    "            else:# use both file and obj\n",
    "                if cls.file_arg_first:\n",
    "                    cls.write_method(file, obj, *args_write, **kwargs_write)\n",
    "                else:\n",
    "                    cls.write_method(obj, file, *args_write, **kwargs_write)\n",
    "        elif cls.object_method_write:\n",
    "            if hasattr(obj, cls.object_method_write):\n",
    "                getattr(obj, cls.object_method_write)(file, *args_write, **kwargs_write)\n",
    "            else:\n",
    "                raise AttributeError\n",
    "        else:\n",
    "            raise NotImplementedError\n",
    "\n",
    "            + file_arg_first is True\n",
    "            + module_method_write\n",
    "            -> (A-a-3)\n",
    "            + module_method_write\n",
    "            + file_arg_first is True\n",
    "            + object_unpacking_type == 'mapping'\n",
    "\n",
    "            + module_method_write\n",
    "            + file_arg_first is False\n",
    "            + module_method_write\n",
    "            + file_arg_first is False\n",
    "            + object_unpacking_type == 'sequence'\n",
    "\n",
    "            + module_method_write\n",
    "            + file_arg_first is False\n",
    "            + module_method_write\n",
    "            + file_arg_first is False\n",
    "            + object_unpacking_type == 'sequence'\n",
    "            + module_method_write\n",
    "            + file_arg_first is False\n",
    "            + object_unpacking_type == 'mapping'\n",
    "\n",
    "            + "
   ]
  },
  {
   "cell_type": "code",
   "execution_count": null,
   "metadata": {},
   "outputs": [],
   "source": []
  },
  {
   "cell_type": "code",
   "execution_count": null,
   "metadata": {},
   "outputs": [],
   "source": [
    "\n",
    "    #registered_modules = _registered_subclasses\n",
    "\n",
    "    # [ToDo]: define class-propetry or dynamical attibutes by using meta class\n",
    "    #@property\n",
    "    #def registered_modules(cls):\n",
    "    #    return [ c for c in cls.__registered_subclasses if c != cls ]\n",
    "    \n",
    "    # def __init_subclass__(cls):\n",
    "    #     #super().__init_subclass__()\n",
    "    #     #super(cls).__class__.registered_modules.append(cls)\n",
    "    #     #print(cls)\n",
    "    #     if cls.valid:\n",
    "    #         cls.registered_modules.append(cls)\n",
    "    #     # これだと継承クラス全体でregistered_moduleをシェア\n",
    "        \n",
    "    #def __init__(self):\n",
    "    #    self.registered_modules = []\n",
    "    #def __init_subclass__(cls):\n",
    "    #    print(super())\n",
    "    #    super().registered_modules.append(cls)\n",
    "\n",
    "    # # if False, not register the module\n",
    "    # valid = True# temporal arg name\n",
    "    # #@property\n",
    "    # #def valid(self):\n",
    "    # #    return self._valid"
   ]
  },
  {
   "cell_type": "markdown",
   "metadata": {},
   "source": [
    "    #### libs\n",
    "* pyyaml"
   ]
  },
  {
   "cell_type": "code",
   "execution_count": 26,
   "metadata": {
    "ExecuteTime": {
     "end_time": "2022-05-24T18:54:51.154643Z",
     "start_time": "2022-05-24T18:54:51.129770Z"
    },
    "scrolled": true
   },
   "outputs": [
    {
     "name": "stdout",
     "output_type": "stream",
     "text": [
      "Overwriting ./brane/libs/modules.py\n"
     ]
    }
   ],
   "source": [
    "%%writefile {LIB_MODULE_PY}\n",
    "from __future__ import annotations\n",
    "import os\n",
    "import yaml"
   ]
  },
  {
   "cell_type": "code",
   "execution_count": 27,
   "metadata": {
    "ExecuteTime": {
     "end_time": "2022-05-24T18:54:51.841735Z",
     "start_time": "2022-05-24T18:54:51.369610Z"
    }
   },
   "outputs": [],
   "source": [
    "!echo '{generate_import(TYPE_PY, \"*\")}' >> {LIB_MODULE_PY}\n",
    "!echo '{generate_import(MODULE_PY, \"Module\")}' >> {LIB_MODULE_PY}\n",
    "!echo 'CORE_MODULE_CONFIG_PATH = os.path.abspath(os.path.join(__file__, \"../../../\", \"{MODULE_CFG_CORE}\"))' >> {LIB_MODULE_PY}\n",
    "!echo 'THIRDPARTY_MODULE_CONFIG_PATH = os.path.abspath(os.path.join(__file__, \"../../../\", \"{MODULE_CFG_THIRDPARTY}\"))' >> {LIB_MODULE_PY}"
   ]
  },
  {
   "cell_type": "code",
   "execution_count": 28,
   "metadata": {
    "ExecuteTime": {
     "end_time": "2022-05-24T18:54:51.857103Z",
     "start_time": "2022-05-24T18:54:51.844819Z"
    }
   },
   "outputs": [
    {
     "name": "stdout",
     "output_type": "stream",
     "text": [
      "Appending to ./brane/libs/modules.py\n"
     ]
    }
   ],
   "source": [
    "%%writefile -a {LIB_MODULE_PY}\n",
    "\n",
    "def load_brane_modules():\n",
    "    cfg_core: dict = {}\n",
    "    if os.path.exists(CORE_MODULE_CONFIG_PATH):\n",
    "        with open(CORE_MODULE_CONFIG_PATH, \"r\") as f:\n",
    "            cfg_core = yaml.safe_load(f)\n",
    "\n",
    "    cfg_thirdparty: dict = {}\n",
    "    if os.path.exists(THIRDPARTY_MODULE_CONFIG_PATH):\n",
    "        with open(THIRDPARTY_MODULE_CONFIG_PATH, \"r\") as f:\n",
    "            cfg_thirdparty = yaml.safe_load(f)\n",
    "\n",
    "    className2Module: dict[str, type] = {\n",
    "        **{\n",
    "            class_name: type(f\"{class_name}Module\", (Module, ), attributes)\n",
    "            for class_name, attributes in cfg_core.items()\n",
    "        },\n",
    "        **{\n",
    "            class_name: type(f\"{class_name}Module\", (Module, ), attributes)\n",
    "            for class_name, attributes in cfg_thirdparty.items()\n",
    "        }\n",
    "    }\n",
    "    return className2Module\n",
    "\n",
    "className2Module = load_brane_modules()"
   ]
  },
  {
   "cell_type": "markdown",
   "metadata": {
    "ExecuteTime": {
     "end_time": "2022-05-24T18:54:51.871275Z",
     "start_time": "2022-05-24T18:54:51.859387Z"
    }
   },
   "source": [
    "%%writefile -a {LIB_MODULE_PY}\n",
    "import sys\n",
    "print(sys.path)\n",
    "print(CORE_MODULE_CONFIG_PATH)"
   ]
  },
  {
   "cell_type": "code",
   "execution_count": 137,
   "metadata": {
    "ExecuteTime": {
     "end_time": "2022-05-17T18:02:09.020411Z",
     "start_time": "2022-05-17T18:02:08.997837Z"
    }
   },
   "outputs": [
    {
     "name": "stdout",
     "output_type": "stream",
     "text": [
      "Appending to ./brane/libs/modules.py\n"
     ]
    }
   ],
   "source": [
    "%%writefile -a {LIB_MODULE_PY}\n",
    "\n",
    "class PILModule(Module):\n",
    "    name = \"Pillow\"\n",
    "    module_name = \"PIL.Image\"\n",
    "\n",
    "    module_method_read = \"open\"\n",
    "\n",
    "    object_method_write = \"save\"\n",
    "\n",
    "class CV2Module(Module):\n",
    "    module_name = \"cv2\"\n",
    "    \n",
    "    module_method_read = \"imread\"\n",
    "\n",
    "    module_method_write = \"imwrite\"\n",
    "    file_arg_first = True\n",
    "\n",
    "class PandasModule(Module):\n",
    "    module_name = \"pandas\"\n",
    "\n",
    "    module_method_read = \"read_csv\"\n",
    "\n",
    "    object_method_write = \"to_csv\"\n",
    "    base_kwargs_write = {\"index\":None}\n",
    "\n",
    "class JsonModule(Module):\n",
    "    module_name = \"json\"\n",
    "\n",
    "    base_kwargs_write = {\"indent\":2}\n",
    "\n",
    "    @classmethod\n",
    "    def read(cls, file, *args, **kwargs):\n",
    "        import json\n",
    "        with open(file, \"r\") as f:\n",
    "            obj = json.load(fp=f, *args, **kwargs)\n",
    "        return obj\n",
    "\n",
    "    @classmethod\n",
    "    def write(cls, obj, file, *args, **kwargs):\n",
    "        import json\n",
    "        with open(file, \"w\") as f:\n",
    "            json.dump(obj=obj, fp=f, *args, **kwargs)\n",
    "        return True###\n",
    "\n",
    "class TextIOModule(Module):\n",
    "    name = \"textio\"###\n",
    "    loaded = True\n",
    "\n",
    "    @classmethod\n",
    "    def read(cls, file, *args, **kwargs):\n",
    "        with open(file, \"r\") as f:\n",
    "            text = f.readlines(*args, **kwargs)\n",
    "        return text\n",
    "\n",
    "    @classmethod\n",
    "    def write(cls, obj, file, *args, **kwargs):\n",
    "        with open(file, \"w\") as f:\n",
    "            f.writelines(text, *args, **kwargs)\n",
    "        return True###\n"
   ]
  },
  {
   "cell_type": "code",
   "execution_count": null,
   "metadata": {},
   "outputs": [],
   "source": []
  },
  {
   "cell_type": "markdown",
   "metadata": {},
   "source": [
    "## Format"
   ]
  },
  {
   "cell_type": "markdown",
   "metadata": {},
   "source": [
    "* TODO:\n",
    "    * formatもpriorityで優先順位を制御\n",
    "        * Pandas vs CSV"
   ]
  },
  {
   "cell_type": "markdown",
   "metadata": {},
   "source": [
    "### definition"
   ]
  },
  {
   "cell_type": "markdown",
   "metadata": {},
   "source": [
    "#### core"
   ]
  },
  {
   "cell_type": "markdown",
   "metadata": {},
   "source": [
    "abstractclassについては、nameをregisterしないようにできないか？"
   ]
  },
  {
   "cell_type": "code",
   "execution_count": 17,
   "metadata": {
    "ExecuteTime": {
     "end_time": "2022-06-08T17:30:29.942499Z",
     "start_time": "2022-06-08T17:30:29.916455Z"
    },
    "scrolled": true
   },
   "outputs": [
    {
     "name": "stdout",
     "output_type": "stream",
     "text": [
      "Overwriting ./brane/core/format.py\n"
     ]
    }
   ],
   "source": [
    "%%writefile {FORMAT_PY}\n",
    "from __future__ import annotations"
   ]
  },
  {
   "cell_type": "code",
   "execution_count": 18,
   "metadata": {
    "ExecuteTime": {
     "end_time": "2022-06-08T17:30:30.499374Z",
     "start_time": "2022-06-08T17:30:30.140717Z"
    }
   },
   "outputs": [],
   "source": [
    "!echo '{generate_import(TYPE_PY, \"*  # noqa: F403\")}' >> {FORMAT_PY}\n",
    "!echo '{generate_import(BASE_PY, \"BaseSubclassRegister\")}' >> {FORMAT_PY}\n",
    "!echo '{generate_import(BASE_PY, \"MetaFalse\")}' >> {FORMAT_PY}"
   ]
  },
  {
   "cell_type": "code",
   "execution_count": 19,
   "metadata": {
    "ExecuteTime": {
     "end_time": "2022-06-08T17:30:30.524505Z",
     "start_time": "2022-06-08T17:30:30.503061Z"
    }
   },
   "outputs": [
    {
     "name": "stdout",
     "output_type": "stream",
     "text": [
      "Appending to ./brane/core/format.py\n"
     ]
    }
   ],
   "source": [
    "%%writefile -a {FORMAT_PY}\n",
    "\n",
    "\n",
    "def normalize_extension_default(ext: str) -> str:\n",
    "    return ext.strip().lower()\n",
    "\n",
    "\n",
    "class MetaFormat(type):\n",
    "    def __new__(cls, classname: str, bases: tuple[type], class_info: dict):\n",
    "        new_class_info: dict = class_info.copy()\n",
    "        default_extension: Optional[str] = class_info.get(\"default_extension\", None)\n",
    "        if new_class_info.get(\"name\", None) is None:\n",
    "            new_class_info[\"name\"] = default_extension\n",
    "        if default_extension not in class_info.get(\"variation\", []):\n",
    "            new_class_info.setdefault(\"variation\", []).append(default_extension)\n",
    "\n",
    "        print(f\"[DEBUG]: in MetaFormat default_extension={default_extension} class_info={new_class_info}\")\n",
    "        return type.__new__(cls, classname, bases, new_class_info)\n",
    "\n",
    "    # [TODO] python>=3.9, move to class as classmethod property\n",
    "    @property\n",
    "    def registered_formats(cls) -> dict:\n",
    "        return cls._registered_subclasses\n",
    "\n",
    "class Format(FormatClassType, BaseSubclassRegister, metaclass=MetaFormat):\n",
    "    _registered_subclasses = {}\n",
    "    priority = 50\n",
    "    # valid = True\n",
    "\n",
    "    # # Image, Text ... # experimental\n",
    "    # data_type = None\n",
    "    # jpg, png, tsv,... (flexible/variable/dynamical)\n",
    "    default_extension: Optional[str] = None\n",
    "    variation: list[str] = []  # variations ? // use tuple instead of list or replace later ?\n",
    "\n",
    "    @classmethod\n",
    "    def check_extension(cls, ext: str) -> bool:\n",
    "        ext_normalized: str = normalize_extension_default(ext)\n",
    "        return ext_normalized in cls.variation\n",
    "\n",
    "class MetaNoneFormat(MetaFormat, MetaFalse):  # [MEMO]: deprecated after removing MetaFormat\n",
    "    pass\n",
    "\n",
    "class NoneFormat(Format, metaclass=MetaNoneFormat):\n",
    "    valid = False"
   ]
  },
  {
   "cell_type": "markdown",
   "metadata": {},
   "source": [
    "#### config"
   ]
  },
  {
   "cell_type": "code",
   "execution_count": 20,
   "metadata": {
    "ExecuteTime": {
     "end_time": "2022-06-08T17:30:32.399051Z",
     "start_time": "2022-06-08T17:30:32.380366Z"
    }
   },
   "outputs": [
    {
     "name": "stdout",
     "output_type": "stream",
     "text": [
      "Overwriting ./config/formats/core.yaml\n"
     ]
    }
   ],
   "source": [
    "%%writefile {FORMAT_CFG_CORE}\n",
    "TXT:\n",
    "    default_extension: txt\n",
    "    module_name: TextIO\n",
    "\n",
    "CSV_builtin:\n",
    "    default_extension: csv\n",
    "    module_name: Csv\n",
    "    priority: 10\n",
    "\n",
    "JSON:\n",
    "    default_extension: json\n",
    "    module_name: Json\n",
    "\n",
    "PKL:\n",
    "    default_extension: pkl\n",
    "    module_name: Pickle"
   ]
  },
  {
   "cell_type": "code",
   "execution_count": 21,
   "metadata": {
    "ExecuteTime": {
     "end_time": "2022-06-08T17:30:32.646781Z",
     "start_time": "2022-06-08T17:30:32.632272Z"
    }
   },
   "outputs": [
    {
     "name": "stdout",
     "output_type": "stream",
     "text": [
      "Overwriting ./config/formats/basic.yaml\n"
     ]
    }
   ],
   "source": [
    "%%writefile {FORMAT_CFG_THIRDPARTY}\n",
    "PNG:\n",
    "    default_extension: png\n",
    "    module_name: Pillow\n",
    "\n",
    "JPEG:\n",
    "    default_extension: jpeg\n",
    "    variation:\n",
    "        - jpg\n",
    "    module_name: Pillow\n",
    "\n",
    "CSV:\n",
    "    default_extension: csv\n",
    "    module_name: Pandas\n",
    "\n",
    "TSV:\n",
    "    default_extension: tsv\n",
    "    module_name: Pandas\n",
    "\n",
    "TOML:\n",
    "    default_extension: toml\n",
    "    module_name: Toml\n",
    "\n",
    "YAML:\n",
    "    default_extension: yaml\n",
    "    variation:\n",
    "        - yml\n",
    "    module_name: Pyyaml\n",
    "\n",
    "NPY:\n",
    "    default_extension: npy\n",
    "    module_name: Numpy\n",
    "\n",
    "NPZ:\n",
    "    default_extension: npz\n",
    "    module_name: Numpy"
   ]
  },
  {
   "cell_type": "markdown",
   "metadata": {},
   "source": [
    "### test"
   ]
  },
  {
   "cell_type": "code",
   "execution_count": 68,
   "metadata": {
    "ExecuteTime": {
     "end_time": "2022-06-07T16:49:31.174025Z",
     "start_time": "2022-06-07T16:49:31.160783Z"
    }
   },
   "outputs": [
    {
     "name": "stdout",
     "output_type": "stream",
     "text": [
      "[DEBUG]: in MetaFormat default_extension=None class_info={'__module__': 'brane.core.format', '__qualname__': 'Format', '__annotations__': {'default_extension': 'Optional[str]', 'variation': 'list[str]'}, '_registered_subclasses': {}, 'priority': 50, 'default_extension': None, 'variation': [None], 'check_extension': <classmethod object at 0x7f5a7830b0d0>, 'name': None}\n",
      "[DEBUG]: register cls.name = None, cls = <class 'brane.core.format.Format'>\n",
      "[DEBUG]: in MetaFormat default_extension=None class_info={'__module__': 'brane.core.format', '__qualname__': 'NoneFormat', 'valid': False, 'name': None, 'variation': [None]}\n"
     ]
    }
   ],
   "source": [
    "from brane.core.format import Format"
   ]
  },
  {
   "cell_type": "markdown",
   "metadata": {},
   "source": [
    "### working"
   ]
  },
  {
   "cell_type": "code",
   "execution_count": 19,
   "metadata": {
    "ExecuteTime": {
     "end_time": "2022-05-18T15:17:43.378568Z",
     "start_time": "2022-05-18T15:17:43.349327Z"
    }
   },
   "outputs": [
    {
     "name": "stdout",
     "output_type": "stream",
     "text": [
      "Appending to ./brane/libs/formats.py\n"
     ]
    }
   ],
   "source": [
    "%%writefile -a {LIB_FORMAT_PY}\n",
    "class DataType():\n",
    "    pass\n",
    "\n",
    "class ImageType():\n",
    "    pass\n",
    "\n",
    "class TableType():\n",
    "    pass\n",
    "\n",
    "class ArrayType():# List\n",
    "    pass\n",
    "\n",
    "class CollectionType():# other data containers\n",
    "    pass\n",
    "\n",
    "class DictType():# Map\n",
    "    pass\n",
    "\n",
    "class TextType():\n",
    "    pass"
   ]
  },
  {
   "cell_type": "code",
   "execution_count": null,
   "metadata": {},
   "outputs": [],
   "source": []
  },
  {
   "cell_type": "code",
   "execution_count": null,
   "metadata": {},
   "outputs": [],
   "source": [
    "{\n",
    "    \"PNG\": dict(\n",
    "        data_type = ImageType,\n",
    "        default_extension = \"png\",\n",
    "        module = PILModule,\n",
    "    )\n",
    "}"
   ]
  },
  {
   "cell_type": "code",
   "execution_count": null,
   "metadata": {},
   "outputs": [],
   "source": []
  },
  {
   "cell_type": "code",
   "execution_count": 44,
   "metadata": {
    "ExecuteTime": {
     "end_time": "2022-05-15T14:46:37.719916Z",
     "start_time": "2022-05-15T14:46:37.694395Z"
    },
    "scrolled": true
   },
   "outputs": [
    {
     "data": {
      "text/plain": [
       "{None: brane.core.format.Format,\n",
       " 'jpg': brane.libs.formats.JPEGFormat,\n",
       " 'tsv': brane.libs.formats.TSVFormat,\n",
       " 'csv': brane.libs.formats.CSVFormat,\n",
       " 'png': brane.core.format.PNGFormat,\n",
       " 'json': brane.core.format.JsonFormat}"
      ]
     },
     "execution_count": 44,
     "metadata": {},
     "output_type": "execute_result"
    }
   ],
   "source": [
    "Format.registered_formats"
   ]
  },
  {
   "cell_type": "markdown",
   "metadata": {},
   "source": [
    "### backup"
   ]
  },
  {
   "cell_type": "code",
   "execution_count": null,
   "metadata": {},
   "outputs": [],
   "source": [
    "\n",
    "    #registered_formats = _registered_subclasses\n",
    "    # registered_formats = []\n",
    "    # def __init_subclass__(cls):\n",
    "    #     if cls.valid:\n",
    "    #         cls.registered_formats.append(cls)\n",
    "    #     # これだと継承クラス全体でregistered_moduleをシェア\n",
    "    \n",
    "    # valid for python >= 3.9\n",
    "    # [TODO]: remove metaclass and use the follwoing lines if python < 3.9 are forbidden\n",
    "    # @classmethod\n",
    "    # @property\n",
    "    # def name(cls):\n",
    "    #     return cls.default_extension\n"
   ]
  },
  {
   "cell_type": "markdown",
   "metadata": {},
   "source": [
    "    #### libs"
   ]
  },
  {
   "cell_type": "code",
   "execution_count": 9,
   "metadata": {
    "ExecuteTime": {
     "end_time": "2022-06-01T15:11:38.101190Z",
     "start_time": "2022-06-01T15:11:38.088171Z"
    },
    "scrolled": true
   },
   "outputs": [
    {
     "name": "stdout",
     "output_type": "stream",
     "text": [
      "Overwriting ./brane/libs/formats.py\n"
     ]
    }
   ],
   "source": [
    "%%writefile {LIB_FORMAT_PY}\n",
    "from __future__ import annotations\n",
    "import os\n",
    "import yaml"
   ]
  },
  {
   "cell_type": "code",
   "execution_count": 10,
   "metadata": {
    "ExecuteTime": {
     "end_time": "2022-06-01T15:11:39.098062Z",
     "start_time": "2022-06-01T15:11:38.743913Z"
    }
   },
   "outputs": [],
   "source": [
    "!echo '{generate_import(TYPE_PY, \"*\")}' >> {LIB_FORMAT_PY}\n",
    "!echo '{generate_import(FORMAT_PY, \"Format\")}' >> {LIB_FORMAT_PY}\n",
    "!echo '{generate_import(LIB_MODULE_PY, \"className2Module\")}' >> {LIB_FORMAT_PY}"
   ]
  },
  {
   "cell_type": "code",
   "execution_count": 11,
   "metadata": {
    "ExecuteTime": {
     "end_time": "2022-06-01T15:11:39.347870Z",
     "start_time": "2022-06-01T15:11:39.101259Z"
    }
   },
   "outputs": [],
   "source": [
    "!echo 'CORE_FORMAT_CONFIG_PATH = os.path.abspath(os.path.join(__file__, \"../../../\", \"{FORMAT_CFG_CORE}\"))' >> {LIB_FORMAT_PY}\n",
    "!echo 'THIRDPARTY_FORMAT_CONFIG_PATH = os.path.abspath(os.path.join(__file__, \"../../../\", \"{FORMAT_CFG_THIRDPARTY}\"))' >> {LIB_FORMAT_PY}"
   ]
  },
  {
   "cell_type": "code",
   "execution_count": 12,
   "metadata": {
    "ExecuteTime": {
     "end_time": "2022-06-01T15:11:39.756276Z",
     "start_time": "2022-06-01T15:11:39.738704Z"
    }
   },
   "outputs": [
    {
     "name": "stdout",
     "output_type": "stream",
     "text": [
      "Appending to ./brane/libs/formats.py\n"
     ]
    }
   ],
   "source": [
    "%%writefile -a {LIB_FORMAT_PY}\n",
    "\n",
    "def load_brane_formats():\n",
    "    cfg_core: dict = {}\n",
    "    if os.path.exists(CORE_FORMAT_CONFIG_PATH):\n",
    "        with open(CORE_FORMAT_CONFIG_PATH, \"r\") as f:\n",
    "            cfg_core = yaml.safe_load(f)\n",
    "\n",
    "    cfg_thirdparty: dict = {}\n",
    "    if os.path.exists(THIRDPARTY_FORMAT_CONFIG_PATH):\n",
    "        with open(THIRDPARTY_FORMAT_CONFIG_PATH, \"r\") as f:\n",
    "            cfg_thirdparty = yaml.safe_load(f)\n",
    "\n",
    "    def update_attributes(attributes: dict) -> dict:\n",
    "        attributes = attributes.copy()\n",
    "        if attributes.get(\"module\", None) is None and attributes.get(\"module_name\", None) is not None:\n",
    "            attributes[\"module\"] = className2Module.get(attributes[\"module_name\"], None)\n",
    "        return attributes\n",
    "\n",
    "    className2Format: dict[str, type] = {\n",
    "        **{\n",
    "            class_name: type(f\"{class_name}Format\", (Format, ), update_attributes(attributes))\n",
    "            for class_name, attributes in cfg_core.items()\n",
    "        },\n",
    "        **{\n",
    "            class_name: type(f\"{class_name}Format\", (Format, ), update_attributes(attributes))\n",
    "            for class_name, attributes in cfg_thirdparty.items()\n",
    "        }\n",
    "    }\n",
    "    return className2Format\n",
    "\n",
    "className2Format = load_brane_formats()"
   ]
  },
  {
   "cell_type": "code",
   "execution_count": 73,
   "metadata": {
    "ExecuteTime": {
     "end_time": "2022-05-31T17:20:31.848284Z",
     "start_time": "2022-05-31T17:20:31.387460Z"
    }
   },
   "outputs": [
    {
     "name": "stdout",
     "output_type": "stream",
     "text": [
      "[DEBUG]: in MetaFormat default_extension=jpg class_info={'__module__': 'brane.libs.formats', '__qualname__': 'JPEGFormat', 'name': 'JPEG', 'default_extension': 'jpg', 'variation': ['jpeg', 'jpg'], 'module': <class 'brane.core.module.PillowModule'>}\n",
      "[DEBUG]: overwritten cls.name = JPEG, cls = <class 'brane.libs.formats.JPEGFormat'>\n",
      "[DEBUG]: in MetaFormat default_extension=csv class_info={'__module__': 'brane.libs.formats', '__qualname__': 'CSVFormat', 'default_extension': 'csv', 'module': <class 'brane.core.module.PandasModule'>, 'name': 'csv', 'variation': ['csv']}\n",
      "[DEBUG]: overwritten cls.name = csv, cls = <class 'brane.libs.formats.CSVFormat'>\n",
      "Appending to ./brane/libs/formats.py\n"
     ]
    }
   ],
   "source": [
    "%%writefile -a {LIB_FORMAT_PY}\n",
    "\n",
    "def create_format_class(name: str, default_extension: str, module: ModuleClassType, variation: list[str] = []):#, data_type=None):\n",
    "    attributes = dict(\n",
    "        name = name,\n",
    "        #data_type = data_type,\n",
    "        default_extension = default_extension,\n",
    "        module = module,\n",
    "    )\n",
    "    #if name is None:\n",
    "    #    name = default_extension\n",
    "    return type(f\"{name}Format\", (Format, ), attributes)\n",
    "\n",
    "className2Format = {\n",
    "    \"JPEG\": JPEGFormat,\n",
    "    \"CSV\": CSVFormat,\n",
    "    **{\n",
    "        name: create_format_class(name=name, **params)\n",
    "        for name, params in format_data.items()\n",
    "    },\n",
    "}"
   ]
  },
  {
   "cell_type": "code",
   "execution_count": 71,
   "metadata": {
    "ExecuteTime": {
     "end_time": "2022-05-31T17:20:29.657141Z",
     "start_time": "2022-05-31T17:20:29.637716Z"
    }
   },
   "outputs": [
    {
     "name": "stdout",
     "output_type": "stream",
     "text": [
      "Appending to ./brane/libs/formats.py\n"
     ]
    }
   ],
   "source": [
    "%%writefile -a {LIB_FORMAT_PY}\n",
    "\n",
    "class JPEGFormat(Format):\n",
    "    name = \"JPEG\"\n",
    "    #data_type = ImageType\n",
    "    default_extension = \"jpg\"\n",
    "    variation = [\"jpeg\"]\n",
    "    module = className2Module[\"Pillow\"]\n",
    "\n",
    "class CSVFormat(Format):\n",
    "    name = \"CSV\"\n",
    "    #data_type = TableType\n",
    "    default_extension = \"csv\"\n",
    "    module = className2Module[\"Pandas\"]"
   ]
  },
  {
   "cell_type": "code",
   "execution_count": 72,
   "metadata": {
    "ExecuteTime": {
     "end_time": "2022-05-31T17:20:31.384571Z",
     "start_time": "2022-05-31T17:20:31.102998Z"
    }
   },
   "outputs": [
    {
     "name": "stdout",
     "output_type": "stream",
     "text": [
      "[DEBUG]: in MetaFormat default_extension=jpg class_info={'__module__': 'brane.libs.formats', '__qualname__': 'JPEGFormat', 'name': 'JPEG', 'default_extension': 'jpg', 'variation': ['jpeg', 'jpg'], 'module': <class 'brane.core.module.PillowModule'>}\n",
      "[DEBUG]: overwritten cls.name = JPEG, cls = <class 'brane.libs.formats.JPEGFormat'>\n",
      "[DEBUG]: in MetaFormat default_extension=csv class_info={'__module__': 'brane.libs.formats', '__qualname__': 'CSVFormat', 'default_extension': 'csv', 'module': <class 'brane.core.module.PandasModule'>, 'name': 'csv', 'variation': ['csv']}\n",
      "[DEBUG]: overwritten cls.name = csv, cls = <class 'brane.libs.formats.CSVFormat'>\n",
      "Appending to ./brane/libs/formats.py\n"
     ]
    }
   ],
   "source": [
    "%%writefile -a {LIB_FORMAT_PY}\n",
    "#from brane.core.format import create_format_class\n",
    "\n",
    "# [alternative (class generation from config)]\n",
    "format_data = {\n",
    "    \"PNG\": dict(\n",
    "        #data_type = ImageType,\n",
    "        default_extension = \"png\",\n",
    "        module = className2Module[\"Pillow\"],\n",
    "    ),\n",
    "    \"JSON\": dict(\n",
    "        #data_type = DictType,\n",
    "        default_extension = \"json\",\n",
    "        module = className2Module[\"Json\"],\n",
    "    ),\n",
    "    \"TSV\": dict(\n",
    "        #data_type = TableType,\n",
    "        default_extension = \"tsv\",\n",
    "        module = className2Module[\"Pandas\"],\n",
    "    ),\n",
    "}\n"
   ]
  },
  {
   "cell_type": "markdown",
   "metadata": {},
   "source": [
    "## Objects"
   ]
  },
  {
   "cell_type": "markdown",
   "metadata": {},
   "source": [
    "* Yaml, Toml, Numpy/z, Textの追加"
   ]
  },
  {
   "cell_type": "markdown",
   "metadata": {},
   "source": [
    "### definition"
   ]
  },
  {
   "cell_type": "markdown",
   "metadata": {},
   "source": [
    "#### core"
   ]
  },
  {
   "cell_type": "code",
   "execution_count": 22,
   "metadata": {
    "ExecuteTime": {
     "end_time": "2022-06-08T17:30:36.547636Z",
     "start_time": "2022-06-08T17:30:36.522766Z"
    }
   },
   "outputs": [
    {
     "name": "stdout",
     "output_type": "stream",
     "text": [
      "Overwriting ./brane/core/object.py\n"
     ]
    }
   ],
   "source": [
    "%%writefile {OBJECT_PY}\n",
    "from __future__ import annotations"
   ]
  },
  {
   "cell_type": "code",
   "execution_count": 23,
   "metadata": {
    "ExecuteTime": {
     "end_time": "2022-06-08T17:30:37.007721Z",
     "start_time": "2022-06-08T17:30:36.768295Z"
    }
   },
   "outputs": [],
   "source": [
    "!echo '{generate_import(TYPE_PY, \"*  # noqa: F403\")}' >> {OBJECT_PY}\n",
    "!echo '{generate_import(BASE_PY, \"BaseSubclassRegister\")}' >> {OBJECT_PY}"
   ]
  },
  {
   "cell_type": "code",
   "execution_count": 24,
   "metadata": {
    "ExecuteTime": {
     "end_time": "2022-06-08T17:30:37.052893Z",
     "start_time": "2022-06-08T17:30:37.033315Z"
    }
   },
   "outputs": [
    {
     "name": "stdout",
     "output_type": "stream",
     "text": [
      "Appending to ./brane/core/object.py\n"
     ]
    }
   ],
   "source": [
    "%%writefile -a {OBJECT_PY}\n",
    "import importlib\n",
    "\n",
    "\n",
    "class MetaObject(type):\n",
    "    def __new__(cls, classname, bases, class_info):\n",
    "        #print(f\"[DEBUG]: @MetaObject, cls={cls}, classname={classname} bases={bases}, class_info={class_info}\")\n",
    "        new_class_info = class_info.copy()\n",
    "        if \"name\" not in class_info:\n",
    "            new_class_info[\"name\"] = classname#class_info.get(\"__name__\", None)\n",
    "        return type.__new__(cls, classname, bases, new_class_info)\n",
    "\n",
    "    # [TODO] python>=3.9, move to class as classmethod property\n",
    "    @property\n",
    "    def object(cls):\n",
    "        cls.load_objects()\n",
    "        print(\"@Meta:\", cls)\n",
    "        return cls.object_type\n",
    "\n",
    "    # [TODO] python>=3.9, move to class as classmethod property\n",
    "    @property\n",
    "    def registered_objects(cls):\n",
    "        return cls._registered_subclasses\n",
    "\n",
    "class Object(ObjectClassType, BaseSubclassRegister, metaclass=MetaObject):\n",
    "    _registered_subclasses: dict = {}\n",
    "    priority = 50\n",
    "\n",
    "    format: Optional[FormatClassType] = None  # required\n",
    "    module: Optional[ModuleClassType] = None  # required\n",
    "    # registered_objects が自身を含むため、仮で設定 (定義しておかないと、get_module_from_objectで、Object.objectにアクセスしようとして怒られてしまう)\n",
    "    object_type = type  ### [ARG]] should change the attribute name ?\n",
    "    object_type_info = None  ### [TODO]: change the attribute name\n",
    "    \n",
    "    # optional\n",
    "    type_evaluation = None\n",
    "    format_checker = None\n",
    "    module_checker = None\n",
    "\n",
    "    @classmethod\n",
    "    def load_objects(cls):\n",
    "        if cls.object_type_info:\n",
    "            module_name, *obj_attr = cls.object_type_info\n",
    "            module = importlib.import_module(module_name)\n",
    "            obj = module\n",
    "            for attr in obj_attr:\n",
    "                obj = getattr(obj, attr)\n",
    "            cls.object_type = obj"
   ]
  },
  {
   "cell_type": "markdown",
   "metadata": {},
   "source": [
    "#### config"
   ]
  },
  {
   "cell_type": "code",
   "execution_count": 25,
   "metadata": {
    "ExecuteTime": {
     "end_time": "2022-06-08T17:30:38.730569Z",
     "start_time": "2022-06-08T17:30:38.716576Z"
    },
    "scrolled": true
   },
   "outputs": [
    {
     "name": "stdout",
     "output_type": "stream",
     "text": [
      "Overwriting ./config/objects/core.yaml\n"
     ]
    }
   ],
   "source": [
    "%%writefile {OBJECT_CFG_CORE}\n",
    "TextIO_TXT:\n",
    "    format_name: TXT\n",
    "    module_name: TextIO\n",
    "    object_type_info:\n",
    "        - builtins\n",
    "        - str\n",
    "    priority: 50\n",
    "\n",
    "Pickle_PKL:\n",
    "    format_name: PKL\n",
    "    module_name: Pickle\n",
    "    object_type_info:\n",
    "        - builtins\n",
    "        - object\n",
    "    priority: 0\n",
    "\n",
    "\n",
    "Csv_CSV:\n",
    "    format_name: CSV\n",
    "    module_name: Csv\n",
    "    object_type_info:\n",
    "        - builtins\n",
    "        - list\n",
    "    priority: 10\n",
    "\n",
    "Json_JSON:\n",
    "    format_name: JSON\n",
    "    module_name: Json\n",
    "    object_type_info:\n",
    "        - builtins\n",
    "        - dict\n",
    "    priority: 10"
   ]
  },
  {
   "cell_type": "code",
   "execution_count": 26,
   "metadata": {
    "ExecuteTime": {
     "end_time": "2022-06-08T17:30:38.985338Z",
     "start_time": "2022-06-08T17:30:38.968907Z"
    }
   },
   "outputs": [
    {
     "name": "stdout",
     "output_type": "stream",
     "text": [
      "Overwriting ./config/objects/basic.yaml\n"
     ]
    }
   ],
   "source": [
    "%%writefile {OBJECT_CFG_THIRDPARTY}\n",
    "PIL_Image:\n",
    "    format_name: JPEG\n",
    "    module_name: Pillow\n",
    "    object_type_info:\n",
    "        - PIL.Image\n",
    "        - Image\n",
    "    priority: 80\n",
    "\n",
    "PIL_JPEG:\n",
    "    format_name: JPEG\n",
    "    module_name: Pillow\n",
    "    object_type_info:\n",
    "        - PIL.JpegImagePlugin\n",
    "        - JpegImageFile\n",
    "    priority: 90\n",
    "\n",
    "PIL_PNG:\n",
    "    format_name: PNG\n",
    "    module_name: Pillow\n",
    "    object_type_info:\n",
    "        - PIL.PngImagePlugin\n",
    "        - PngImageFile\n",
    "    priority: 90\n",
    "\n",
    "Pandas_DataFrame:\n",
    "    format_name: CSV\n",
    "    module_name: Pandas\n",
    "    object_type_info:\n",
    "        - pandas\n",
    "        - DataFrame\n",
    "    priority: 90"
   ]
  },
  {
   "cell_type": "markdown",
   "metadata": {},
   "source": [
    "? delete PIL_Image class"
   ]
  },
  {
   "cell_type": "markdown",
   "metadata": {},
   "source": [
    "### test"
   ]
  },
  {
   "cell_type": "code",
   "execution_count": 12,
   "metadata": {
    "ExecuteTime": {
     "end_time": "2022-05-31T17:11:12.195635Z",
     "start_time": "2022-05-31T17:11:12.160451Z"
    },
    "scrolled": true
   },
   "outputs": [],
   "source": [
    "from brane.core.object import Object"
   ]
  },
  {
   "cell_type": "code",
   "execution_count": 13,
   "metadata": {
    "ExecuteTime": {
     "end_time": "2022-05-31T17:11:12.595101Z",
     "start_time": "2022-05-31T17:11:12.569510Z"
    }
   },
   "outputs": [
    {
     "data": {
      "text/plain": [
       "{'Object': brane.core.object.Object,\n",
       " 'Pandas_DataFrame_Object': brane.libs.objects.Pandas_DataFrame_Object,\n",
       " 'JSON_JSON_Object': brane.core.object.JSON_JSON_Object,\n",
       " 'PIL_Image_Object': brane.core.object.PIL_Image_Object,\n",
       " 'PIL_JPEG_Object': brane.core.object.PIL_JPEG_Object,\n",
       " 'PIL_PNG_Object': brane.core.object.PIL_PNG_Object}"
      ]
     },
     "execution_count": 13,
     "metadata": {},
     "output_type": "execute_result"
    }
   ],
   "source": [
    "Object.registered_objects"
   ]
  },
  {
   "cell_type": "code",
   "execution_count": 16,
   "metadata": {
    "ExecuteTime": {
     "end_time": "2022-05-15T14:52:31.314695Z",
     "start_time": "2022-05-15T14:52:31.294709Z"
    }
   },
   "outputs": [
    {
     "name": "stdout",
     "output_type": "stream",
     "text": [
      "[DEBUG]: register cls.name = PIL_Image_Object, cls = <class 'brane.libs.objects.PIL_Image_Object'>\n",
      "[DEBUG]: register cls.name = PIL_JPEG_Object, cls = <class 'brane.libs.objects.PIL_JPEG_Object'>\n",
      "[DEBUG]: register cls.name = PIL_PNG_Object, cls = <class 'brane.libs.objects.PIL_PNG_Object'>\n",
      "[DEBUG]: register cls.name = Pandas_DataFrame_Object, cls = <class 'brane.libs.objects.Pandas_DataFrame_Object'>\n",
      "[DEBUG]: register cls.name = Json_Json_Object, cls = <class 'brane.libs.objects.Json_Json_Object'>\n"
     ]
    }
   ],
   "source": [
    "from brane.libs.objects import Pandas_DataFrame_Object"
   ]
  },
  {
   "cell_type": "code",
   "execution_count": 17,
   "metadata": {
    "ExecuteTime": {
     "end_time": "2022-05-15T14:52:32.556255Z",
     "start_time": "2022-05-15T14:52:32.512681Z"
    }
   },
   "outputs": [
    {
     "data": {
      "text/plain": [
       "{'Object': brane.core.object.Object,\n",
       " 'PIL_Image_Object': brane.libs.objects.PIL_Image_Object,\n",
       " 'PIL_JPEG_Object': brane.libs.objects.PIL_JPEG_Object,\n",
       " 'PIL_PNG_Object': brane.libs.objects.PIL_PNG_Object,\n",
       " 'Pandas_DataFrame_Object': brane.libs.objects.Pandas_DataFrame_Object,\n",
       " 'Json_Json_Object': brane.libs.objects.Json_Json_Object}"
      ]
     },
     "execution_count": 17,
     "metadata": {},
     "output_type": "execute_result"
    }
   ],
   "source": [
    "Object.registered_objects"
   ]
  },
  {
   "cell_type": "code",
   "execution_count": null,
   "metadata": {
    "ExecuteTime": {
     "end_time": "2022-05-15T14:46:37.782043Z",
     "start_time": "2022-05-15T14:46:37.782020Z"
    }
   },
   "outputs": [],
   "source": [
    "Pandas_DataFrame_Object.name"
   ]
  },
  {
   "cell_type": "code",
   "execution_count": null,
   "metadata": {
    "ExecuteTime": {
     "end_time": "2022-05-15T14:46:37.784823Z",
     "start_time": "2022-05-15T14:46:37.784795Z"
    }
   },
   "outputs": [],
   "source": [
    "Pandas_DataFrame_Object.object_type, Pandas_DataFrame_Object.object"
   ]
  },
  {
   "cell_type": "code",
   "execution_count": null,
   "metadata": {
    "ExecuteTime": {
     "end_time": "2022-05-15T14:46:37.787569Z",
     "start_time": "2022-05-15T14:46:37.787547Z"
    }
   },
   "outputs": [],
   "source": [
    "Pandas_DataFrame_Object.object_type"
   ]
  },
  {
   "cell_type": "code",
   "execution_count": null,
   "metadata": {},
   "outputs": [],
   "source": []
  },
  {
   "cell_type": "code",
   "execution_count": null,
   "metadata": {},
   "outputs": [],
   "source": []
  },
  {
   "cell_type": "code",
   "execution_count": 6,
   "metadata": {
    "ExecuteTime": {
     "end_time": "2022-05-29T10:39:39.068567Z",
     "start_time": "2022-05-29T10:39:39.027329Z"
    }
   },
   "outputs": [],
   "source": [
    "from brane.libs.objects import className2Object"
   ]
  },
  {
   "cell_type": "code",
   "execution_count": 7,
   "metadata": {
    "ExecuteTime": {
     "end_time": "2022-05-29T10:39:41.020072Z",
     "start_time": "2022-05-29T10:39:40.992003Z"
    }
   },
   "outputs": [
    {
     "data": {
      "text/plain": [
       "dict_keys(['JSON_JSON', 'PIL_Image', 'PIL_JPEG', 'PIL_PNG'])"
      ]
     },
     "execution_count": 7,
     "metadata": {},
     "output_type": "execute_result"
    }
   ],
   "source": [
    "className2Object.keys()"
   ]
  },
  {
   "cell_type": "code",
   "execution_count": 8,
   "metadata": {
    "ExecuteTime": {
     "end_time": "2022-05-29T10:39:41.222047Z",
     "start_time": "2022-05-29T10:39:41.201671Z"
    }
   },
   "outputs": [],
   "source": [
    "from brane.core.object import Object"
   ]
  },
  {
   "cell_type": "code",
   "execution_count": 9,
   "metadata": {
    "ExecuteTime": {
     "end_time": "2022-05-29T10:39:41.436161Z",
     "start_time": "2022-05-29T10:39:41.419957Z"
    }
   },
   "outputs": [
    {
     "data": {
      "text/plain": [
       "{'Object': brane.core.object.Object,\n",
       " 'Pandas_DataFrame_Object': brane.libs.objects.Pandas_DataFrame_Object,\n",
       " 'JSON_JSON_Object': brane.core.object.JSON_JSON_Object,\n",
       " 'PIL_Image_Object': brane.core.object.PIL_Image_Object,\n",
       " 'PIL_JPEG_Object': brane.core.object.PIL_JPEG_Object,\n",
       " 'PIL_PNG_Object': brane.core.object.PIL_PNG_Object}"
      ]
     },
     "execution_count": 9,
     "metadata": {},
     "output_type": "execute_result"
    }
   ],
   "source": [
    "Object.registered_objects"
   ]
  },
  {
   "cell_type": "code",
   "execution_count": 10,
   "metadata": {
    "ExecuteTime": {
     "end_time": "2022-05-29T10:39:42.263296Z",
     "start_time": "2022-05-29T10:39:42.246800Z"
    }
   },
   "outputs": [],
   "source": [
    "from brane.core.mapper import ObjectFormat2Module"
   ]
  },
  {
   "cell_type": "code",
   "execution_count": 11,
   "metadata": {
    "ExecuteTime": {
     "end_time": "2022-05-29T10:39:43.526058Z",
     "start_time": "2022-05-29T10:39:42.998305Z"
    }
   },
   "outputs": [
    {
     "name": "stdout",
     "output_type": "stream",
     "text": [
      "@Meta: <class 'brane.core.object.Object'>\n",
      "@Meta: <class 'brane.libs.objects.Pandas_DataFrame_Object'>\n",
      "@Meta: <class 'brane.core.object.JSON_JSON_Object'>\n",
      "{'a': 1} <class 'brane.core.object.JSON_JSON_Object'>\n"
     ]
    },
    {
     "data": {
      "text/plain": [
       "brane.core.module.JsonModule"
      ]
     },
     "execution_count": 11,
     "metadata": {},
     "output_type": "execute_result"
    }
   ],
   "source": [
    "ObjectFormat2Module.get_module_from_object({\"a\":1})"
   ]
  },
  {
   "cell_type": "code",
   "execution_count": null,
   "metadata": {},
   "outputs": [],
   "source": []
  },
  {
   "cell_type": "markdown",
   "metadata": {},
   "source": [
    "### working"
   ]
  },
  {
   "cell_type": "code",
   "execution_count": 38,
   "metadata": {
    "ExecuteTime": {
     "end_time": "2022-05-29T10:02:06.077504Z",
     "start_time": "2022-05-29T10:02:06.065119Z"
    }
   },
   "outputs": [],
   "source": [
    "from brane.core.object import Object"
   ]
  },
  {
   "cell_type": "code",
   "execution_count": 98,
   "metadata": {
    "ExecuteTime": {
     "end_time": "2022-05-29T10:18:36.991718Z",
     "start_time": "2022-05-29T10:18:36.964154Z"
    }
   },
   "outputs": [
    {
     "data": {
      "text/plain": [
       "brane.core.module.PillowModule"
      ]
     },
     "execution_count": 98,
     "metadata": {},
     "output_type": "execute_result"
    }
   ],
   "source": [
    "className2Object[\"PIL_Image\"].module"
   ]
  },
  {
   "cell_type": "code",
   "execution_count": 100,
   "metadata": {
    "ExecuteTime": {
     "end_time": "2022-05-29T10:18:51.324236Z",
     "start_time": "2022-05-29T10:18:51.301567Z"
    }
   },
   "outputs": [
    {
     "data": {
      "text/plain": [
       "brane.core.module.PillowModule"
      ]
     },
     "execution_count": 100,
     "metadata": {},
     "output_type": "execute_result"
    }
   ],
   "source": [
    "PIL_Image_Object_orig.module"
   ]
  },
  {
   "cell_type": "code",
   "execution_count": 45,
   "metadata": {
    "ExecuteTime": {
     "end_time": "2022-05-29T10:02:42.575168Z",
     "start_time": "2022-05-29T10:02:42.563606Z"
    }
   },
   "outputs": [],
   "source": [
    "className2Object[\"PIL_Image\"].load_objects()"
   ]
  },
  {
   "cell_type": "code",
   "execution_count": 46,
   "metadata": {
    "ExecuteTime": {
     "end_time": "2022-05-29T10:02:55.201997Z",
     "start_time": "2022-05-29T10:02:55.177000Z"
    },
    "scrolled": true
   },
   "outputs": [
    {
     "data": {
      "text/plain": [
       "type"
      ]
     },
     "execution_count": 46,
     "metadata": {},
     "output_type": "execute_result"
    }
   ],
   "source": [
    "className2Object[\"PIL_Image\"].object_type"
   ]
  },
  {
   "cell_type": "code",
   "execution_count": null,
   "metadata": {},
   "outputs": [],
   "source": []
  },
  {
   "cell_type": "code",
   "execution_count": null,
   "metadata": {
    "ExecuteTime": {
     "end_time": "2022-05-15T14:46:37.788788Z",
     "start_time": "2022-05-15T14:46:37.788769Z"
    }
   },
   "outputs": [],
   "source": [
    "import pandas as pd"
   ]
  },
  {
   "cell_type": "code",
   "execution_count": null,
   "metadata": {
    "ExecuteTime": {
     "end_time": "2022-05-15T14:46:37.790421Z",
     "start_time": "2022-05-15T14:46:37.790402Z"
    },
    "scrolled": true
   },
   "outputs": [],
   "source": [
    "hash(type(obj))"
   ]
  },
  {
   "cell_type": "code",
   "execution_count": null,
   "metadata": {},
   "outputs": [],
   "source": []
  },
  {
   "cell_type": "code",
   "execution_count": null,
   "metadata": {
    "ExecuteTime": {
     "end_time": "2022-05-15T14:46:37.792032Z",
     "start_time": "2022-05-15T14:46:37.792011Z"
    }
   },
   "outputs": [],
   "source": [
    "Object.registered_objects"
   ]
  },
  {
   "cell_type": "code",
   "execution_count": null,
   "metadata": {
    "ExecuteTime": {
     "end_time": "2022-05-15T14:46:37.794046Z",
     "start_time": "2022-05-15T14:46:37.794025Z"
    }
   },
   "outputs": [],
   "source": [
    "obj = pd.DataFrame([{\"a\":1, \"b\":-1}, {\"a\":2, \"b\":4}, {\"a\":6, \"b\":0}])\n",
    "module = get_module_from_object(obj)\n",
    "module"
   ]
  },
  {
   "cell_type": "code",
   "execution_count": null,
   "metadata": {
    "ExecuteTime": {
     "end_time": "2022-05-15T14:46:37.795529Z",
     "start_time": "2022-05-15T14:46:37.795509Z"
    }
   },
   "outputs": [],
   "source": [
    "module.write(obj, \"tmp.csv\")"
   ]
  },
  {
   "cell_type": "code",
   "execution_count": null,
   "metadata": {
    "ExecuteTime": {
     "end_time": "2022-05-15T14:46:37.797184Z",
     "start_time": "2022-05-15T14:46:37.797160Z"
    }
   },
   "outputs": [],
   "source": [
    "!cat tmp.csv"
   ]
  },
  {
   "cell_type": "code",
   "execution_count": null,
   "metadata": {
    "ExecuteTime": {
     "end_time": "2022-05-15T14:46:37.798955Z",
     "start_time": "2022-05-15T14:46:37.798923Z"
    }
   },
   "outputs": [],
   "source": [
    "fmt"
   ]
  },
  {
   "cell_type": "code",
   "execution_count": null,
   "metadata": {
    "ExecuteTime": {
     "end_time": "2022-05-15T14:46:37.801259Z",
     "start_time": "2022-05-15T14:46:37.801235Z"
    }
   },
   "outputs": [],
   "source": [
    "fmt.default_extension"
   ]
  },
  {
   "cell_type": "code",
   "execution_count": null,
   "metadata": {},
   "outputs": [],
   "source": []
  },
  {
   "cell_type": "code",
   "execution_count": null,
   "metadata": {
    "ExecuteTime": {
     "end_time": "2022-05-15T14:46:37.803510Z",
     "start_time": "2022-05-15T14:46:37.803485Z"
    }
   },
   "outputs": [],
   "source": [
    "eta = {\n",
    "    JpegImagePlugin.JpegImageFile: PILModule,\n",
    "    PngImagePlugin: PILModule,\n",
    "    pd.DataFrame: PandasModule,\n",
    "}"
   ]
  },
  {
   "cell_type": "markdown",
   "metadata": {},
   "source": [
    "### backup"
   ]
  },
  {
   "cell_type": "code",
   "execution_count": null,
   "metadata": {},
   "outputs": [],
   "source": [
    "\n",
    "    #registered_objects = _registered_subclasses\n",
    "\n",
    "    #  valid = True\n",
    "    #  registered_objects = []\n",
    "    #  def __init_subclass__(cls):\n",
    "    #      if valid:\n",
    "    #          cls.registered_objects.append(cls)\n",
    "    \n",
    "    # @classmethod\n",
    "    # def load_objects(cls):\n",
    "    #     pass\n",
    "    #     #raise NotImplementedError\n",
    "    #@property\n",
    "    #def name(cls):\n",
    "    #    return cls.__name__\n",
    "    #    #return str(cls.module.object)"
   ]
  },
  {
   "cell_type": "code",
   "execution_count": 17,
   "metadata": {
    "ExecuteTime": {
     "end_time": "2022-05-31T17:12:14.929276Z",
     "start_time": "2022-05-31T17:12:14.902288Z"
    }
   },
   "outputs": [
    {
     "name": "stdout",
     "output_type": "stream",
     "text": [
      "Appending to ./brane/libs/objects.py\n"
     ]
    }
   ],
   "source": [
    "%%writefile -a {LIB_OBJECT_PY}\n",
    "\n",
    "#class PIL_Image_Object(Object):\n",
    "#    format = className2Format[\"JPEG\"]\n",
    "#    module = className2Module[\"Pillow\"]\n",
    "#\n",
    "#    @classmethod\n",
    "#    def load_objects(cls):\n",
    "#        from PIL import Image as PILImage\n",
    "#        cls.object_type = PILImage.Image\n",
    "#\n",
    "#class PIL_JPEG_Object(Object):\n",
    "#    format = className2Format[\"JPEG\"]\n",
    "#    module = className2Module[\"Pillow\"]\n",
    "#\n",
    "#    @classmethod\n",
    "#    def load_objects(cls):\n",
    "#        from PIL import JpegImagePlugin\n",
    "#        cls.object_type = JpegImagePlugin.JpegImageFile\n",
    "#\n",
    "#class PIL_PNG_Object(Object):\n",
    "#    format = className2Format[\"PNG\"]\n",
    "#    module = className2Module[\"Pillow\"]\n",
    "#\n",
    "#    @classmethod\n",
    "#    def load_objects(cls):\n",
    "#        from PIL import PngImagePlugin\n",
    "#        cls.object_type = PngImagePlugin.PngImageFile\n",
    "\n",
    "class Pandas_DataFrame_Object(Object):\n",
    "    type_evaluation = \"isinstance\"### temporal name and value\n",
    "    format_checker = lambda obj: className2Format[\"CSV\"] # noqa: E731\n",
    "    module_checker = lambda obj, fmt: className2Module[\"Pandas\"] # noqa: E731\n",
    "    object_type_info = (\"pandas\", \"DataFrame\")\n",
    "\n",
    "    #@classmethod\n",
    "    #def load_objects(cls):\n",
    "    #    import pandas as pd\n",
    "    #    cls.object_type = pd.DataFrame\n",
    "\n",
    "#class Json_Json_Object(Object):\n",
    "#    format = className2Format[\"Json\"]\n",
    "#    module = className2Module[\"Json\"]\n",
    "#\n",
    "#    @classmethod\n",
    "#    def load_objects(cls):\n",
    "#        cls.object_type = dict"
   ]
  },
  {
   "cell_type": "markdown",
   "metadata": {},
   "source": [
    "    #### libs"
   ]
  },
  {
   "cell_type": "code",
   "execution_count": 14,
   "metadata": {
    "ExecuteTime": {
     "end_time": "2022-05-31T17:12:13.514457Z",
     "start_time": "2022-05-31T17:12:13.471672Z"
    },
    "scrolled": true
   },
   "outputs": [
    {
     "name": "stdout",
     "output_type": "stream",
     "text": [
      "Overwriting ./brane/libs/objects.py\n"
     ]
    }
   ],
   "source": [
    "%%writefile {LIB_OBJECT_PY}\n",
    "from __future__ import annotations\n",
    "import os\n",
    "import yaml"
   ]
  },
  {
   "cell_type": "code",
   "execution_count": 15,
   "metadata": {
    "ExecuteTime": {
     "end_time": "2022-05-31T17:12:14.255193Z",
     "start_time": "2022-05-31T17:12:13.750582Z"
    }
   },
   "outputs": [],
   "source": [
    "!echo '{generate_import(TYPE_PY, \"*  # noqa: F403\")}' >> {LIB_OBJECT_PY}\n",
    "!echo '{generate_import(OBJECT_PY, \"Object\")}' >> {LIB_OBJECT_PY}\n",
    "!echo '{generate_import(LIB_MODULE_PY, \"className2Module\")}' >> {LIB_OBJECT_PY}\n",
    "!echo '{generate_import(LIB_FORMAT_PY, \"className2Format\")}' >> {LIB_OBJECT_PY}"
   ]
  },
  {
   "cell_type": "code",
   "execution_count": 16,
   "metadata": {
    "ExecuteTime": {
     "end_time": "2022-05-31T17:12:14.899169Z",
     "start_time": "2022-05-31T17:12:14.644145Z"
    }
   },
   "outputs": [],
   "source": [
    "!echo 'CORE_OBJECT_CONFIG_PATH = os.path.abspath(os.path.join(__file__, \"../../../\", \"{OBJECT_CFG_CORE}\"))' >> {LIB_OBJECT_PY}\n",
    "!echo 'THIRDPARTY_OBJECT_CONFIG_PATH = os.path.abspath(os.path.join(__file__, \"../../../\", \"{OBJECT_CFG_THIRDPARTY}\"))' >> {LIB_OBJECT_PY}"
   ]
  },
  {
   "cell_type": "code",
   "execution_count": 18,
   "metadata": {
    "ExecuteTime": {
     "end_time": "2022-05-31T17:12:15.916401Z",
     "start_time": "2022-05-31T17:12:15.804690Z"
    }
   },
   "outputs": [
    {
     "name": "stdout",
     "output_type": "stream",
     "text": [
      "[DEBUG]: overwritten cls.name = Pandas_DataFrame_Object, cls = <class 'brane.libs.objects.Pandas_DataFrame_Object'>\n",
      "Appending to ./brane/libs/objects.py\n"
     ]
    }
   ],
   "source": [
    "%%writefile -a {LIB_OBJECT_PY}\n",
    "\n",
    "def load_brane_objects():\n",
    "    cfg_core: dict = {}\n",
    "    if os.path.exists(CORE_OBJECT_CONFIG_PATH):\n",
    "        with open(CORE_OBJECT_CONFIG_PATH, \"r\") as f:\n",
    "            cfg_core = yaml.safe_load(f)\n",
    "\n",
    "    cfg_thirdparty: dict = {}\n",
    "    if os.path.exists(THIRDPARTY_OBJECT_CONFIG_PATH):\n",
    "        with open(THIRDPARTY_OBJECT_CONFIG_PATH, \"r\") as f:\n",
    "            cfg_thirdparty = yaml.safe_load(f)\n",
    "\n",
    "    def update_attributes(attributes: dict) -> dict:\n",
    "        attributes = attributes.copy()\n",
    "        if attributes.get(\"format\", None) is None and attributes.get(\"format_name\", None) is not None:\n",
    "            attributes[\"format\"] = className2Format.get(attributes[\"format_name\"], None)\n",
    "        if attributes.get(\"module\", None) is None and attributes.get(\"module_name\", None) is not None:\n",
    "            attributes[\"module\"] = className2Module.get(attributes[\"module_name\"], None)\n",
    "        return attributes\n",
    "\n",
    "    className2Object: dict[str, type] = {\n",
    "        **{\n",
    "            class_name: type(f\"{class_name}_Object\", (Object, ), update_attributes(attributes))\n",
    "            for class_name, attributes in cfg_core.items()\n",
    "        },\n",
    "        **{\n",
    "            class_name: type(f\"{class_name}_Object\", (Object, ), update_attributes(attributes))\n",
    "            for class_name, attributes in cfg_thirdparty.items()\n",
    "        }\n",
    "    }\n",
    "    return className2Object\n",
    "\n",
    "className2Object = load_brane_objects()"
   ]
  },
  {
   "cell_type": "markdown",
   "metadata": {},
   "source": [
    "\n",
    "\n",
    "className2Object.update({ \"Pandas_DataFrame\": Pandas_DataFrame_Object })"
   ]
  },
  {
   "cell_type": "markdown",
   "metadata": {},
   "source": [
    "## Mapper"
   ]
  },
  {
   "cell_type": "markdown",
   "metadata": {},
   "source": [
    "* TODO:\n",
    "    * 対応するモジュールがないときの対応"
   ]
  },
  {
   "cell_type": "markdown",
   "metadata": {},
   "source": [
    "### definition"
   ]
  },
  {
   "cell_type": "code",
   "execution_count": 27,
   "metadata": {
    "ExecuteTime": {
     "end_time": "2022-06-08T17:30:46.952765Z",
     "start_time": "2022-06-08T17:30:46.925851Z"
    },
    "scrolled": true
   },
   "outputs": [
    {
     "name": "stdout",
     "output_type": "stream",
     "text": [
      "Overwriting ./brane/core/mapper.py\n"
     ]
    }
   ],
   "source": [
    "%%writefile {MAPPER_PY}\n",
    "from __future__ import annotations"
   ]
  },
  {
   "cell_type": "code",
   "execution_count": 28,
   "metadata": {
    "ExecuteTime": {
     "end_time": "2022-06-08T17:30:47.743174Z",
     "start_time": "2022-06-08T17:30:47.271537Z"
    }
   },
   "outputs": [],
   "source": [
    "!echo '{generate_import(TYPE_PY, \"*  # noqa: F403\")}' >> {MAPPER_PY}\n",
    "!echo '{generate_import(MODULE_PY, \"NoneModule\")}' >> {MAPPER_PY}\n",
    "!echo '{generate_import(FORMAT_PY, \"Format, NoneFormat\")}' >> {MAPPER_PY}\n",
    "!echo '{generate_import(OBJECT_PY, \"Object\")}' >> {MAPPER_PY}"
   ]
  },
  {
   "cell_type": "markdown",
   "metadata": {},
   "source": [
    "#### Ext2Fmt and Ext2Mod (for read)\n",
    "* depends on Format"
   ]
  },
  {
   "cell_type": "code",
   "execution_count": 29,
   "metadata": {
    "ExecuteTime": {
     "end_time": "2022-06-08T17:30:47.764512Z",
     "start_time": "2022-06-08T17:30:47.746726Z"
    },
    "code_folding": []
   },
   "outputs": [
    {
     "name": "stdout",
     "output_type": "stream",
     "text": [
      "Appending to ./brane/core/mapper.py\n"
     ]
    }
   ],
   "source": [
    "%%writefile -a {MAPPER_PY}\n",
    "\n",
    "class ExtensionMapper(object):### rename\n",
    "    # [TODO]:: caching\n",
    "    @classmethod\n",
    "    def get_format_class_from_extension(cls, ext: str) -> FormatClassType:# ignore: this type is defined later\n",
    "        for _, Fmt in Format.registered_formats.items():\n",
    "            if Fmt.check_extension(ext):\n",
    "                return Fmt\n",
    "        # [TODO]: エラーをraiseするか、NoneExtensionをreturnするか\n",
    "        # assert False, \"no Format found\" # noqa: B011\n",
    "        return NoneFormat\n",
    "\n",
    "    @classmethod\n",
    "    def get_module_class_from_extension(cls, ext: str) -> ModuleClassType:\n",
    "        Fmt: FormatClassType = cls.get_format_class_from_extension(ext=ext)\n",
    "        if Fmt:\n",
    "            if hasattr(Fmt, \"module\") and Fmt.module is not None:\n",
    "                return Fmt.module\n",
    "            else:\n",
    "                raise AttributeError(f\"'module' attribute is not defined at {Fmt}\")\n",
    "        else:\n",
    "            # [TODO]: エラーをraiseするか、NoneModuleをreturnするか\n",
    "            # assert False, \"no module found\" # noqa: B011\n",
    "            return NoneModule"
   ]
  },
  {
   "cell_type": "markdown",
   "metadata": {},
   "source": [
    "#### Obj-Fmt2Mod (for write)"
   ]
  },
  {
   "cell_type": "code",
   "execution_count": 30,
   "metadata": {
    "ExecuteTime": {
     "end_time": "2022-06-08T17:30:53.354534Z",
     "start_time": "2022-06-08T17:30:53.330026Z"
    }
   },
   "outputs": [
    {
     "name": "stdout",
     "output_type": "stream",
     "text": [
      "Appending to ./brane/core/mapper.py\n"
     ]
    }
   ],
   "source": [
    "%%writefile -a {MAPPER_PY}\n",
    "# if fmt is given, it priotize\n",
    "# if necesaryy, also return format (may be used to decide filename extention)\n",
    "\n",
    "# In the future, I'd like to use hashed-key for quick search\n",
    "class ObjectFormat2Module(object):\n",
    "    # [TODO]: use hash ?\n",
    "    def get_module_from_object(obj, fmt=None) -> ModuleClassType:\n",
    "        for _, Obj in Object.registered_objects.items():### -> global var.\n",
    "            Obj.load_objects()### will be removed in the future\n",
    "            #     -> Objのattributes (objectなどload_objectsでセットされるもの)にアクセスした際に、自動で読み出されるようにするため\n",
    "            # type(obj) == Obj.object # Objにtype-eq評価か、isinstance評価か決めるattributeを付与したので、そちらで制御\n",
    "            if isinstance(obj, Obj.object):\n",
    "                if hasattr(Obj, \"module\") and Obj.module is not None:\n",
    "                    module = Obj.module\n",
    "                    return module\n",
    "                elif hasattr(Obj, \"module_checker\") and Obj.module_checker is not None:\n",
    "                    if hasattr(Obj, \"format\") and Obj.format is not None:\n",
    "                        fmt = Obj.format\n",
    "                        print(\"Obj.format\", fmt)\n",
    "                    elif hasattr(Obj, \"format_checker\") and Obj.format_checker is not None:\n",
    "                        fmt = Obj.format_checker(obj)\n",
    "                        print(\"Obj.format_checker\", fmt)\n",
    "                    module = Obj.module_checker(obj, fmt)\n",
    "                    print(\"module\", module)\n",
    "                    return module\n",
    "        # [TODO]: エラーをraiseするか、NoneModuleをreturnするか\n",
    "        # assert False, \"no object found\" # noqa: B011\n",
    "        return NoneModule"
   ]
  },
  {
   "cell_type": "markdown",
   "metadata": {},
   "source": [
    "### test"
   ]
  },
  {
   "cell_type": "code",
   "execution_count": 3,
   "metadata": {
    "ExecuteTime": {
     "end_time": "2022-05-15T14:50:54.512846Z",
     "start_time": "2022-05-15T14:50:54.487644Z"
    }
   },
   "outputs": [
    {
     "name": "stdout",
     "output_type": "stream",
     "text": [
      "[DEBUG]: register cls.name = None, cls = <class 'brane.core.module.Module'>\n",
      "[DEBUG]: register cls.name = PIL, cls = <class 'brane.libs.modules.PILModule'>\n",
      "[DEBUG]: register cls.name = cv2, cls = <class 'brane.libs.modules.CV2Module'>\n",
      "[DEBUG]: register cls.name = pandas, cls = <class 'brane.libs.modules.PandasModule'>\n",
      "[DEBUG]: register cls.name = json, cls = <class 'brane.libs.modules.JsonModule'>\n",
      "[DEBUG]: register cls.name = textio, cls = <class 'brane.libs.modules.TextIOModule'>\n",
      "add\n",
      "[DEBUG]: in MetaFormat default_extension=None class_info={'__module__': 'brane.core.format', '__qualname__': 'Format', '__annotations__': {'default_extension': 'Optional[str]', 'variation': 'list[str]'}, 'data_type': None, 'default_extension': None, '_registered_subclasses': {}, 'registered_formats': {}, 'variation': [None], 'check_extension': <classmethod object at 0x7fb3ac146760>, 'name': None}\n",
      "[DEBUG]: register cls.name = None, cls = <class 'brane.core.format.Format'>\n",
      "add\n",
      "[DEBUG]: in MetaFormat default_extension=None class_info={'__module__': 'brane.core.format', '__qualname__': 'NoneFormat', 'valid': False, 'name': None, 'variation': [None]}\n",
      "add\n",
      "[DEBUG]: in MetaFormat default_extension=None class_info={'__module__': 'brane.core.format', '__qualname__': 'Format', '__annotations__': {'default_extension': 'Optional[str]', 'variation': 'list[str]'}, 'data_type': None, 'default_extension': None, '_registered_subclasses': {}, 'registered_formats': {}, 'variation': [None], 'check_extension': <classmethod object at 0x7fb3ac146820>, 'name': None}\n",
      "[DEBUG]: register cls.name = None, cls = <class 'brane.core.format.Format'>\n",
      "add\n",
      "[DEBUG]: in MetaFormat default_extension=None class_info={'__module__': 'brane.core.format', '__qualname__': 'NoneFormat', 'valid': False, 'name': None, 'variation': [None]}\n",
      "add\n",
      "[DEBUG]: in MetaFormat default_extension=jpg class_info={'__module__': 'brane.libs.formats', '__qualname__': 'JPEGFormat', 'data_type': <class 'brane.libs.formats.ImageType'>, 'default_extension': 'jpg', 'variation': ['jpeg', 'jpg'], 'module': <class 'brane.libs.modules.PILModule'>, 'name': 'jpg'}\n",
      "[DEBUG]: register cls.name = jpg, cls = <class 'brane.libs.formats.JPEGFormat'>\n",
      "add\n",
      "[DEBUG]: in MetaFormat default_extension=tsv class_info={'__module__': 'brane.libs.formats', '__qualname__': 'TSVFormat', 'data_type': <class 'brane.libs.formats.TableType'>, 'default_extension': 'tsv', 'module': <class 'brane.libs.modules.PandasModule'>, 'name': 'tsv', 'variation': ['tsv']}\n",
      "[DEBUG]: register cls.name = tsv, cls = <class 'brane.libs.formats.TSVFormat'>\n",
      "add\n",
      "[DEBUG]: in MetaFormat default_extension=csv class_info={'__module__': 'brane.libs.formats', '__qualname__': 'CSVFormat', 'data_type': <class 'brane.libs.formats.TableType'>, 'default_extension': 'csv', 'module': <class 'brane.libs.modules.PandasModule'>, 'name': 'csv', 'variation': ['csv']}\n",
      "[DEBUG]: register cls.name = csv, cls = <class 'brane.libs.formats.CSVFormat'>\n",
      "add\n",
      "[DEBUG]: in MetaFormat default_extension=png class_info={'data_type': <class 'brane.libs.formats.ImageType'>, 'default_extension': 'png', 'module': <class 'brane.libs.modules.PILModule'>, 'name': 'png', 'variation': ['png']}\n",
      "[DEBUG]: register cls.name = png, cls = <class 'brane.core.format.PNGFormat'>\n",
      "add\n",
      "[DEBUG]: in MetaFormat default_extension=json class_info={'data_type': <class 'brane.libs.formats.DictType'>, 'default_extension': 'json', 'module': <class 'brane.libs.modules.JsonModule'>, 'name': 'json', 'variation': ['json']}\n",
      "[DEBUG]: register cls.name = json, cls = <class 'brane.core.format.JsonFormat'>\n"
     ]
    }
   ],
   "source": [
    "from brane.libs.modules import PandasModule\n",
    "from brane.libs.formats import PNGFormat\n",
    "from brane.libs.objects import Pandas_DataFrame_Object"
   ]
  },
  {
   "cell_type": "code",
   "execution_count": 4,
   "metadata": {
    "ExecuteTime": {
     "end_time": "2022-05-15T14:50:56.193821Z",
     "start_time": "2022-05-15T14:50:56.176853Z"
    }
   },
   "outputs": [
    {
     "name": "stdout",
     "output_type": "stream",
     "text": [
      "[DEBUG]: register cls.name = Object, cls = <class 'brane.core.object.Object'>\n"
     ]
    }
   ],
   "source": [
    "from brane.core.mapper import ExtensionMapper, ObjectFormat2Module"
   ]
  },
  {
   "cell_type": "code",
   "execution_count": 5,
   "metadata": {
    "ExecuteTime": {
     "end_time": "2022-05-15T14:50:56.392350Z",
     "start_time": "2022-05-15T14:50:56.377111Z"
    }
   },
   "outputs": [
    {
     "name": "stdout",
     "output_type": "stream",
     "text": [
      "CSV <class 'brane.libs.formats.CSVFormat'>\n",
      "TSV <class 'brane.libs.formats.TSVFormat'>\n",
      "jpeg <class 'brane.libs.formats.JPEGFormat'>\n",
      "png <class 'brane.core.format.PNGFormat'>\n",
      "json <class 'brane.core.format.JsonFormat'>\n"
     ]
    }
   ],
   "source": [
    "for ext in [\"CSV\", \"TSV\", \"jpeg\", \"png\", \"json\"]:\n",
    "    print(ext, ExtensionMapper.get_format_class_from_extension(ext))"
   ]
  },
  {
   "cell_type": "code",
   "execution_count": 6,
   "metadata": {
    "ExecuteTime": {
     "end_time": "2022-05-15T14:50:57.639472Z",
     "start_time": "2022-05-15T14:50:57.611555Z"
    }
   },
   "outputs": [
    {
     "name": "stdout",
     "output_type": "stream",
     "text": [
      "CSV <class 'brane.libs.modules.PandasModule'>\n",
      "TSV <class 'brane.libs.modules.PandasModule'>\n",
      "jpeg <class 'brane.libs.modules.PILModule'>\n",
      "png <class 'brane.libs.modules.PILModule'>\n",
      "json <class 'brane.libs.modules.JsonModule'>\n"
     ]
    }
   ],
   "source": [
    "for ext in [\"CSV\", \"TSV\", \"jpeg\", \"png\", \"json\"]:\n",
    "    print(ext, ExtensionMapper.get_module_class_from_extension(ext))"
   ]
  },
  {
   "cell_type": "code",
   "execution_count": null,
   "metadata": {},
   "outputs": [],
   "source": []
  },
  {
   "cell_type": "code",
   "execution_count": 7,
   "metadata": {
    "ExecuteTime": {
     "end_time": "2022-05-15T14:50:58.700626Z",
     "start_time": "2022-05-15T14:50:58.311170Z"
    }
   },
   "outputs": [],
   "source": [
    "import pandas as pd"
   ]
  },
  {
   "cell_type": "code",
   "execution_count": 18,
   "metadata": {
    "ExecuteTime": {
     "end_time": "2022-05-15T14:52:47.278786Z",
     "start_time": "2022-05-15T14:52:47.183051Z"
    }
   },
   "outputs": [
    {
     "name": "stdout",
     "output_type": "stream",
     "text": [
      "@Meta: <class 'brane.core.object.Object'>\n",
      "@Meta: <class 'brane.libs.objects.PIL_Image_Object'>\n",
      "@Meta: <class 'brane.libs.objects.PIL_JPEG_Object'>\n",
      "@Meta: <class 'brane.libs.objects.PIL_PNG_Object'>\n",
      "@Meta: <class 'brane.libs.objects.Pandas_DataFrame_Object'>\n",
      "Empty DataFrame\n",
      "Columns: []\n",
      "Index: [] <class 'brane.libs.objects.Pandas_DataFrame_Object'>\n",
      "Obj.format_checker <class 'brane.libs.formats.CSVFormat'>\n",
      "module <class 'brane.libs.modules.PandasModule'>\n"
     ]
    },
    {
     "data": {
      "text/plain": [
       "brane.libs.modules.PandasModule"
      ]
     },
     "execution_count": 18,
     "metadata": {},
     "output_type": "execute_result"
    }
   ],
   "source": [
    "ObjectFormat2Module.get_module_from_object(obj=pd.DataFrame([]))"
   ]
  },
  {
   "cell_type": "code",
   "execution_count": 19,
   "metadata": {
    "ExecuteTime": {
     "end_time": "2022-05-15T14:52:48.544864Z",
     "start_time": "2022-05-15T14:52:48.502485Z"
    }
   },
   "outputs": [
    {
     "name": "stdout",
     "output_type": "stream",
     "text": [
      "@Meta: <class 'brane.core.object.Object'>\n",
      "@Meta: <class 'brane.libs.objects.PIL_Image_Object'>\n",
      "@Meta: <class 'brane.libs.objects.PIL_JPEG_Object'>\n",
      "@Meta: <class 'brane.libs.objects.PIL_PNG_Object'>\n",
      "@Meta: <class 'brane.libs.objects.Pandas_DataFrame_Object'>\n",
      "Empty DataFrame\n",
      "Columns: []\n",
      "Index: [] <class 'brane.libs.objects.Pandas_DataFrame_Object'>\n",
      "Obj.format_checker <class 'brane.libs.formats.CSVFormat'>\n",
      "module <class 'brane.libs.modules.PandasModule'>\n"
     ]
    },
    {
     "data": {
      "text/plain": [
       "brane.libs.modules.PandasModule"
      ]
     },
     "execution_count": 19,
     "metadata": {},
     "output_type": "execute_result"
    }
   ],
   "source": [
    "ObjectFormat2Module.get_module_from_object(obj=pd.DataFrame([]), fmt=\"txt\")"
   ]
  },
  {
   "cell_type": "code",
   "execution_count": 21,
   "metadata": {
    "ExecuteTime": {
     "end_time": "2022-05-15T14:53:29.965365Z",
     "start_time": "2022-05-15T14:53:29.924971Z"
    }
   },
   "outputs": [
    {
     "data": {
      "text/plain": [
       "brane.libs.formats.CSVFormat"
      ]
     },
     "execution_count": 21,
     "metadata": {},
     "output_type": "execute_result"
    }
   ],
   "source": [
    "obj = pd.DataFrame([])\n",
    "fmt = Object.registered_objects[\"Pandas_DataFrame_Object\"].format_checker(obj)\n",
    "fmt"
   ]
  },
  {
   "cell_type": "code",
   "execution_count": 22,
   "metadata": {
    "ExecuteTime": {
     "end_time": "2022-05-15T14:53:31.081787Z",
     "start_time": "2022-05-15T14:53:31.044341Z"
    }
   },
   "outputs": [
    {
     "data": {
      "text/plain": [
       "brane.libs.modules.PandasModule"
      ]
     },
     "execution_count": 22,
     "metadata": {},
     "output_type": "execute_result"
    }
   ],
   "source": [
    "Object.registered_objects[\"Pandas_DataFrame_Object\"].module_checker(obj, fmt)"
   ]
  },
  {
   "cell_type": "code",
   "execution_count": 23,
   "metadata": {
    "ExecuteTime": {
     "end_time": "2022-05-15T14:53:32.163096Z",
     "start_time": "2022-05-15T14:53:32.111294Z"
    }
   },
   "outputs": [
    {
     "name": "stdout",
     "output_type": "stream",
     "text": [
      "@Meta: <class 'brane.libs.objects.Pandas_DataFrame_Object'>\n"
     ]
    },
    {
     "data": {
      "text/plain": [
       "True"
      ]
     },
     "execution_count": 23,
     "metadata": {},
     "output_type": "execute_result"
    }
   ],
   "source": [
    "isinstance(obj, Object.registered_objects[\"Pandas_DataFrame_Object\"].object)"
   ]
  },
  {
   "cell_type": "code",
   "execution_count": null,
   "metadata": {},
   "outputs": [],
   "source": []
  },
  {
   "cell_type": "markdown",
   "metadata": {},
   "source": [
    "## Factory (Activater)"
   ]
  },
  {
   "cell_type": "markdown",
   "metadata": {},
   "source": [
    "### definition"
   ]
  },
  {
   "cell_type": "code",
   "execution_count": 31,
   "metadata": {
    "ExecuteTime": {
     "end_time": "2022-06-08T17:30:58.096367Z",
     "start_time": "2022-06-08T17:30:58.068478Z"
    },
    "scrolled": true
   },
   "outputs": [
    {
     "name": "stdout",
     "output_type": "stream",
     "text": [
      "Overwriting ./brane/core/factory.py\n"
     ]
    }
   ],
   "source": [
    "%%writefile {FACTORY_PY}\n",
    "from __future__ import annotations\n",
    "import os\n",
    "from pathlib import Path\n",
    "import yaml"
   ]
  },
  {
   "cell_type": "code",
   "execution_count": 32,
   "metadata": {
    "ExecuteTime": {
     "end_time": "2022-06-08T17:30:58.745213Z",
     "start_time": "2022-06-08T17:30:58.271925Z"
    }
   },
   "outputs": [],
   "source": [
    "!echo '{generate_import(TYPE_PY, \"*  # noqa: F403\")}' >> {FACTORY_PY}\n",
    "!echo '{generate_import(MODULE_PY, \"Module\")}' >> {FACTORY_PY}\n",
    "!echo '{generate_import(FORMAT_PY, \"Format\")}' >> {FACTORY_PY}\n",
    "!echo '{generate_import(OBJECT_PY, \"Object\")}' >> {FACTORY_PY}"
   ]
  },
  {
   "cell_type": "code",
   "execution_count": 33,
   "metadata": {
    "ExecuteTime": {
     "end_time": "2022-06-08T17:30:59.454941Z",
     "start_time": "2022-06-08T17:30:58.747826Z"
    }
   },
   "outputs": [],
   "source": [
    "!echo 'CORE_MODULE_CONFIG_PATH: Path = (Path(__file__) / \"../../../\" / \"{MODULE_CFG_CORE}\").resolve()' >> {FACTORY_PY}\n",
    "!echo 'THIRDPARTY_MODULE_CONFIG_PATH: Path = (Path(__file__) / \"../../../\" / \"{MODULE_CFG_THIRDPARTY}\").resolve()' >> {FACTORY_PY}\n",
    "!echo 'CORE_FORMAT_CONFIG_PATH: Path = (Path(__file__) / \"../../../\" / \"{FORMAT_CFG_CORE}\").resolve()' >> {FACTORY_PY}\n",
    "!echo 'THIRDPARTY_FORMAT_CONFIG_PATH: Path = (Path(__file__) / \"../../../\" / \"{FORMAT_CFG_THIRDPARTY}\").resolve()' >> {FACTORY_PY}\n",
    "!echo 'CORE_OBJECT_CONFIG_PATH: Path = (Path(__file__) / \"../../../\" / \"{OBJECT_CFG_CORE}\").resolve()' >> {FACTORY_PY}\n",
    "!echo 'THIRDPARTY_OBJECT_CONFIG_PATH: Path = (Path(__file__) / \"../../../\" / \"{OBJECT_CFG_THIRDPARTY}\").resolve()' >> {FACTORY_PY}"
   ]
  },
  {
   "cell_type": "code",
   "execution_count": 34,
   "metadata": {
    "ExecuteTime": {
     "end_time": "2022-06-08T17:30:59.479412Z",
     "start_time": "2022-06-08T17:30:59.460331Z"
    }
   },
   "outputs": [
    {
     "name": "stdout",
     "output_type": "stream",
     "text": [
      "Appending to ./brane/core/factory.py\n"
     ]
    }
   ],
   "source": [
    "%%writefile -a {FACTORY_PY}\n",
    "\n",
    "ClassAttributeType = dict[str, Any]\n",
    "ConfigType = dict[str, Union[str, dict]]\n",
    "\n",
    "class Factory(object):\n",
    "    className2Module: dict[str, ModuleClassType] = dict()\n",
    "    className2Format: dict[str, FormatClassType] = dict()\n",
    "    className2Object: dict[str, ObjectClassType] = dict()\n",
    "    _instance = None\n",
    "\n",
    "    def __new__(cls):\n",
    "        if cls._instance is None:\n",
    "            cls._instance = super(Factory, cls).__new__(cls)\n",
    "        return cls._instance\n",
    "\n",
    "    def __init__(self):\n",
    "        self.activate()\n",
    "\n",
    "    @staticmethod\n",
    "    def load_config(config_path: str) -> ConfigType:\n",
    "        cfg: ConfigType = {}\n",
    "        if os.path.exists(config_path):\n",
    "            with open(config_path, \"r\") as f:\n",
    "                cfg = yaml.safe_load(f)\n",
    "        return cfg\n",
    "\n",
    "    @staticmethod\n",
    "    def generate_classes_from_configs(config_list: list[ConfigType], suffix: str, cls: type,\n",
    "                                      apply_attributes: Optional[Callable[[str, ClassAttributeType], ClassAttributeType]] = None\n",
    "                                     ) -> dict[str, type]:\n",
    "        name2class: dict[str, type] = {}\n",
    "        for config in config_list:\n",
    "            name2class_for_cfg: dict[str, type] = {\n",
    "                class_name: type(\n",
    "                    f\"{class_name}{suffix}\",\n",
    "                    (cls, ),\n",
    "                    apply_attributes(class_name, attributes) if apply_attributes else attributes\n",
    "                )\n",
    "                for class_name, attributes in config.items()\n",
    "            }\n",
    "            name2class.update(name2class_for_cfg)\n",
    "        return name2class\n",
    "\n",
    "    @classmethod\n",
    "    def load_brane_modules(cls) -> dict[str, ModuleClassType]:\n",
    "        cfg_core = cls.load_config(config_path=CORE_MODULE_CONFIG_PATH)\n",
    "        cfg_thirdparty = Factory.load_config(config_path=THIRDPARTY_MODULE_CONFIG_PATH)\n",
    "\n",
    "        className2Module = cls.generate_classes_from_configs(\n",
    "            config_list=[cfg_core, cfg_thirdparty], suffix=\"Module\", cls=Module, apply_attributes=None\n",
    "        )\n",
    "        return className2Module\n",
    "\n",
    "    @classmethod\n",
    "    def load_brane_formats(cls) -> dict[str, FormatClassType]:\n",
    "        cfg_core = Factory.load_config(config_path=CORE_FORMAT_CONFIG_PATH)\n",
    "        cfg_thirdparty = Factory.load_config(config_path=THIRDPARTY_FORMAT_CONFIG_PATH)\n",
    "\n",
    "        def update_attributes(class_name: str, attributes: ClassAttributeType) -> ClassAttributeType:\n",
    "            attributes = attributes.copy()\n",
    "            if attributes.get(\"name\", None):\n",
    "                attributes[\"name\"] = class_name\n",
    "\n",
    "            if attributes.get(\"module\", None) is None and attributes.get(\"module_name\", None) is not None:\n",
    "                attributes[\"module\"] = cls.className2Module.get(attributes[\"module_name\"], None)\n",
    "            \n",
    "            if attributes[\"module\"] is None:\n",
    "                if attributes[\"module_name\"]:\n",
    "                    print(f\"[WARNING]: module name {attributes['module_name']} is not found\")\n",
    "                    #raise AssertionError(f\"module name {attributes['module_name']} is not found\")\n",
    "                else:\n",
    "                    print(f\"[WARNING]: module name is not defined for {attributes.get('name', '')}\")\n",
    "\n",
    "            return attributes\n",
    "\n",
    "        className2Format = cls.generate_classes_from_configs(\n",
    "            config_list=[cfg_core, cfg_thirdparty], suffix=\"Format\", cls=Format, apply_attributes=update_attributes\n",
    "        )\n",
    "        return className2Format\n",
    "\n",
    "    @classmethod\n",
    "    def load_brane_objects(cls) -> dict[str, ObjectClassType]:\n",
    "        cfg_core = Factory.load_config(config_path=CORE_OBJECT_CONFIG_PATH)\n",
    "        cfg_thirdparty = Factory.load_config(config_path=THIRDPARTY_OBJECT_CONFIG_PATH)\n",
    "\n",
    "        def update_attributes(class_name: str, attributes: ClassAttributeType) -> ClassAttributeType:\n",
    "            attributes = attributes.copy()\n",
    "            if attributes.get(\"name\", None):\n",
    "                attributes[\"name\"] = class_name\n",
    "\n",
    "            if attributes.get(\"format\", None) is None and attributes.get(\"format_name\", None) is not None:\n",
    "                attributes[\"format\"] = cls.className2Format.get(attributes[\"format_name\"], None)\n",
    "            if attributes.get(\"module\", None) is None and attributes.get(\"module_name\", None) is not None:\n",
    "                attributes[\"module\"] = cls.className2Module.get(attributes[\"module_name\"], None)\n",
    "\n",
    "            if attributes[\"module\"] is None:\n",
    "                if attributes[\"module_name\"]:\n",
    "                    print(f\"[WARNING]: module name {attributes['module_name']} is not found\")\n",
    "                    #raise AssertionError(f\"module name {attributes['module_name']} is not found\")\n",
    "                else:\n",
    "                    print(f\"[WARNING]: module name is not defined for {attributes.get('name', '')}\")\n",
    "\n",
    "            if attributes[\"format\"] is None:\n",
    "                if attributes[\"format_name\"]:\n",
    "                    print(f\"[WARNING]: format name {attributes['format_name']} is not found\")\n",
    "                    #raise AssertionError(f\"format name {attributes['format_name']} is not found\")\n",
    "                else:\n",
    "                    print(f\"[WARNING]: format name is not defined for {attributes.get('name', '')}\")\n",
    "\n",
    "            return attributes\n",
    "\n",
    "        className2Object = cls.generate_classes_from_configs(\n",
    "            config_list=[cfg_core, cfg_thirdparty], suffix=\"_Object\", cls=Object, apply_attributes=update_attributes\n",
    "        )\n",
    "        return className2Object\n",
    "\n",
    "    @classmethod\n",
    "    def activate(cls, config_path: Optional[PathType] = None):\n",
    "        cls.className2Module = cls.load_brane_modules()\n",
    "        cls.className2Format = cls.load_brane_formats()\n",
    "        cls.className2Object = cls.load_brane_objects()"
   ]
  },
  {
   "cell_type": "markdown",
   "metadata": {},
   "source": [
    "\n",
    "        #Module.registered_modules = cls.sort_name2class(Module.registered_modules)"
   ]
  },
  {
   "cell_type": "markdown",
   "metadata": {},
   "source": [
    "### test"
   ]
  },
  {
   "cell_type": "code",
   "execution_count": 35,
   "metadata": {
    "ExecuteTime": {
     "end_time": "2022-06-01T16:23:43.937654Z",
     "start_time": "2022-06-01T16:23:43.925031Z"
    }
   },
   "outputs": [],
   "source": [
    "from brane.core.module import Module\n",
    "from brane.core.format import Format\n",
    "from brane.core.object import Object\n",
    "from brane.core.factory import Factory"
   ]
  },
  {
   "cell_type": "code",
   "execution_count": 104,
   "metadata": {
    "ExecuteTime": {
     "end_time": "2022-06-02T13:38:27.964592Z",
     "start_time": "2022-06-02T13:38:27.872932Z"
    }
   },
   "outputs": [
    {
     "data": {
      "text/plain": [
       "{None: brane.core.module.Module,\n",
       " 'json': brane.core.module.JsonModule,\n",
       " 'Pillow': brane.core.module.PillowModule,\n",
       " 'cv2': brane.core.module.CV2Module,\n",
       " 'pandas': brane.core.module.PandasModule,\n",
       " 'numpy': brane.core.module.NumpyModule}"
      ]
     },
     "execution_count": 104,
     "metadata": {},
     "output_type": "execute_result"
    }
   ],
   "source": [
    "Module.registered_modules"
   ]
  },
  {
   "cell_type": "code",
   "execution_count": 34,
   "metadata": {
    "ExecuteTime": {
     "end_time": "2022-06-01T16:23:05.418750Z",
     "start_time": "2022-06-01T16:23:05.399464Z"
    }
   },
   "outputs": [
    {
     "data": {
      "text/plain": [
       "{None: brane.core.format.Format,\n",
       " 'json': brane.core.format.JSON_Format,\n",
       " 'pkl': brane.core.format.PKL_Format,\n",
       " 'png': brane.core.format.PNG_Format,\n",
       " 'tsv': brane.core.format.TSV_Format,\n",
       " 'jpeg': brane.core.format.JPEG_Format,\n",
       " 'csv': brane.core.format.CSV_Format}"
      ]
     },
     "execution_count": 34,
     "metadata": {},
     "output_type": "execute_result"
    }
   ],
   "source": [
    "Format.registered_formats"
   ]
  },
  {
   "cell_type": "code",
   "execution_count": 37,
   "metadata": {
    "ExecuteTime": {
     "end_time": "2022-06-01T16:23:57.900989Z",
     "start_time": "2022-06-01T16:23:57.886555Z"
    }
   },
   "outputs": [
    {
     "data": {
      "text/plain": [
       "{'Object': brane.core.object.Object,\n",
       " 'Pandas_DataFrame_Object': brane.libs.objects.Pandas_DataFrame_Object,\n",
       " 'JSON_JSON_Object': brane.core.object.JSON_JSON_Object,\n",
       " 'PIL_Image_Object': brane.core.object.PIL_Image_Object,\n",
       " 'PIL_JPEG_Object': brane.core.object.PIL_JPEG_Object,\n",
       " 'PIL_PNG_Object': brane.core.object.PIL_PNG_Object}"
      ]
     },
     "execution_count": 37,
     "metadata": {},
     "output_type": "execute_result"
    }
   ],
   "source": [
    "Object.registered_objects"
   ]
  },
  {
   "cell_type": "code",
   "execution_count": 38,
   "metadata": {
    "ExecuteTime": {
     "end_time": "2022-06-01T16:24:11.980027Z",
     "start_time": "2022-06-01T16:24:11.964157Z"
    }
   },
   "outputs": [
    {
     "data": {
      "text/plain": [
       "{}"
      ]
     },
     "execution_count": 38,
     "metadata": {},
     "output_type": "execute_result"
    }
   ],
   "source": [
    "Factory.className2Format"
   ]
  },
  {
   "cell_type": "code",
   "execution_count": 41,
   "metadata": {
    "ExecuteTime": {
     "end_time": "2022-06-01T16:24:42.752552Z",
     "start_time": "2022-06-01T16:24:42.676046Z"
    }
   },
   "outputs": [
    {
     "name": "stdout",
     "output_type": "stream",
     "text": [
      "[DEBUG]: in MetaModule class_info={'module_name': 'json', 'base_kwargs_write': {'indent': 2}, 'file_arg_first': False, 'file_open_for_read': True, 'file_open_for_write': True, 'module_method_read': 'load', 'module_method_write': 'dump', 'name': 'json'}\n",
      "[DEBUG]: register cls.name = json, cls = <class 'brane.core.module.JsonModule'>\n",
      "[DEBUG]: in MetaModule class_info={'name': 'Pillow', 'module_name': 'PIL.Image', 'module_method_read': 'open', 'object_method_write': 'save'}\n",
      "[DEBUG]: register cls.name = Pillow, cls = <class 'brane.core.module.PillowModule'>\n",
      "[DEBUG]: in MetaModule class_info={'module_name': 'cv2', 'module_method_read': 'imread', 'module_method_write': 'imwrite', 'file_arg_first': True, 'name': 'cv2'}\n",
      "[DEBUG]: register cls.name = cv2, cls = <class 'brane.core.module.CV2Module'>\n",
      "[DEBUG]: in MetaModule class_info={'module_name': 'pandas', 'module_method_read': 'read_csv', 'object_method_write': 'to_csv', 'base_kwargs_write': {'index': None}, 'name': 'pandas'}\n",
      "[DEBUG]: register cls.name = pandas, cls = <class 'brane.core.module.PandasModule'>\n",
      "[DEBUG]: in MetaModule class_info={'module_name': 'numpy', 'module_method_read': 'load', 'module_method_write': 'save', 'file_arg_first': True, 'name': 'numpy'}\n",
      "[DEBUG]: register cls.name = numpy, cls = <class 'brane.core.module.NumpyModule'>\n",
      "[DEBUG]: register cls.name = JSON_JSONObject, cls = <class 'brane.core.object.JSON_JSONObject'>\n",
      "[DEBUG]: register cls.name = PIL_ImageObject, cls = <class 'brane.core.object.PIL_ImageObject'>\n",
      "[DEBUG]: register cls.name = PIL_JPEGObject, cls = <class 'brane.core.object.PIL_JPEGObject'>\n",
      "[DEBUG]: register cls.name = PIL_PNGObject, cls = <class 'brane.core.object.PIL_PNGObject'>\n",
      "[DEBUG]: in MetaFormat default_extension=json class_info={'default_extension': 'json', 'module_name': 'Json', 'module': <class 'brane.core.module.JsonModule'>, 'name': 'json', 'variation': ['json']}\n",
      "[DEBUG]: overwritten cls.name = json, cls = <class 'brane.core.format.JSONFormat'>\n",
      "[DEBUG]: in MetaFormat default_extension=pkl class_info={'default_extension': 'pkl', 'module_name': 'Pickle', 'module': None, 'name': 'pkl', 'variation': ['pkl']}\n",
      "[DEBUG]: overwritten cls.name = pkl, cls = <class 'brane.core.format.PKLFormat'>\n",
      "[DEBUG]: in MetaFormat default_extension=png class_info={'default_extension': 'png', 'module_name': 'Pillow', 'module': <class 'brane.core.module.PillowModule'>, 'name': 'png', 'variation': ['png']}\n",
      "[DEBUG]: overwritten cls.name = png, cls = <class 'brane.core.format.PNGFormat'>\n",
      "[DEBUG]: in MetaFormat default_extension=tsv class_info={'default_extension': 'tsv', 'module_name': 'Pandas', 'module': <class 'brane.core.module.PandasModule'>, 'name': 'tsv', 'variation': ['tsv']}\n",
      "[DEBUG]: overwritten cls.name = tsv, cls = <class 'brane.core.format.TSVFormat'>\n",
      "[DEBUG]: in MetaFormat default_extension=jpeg class_info={'default_extension': 'jpeg', 'variation': ['jpg', 'jpeg'], 'module_name': 'Pillow', 'module': <class 'brane.core.module.PillowModule'>, 'name': 'jpeg'}\n",
      "[DEBUG]: overwritten cls.name = jpeg, cls = <class 'brane.core.format.JPEGFormat'>\n",
      "[DEBUG]: in MetaFormat default_extension=csv class_info={'default_extension': 'csv', 'module_name': 'Pandas', 'module': <class 'brane.core.module.PandasModule'>, 'name': 'csv', 'variation': ['csv']}\n",
      "[DEBUG]: overwritten cls.name = csv, cls = <class 'brane.core.format.CSVFormat'>\n"
     ]
    }
   ],
   "source": [
    "Factory.activate()"
   ]
  },
  {
   "cell_type": "code",
   "execution_count": 47,
   "metadata": {
    "ExecuteTime": {
     "end_time": "2022-06-01T16:25:18.591157Z",
     "start_time": "2022-06-01T16:25:18.567400Z"
    }
   },
   "outputs": [
    {
     "data": {
      "text/plain": [
       "{'Json': brane.core.module.JsonModule,\n",
       " 'Pillow': brane.core.module.PillowModule,\n",
       " 'CV2': brane.core.module.CV2Module,\n",
       " 'Pandas': brane.core.module.PandasModule,\n",
       " 'Numpy': brane.core.module.NumpyModule}"
      ]
     },
     "execution_count": 47,
     "metadata": {},
     "output_type": "execute_result"
    }
   ],
   "source": [
    "Factory.className2Module"
   ]
  },
  {
   "cell_type": "code",
   "execution_count": 42,
   "metadata": {
    "ExecuteTime": {
     "end_time": "2022-06-01T16:24:47.236552Z",
     "start_time": "2022-06-01T16:24:47.216167Z"
    }
   },
   "outputs": [
    {
     "data": {
      "text/plain": [
       "{'JSON': brane.core.format.JSONFormat,\n",
       " 'PKL': brane.core.format.PKLFormat,\n",
       " 'PNG': brane.core.format.PNGFormat,\n",
       " 'TSV': brane.core.format.TSVFormat,\n",
       " 'JPEG': brane.core.format.JPEGFormat,\n",
       " 'CSV': brane.core.format.CSVFormat}"
      ]
     },
     "execution_count": 42,
     "metadata": {},
     "output_type": "execute_result"
    }
   ],
   "source": [
    "Factory.className2Format"
   ]
  },
  {
   "cell_type": "code",
   "execution_count": 46,
   "metadata": {
    "ExecuteTime": {
     "end_time": "2022-06-01T16:25:12.443276Z",
     "start_time": "2022-06-01T16:25:12.426596Z"
    }
   },
   "outputs": [
    {
     "data": {
      "text/plain": [
       "{'JSON_JSON': brane.core.object.JSON_JSONObject,\n",
       " 'PIL_Image': brane.core.object.PIL_ImageObject,\n",
       " 'PIL_JPEG': brane.core.object.PIL_JPEGObject,\n",
       " 'PIL_PNG': brane.core.object.PIL_PNGObject}"
      ]
     },
     "execution_count": 46,
     "metadata": {},
     "output_type": "execute_result"
    }
   ],
   "source": [
    "Factory.className2Object"
   ]
  },
  {
   "cell_type": "code",
   "execution_count": 43,
   "metadata": {
    "ExecuteTime": {
     "end_time": "2022-06-01T16:24:56.761357Z",
     "start_time": "2022-06-01T16:24:56.733366Z"
    }
   },
   "outputs": [
    {
     "data": {
      "text/plain": [
       "{None: brane.core.module.Module,\n",
       " 'json': brane.core.module.JsonModule,\n",
       " 'Pillow': brane.core.module.PillowModule,\n",
       " 'cv2': brane.core.module.CV2Module,\n",
       " 'pandas': brane.core.module.PandasModule,\n",
       " 'numpy': brane.core.module.NumpyModule}"
      ]
     },
     "execution_count": 43,
     "metadata": {},
     "output_type": "execute_result"
    }
   ],
   "source": [
    "Module.registered_modules"
   ]
  },
  {
   "cell_type": "code",
   "execution_count": 44,
   "metadata": {
    "ExecuteTime": {
     "end_time": "2022-06-01T16:24:57.040637Z",
     "start_time": "2022-06-01T16:24:57.017851Z"
    }
   },
   "outputs": [
    {
     "data": {
      "text/plain": [
       "{None: brane.core.format.Format,\n",
       " 'json': brane.core.format.JSONFormat,\n",
       " 'pkl': brane.core.format.PKLFormat,\n",
       " 'png': brane.core.format.PNGFormat,\n",
       " 'tsv': brane.core.format.TSVFormat,\n",
       " 'jpeg': brane.core.format.JPEGFormat,\n",
       " 'csv': brane.core.format.CSVFormat}"
      ]
     },
     "execution_count": 44,
     "metadata": {},
     "output_type": "execute_result"
    }
   ],
   "source": [
    "Format.registered_formats"
   ]
  },
  {
   "cell_type": "code",
   "execution_count": 45,
   "metadata": {
    "ExecuteTime": {
     "end_time": "2022-06-01T16:24:58.415110Z",
     "start_time": "2022-06-01T16:24:58.396287Z"
    }
   },
   "outputs": [
    {
     "data": {
      "text/plain": [
       "{'Object': brane.core.object.Object,\n",
       " 'Pandas_DataFrame_Object': brane.libs.objects.Pandas_DataFrame_Object,\n",
       " 'JSON_JSON_Object': brane.core.object.JSON_JSON_Object,\n",
       " 'PIL_Image_Object': brane.core.object.PIL_Image_Object,\n",
       " 'PIL_JPEG_Object': brane.core.object.PIL_JPEG_Object,\n",
       " 'PIL_PNG_Object': brane.core.object.PIL_PNG_Object,\n",
       " 'JSON_JSONObject': brane.core.object.JSON_JSONObject,\n",
       " 'PIL_ImageObject': brane.core.object.PIL_ImageObject,\n",
       " 'PIL_JPEGObject': brane.core.object.PIL_JPEGObject,\n",
       " 'PIL_PNGObject': brane.core.object.PIL_PNGObject}"
      ]
     },
     "execution_count": 45,
     "metadata": {},
     "output_type": "execute_result"
    }
   ],
   "source": [
    "Object.registered_objects"
   ]
  },
  {
   "cell_type": "markdown",
   "metadata": {},
   "source": [
    "### workspace"
   ]
  },
  {
   "cell_type": "code",
   "execution_count": 108,
   "metadata": {
    "ExecuteTime": {
     "end_time": "2022-06-02T13:40:48.720405Z",
     "start_time": "2022-06-02T13:40:48.699169Z"
    }
   },
   "outputs": [
    {
     "data": {
      "text/plain": [
       "-1"
      ]
     },
     "execution_count": 108,
     "metadata": {},
     "output_type": "execute_result"
    }
   ],
   "source": [
    "Module.registered_modules[\"json\"].priority"
   ]
  },
  {
   "cell_type": "code",
   "execution_count": 117,
   "metadata": {
    "ExecuteTime": {
     "end_time": "2022-06-02T13:45:15.961155Z",
     "start_time": "2022-06-02T13:45:15.932321Z"
    }
   },
   "outputs": [
    {
     "data": {
      "text/plain": [
       "{None: brane.core.module.Module,\n",
       " 'json': brane.core.module.JsonModule,\n",
       " 'Pillow': brane.core.module.PillowModule,\n",
       " 'cv2': brane.core.module.CV2Module,\n",
       " 'pandas': brane.core.module.PandasModule,\n",
       " 'numpy': brane.core.module.NumpyModule}"
      ]
     },
     "execution_count": 117,
     "metadata": {},
     "output_type": "execute_result"
    }
   ],
   "source": [
    "Module.registered_modules"
   ]
  },
  {
   "cell_type": "code",
   "execution_count": 111,
   "metadata": {
    "ExecuteTime": {
     "end_time": "2022-06-02T13:43:16.354057Z",
     "start_time": "2022-06-02T13:43:16.322750Z"
    }
   },
   "outputs": [],
   "source": [
    "tmp = [\n",
    "    (\"a\", {\"p\":3}),\n",
    "    (\"b\", {\"p\":4}),\n",
    "    (\"c\", {\"p\":1}),\n",
    "    (\"d\", {\"p\":2}),\n",
    "]"
   ]
  },
  {
   "cell_type": "code",
   "execution_count": 114,
   "metadata": {
    "ExecuteTime": {
     "end_time": "2022-06-02T13:43:56.046289Z",
     "start_time": "2022-06-02T13:43:56.017447Z"
    }
   },
   "outputs": [
    {
     "data": {
      "text/plain": [
       "dict"
      ]
     },
     "execution_count": 114,
     "metadata": {},
     "output_type": "execute_result"
    }
   ],
   "source": [
    "type(Module.registered_modules)"
   ]
  },
  {
   "cell_type": "code",
   "execution_count": 121,
   "metadata": {
    "ExecuteTime": {
     "end_time": "2022-06-02T13:45:59.116028Z",
     "start_time": "2022-06-02T13:45:59.084592Z"
    }
   },
   "outputs": [
    {
     "data": {
      "text/plain": [
       "{'Object': brane.core.object.Object,\n",
       " 'Json_JSONObject': brane.core.object.Json_JSONObject,\n",
       " 'PIL_ImageObject': brane.core.object.PIL_ImageObject,\n",
       " 'PIL_JPEGObject': brane.core.object.PIL_JPEGObject,\n",
       " 'PIL_PNGObject': brane.core.object.PIL_PNGObject,\n",
       " 'Pandas_DataFrameObject': brane.core.object.Pandas_DataFrameObject}"
      ]
     },
     "execution_count": 121,
     "metadata": {},
     "output_type": "execute_result"
    }
   ],
   "source": [
    "Object.registered_objects"
   ]
  },
  {
   "cell_type": "code",
   "execution_count": 126,
   "metadata": {
    "ExecuteTime": {
     "end_time": "2022-06-02T13:49:14.485228Z",
     "start_time": "2022-06-02T13:49:14.458411Z"
    }
   },
   "outputs": [
    {
     "data": {
      "text/plain": [
       "[('Object', brane.core.object.Object),\n",
       " ('Json_JSONObject', brane.core.object.Json_JSONObject),\n",
       " ('PIL_ImageObject', brane.core.object.PIL_ImageObject),\n",
       " ('PIL_JPEGObject', brane.core.object.PIL_JPEGObject),\n",
       " ('PIL_PNGObject', brane.core.object.PIL_PNGObject),\n",
       " ('Pandas_DataFrameObject', brane.core.object.Pandas_DataFrameObject)]"
      ]
     },
     "execution_count": 126,
     "metadata": {},
     "output_type": "execute_result"
    }
   ],
   "source": [
    "sorted(Object.registered_objects.items(), key=lambda x: x[1].priority, reverse=True)"
   ]
  },
  {
   "cell_type": "code",
   "execution_count": null,
   "metadata": {},
   "outputs": [],
   "source": []
  },
  {
   "cell_type": "code",
   "execution_count": 116,
   "metadata": {
    "ExecuteTime": {
     "end_time": "2022-06-02T13:44:38.331170Z",
     "start_time": "2022-06-02T13:44:38.301531Z"
    }
   },
   "outputs": [
    {
     "data": {
      "text/plain": [
       "[('c', {'p': 1}), ('d', {'p': 2}), ('a', {'p': 3}), ('b', {'p': 4})]"
      ]
     },
     "execution_count": 116,
     "metadata": {},
     "output_type": "execute_result"
    }
   ],
   "source": [
    "sorted(tmp, key=lambda x:x[1][\"p\"])"
   ]
  },
  {
   "cell_type": "code",
   "execution_count": 113,
   "metadata": {
    "ExecuteTime": {
     "end_time": "2022-06-02T13:43:34.676288Z",
     "start_time": "2022-06-02T13:43:34.659721Z"
    }
   },
   "outputs": [
    {
     "data": {
      "text/plain": [
       "[('a', {'p': 3}), ('b', {'p': 4}), ('c', {'p': 1}), ('d', {'p': 2})]"
      ]
     },
     "execution_count": 113,
     "metadata": {},
     "output_type": "execute_result"
    }
   ],
   "source": [
    "tmp"
   ]
  },
  {
   "cell_type": "code",
   "execution_count": null,
   "metadata": {},
   "outputs": [],
   "source": []
  },
  {
   "cell_type": "code",
   "execution_count": 105,
   "metadata": {
    "ExecuteTime": {
     "end_time": "2022-06-02T13:40:30.421181Z",
     "start_time": "2022-06-02T13:40:30.387537Z"
    }
   },
   "outputs": [
    {
     "data": {
      "text/plain": [
       "<brane.core.factory.Factory at 0x7ff4da1c3a00>"
      ]
     },
     "execution_count": 105,
     "metadata": {},
     "output_type": "execute_result"
    }
   ],
   "source": [
    "xio.factory."
   ]
  },
  {
   "cell_type": "code",
   "execution_count": null,
   "metadata": {},
   "outputs": [],
   "source": []
  },
  {
   "cell_type": "code",
   "execution_count": 68,
   "metadata": {
    "ExecuteTime": {
     "end_time": "2022-06-01T16:42:03.116025Z",
     "start_time": "2022-06-01T16:42:03.094289Z"
    }
   },
   "outputs": [],
   "source": [
    "class A:\n",
    "    _instance = None\n",
    "    def __init__(self, *args, **kwargs):\n",
    "        self.info = kwargs\n",
    "\n",
    "    def __new__(cls, *args, **kwargs):\n",
    "        if cls._instance is None:\n",
    "            cls._instance = super(A, cls).__new__(cls)#, *args, **kwargs)\n",
    "        return cls._instance#(*args, **kwargs)"
   ]
  },
  {
   "cell_type": "code",
   "execution_count": 69,
   "metadata": {
    "ExecuteTime": {
     "end_time": "2022-06-01T16:42:04.516880Z",
     "start_time": "2022-06-01T16:42:04.504003Z"
    }
   },
   "outputs": [],
   "source": [
    "a = A(a=2, b=4)"
   ]
  },
  {
   "cell_type": "code",
   "execution_count": 71,
   "metadata": {
    "ExecuteTime": {
     "end_time": "2022-06-01T16:42:40.064226Z",
     "start_time": "2022-06-01T16:42:40.026612Z"
    }
   },
   "outputs": [],
   "source": [
    "a2 = A()"
   ]
  },
  {
   "cell_type": "code",
   "execution_count": 72,
   "metadata": {
    "ExecuteTime": {
     "end_time": "2022-06-01T16:42:43.992773Z",
     "start_time": "2022-06-01T16:42:43.964033Z"
    }
   },
   "outputs": [
    {
     "data": {
      "text/plain": [
       "(<__main__.A at 0x7f156fda60d0>, <__main__.A at 0x7f156fda60d0>)"
      ]
     },
     "execution_count": 72,
     "metadata": {},
     "output_type": "execute_result"
    }
   ],
   "source": [
    "a, a2"
   ]
  },
  {
   "cell_type": "code",
   "execution_count": 73,
   "metadata": {
    "ExecuteTime": {
     "end_time": "2022-06-01T16:42:48.019042Z",
     "start_time": "2022-06-01T16:42:47.979357Z"
    }
   },
   "outputs": [
    {
     "data": {
      "text/plain": [
       "({}, {})"
      ]
     },
     "execution_count": 73,
     "metadata": {},
     "output_type": "execute_result"
    }
   ],
   "source": [
    "a.info, a2.info"
   ]
  },
  {
   "cell_type": "code",
   "execution_count": 65,
   "metadata": {
    "ExecuteTime": {
     "end_time": "2022-06-01T16:41:42.510517Z",
     "start_time": "2022-06-01T16:41:42.488490Z"
    }
   },
   "outputs": [
    {
     "data": {
      "text/plain": [
       "<__main__.A at 0x7f156fef6b80>"
      ]
     },
     "execution_count": 65,
     "metadata": {},
     "output_type": "execute_result"
    }
   ],
   "source": [
    "a._instance"
   ]
  },
  {
   "cell_type": "code",
   "execution_count": null,
   "metadata": {},
   "outputs": [],
   "source": []
  },
  {
   "cell_type": "markdown",
   "metadata": {},
   "source": [
    "### backup"
   ]
  },
  {
   "cell_type": "code",
   "execution_count": 73,
   "metadata": {
    "ExecuteTime": {
     "end_time": "2022-06-07T17:00:06.025449Z",
     "start_time": "2022-06-07T17:00:05.301823Z"
    }
   },
   "outputs": [],
   "source": [
    "!echo 'CORE_MODULE_CONFIG_PATH: str = os.path.abspath(os.path.join(__file__, \"../../../\", \"{MODULE_CFG_CORE}\"))' >> {FACTORY_PY}\n",
    "!echo 'THIRDPARTY_MODULE_CONFIG_PATH: str = os.path.abspath(os.path.join(__file__, \"../../../\", \"{MODULE_CFG_THIRDPARTY}\"))' >> {FACTORY_PY}\n",
    "!echo 'CORE_FORMAT_CONFIG_PATH: str = os.path.abspath(os.path.join(__file__, \"../../../\", \"{FORMAT_CFG_CORE}\"))' >> {FACTORY_PY}\n",
    "!echo 'THIRDPARTY_FORMAT_CONFIG_PATH: str = os.path.abspath(os.path.join(__file__, \"../../../\", \"{FORMAT_CFG_THIRDPARTY}\"))' >> {FACTORY_PY}\n",
    "!echo 'CORE_OBJECT_CONFIG_PATH: str = os.path.abspath(os.path.join(__file__, \"../../../\", \"{OBJECT_CFG_CORE}\"))' >> {FACTORY_PY}\n",
    "!echo 'THIRDPARTY_OBJECT_CONFIG_PATH: str = os.path.abspath(os.path.join(__file__, \"../../../\", \"{OBJECT_CFG_THIRDPARTY}\"))' >> {FACTORY_PY}"
   ]
  },
  {
   "cell_type": "code",
   "execution_count": null,
   "metadata": {},
   "outputs": [],
   "source": []
  },
  {
   "cell_type": "markdown",
   "metadata": {},
   "source": [
    "## Hook"
   ]
  },
  {
   "cell_type": "markdown",
   "metadata": {},
   "source": [
    "* 複数のhookを集めて、名前を付けたい\n",
    "    * 例：PILResizeHookとCV2ResizeHook -> ImageResizeHook"
   ]
  },
  {
   "cell_type": "markdown",
   "metadata": {},
   "source": [
    "### definition"
   ]
  },
  {
   "cell_type": "markdown",
   "metadata": {},
   "source": [
    "#### core"
   ]
  },
  {
   "cell_type": "code",
   "execution_count": 35,
   "metadata": {
    "ExecuteTime": {
     "end_time": "2022-06-08T17:31:05.418608Z",
     "start_time": "2022-06-08T17:31:05.397494Z"
    }
   },
   "outputs": [
    {
     "name": "stdout",
     "output_type": "stream",
     "text": [
      "Overwriting ./brane/core/hook.py\n"
     ]
    }
   ],
   "source": [
    "%%writefile {HOOK_PY}\n",
    "from __future__ import annotations\n",
    "from abc import ABCMeta, abstractmethod"
   ]
  },
  {
   "cell_type": "code",
   "execution_count": 36,
   "metadata": {
    "ExecuteTime": {
     "end_time": "2022-06-08T17:31:05.997097Z",
     "start_time": "2022-06-08T17:31:05.874466Z"
    }
   },
   "outputs": [],
   "source": [
    "!echo '{generate_import(TYPE_PY, \"*  # noqa: F403\")}' >> {HOOK_PY}"
   ]
  },
  {
   "cell_type": "code",
   "execution_count": 37,
   "metadata": {
    "ExecuteTime": {
     "end_time": "2022-06-08T17:31:06.294014Z",
     "start_time": "2022-06-08T17:31:06.277642Z"
    }
   },
   "outputs": [
    {
     "name": "stdout",
     "output_type": "stream",
     "text": [
      "Appending to ./brane/core/hook.py\n"
     ]
    }
   ],
   "source": [
    "%%writefile -a {HOOK_PY}\n",
    "\n",
    "\n",
    "class Hook(HookClassType, metaclass=ABCMeta):\n",
    "    hook_name: Optional[str] = None\n",
    "    flag: HookFlagType = None # other name convention: marker\n",
    "    _active: bool = True\n",
    "    def __init__(self, name: Optional[str] = None, flag: HookFlagType = None):\n",
    "        self.hook_name: Optional[str] = name\n",
    "        self.flag: HookFlagType = flag # other name convention: marker\n",
    "        self._active: bool = True\n",
    "\n",
    "    def condition(self, info: ContextInterface) -> bool:\n",
    "        return True\n",
    "\n",
    "    @abstractmethod\n",
    "    def __call__(self, info: ContextInterface) -> Union[ContextInterface, None]:\n",
    "        raise NotImplementedError\n",
    "    \n",
    "    @property\n",
    "    def active(self) -> bool:\n",
    "        return self._active\n",
    "\n",
    "    def activate(self):\n",
    "        self._active = True\n",
    "\n",
    "    def deactivate(self):\n",
    "        self._active = False\n",
    "\n",
    "    def __repr__(self) -> str:\n",
    "        if self.hook_name is not None:\n",
    "            return self.hook_name\n",
    "\n",
    "\n",
    "class FunctionHook(Hook):\n",
    "    def __init__(self, func: Callable[ContextInterface, ContextInterface],\n",
    "                 condition_func: Callable[ContextInterface, bool] = lambda info: True,\n",
    "                 name: Optional[str] = None, flag: HookFlagType = None, **kwargs_exp):\n",
    "        \"\"\"\n",
    "        Args:\n",
    "            func: hook function. It recevices context including path/paths, object/objects and return \n",
    "            condition_func: evaluate  whether this hook is called or not based on the context.\n",
    "            name:\n",
    "            flag:\n",
    "            \n",
    "            # experimental keyword aruguments\n",
    "            skip_when_error:\n",
    "            object_type (type):\n",
    "            container_type (None|'list'|'tuple'|'dict'):\n",
    "            is_multiple_objects (bool):\n",
    "        \"\"\"\n",
    "        super().__init__(name=name, flag=flag)\n",
    "        self.hook_func = func\n",
    "\n",
    "        if \"skip_when_error\" in kwargs_exp:\n",
    "            self.skip_when_error = kwargs_exp[\"skip_when_error\"]  # not used yet\n",
    "\n",
    "        if \"object_type\" in kwargs_exp:\n",
    "            target_object_type: type = kwargs_exp[\"object_type\"]\n",
    "            # container_type = kwargs_exp.get(\"container_type\", None)\n",
    "            # is_multiple_objects: bool = kwargs_exp.get(\"is_multiple_objects\", False)\n",
    "            # [ARG]: should use higher order function ?\n",
    "            def check_object_type(obj: Any) -> bool:\n",
    "                # nonlocal target_object_type\n",
    "                return isinstance(obj, target_object_type)\n",
    "            \n",
    "            #if is_multiple_objects:\n",
    "            def new_condition(info: ContextInterface) -> bool:\n",
    "                obj = info.get(\"object\", None)\n",
    "                objs = info.get(\"objects\", None)\n",
    "                if objs is None and obj is not None:\n",
    "                    return check_object_type(obj) and condition_func(info)\n",
    "                if objs is not None and obj is None:\n",
    "                    if isinstance(objs, list) or isinstance(objs, tuple):\n",
    "                        return all(map(check_object_type, objs)) and condition_func(info)\n",
    "                    elif isinstance(objs, dict):\n",
    "                        return all(map(check_object_type, objs.values())) and condition_func(info)\n",
    "                    else:\n",
    "                        raise NotImplementedError(type(objs))\n",
    "                else:\n",
    "                    raise AssertionError()\n",
    "            #if container_type == \"sequence\":\n",
    "            #    def new_condition(info: ContextInterface) -> bool:\n",
    "            #        objs = info.get(\"objects\", None)\n",
    "            #        container_type_check = isinstance(objs, list) or isinstance(objs, tuple)\n",
    "            #        return container_type_check and all(map(check_object_type, objs)) and condition_func(info)\n",
    "            #elif container_type == \"mapping\":\n",
    "            #    def new_condition(info: ContextInterface) -> bool:\n",
    "            #        objs = info.get(\"objects\", None)\n",
    "            #        container_type_check = isinstance(objs, dict)\n",
    "            #        return container_type_check and all(map(check_object_type, objs.values())) and condition_func(info)\n",
    "            #else:\n",
    "            #    def new_condition(info: ContextInterface) -> bool:\n",
    "            #        # info = { \"object\": obj, ... }\n",
    "            #        obj = info.get(\"object\", None)\n",
    "            #        return check_object_type(obj) and condition_func(info)\n",
    "            self.condition_func = new_condition\n",
    "        else:\n",
    "            self.condition_func = condition_func\n",
    "\n",
    "    def __call__(self, info: ContextInterface) -> ContextInterface:\n",
    "        return self.hook_func(info)\n",
    "    \n",
    "    def condition(self, info: ContextInterface) -> bool:\n",
    "        return self.condition_func(info)\n",
    "\n",
    "    def __repr__(self) -> str:\n",
    "        if self.hook_name is not None:\n",
    "            return self.hook_name\n",
    "        else:\n",
    "            return repr(self.hook_func)"
   ]
  },
  {
   "cell_type": "markdown",
   "metadata": {},
   "source": [
    "#### libs"
   ]
  },
  {
   "cell_type": "code",
   "execution_count": 38,
   "metadata": {
    "ExecuteTime": {
     "end_time": "2022-06-08T17:31:07.874955Z",
     "start_time": "2022-06-08T17:31:07.845413Z"
    }
   },
   "outputs": [
    {
     "name": "stdout",
     "output_type": "stream",
     "text": [
      "Overwriting ./brane/libs/hooks.py\n"
     ]
    }
   ],
   "source": [
    "%%writefile {LIB_HOOK_PY}\n",
    "from __future__ import annotations"
   ]
  },
  {
   "cell_type": "code",
   "execution_count": 39,
   "metadata": {
    "ExecuteTime": {
     "end_time": "2022-06-08T17:31:08.483483Z",
     "start_time": "2022-06-08T17:31:08.125318Z"
    }
   },
   "outputs": [],
   "source": [
    "!echo '{generate_import(TYPE_PY, \"*  # noqa: F403\")}' >> {LIB_HOOK_PY}\n",
    "!echo '{generate_import(HOOK_PY, \"Hook\")}' >> {LIB_HOOK_PY}\n",
    "!echo '{generate_import(FACTORY_PY, \"Factory\")}' >> {LIB_HOOK_PY}"
   ]
  },
  {
   "cell_type": "code",
   "execution_count": 40,
   "metadata": {
    "ExecuteTime": {
     "end_time": "2022-06-08T17:31:08.503193Z",
     "start_time": "2022-06-08T17:31:08.487209Z"
    }
   },
   "outputs": [
    {
     "name": "stdout",
     "output_type": "stream",
     "text": [
      "Appending to ./brane/libs/hooks.py\n"
     ]
    }
   ],
   "source": [
    "%%writefile -a {LIB_HOOK_PY}\n",
    "\n",
    "class PILResizeHook(Hook):\n",
    "    hook_name = \"PILResize\"\n",
    "    def __init__(self, size, resample=None):\n",
    "        from PIL import Image as PILImage\n",
    "        if resample is None:\n",
    "            resample = PILImage.BILINEAR\n",
    "        self.size = size\n",
    "        self.resample = resample\n",
    "\n",
    "    def condition(self, info: ContextInterface) -> bool:\n",
    "        obj = info.get(\"object\", None)\n",
    "        is_jpeg = isinstance(obj, Factory.className2Object[\"PIL_JPEG\"].object)\n",
    "        is_png = isinstance(obj, Factory.className2Object[\"PIL_PNG\"].object)\n",
    "        return is_jpeg or is_png\n",
    "\n",
    "    def __call__(self, info: ContextInterface):\n",
    "        print(\"resize\")\n",
    "        obj = info.get(\"object\")\n",
    "        return obj.resize(self.size, self.resample)"
   ]
  },
  {
   "cell_type": "markdown",
   "metadata": {},
   "source": [
    "#### hook definitions"
   ]
  },
  {
   "cell_type": "code",
   "execution_count": 41,
   "metadata": {
    "ExecuteTime": {
     "end_time": "2022-06-08T17:31:09.119436Z",
     "start_time": "2022-06-08T17:31:09.104476Z"
    }
   },
   "outputs": [
    {
     "name": "stdout",
     "output_type": "stream",
     "text": [
      "Appending to ./brane/libs/hooks.py\n"
     ]
    }
   ],
   "source": [
    "%%writefile -a {LIB_HOOK_PY}\n",
    "\n",
    "import os  # noqa: E402\n",
    "\n",
    "# add candidate suggestion function ?\n",
    "def check_path_existence(info: ContextInterface):\n",
    "    path = info[\"path\"]\n",
    "    assert os.path.exists(str(path)), f\"The specified path is not found, {path}\"\n",
    "\n",
    "def create_parent_directory(info: ContextInterface):\n",
    "    path = info[\"path\"]\n",
    "    parent_dir = os.path.dirname(str(path))\n",
    "    if parent_dir:\n",
    "        os.makedirs(parent_dir, exist_ok=True)"
   ]
  },
  {
   "cell_type": "markdown",
   "metadata": {},
   "source": [
    "### test"
   ]
  },
  {
   "cell_type": "code",
   "execution_count": 63,
   "metadata": {
    "ExecuteTime": {
     "end_time": "2022-05-15T14:46:43.254246Z",
     "start_time": "2022-05-15T14:46:43.226528Z"
    },
    "scrolled": true
   },
   "outputs": [
    {
     "name": "stdout",
     "output_type": "stream",
     "text": [
      "[DEBUG]: register cls.name = PIL_Image_Object, cls = <class 'brane.libs.objects.PIL_Image_Object'>\n",
      "[DEBUG]: register cls.name = PIL_JPEG_Object, cls = <class 'brane.libs.objects.PIL_JPEG_Object'>\n",
      "[DEBUG]: register cls.name = PIL_PNG_Object, cls = <class 'brane.libs.objects.PIL_PNG_Object'>\n",
      "[DEBUG]: register cls.name = Pandas_DataFrame_Object, cls = <class 'brane.libs.objects.Pandas_DataFrame_Object'>\n",
      "[DEBUG]: register cls.name = Json_Json_Object, cls = <class 'brane.libs.objects.Json_Json_Object'>\n"
     ]
    }
   ],
   "source": [
    "from brane.core.hook import FunctionHook\n",
    "from brane.libs.hooks import check_path_existence"
   ]
  },
  {
   "cell_type": "code",
   "execution_count": 64,
   "metadata": {
    "ExecuteTime": {
     "end_time": "2022-05-15T14:46:43.278742Z",
     "start_time": "2022-05-15T14:46:43.256809Z"
    }
   },
   "outputs": [
    {
     "data": {
      "text/plain": [
       "<function check_path_existence at 0x7f2c4aa320d0>"
      ]
     },
     "execution_count": 64,
     "metadata": {},
     "output_type": "execute_result"
    }
   ],
   "source": [
    "hook1 = FunctionHook(func=check_path_existence)\n",
    "hook1"
   ]
  },
  {
   "cell_type": "code",
   "execution_count": 65,
   "metadata": {
    "ExecuteTime": {
     "end_time": "2022-05-15T14:46:43.305414Z",
     "start_time": "2022-05-15T14:46:43.281665Z"
    }
   },
   "outputs": [
    {
     "data": {
      "text/plain": [
       "my_hook"
      ]
     },
     "execution_count": 65,
     "metadata": {},
     "output_type": "execute_result"
    }
   ],
   "source": [
    "hook1 = FunctionHook(func=check_path_existence, name=\"my_hook\")\n",
    "hook1"
   ]
  },
  {
   "cell_type": "markdown",
   "metadata": {},
   "source": [
    "### develop"
   ]
  },
  {
   "cell_type": "code",
   "execution_count": 66,
   "metadata": {
    "ExecuteTime": {
     "end_time": "2022-05-15T14:46:43.358196Z",
     "start_time": "2022-05-15T14:46:43.307964Z"
    }
   },
   "outputs": [
    {
     "ename": "NameError",
     "evalue": "name 'Hook' is not defined",
     "output_type": "error",
     "traceback": [
      "\u001b[0;31m---------------------------------------------------------------------------\u001b[0m",
      "\u001b[0;31mNameError\u001b[0m                                 Traceback (most recent call last)",
      "Input \u001b[0;32mIn [66]\u001b[0m, in \u001b[0;36m<cell line: 1>\u001b[0;34m()\u001b[0m\n\u001b[0;32m----> 1\u001b[0m \u001b[38;5;28;01mclass\u001b[39;00m \u001b[38;5;21;01mObjectTriggerHook\u001b[39;00m(\u001b[43mHook\u001b[49m):\n\u001b[1;32m      2\u001b[0m     \u001b[38;5;28;01mdef\u001b[39;00m \u001b[38;5;21m__init__\u001b[39m(\u001b[38;5;28mself\u001b[39m, object_type: \u001b[38;5;28mstr\u001b[39m, func, condition_func\u001b[38;5;241m=\u001b[39m\u001b[38;5;28;01mlambda\u001b[39;00m info: \u001b[38;5;28;01mTrue\u001b[39;00m, name\u001b[38;5;241m=\u001b[39m\u001b[38;5;28;01mNone\u001b[39;00m, \u001b[38;5;241m*\u001b[39m\u001b[38;5;241m*\u001b[39mkwargs_exp):\n\u001b[1;32m      3\u001b[0m         \u001b[38;5;28mself\u001b[39m\u001b[38;5;241m.\u001b[39mhook_name \u001b[38;5;241m=\u001b[39m name\n",
      "\u001b[0;31mNameError\u001b[0m: name 'Hook' is not defined"
     ]
    }
   ],
   "source": [
    "class ObjectTriggerHook(Hook):\n",
    "    def __init__(self, object_type: str, func, condition_func=lambda info: True, name=None, **kwargs_exp):\n",
    "        self.hook_name = name\n",
    "\n",
    "        if \"skip_when_error\" in kwargs_exp:\n",
    "            self.skip_when_error = kwargs_exp[\"skip_when_error\"]\n",
    "\n",
    "        if \"object_type\" in kwargs_exp:\n",
    "            target_object_type = kwargs_exp[\"object_type\"]\n",
    "            container_type = kwargs_exp.get(\"container_type\", None)\n",
    "            def check_object_type(obj):### [ARG]: should use higher order function ?\n",
    "                # nonlocal target_object_type\n",
    "                return isinstance(obj, target_object_type)\n",
    "\n",
    "            if container_type == \"list\":\n",
    "                def new_condition(info):\n",
    "                    objs = info.get(\"objects\", None)\n",
    "                    container_type_check = isinstance(objs, list)\n",
    "                    return container_type_check and all(map(check_object_type, objs)) and condition_func(info)\n",
    "            elif container_type == \"tuple\":\n",
    "                raise NotImplementedError\n",
    "            elif container_type == \"dict\":\n",
    "                raise NotImplementedError\n",
    "            else:\n",
    "                def new_condition(info):\n",
    "                    # info = { \"object\": obj, ... }\n",
    "                    obj = info.get(\"object\", None)\n",
    "                    return check_object_type(obj) and condition_func(info)\n",
    "            self.condition_func = new_condition\n",
    "        else:\n",
    "            self.condition_func = condition_func\n",
    "\n",
    "    def __call__(self, info):\n",
    "        return self.hook_func(info)\n",
    "    \n",
    "    def condition(self, info):\n",
    "        return self.condition_func(info)"
   ]
  },
  {
   "cell_type": "code",
   "execution_count": null,
   "metadata": {},
   "outputs": [],
   "source": []
  },
  {
   "cell_type": "code",
   "execution_count": null,
   "metadata": {
    "ExecuteTime": {
     "end_time": "2022-05-15T14:46:43.361389Z",
     "start_time": "2022-05-15T14:46:43.361366Z"
    }
   },
   "outputs": [],
   "source": [
    "class FunctionHook(Hook):\n",
    "    def __init__(self, func, condition_func=lambda info: True, name=None, **kwargs_exp):\n",
    "        \"\"\"\n",
    "\n",
    "        kwargs_exp: experimental keyword aruguments\n",
    "        * skip_wehn_error\n",
    "        * object_type: type\n",
    "        * container_type (Optional[str]): literal: list, tuple, dict\n",
    "        \"\"\"\n",
    "        self.hook_func = func\n",
    "        self.hook_name = name\n",
    "        #self.condition_func = condition_func\n",
    "        \n",
    "        if \"skip_when_error\" in kwargs_exp:\n",
    "            self.skip_when_error = kwargs_exp[\"skip_when_error\"]# not used yet\n",
    "\n",
    "        if \"object_type\" in kwargs_exp:\n",
    "            target_object_type = kwargs_exp[\"object_type\"]\n",
    "            container_type = kwargs_exp.get(\"container_type\", None)\n",
    "            def check_object_type(obj):### [ARG]: should use higher order function ?\n",
    "                # nonlocal target_object_type\n",
    "                return isinstance(obj, target_object_type)\n",
    "\n",
    "            if container_type == \"list\":\n",
    "                def new_condition(info):\n",
    "                    #print(\"[LOG: hook-coondition]\")\n",
    "                    objs = info.get(\"objects\", None)\n",
    "                    container_type_check = isinstance(objs, list)\n",
    "                    return container_type_check and all(map(check_object_type, objs)) and condition_func(info)\n",
    "            elif container_type == \"tuple\":\n",
    "                raise NotImplementedError\n",
    "            elif container_type == \"dict\":\n",
    "                raise NotImplementedError\n",
    "            else:\n",
    "                def new_condition(info):\n",
    "                    # info = { \"object\": obj, ... }\n",
    "                    obj = info.get(\"object\", None)\n",
    "                    return check_object_type(obj) and condition_func(info)\n",
    "            self.condition_func = new_condition\n",
    "        else:\n",
    "            self.condition_func = condition_func\n",
    "\n",
    "    def __call__(self, info):\n",
    "        return self.hook_func(info)\n",
    "\n",
    "    def condition(self, info) -> bool:\n",
    "        return self.condition_func(info)\n",
    "\n",
    "    def __repr__(self) -> str:\n",
    "        if self.hook_name is not None:\n",
    "            return self.hook_name\n",
    "        else:\n",
    "            return repr(self.hook_func)"
   ]
  },
  {
   "cell_type": "markdown",
   "metadata": {},
   "source": [
    "### working"
   ]
  },
  {
   "cell_type": "code",
   "execution_count": null,
   "metadata": {
    "ExecuteTime": {
     "end_time": "2022-05-15T14:46:43.362695Z",
     "start_time": "2022-05-15T14:46:43.362673Z"
    }
   },
   "outputs": [],
   "source": [
    "call_hooks([FunctionHook(check_path_existence)], {\"path\":\"./tmp.csv\"})"
   ]
  },
  {
   "cell_type": "code",
   "execution_count": null,
   "metadata": {
    "ExecuteTime": {
     "end_time": "2022-05-15T14:46:43.363900Z",
     "start_time": "2022-05-15T14:46:43.363879Z"
    }
   },
   "outputs": [],
   "source": [
    "FunctionEvent(check_path_existence)({\"path\":\"./tmp.cs\"})"
   ]
  },
  {
   "cell_type": "markdown",
   "metadata": {},
   "source": [
    "### backup"
   ]
  },
  {
   "cell_type": "markdown",
   "metadata": {},
   "source": [
    "## Event"
   ]
  },
  {
   "cell_type": "markdown",
   "metadata": {},
   "source": [
    "### definition"
   ]
  },
  {
   "cell_type": "markdown",
   "metadata": {},
   "source": [
    "eventをクラスで定義すべきか、インスタンスで定義すべきか？\n",
    "\n",
    "ユーザが独自にEventを作成することは念頭に置いていない"
   ]
  },
  {
   "cell_type": "markdown",
   "metadata": {},
   "source": [
    "#### core"
   ]
  },
  {
   "cell_type": "code",
   "execution_count": 42,
   "metadata": {
    "ExecuteTime": {
     "end_time": "2022-06-08T17:31:14.304881Z",
     "start_time": "2022-06-08T17:31:14.280886Z"
    },
    "scrolled": true
   },
   "outputs": [
    {
     "name": "stdout",
     "output_type": "stream",
     "text": [
      "Overwriting ./brane/core/event.py\n"
     ]
    }
   ],
   "source": [
    "%%writefile {EVENT_PY}\n",
    "from __future__ import annotations"
   ]
  },
  {
   "cell_type": "code",
   "execution_count": 43,
   "metadata": {
    "ExecuteTime": {
     "end_time": "2022-06-08T17:31:14.768751Z",
     "start_time": "2022-06-08T17:31:14.632897Z"
    }
   },
   "outputs": [],
   "source": [
    "!echo '{generate_import(TYPE_PY, \"*  # noqa: F403\")}' >> {EVENT_PY}"
   ]
  },
  {
   "cell_type": "code",
   "execution_count": 44,
   "metadata": {
    "ExecuteTime": {
     "end_time": "2022-06-08T17:31:14.939374Z",
     "start_time": "2022-06-08T17:31:14.921493Z"
    }
   },
   "outputs": [
    {
     "name": "stdout",
     "output_type": "stream",
     "text": [
      "Appending to ./brane/core/event.py\n"
     ]
    }
   ],
   "source": [
    "%%writefile -a {EVENT_PY}\n",
    "\n",
    "# [ARG]: better name ? better coding ?\n",
    "ObjOrMultipleTypeGenerator = lambda T: Union[T, List[T], Tuple[T], Set[T]] # noqa: E731\n",
    "\n",
    "def convert_obj_into_list(obj) -> list:  # [ARG]: convert_iterator ?\n",
    "    if isinstance(obj, list):\n",
    "        return list(obj)\n",
    "    elif isinstance(obj, tuple):\n",
    "        return list(obj)\n",
    "    elif isinstance(obj, set):\n",
    "        return list(obj)\n",
    "    else:\n",
    "        return [obj]\n",
    "\n",
    "\n",
    "class Event(EventClassType):\n",
    "    # [TODO]: fix flag's specification\n",
    "    # * and/or\n",
    "    # * allow/denied\n",
    "    \n",
    "    #def __new__(cls):\n",
    "    #    self = super().__new__(cls)### temporal ?\n",
    "    #    EventManager.add_events(self)\n",
    "    #    return self\n",
    "\n",
    "    def __init__(self, event_name: str = \"\", hook_funcs: Optional[ObjOrMultipleTypeGenerator(HookClassType)] = None):\n",
    "        self.hooks: list[HookClassType] = []\n",
    "        if hook_funcs:\n",
    "            self.hooks = convert_obj_into_list(hook_funcs)\n",
    "        self.event_name: str = event_name\n",
    "        self.allowed_flags: HookFlagType = None  # fixed in the future\n",
    "        self.denied_flags: HookFlagType = None  # fixed in the future\n",
    "\n",
    "    #@classmethod\n",
    "    def add_hooks(self, hook_funcs: ObjOrMultipleTypeGenerator(HookClassType)):\n",
    "        hook_funcs = convert_obj_into_list(hook_funcs)\n",
    "        self.hooks.extend(hook_funcs)\n",
    "\n",
    "    #@classmethod\n",
    "    def clear_hooks(self):\n",
    "        self.hooks = []\n",
    "\n",
    "    def check_flag(self, flag: HookFlagType) -> bool:\n",
    "        if flag is None:\n",
    "            flag = set()\n",
    "        elif isinstance(flag, str):\n",
    "            flag = set(flag)\n",
    "        if not isinstance(flag, set): # flag \\in set[str]\n",
    "            raise AssertionError(type(flag))\n",
    "        # [TODO]: implement\n",
    "        return True\n",
    "\n",
    "    #@classmethod\n",
    "    def fire(self, info: ContextInterface, verbose: bool = False) -> ContextInterface:\n",
    "        for hook in self.hooks:\n",
    "            # [TODO]: use wallus operator in the future when supporting python>=3.8\n",
    "            called: bool = False\n",
    "            if hook.active and self.check_flag(hook.flag) and hook.condition(info):\n",
    "                called = True\n",
    "                # temporal\n",
    "                # [TODO]: (very important) refine the specification and the logic\n",
    "                res = hook(info)\n",
    "                #if isinstance(res, dict): => if hook.return_as_context: (because it is not true for object is dict)\n",
    "                #    info.update(res)\n",
    "                #elif res is None:\n",
    "                if res is None:\n",
    "                    pass\n",
    "                else:\n",
    "                    info.update({ \"object\": res })\n",
    "            if verbose:\n",
    "                active_: bool = self.active\n",
    "                if not active_:\n",
    "                    print(f\"skipped '{hook.hook_name}': non-active\")\n",
    "                    continue\n",
    "                flag_check_: bool = self.check_flag(hook.flag)\n",
    "                if not flag_check_:\n",
    "                    print(f\"skipped '{hook.hook_name}': out of flags\")\n",
    "                    continue\n",
    "                if called:\n",
    "                    print(f\"called '{hook.hook_name}'\")\n",
    "                else:\n",
    "                    # [ARG]: allow us to access the reason why this is not satisfied ?\n",
    "                    print(f\"skipped '{hook.hook_name}': out of conditions\")\n",
    "        return info\n",
    "\n",
    "    def __repr__(self) -> str:\n",
    "        return \"\\n\".join([ f\"{i}. {repr(hook)}\" for i, hook in enumerate(self.hooks, start=1) ])"
   ]
  },
  {
   "cell_type": "markdown",
   "metadata": {},
   "source": [
    "#### libs"
   ]
  },
  {
   "cell_type": "markdown",
   "metadata": {
    "ExecuteTime": {
     "end_time": "2022-06-07T18:25:10.989917Z",
     "start_time": "2022-06-07T18:25:10.837400Z"
    }
   },
   "source": [
    "%%writefile {LIB_EVENT_PY}\n",
    "from __future__ import annotations"
   ]
  },
  {
   "cell_type": "markdown",
   "metadata": {
    "ExecuteTime": {
     "end_time": "2022-06-07T18:25:12.169346Z",
     "start_time": "2022-06-07T18:25:12.041319Z"
    }
   },
   "source": [
    "!echo '{generate_import(TYPE_PY, \"*  # noqa: F401, F403\")}' >> {LIB_EVENT_PY}\n",
    "#!echo '{generate_import(EVENT_PY, \"Event\")}' >> {LIB_EVENT_PY}"
   ]
  },
  {
   "cell_type": "markdown",
   "metadata": {
    "ExecuteTime": {
     "end_time": "2022-06-07T17:59:36.351346Z",
     "start_time": "2022-06-07T17:59:36.317468Z"
    }
   },
   "source": [
    "%%writefile -a {LIB_EVENT_PY}\n",
    "\n",
    "class BasicEvents(object):\n",
    "    pre_read = Event(event_name=\"pre_read\")\n",
    "    post_read = Event(event_name=\"post_read\")\n",
    "    pre_write = Event(event_name=\"pre_write\")\n",
    "    post_write = Event(event_name=\"post_write\")\n",
    "\n",
    "    pre_readall = Event(event_name=\"pre_readall\")\n",
    "    post_readall = Event(event_name=\"post_readall\")\n",
    "    pre_writeall = Event(event_name=\"pre_writeall\")\n",
    "    post_writeall = Event(event_name=\"post_writeall\")"
   ]
  },
  {
   "cell_type": "markdown",
   "metadata": {
    "ExecuteTime": {
     "end_time": "2022-04-29T03:26:52.513243Z",
     "start_time": "2022-04-29T03:26:52.491596Z"
    }
   },
   "source": [
    "    %%writefile -a {LIB_EVENT_PY}\n",
    "    from src.base import Event\n",
    "    class ReadPreEvent(Event):\n",
    "        hooks = []\n",
    "\n",
    "    class ReadPostEvent(Event):\n",
    "        hooks = []\n",
    "\n",
    "    class WritePreEvent(Event):\n",
    "        hooks = []\n",
    "\n",
    "    class WritePostEvent(Event):\n",
    "        hooks = []\n",
    "\n",
    "    class ReadAllPreEvent(Event):\n",
    "        hooks = []\n",
    "\n",
    "    class ReadAllPostEvent(Event):\n",
    "        hooks = []\n",
    "\n",
    "    class WriteAllPreEvent(Event):\n",
    "        hooks = []\n",
    "\n",
    "    class WriteAllPostEvent(Event):\n",
    "        hooks = []"
   ]
  },
  {
   "cell_type": "markdown",
   "metadata": {},
   "source": [
    "##### hook"
   ]
  },
  {
   "cell_type": "markdown",
   "metadata": {
    "ExecuteTime": {
     "end_time": "2021-04-13T13:19:07.520997Z",
     "start_time": "2021-04-13T13:19:07.516622Z"
    }
   },
   "source": [
    "    read_pre_event.add_hook_func(check_path_existence)\n",
    "    write_pre_event.add_hook_func(create_parent_directory)"
   ]
  },
  {
   "cell_type": "markdown",
   "metadata": {
    "ExecuteTime": {
     "end_time": "2022-06-07T18:25:15.277970Z",
     "start_time": "2022-06-07T18:25:15.036665Z"
    }
   },
   "source": [
    "!echo '{generate_import(HOOK_PY, \"FunctionHook # noqa: E402\")}' >> {LIB_EVENT_PY}\n",
    "!echo '{generate_import(LIB_HOOK_PY, \"check_path_existence, create_parent_directory # noqa E402\")}' >> {LIB_EVENT_PY}"
   ]
  },
  {
   "cell_type": "markdown",
   "metadata": {
    "ExecuteTime": {
     "end_time": "2022-06-07T18:25:15.325156Z",
     "start_time": "2022-06-07T18:25:15.298406Z"
    }
   },
   "source": [
    "%%writefile -a {LIB_EVENT_PY}\n",
    "BasicEvents.read_pre.add_hooks(FunctionHook(check_path_existence))\n",
    "BasicEvents.write_pre.add_hooks(FunctionHook(create_parent_directory))"
   ]
  },
  {
   "cell_type": "markdown",
   "metadata": {
    "ExecuteTime": {
     "end_time": "2022-05-03T09:59:02.676206Z",
     "start_time": "2022-05-03T09:59:02.654472Z"
    }
   },
   "source": [
    "    %%writefile -a {LIB_EVENT_PY}\n",
    "    #from ext.events import ReadPreEvent, WritePreEvent\n",
    "    from src.base import FunctionHook\n",
    "    from ext.hooks import check_path_existence, create_parent_directory"
   ]
  },
  {
   "cell_type": "markdown",
   "metadata": {},
   "source": [
    "### test"
   ]
  },
  {
   "cell_type": "code",
   "execution_count": null,
   "metadata": {
    "ExecuteTime": {
     "end_time": "2022-05-15T14:46:43.383228Z",
     "start_time": "2022-05-15T14:46:43.383203Z"
    }
   },
   "outputs": [],
   "source": [
    "from brane.libs.events import BasicEvents"
   ]
  },
  {
   "cell_type": "code",
   "execution_count": null,
   "metadata": {
    "ExecuteTime": {
     "end_time": "2022-05-15T14:46:43.385026Z",
     "start_time": "2022-05-15T14:46:43.385001Z"
    }
   },
   "outputs": [],
   "source": [
    "BasicEvents.read_pre.event_name, BasicEvents.read_pre.hooks"
   ]
  },
  {
   "cell_type": "code",
   "execution_count": null,
   "metadata": {
    "ExecuteTime": {
     "end_time": "2022-05-15T14:46:43.386869Z",
     "start_time": "2022-05-15T14:46:43.386843Z"
    }
   },
   "outputs": [],
   "source": [
    "BasicEvents.read_post.event_name, BasicEvents.read_post.hooks"
   ]
  },
  {
   "cell_type": "code",
   "execution_count": null,
   "metadata": {
    "ExecuteTime": {
     "end_time": "2022-05-15T14:46:43.388764Z",
     "start_time": "2022-05-15T14:46:43.388737Z"
    }
   },
   "outputs": [],
   "source": [
    "BasicEvents.read_pre.add_hooks(FunctionHook(func=lambda x:x, name=\"my_hook\"))\n",
    "BasicEvents.read_pre"
   ]
  },
  {
   "cell_type": "code",
   "execution_count": null,
   "metadata": {
    "ExecuteTime": {
     "end_time": "2022-05-15T14:46:43.390742Z",
     "start_time": "2022-05-15T14:46:43.390715Z"
    }
   },
   "outputs": [],
   "source": [
    "BasicEvents.read_pre"
   ]
  },
  {
   "cell_type": "code",
   "execution_count": null,
   "metadata": {},
   "outputs": [],
   "source": []
  },
  {
   "cell_type": "code",
   "execution_count": null,
   "metadata": {},
   "outputs": [],
   "source": []
  },
  {
   "cell_type": "markdown",
   "metadata": {},
   "source": [
    "## IOManager"
   ]
  },
  {
   "cell_type": "markdown",
   "metadata": {},
   "source": [
    "* ToDo:\n",
    "    + wrap raw function event to event class automatically"
   ]
  },
  {
   "cell_type": "markdown",
   "metadata": {},
   "source": [
    "### definition"
   ]
  },
  {
   "cell_type": "code",
   "execution_count": 45,
   "metadata": {
    "ExecuteTime": {
     "end_time": "2022-06-08T17:31:21.729903Z",
     "start_time": "2022-06-08T17:31:21.716852Z"
    },
    "scrolled": false
   },
   "outputs": [
    {
     "name": "stdout",
     "output_type": "stream",
     "text": [
      "Overwriting ./brane/core/iomanager.py\n"
     ]
    }
   ],
   "source": [
    "%%writefile {MAIN_PY}\n",
    "from __future__ import annotations\n",
    "from pathlib import Path"
   ]
  },
  {
   "cell_type": "code",
   "execution_count": 46,
   "metadata": {
    "ExecuteTime": {
     "end_time": "2022-06-08T17:31:23.411282Z",
     "start_time": "2022-06-08T17:31:22.351904Z"
    }
   },
   "outputs": [],
   "source": [
    "!echo '{generate_import(TYPE_PY, \"*  # noqa: F403\")}' >> {MAIN_PY}\n",
    "!echo '{generate_import(BASE_PY, \"Context\")}' >> {MAIN_PY}\n",
    "!echo '{generate_import(MAPPER_PY, \"ExtensionMapper, ObjectFormat2Module\")}' >> {MAIN_PY}\n",
    "!echo '{generate_import(HOOK_PY, \"FunctionHook, Hook\")}' >> {MAIN_PY}\n",
    "!echo '{generate_import(FACTORY_PY, \"Factory\")}' >> {MAIN_PY}\n",
    "!echo '{generate_import(EVENT_PY, \"Event\")}' >> {MAIN_PY}\n",
    "#!echo '{generate_import(LIB_EVENT_PY, \"BasicEvents\")}' >> {MAIN_PY}\n",
    "!echo '{generate_import(UTILS_PY, \"get_extension_from_filname_default, integrate_args, integrate_kwargs\")}' >> {MAIN_PY}\n",
    "\n",
    "#!echo '{generate_import(HOOK_PY, \"FunctionHook # noqa: E402\")}' >> {LIB_EVENT_PY}\n",
    "!echo '{generate_import(LIB_HOOK_PY, \"check_path_existence, create_parent_directory # noqa E402\")}' >> {MAIN_PY}\n",
    "\n",
    "!echo '{generate_import(FORMAT_PY, \"NoneFormat\")}' >> {MAIN_PY}"
   ]
  },
  {
   "cell_type": "code",
   "execution_count": 47,
   "metadata": {
    "ExecuteTime": {
     "end_time": "2022-06-08T17:31:23.445498Z",
     "start_time": "2022-06-08T17:31:23.418236Z"
    }
   },
   "outputs": [
    {
     "name": "stdout",
     "output_type": "stream",
     "text": [
      "Appending to ./brane/core/iomanager.py\n"
     ]
    }
   ],
   "source": [
    "%%writefile -a {MAIN_PY}\n",
    "\n",
    "class HookManager(object):\n",
    "    \"\"\"\n",
    "    \"\"\"\n",
    "    pre_read = Event(event_name=\"pre_read\")\n",
    "    post_read = Event(event_name=\"post_read\")\n",
    "    pre_write = Event(event_name=\"pre_write\")\n",
    "    post_write = Event(event_name=\"post_write\")\n",
    "\n",
    "    pre_readall = Event(event_name=\"pre_readall\")\n",
    "    post_readall = Event(event_name=\"post_readall\")\n",
    "    pre_writeall = Event(event_name=\"pre_writeall\")\n",
    "    post_writeall = Event(event_name=\"post_writeall\")\n",
    "\n",
    "    #  This is a temporal class.\n",
    "    # [ARGS]:\n",
    "    # * moved to hook.py ?\n",
    "    # * consider better class name if exists\n",
    "    # * refactor this class\n",
    "\n",
    "    #@property [TODO]: use when python>=3.9\n",
    "    @classmethod\n",
    "    def get_events(cls) -> dict[str, Event]:\n",
    "        name2event: dict[str, Event] = dict()\n",
    "        for event in dir(cls):\n",
    "            if isinstance(event, Event):\n",
    "                name2event.update({\n",
    "                    event.event_name: event\n",
    "                })\n",
    "        return name2event\n",
    "\n",
    "    @classmethod\n",
    "    def get_hook_class(cls, hook, **hook_kwargs):\n",
    "        if isinstance(hook, Hook):\n",
    "            return hook\n",
    "        else:### detail check ?\n",
    "            return FunctionHook(hook, **hook_kwargs)\n",
    "\n",
    "    @classmethod\n",
    "    def connect_hook_and_event(cls, event, hook, **hook_kwargs):\n",
    "        hook = cls.get_hook_class(hook, **hook_kwargs)\n",
    "        event.add_hooks(hook)\n",
    "\n",
    "    @classmethod\n",
    "    def register_pre_read_hook(cls, hook, **hook_kwargs):\n",
    "        cls.connect_hook_and_event(cls.pre_read, hook, **hook_kwargs)\n",
    "\n",
    "    @classmethod\n",
    "    def register_post_read_hook(cls, hook, **hook_kwargs):\n",
    "        cls.connect_hook_and_event(cls.post_read, hook, **hook_kwargs)\n",
    "\n",
    "    @classmethod\n",
    "    def register_pre_write_hook(cls, hook, **hook_kwargs):\n",
    "        cls.connect_hook_and_event(cls.pre_write, hook, **hook_kwargs)\n",
    "\n",
    "    @classmethod\n",
    "    def register_post_write_hook(cls, hook, **hook_kwargs):\n",
    "        cls.connect_hook_and_event(cls.post_write, hook, **hook_kwargs)\n",
    "\n",
    "    @classmethod\n",
    "    def register_pre_readall_hook(cls, hook, **hook_kwargs):\n",
    "        cls.connect_hook_and_event(cls.pre_readall, hook, **hook_kwargs)\n",
    "\n",
    "    @classmethod\n",
    "    def register_pre_writeall_hook(cls, hook, **hook_kwargs):\n",
    "        cls.connect_hook_and_event(cls.pre_writeall, hook, **hook_kwargs)\n",
    "\n",
    "    @classmethod\n",
    "    def register_post_readall_hook(cls, hook, **hook_kwargs):\n",
    "        cls.connect_hook_and_event(cls.post_readall, hook, **hook_kwargs)\n",
    "\n",
    "    @classmethod\n",
    "    def register_post_writeall_hook(cls, hook, **hook_kwargs):\n",
    "        cls.connect_hook_and_event(cls.post_writeall, hook, **hook_kwargs)\n",
    "\n",
    "    @classmethod\n",
    "    def clear_hooks(cls, event):\n",
    "        event.clear_hooks()\n",
    "\n",
    "    @classmethod\n",
    "    def clear_pre_read_hook(cls):\n",
    "        cls.clear_hooks(cls.pre_read)\n",
    "\n",
    "    @classmethod\n",
    "    def clear_post_read_hook(cls):\n",
    "        cls.clear_hooks(cls.post_read)\n",
    "\n",
    "    @classmethod\n",
    "    def clear_pre_write_hook(cls):\n",
    "        cls.clear_hooks(cls.pre_write)\n",
    "\n",
    "    @classmethod\n",
    "    def clear_post_write_hook(cls):\n",
    "        cls.clear_hooks(cls.post_write)\n",
    "\n",
    "    @classmethod\n",
    "    def clear_pre_readall_hook(cls):\n",
    "        cls.clear_hooks(cls.pre_readall)\n",
    "\n",
    "    @classmethod\n",
    "    def clear_pre_writeall_hook(cls):\n",
    "        cls.clear_hooks(cls.pre_writeall)\n",
    "\n",
    "    @classmethod\n",
    "    def clear_post_readall_hook(cls):\n",
    "        cls.clear_hooks(cls.post_readall)\n",
    "\n",
    "    @classmethod\n",
    "    def clear_post_writeall_hook(cls):\n",
    "        cls.clear_hooks(cls.post_writeall)\n",
    "\n",
    "    @classmethod\n",
    "    def clear_all_hooks(cls):\n",
    "        for event in cls.get_events():\n",
    "            cls.clear_hooks(event)\n",
    "\n",
    "    @classmethod\n",
    "    def setup_hooks(cls):  # temporal name\n",
    "        cls.register_pre_read_hook(check_path_existence)# read_pre.add_hooks(FunctionHook(check_path_existence))\n",
    "        cls.register_pre_write_hook(create_parent_directory)# write_pre.add_hooks(FunctionHook(create_parent_directory))"
   ]
  },
  {
   "cell_type": "code",
   "execution_count": 48,
   "metadata": {
    "ExecuteTime": {
     "end_time": "2022-06-08T17:31:24.266912Z",
     "start_time": "2022-06-08T17:31:24.241143Z"
    }
   },
   "outputs": [
    {
     "name": "stdout",
     "output_type": "stream",
     "text": [
      "Appending to ./brane/core/iomanager.py\n"
     ]
    }
   ],
   "source": [
    "%%writefile -a {MAIN_PY}\n",
    "\n",
    "class IOLogger(object):\n",
    "    # for debug at this stage\n",
    "    log = []\n",
    "\n",
    "\n",
    "class ExtendedIO(HookManager):\n",
    "    \"\"\"\n",
    "    \"\"\"\n",
    "    # [ARGS]\n",
    "    # * refactor for better implementation\n",
    "    # * use mixin ?\n",
    "    factory = Factory()\n",
    "\n",
    "    get_extension_from_filename = get_extension_from_filname_default\n",
    "    logger = IOLogger()\n",
    "\n",
    "    @classmethod\n",
    "    def read(cls, path: Optional[PathType] = None, file: Optional[FileType] = None, ext: str = \"\", module_name: str = \"\",\n",
    "             read_args: Optional[tuple] = None, read_kwargs: Optional[dict] = None, *args, **kwargs) -> Any:\n",
    "        \"\"\"\n",
    "        Args:\n",
    "            path: File path to read. Currently, only local file system path is available.\n",
    "            file: File object such as byte stream to read.\n",
    "            ext: The extension name. Used only when the extension is not given in the path.\n",
    "            module_name: The module name. Specified only in the case the module is fixed.\n",
    "        \n",
    "        Returns:\n",
    "            loaded object.\n",
    "\n",
    "        Note:\n",
    "            The priority order is module_name > ext > path\n",
    "        \n",
    "        \"\"\"\n",
    "        if read_args is None:\n",
    "            read_args = tuple()\n",
    "        if read_kwargs is None:\n",
    "            read_kwargs = dict()\n",
    "\n",
    "        # ?path xor ?file\n",
    "        if path is None and file is None:\n",
    "            raise AssertionError()\n",
    "        if path is not None and file is not None:\n",
    "            raise AssertionError()\n",
    "        if file is not None and ext == \"\":\n",
    "            raise AssertionError()\n",
    "        \n",
    "        if module_name:\n",
    "            if module_name in cls.factory.className2Module:\n",
    "                Mdl = cls.factory.className2Module[module_name]\n",
    "                assert Mdl # temporal (currently, there is possibility that NoneModule comes in)\n",
    "            else:\n",
    "                raise NameError(f\"No module name: {module_name}. Check the `all_modules` propetry.\")###\n",
    "        else:\n",
    "            ext = ext if ext else cls.get_extension_from_filename(path)\n",
    "            Mdl = ExtensionMapper.get_module_class_from_extension(ext)\n",
    "            if not Mdl:\n",
    "                raise NotImplementedError(f\"Cannot find the corresponding module for given extension {ext}\")\n",
    "        Mdl.load_modules()\n",
    "\n",
    "        context: ContextInterface = Context({ \"path\": path, \"file\": file, \"ext\": ext, \"Module\": Mdl })# add Fmt as supplementary ?\n",
    "        context = cls.pre_read.fire(context)\n",
    "        base_args = context.get(\"args\", ())\n",
    "        base_kwargs = context.get(\"kwargs\", {})\n",
    "        base_args = integrate_args(base_args, read_args)\n",
    "        base_kwargs = integrate_kwargs(base_kwargs, read_kwargs)\n",
    "        base_args = integrate_args(base_args, args)\n",
    "        base_kwargs = integrate_kwargs(base_kwargs, kwargs)\n",
    "\n",
    "        path = context[\"path\"]\n",
    "        file = context[\"file\"]\n",
    "        cls.logger.log.append( (\"read\", { \"path\": path, \"file\": file, \"ext\": ext, \"module\": Mdl.name, \"args\": args, \"kwargs\": kwargs } ) )### temporal\n",
    "        obj = Mdl.read(path=path, file=file, *base_args, **base_kwargs)\n",
    "\n",
    "        context.update({ \"object\": obj })\n",
    "        context = cls.post_read.fire(context)\n",
    "        obj = context[\"object\"]\n",
    "        return obj\n",
    "    \n",
    "    @classmethod\n",
    "    def read_all_as_list(cls, multiple_paths: Union[str, list[PathType]],\n",
    "                         read_args: Optional[tuple] = None, read_kwargs: Optional[dict] = None, *args, **kwargs) -> list[Any]:\n",
    "        \"\"\"\n",
    "        Args:\n",
    "            multiple_paths: Several file paths to read once. The glob format is also allowed.\n",
    "                Currently, only local file system paths are available.\n",
    "            read_args:\n",
    "            read_kwargs:\n",
    "\n",
    "        Returns:\n",
    "            loaded objects as list. The ordering is same as given paths.\n",
    "            If the specified path is in the glob format, paths will be sorted.\n",
    "        \"\"\"\n",
    "        if read_args is None:\n",
    "            read_args = tuple()\n",
    "        if read_kwargs is None:\n",
    "            read_kwargs = dict()\n",
    "        # flles not supported yet\n",
    "        paths: list = []\n",
    "        if isinstance(multiple_paths, str):\n",
    "            import glob\n",
    "            paths = glob.glob(multiple_paths, recursive=True)\n",
    "            paths.sort()\n",
    "        elif isinstance(multiple_paths, list):# [TODO]: include tuple ?\n",
    "            assert all(map(lambda path: isinstance(path, str), multiple_paths))\n",
    "            paths = multiple_paths\n",
    "        else:\n",
    "            raise NotImplementedError\n",
    "        if len(paths) == 0:\n",
    "            return {}\n",
    "\n",
    "        context: ContextInterface = Context({ \"paths\": paths })\n",
    "        context = cls.pre_readall.fire(context)\n",
    "        objs = []\n",
    "        for path in paths:\n",
    "            obj = cls.read(path=path, read_args=read_args, read_kwargs=read_kwargs)\n",
    "            objs.append(obj)\n",
    "        context.update({ \"objects\": objs })\n",
    "\n",
    "        # experimental\n",
    "        if \"sort_func\" in kwargs:\n",
    "            sort_func = kwargs[\"sort_func\"]\n",
    "            context = sort_func(context)\n",
    "        \n",
    "        context = cls.post_readall.fire(context)\n",
    "        if \"object\" in context:\n",
    "            return context[\"object\"]\n",
    "        else:\n",
    "            return context[\"objects\"]\n",
    "\n",
    "    @classmethod\n",
    "    def read_all_as_dict(cls, multiple_paths: dict[str, PathType],\n",
    "                         read_args: Optional[tuple] = None, read_kwargs: Optional[dict] = None,\n",
    "                         *args, **kwargs) -> dict[str, Any]:\n",
    "        if read_args is None:\n",
    "            read_args = tuple()\n",
    "        if read_kwargs is None:\n",
    "            read_kwargs = dict()\n",
    "\n",
    "        # flles not supported yet\n",
    "        paths: dict[str, PathType] = {}\n",
    "        if isinstance(multiple_paths, str):\n",
    "            import glob\n",
    "            paths = { path: path for path in glob.glob(multiple_paths, recursive=True) }\n",
    "        elif isinstance(multiple_paths, list):\n",
    "            assert all(map(lambda path: isinstance(path, str), multiple_paths))\n",
    "            paths = { path: path for path in multiple_paths }\n",
    "        elif isinstance(multiple_paths, dict):\n",
    "            assert all(map(lambda path: isinstance(path, str), multiple_paths.values()))\n",
    "            paths = multiple_paths\n",
    "        else:\n",
    "            raise NotImplementedError\n",
    "        if len(paths) == 0:\n",
    "            return {}\n",
    "\n",
    "        context: ContextInterface = Context({ \"paths\": paths })\n",
    "        context = cls.pre_readall.fire(context)\n",
    "        objs = {}\n",
    "        for key, path in paths.items():\n",
    "            obj = cls.read(path=path, read_args=read_args, read_kwargs=read_kwargs)  # [ARG]: parameter 'file' (stream or path ?)\n",
    "            objs.update({ key: obj })\n",
    "        context.update({ \"objects\": objs })\n",
    "\n",
    "        # experimental\n",
    "        if \"sort_func\" in kwargs:\n",
    "            sort_func = kwargs[\"sort_func\"]\n",
    "            context = sort_func(context)\n",
    "\n",
    "        context = cls.post_readall.fire(context)\n",
    "        if \"object\" in context:\n",
    "            return context[\"object\"]\n",
    "        else:\n",
    "            return context[\"objects\"]\n",
    "\n",
    "    @classmethod\n",
    "    def write(cls, obj: Any, path: PathType = Optional[None], file: Optional[FileType] = None,\n",
    "              ext: str = \"\", module_name: str = \"\",\n",
    "              write_args: Optional[tuple] = None, write_kwargs: Optional[dict] = None, *args, **kwargs):\n",
    "        \"\"\"\n",
    "        Args:\n",
    "            obj: Any object to save.\n",
    "            path: File path to write. Currently, only local file system path is available.\n",
    "            file: File object such as byte stream to write.\n",
    "            ext: The extension name. Used only when the extension is not given in the path.\n",
    "            module_name: The module name. Specified only in the case the module is fixed.\n",
    "        \"\"\"\n",
    "        if write_args is None:\n",
    "            write_args = tuple()\n",
    "        if write_kwargs is None:\n",
    "            write_kwargs = dict()\n",
    "\n",
    "        # ?path xor ?file\n",
    "        if path is None and file is None:\n",
    "            raise AssertionError()\n",
    "        if path is not None and file is not None:\n",
    "            raise AssertionError()\n",
    "        if file is not None and ext == \"\":\n",
    "            raise AssertionError()\n",
    "\n",
    "        if module_name:\n",
    "            if module_name in cls.factory.className2Module:\n",
    "                Mdl = cls.factory.className2Module[module_name]\n",
    "                assert Mdl # temporal (currently, there is possibility that NoneModule comes in)\n",
    "            else:\n",
    "                raise NameError(f\"No module name: {module_name}. Check the `all_modules` propetry.\") ### temporal\n",
    "        else:\n",
    "            if ext:\n",
    "                ext_from_path = cls.get_extension_from_filename(path)\n",
    "                if ext != ext_from_path:\n",
    "                    path = Path(path).with_suffix(ext)\n",
    "                Fmt = ExtensionMapper.get_format_class_from_extension(ext)\n",
    "            else:\n",
    "                ext_from_path = cls.get_extension_from_filename(path)\n",
    "                if ext_from_path:\n",
    "                    Fmt = ExtensionMapper.get_format_class_from_extension(ext_from_path)\n",
    "                else:\n",
    "                    Fmt = NoneFormat\n",
    "            Mdl = ObjectFormat2Module.get_module_from_object(obj, fmt=Fmt)\n",
    "            if not Mdl:\n",
    "                raise NotImplementedError(f\"Cannot find the corresponding module for given object type {type(obj)}\")\n",
    "        Mdl.load_modules()\n",
    "\n",
    "        context: ContextInterface = Context({ \"path\": path, \"file\": file, \"object\": obj, \"Module\": Mdl })\n",
    "        context = cls.pre_write.fire(context)\n",
    "        base_args = context.get(\"args\", ())\n",
    "        base_kwargs = context.get(\"kwargs\", {})\n",
    "        base_args = integrate_args(base_args, write_args)\n",
    "        base_kwargs = integrate_kwargs(base_kwargs, write_kwargs)\n",
    "        base_args = integrate_args(base_args, args)\n",
    "        base_kwargs = integrate_kwargs(base_kwargs, kwargs)\n",
    "\n",
    "        path = context[\"path\"]\n",
    "        file = context[\"file\"]\n",
    "        cls.logger.log.append( (\"write\", { \"path\": path, \"file\": file, \"ext\": ext, \"module\": Mdl.name, \"args\": args, \"kwargs\": kwargs } ) )### temporal\n",
    "        Mdl.write(obj=obj, file=file, path=path, *base_args, **base_kwargs)\n",
    "        context = cls.post_write.fire(context)\n",
    "\n",
    "    @classmethod\n",
    "    def write_all_from_list(cls, obj_list: list[Any],\n",
    "                            output_dir: Optional[PathType] = None, path_ruler: Optional[Callable[int, str]] = None,\n",
    "                            write_args: Optional[tuple] = None, write_kwargs: Optional[dict] = None, *args, **kwargs):\n",
    "        if write_args is None:\n",
    "            write_args = tuple()\n",
    "        if write_kwargs is None:\n",
    "            write_kwargs = dict()\n",
    "        # flles notg supported yet\n",
    "        # [ARG]: list case is the special case of dict, to say, the index can be seen as the key -> unify two ??\n",
    "        # [TODO]: should allow the iterator...\n",
    "        # path assignemtn option\n",
    "        # 1. output_dir + str(idx)\n",
    "        # 2. path_ruler(obj_list)\n",
    "        # 3. output_dir + path_ruler(obj_list)\n",
    "        if not isinstance(obj_list, list):# [NOTE]: This is used for dynamical check\n",
    "            raise ValueError(f\"obj_list should be python `list` but the actual type is {type(obj_list)}\")# [TODO]: implement some function for value check\n",
    "\n",
    "        paths: list[PathType] = []\n",
    "        if output_dir is not None:\n",
    "            if path_ruler is None:\n",
    "                path_ruler = lambda idx: str(idx) # noqa: E731\n",
    "            paths = [ Path(output_dir) / path_ruler(idx) for idx in range(len(obj_list)) ]\n",
    "        elif path_ruler is not None:\n",
    "            paths = [ path_ruler(idx) for idx in range(len(obj_list)) ]\n",
    "        else:\n",
    "            raise ValueError(\"Either output_dir or path_ruler should not be None\")\n",
    "\n",
    "        context: ContextInterface = Context({ \"paths\": paths, \"objects\": obj_list })\n",
    "        context = cls.pre_writeall.fire(context)\n",
    "        for idx, obj in enumerate(obj_list):\n",
    "            path = paths[idx]\n",
    "            cls.write(obj=obj, path=path, *write_args, **write_kwargs)\n",
    "\n",
    "        context = cls.post_writeall.fire(context)\n",
    "\n",
    "    @classmethod\n",
    "    def write_all_from_dict(cls, obj_dict: dict[str, Any],\n",
    "                            output_dir: Optional[PathType] = None, path_ruler: Optional[Callable[str, str]] = None,\n",
    "                            write_args: Optional[tuple] = None, write_kwargs: Optional[dict] = None, *args, **kwargs):\n",
    "        if write_args is None:\n",
    "            write_args = tuple()\n",
    "        if write_kwargs is None:\n",
    "            write_kwargs = dict()\n",
    "        # flles notg supported yet\n",
    "        # path assignemtn option\n",
    "        # 1. output_dir + key\n",
    "        # 2. path_ruler(obj_dict)\n",
    "        # 3. output_dir + path_ruler(obj_dict)\n",
    "        if not isinstance(obj_dict, dict):# [NOTE]: This is used for dynamical check\n",
    "            raise ValueError(f\"obj_dict should be python `dict` but the actual type is {type(obj_dict)}\")\n",
    "\n",
    "        paths: dict[str, PathType] = {}\n",
    "        if output_dir is not None:\n",
    "            if path_ruler is None:\n",
    "                path_ruler = lambda key: key # noqa: E731\n",
    "            paths = { key: Path(output_dir) / path_ruler(key) for key in obj_dict.keys() }\n",
    "        elif path_ruler is not None:\n",
    "            paths = { key: path_ruler(key) for key in obj_dict.keys() }\n",
    "        else:\n",
    "            raise ValueError(\"Either output_dir or path_ruler should not be None\")\n",
    "\n",
    "        context: ContextInterface = Context({ \"paths\": paths, \"objects\": obj_dict })\n",
    "        context = cls.pre_writeall.fire(context)\n",
    "        for key, obj in obj_dict.items():\n",
    "            path = paths[key]\n",
    "            cls.write(obj=obj, path=path, *write_args, **write_kwargs)\n",
    "\n",
    "        context = cls.post_writeall.fire(context)\n",
    "\n",
    "    @classmethod\n",
    "    def reload(cls, config_path: Optional[PathType] = None):\n",
    "        cls.factory.activate(config_path=config_path)\n",
    "\n",
    "    @classmethod\n",
    "    def all_modules(cls):\n",
    "        return list(cls.factory.className2Module.keys())\n",
    "\n",
    "    @classmethod\n",
    "    def all_formats(cls):\n",
    "        return list(cls.factory.className2Format.keys())\n",
    "\n",
    "    @classmethod\n",
    "    def all_objects(cls):\n",
    "        return list(cls.factory.className2Object.keys())"
   ]
  },
  {
   "cell_type": "markdown",
   "metadata": {},
   "source": [
    "* dictなのかlistなのか、のcontainer_typeの情報をcontextに加える -> 不要"
   ]
  },
  {
   "cell_type": "markdown",
   "metadata": {},
   "source": [
    "### test"
   ]
  },
  {
   "cell_type": "code",
   "execution_count": 49,
   "metadata": {
    "ExecuteTime": {
     "end_time": "2022-06-08T17:31:27.238347Z",
     "start_time": "2022-06-08T17:31:27.143399Z"
    },
    "scrolled": false
   },
   "outputs": [
    {
     "name": "stdout",
     "output_type": "stream",
     "text": [
      "[DEBUG]: in MetaModule class_info={'__module__': 'brane.core.module', '__qualname__': 'Module', '__annotations__': {'_registered_subclasses': 'dict', 'priority': 'int', 'name': 'Optional[str]', 'module_name': 'Optional[str]', 'module': 'Any', 'loaded': 'bool', 'module_read_method': 'Optional[Callable]', 'module_read_method_name': 'Optional[str]', 'file_read_method_name': 'Optional[str]', 'file_open_for_read': 'bool', 'open_mode_for_read': 'dict[str, Any]', 'transform': 'Optional[Callable]', 'transform_name': 'Optional[str]', 'transform_info': 'Optional[tuple[str, ...]]', 'module_write_method': 'Callable', 'module_write_method_name': 'Optional[str]', 'writer_method_name': 'Optional[str]', 'object_write_method_name': 'Optional[str]', 'file_write_method_name': 'Optional[str]', 'file_open_for_write': 'bool', 'open_mode_for_write': 'dict[str, Any]', 'file_arg_first': 'bool', 'object_unpacking_type': 'str', 'file_keyword_at_write': 'Optional[str]', 'obj_keyword_at_write': 'Optional[str]', 'base_args_read': 'tuple', 'base_kwargs_read': 'dict', 'base_args_write': 'tuple', 'base_kwargs_write': 'dict'}, '__doc__': '\\n    Needed to be inheritated. The child class correspond to module.\\n    \\n    Args:\\n        name:\\n        module_name:\\n        module:\\n        loaded:\\n\\n        module_read_method_name:\\n        module_read_method:\\n        file_read_method_name:\\n        file_open_for_read:\\n        open_mode_for_read:\\n        transform:\\n        transform_name:\\n        transform_info:\\n\\n        module_write_method_name:\\n        module_write_method:\\n        writer_method_name:\\n        object_write_method_name:\\n        file_write_method_name:\\n        file_open_for_write:\\n        open_mode_for_write:\\n        \\n        file_arg_first:\\n        object_unpacking_type:\\n        file_keyword_at_write:\\n        obj_keyword_at_write:\\n\\n        base_args_read:\\n        base_kwargs_read:\\n        base_args_write:\\n        base_kwargs_write:\\n        generate_params_read:\\n        generate_params_write:\\n        \\n    Note:\\n        Argument version v0.0\\n    ', '_registered_subclasses': {}, 'priority': 50, 'name': None, 'module_name': None, 'module': None, 'loaded': False, 'module_read_method': None, 'module_read_method_name': None, 'file_read_method_name': None, 'file_open_for_read': False, 'open_mode_for_read': {'mode': 'r'}, 'transform': None, 'transform_name': None, 'transform_info': None, 'module_write_method': None, 'module_write_method_name': None, 'writer_method_name': None, 'object_write_method_name': None, 'file_write_method_name': None, 'file_open_for_write': False, 'open_mode_for_write': {'mode': 'w'}, 'file_arg_first': True, 'object_unpacking_type': None, 'file_keyword_at_write': None, 'obj_keyword_at_write': None, 'base_args_read': (), 'base_kwargs_read': {}, 'base_args_write': (), 'base_kwargs_write': {}, 'generate_params_read': None, 'generate_params_write': None, 'load_modules': <classmethod object at 0x7fec300da130>, 'reload_modules': <classmethod object at 0x7fec300da160>, 'read': <classmethod object at 0x7fec300da460>, 'write': <classmethod object at 0x7fec3004cf40>}\n",
      "[DEBUG]: register cls.name = None, cls = <class 'brane.core.module.Module'>\n",
      "[DEBUG]: in MetaModule class_info={'__module__': 'brane.core.module', '__qualname__': 'NoneModule', 'valid': False, 'name': 'None'}\n",
      "[DEBUG]: in MetaFormat default_extension=None class_info={'__module__': 'brane.core.format', '__qualname__': 'Format', '__annotations__': {'default_extension': 'Optional[str]', 'variation': 'list[str]'}, '_registered_subclasses': {}, 'priority': 50, 'default_extension': None, 'variation': [None], 'check_extension': <classmethod object at 0x7fec3000a280>, 'name': None}\n",
      "[DEBUG]: register cls.name = None, cls = <class 'brane.core.format.Format'>\n",
      "[DEBUG]: in MetaFormat default_extension=None class_info={'__module__': 'brane.core.format', '__qualname__': 'NoneFormat', 'valid': False, 'name': None, 'variation': [None]}\n",
      "[DEBUG]: register cls.name = Object, cls = <class 'brane.core.object.Object'>\n",
      "[DEBUG]: in MetaModule class_info={'name': 'textio', 'file_read_method_name': 'read', 'file_open_for_read': True, 'file_write_method_name': 'write', 'file_open_for_write': True}\n",
      "[DEBUG]: register cls.name = textio, cls = <class 'brane.core.module.TextIOModule'>\n",
      "[DEBUG]: registered @ <class 'brane.core.module.Module'>\n",
      "[DEBUG]: in MetaModule class_info={'module_name': 'json', 'file_open_for_read': True, 'module_read_method_name': 'load', 'file_open_for_write': True, 'module_write_method_name': 'dump', 'file_arg_first': False, 'base_kwargs_write': {'indent': 2}, 'name': 'json'}\n",
      "[DEBUG]: register cls.name = json, cls = <class 'brane.core.module.JsonModule'>\n",
      "[DEBUG]: registered @ <class 'brane.core.module.Module'>\n",
      "[DEBUG]: in MetaModule class_info={'module_name': 'csv', 'file_open_for_read': True, 'module_read_method_name': 'reader', 'transform_info': ['builtins', 'list'], 'file_open_for_write': True, 'module_write_method_name': 'writer', 'writer_method_name': 'writerows', 'name': 'csv'}\n",
      "[DEBUG]: register cls.name = csv, cls = <class 'brane.core.module.CsvModule'>\n",
      "[DEBUG]: registered @ <class 'brane.core.module.Module'>\n",
      "[DEBUG]: in MetaModule class_info={'module_name': 'pickle', 'file_open_for_read': True, 'module_read_method_name': 'load', 'open_mode_for_read': {'mode': 'rb'}, 'file_open_for_write': True, 'module_write_method_name': 'dump', 'open_mode_for_write': {'mode': 'wb'}, 'file_arg_first': False, 'name': 'pickle'}\n",
      "[DEBUG]: register cls.name = pickle, cls = <class 'brane.core.module.PickleModule'>\n",
      "[DEBUG]: registered @ <class 'brane.core.module.Module'>\n",
      "[DEBUG]: in MetaModule class_info={'name': 'Pillow', 'module_name': 'PIL.Image', 'module_read_method_name': 'open', 'object_write_method_name': 'save'}\n",
      "[DEBUG]: register cls.name = Pillow, cls = <class 'brane.core.module.PillowModule'>\n",
      "[DEBUG]: registered @ <class 'brane.core.module.Module'>\n",
      "[DEBUG]: in MetaModule class_info={'name': 'opencv-python', 'module_name': 'cv2', 'module_read_method_name': 'imread', 'module_write_method_name': 'imwrite', 'file_arg_first': True}\n",
      "[DEBUG]: register cls.name = opencv-python, cls = <class 'brane.core.module.CV2Module'>\n",
      "[DEBUG]: registered @ <class 'brane.core.module.Module'>\n",
      "[DEBUG]: in MetaModule class_info={'module_name': 'pandas', 'module_read_method_name': 'read_csv', 'object_write_method_name': 'to_csv', 'base_kwargs_write': {'index': None}, 'name': 'pandas'}\n",
      "[DEBUG]: register cls.name = pandas, cls = <class 'brane.core.module.PandasModule'>\n",
      "[DEBUG]: registered @ <class 'brane.core.module.Module'>\n",
      "[DEBUG]: in MetaModule class_info={'module_name': 'numpy', 'module_read_method_name': 'load', 'module_write_method_name': 'save', 'file_arg_first': True, 'name': 'numpy'}\n",
      "[DEBUG]: register cls.name = numpy, cls = <class 'brane.core.module.NumpyModule'>\n",
      "[DEBUG]: registered @ <class 'brane.core.module.Module'>\n",
      "[DEBUG]: in MetaModule class_info={'name': 'numpz1', 'module_name': 'numpy', 'module_read_method_name': 'load', 'transform_info': ['builtins', 'dict'], 'module_write_method_name': 'savez', 'file_arg_first': True, 'object_unpacking_type': 'mapping'}\n",
      "[DEBUG]: register cls.name = numpz1, cls = <class 'brane.core.module.Numpz1Module'>\n",
      "[DEBUG]: registered @ <class 'brane.core.module.Module'>\n",
      "[DEBUG]: in MetaModule class_info={'name': 'numpz2', 'module_name': 'numpy', 'module_read_method_name': 'load', 'transform_info': ['builtins', 'dict'], 'module_write_method_name': 'savez', 'file_arg_first': True, 'object_unpacking_type': 'sequence'}\n",
      "[DEBUG]: register cls.name = numpz2, cls = <class 'brane.core.module.Numpz2Module'>\n",
      "[DEBUG]: registered @ <class 'brane.core.module.Module'>\n",
      "[DEBUG]: in MetaModule class_info={'name': 'PyYAML', 'module_name': 'yaml', 'file_open_for_read': True, 'module_read_method_name': 'safe_load', 'file_open_for_write': True, 'module_write_method_name': 'safe_dump', 'file_arg_first': False}\n",
      "[DEBUG]: register cls.name = PyYAML, cls = <class 'brane.core.module.PyyamlModule'>\n",
      "[DEBUG]: registered @ <class 'brane.core.module.Module'>\n",
      "[DEBUG]: in MetaModule class_info={'module_name': 'toml', 'file_open_for_read': True, 'module_read_method_name': 'load', 'file_open_for_write': True, 'module_write_method_name': 'dump', 'file_arg_first': False, 'name': 'toml'}\n",
      "[DEBUG]: register cls.name = toml, cls = <class 'brane.core.module.TomlModule'>\n",
      "[DEBUG]: registered @ <class 'brane.core.module.Module'>\n",
      "[DEBUG]: in MetaFormat default_extension=txt class_info={'default_extension': 'txt', 'module_name': 'TextIO', 'module': <class 'brane.core.module.TextIOModule'>, 'name': 'txt', 'variation': ['txt']}\n",
      "[DEBUG]: register cls.name = txt, cls = <class 'brane.core.format.TXTFormat'>\n",
      "[DEBUG]: registered @ <class 'brane.core.format.Format'>\n",
      "[DEBUG]: in MetaFormat default_extension=csv class_info={'default_extension': 'csv', 'module_name': 'Csv', 'priority': 10, 'module': <class 'brane.core.module.CsvModule'>, 'name': 'csv', 'variation': ['csv']}\n",
      "[DEBUG]: register cls.name = csv, cls = <class 'brane.core.format.CSV_builtinFormat'>\n",
      "[DEBUG]: registered @ <class 'brane.core.format.Format'>\n",
      "[DEBUG]: in MetaFormat default_extension=json class_info={'default_extension': 'json', 'module_name': 'Json', 'module': <class 'brane.core.module.JsonModule'>, 'name': 'json', 'variation': ['json']}\n",
      "[DEBUG]: register cls.name = json, cls = <class 'brane.core.format.JSONFormat'>\n",
      "[DEBUG]: registered @ <class 'brane.core.format.Format'>\n",
      "[DEBUG]: in MetaFormat default_extension=pkl class_info={'default_extension': 'pkl', 'module_name': 'Pickle', 'module': <class 'brane.core.module.PickleModule'>, 'name': 'pkl', 'variation': ['pkl']}\n",
      "[DEBUG]: register cls.name = pkl, cls = <class 'brane.core.format.PKLFormat'>\n",
      "[DEBUG]: registered @ <class 'brane.core.format.Format'>\n",
      "[DEBUG]: in MetaFormat default_extension=png class_info={'default_extension': 'png', 'module_name': 'Pillow', 'module': <class 'brane.core.module.PillowModule'>, 'name': 'png', 'variation': ['png']}\n",
      "[DEBUG]: register cls.name = png, cls = <class 'brane.core.format.PNGFormat'>\n",
      "[DEBUG]: registered @ <class 'brane.core.format.Format'>\n",
      "[DEBUG]: in MetaFormat default_extension=jpeg class_info={'default_extension': 'jpeg', 'variation': ['jpg', 'jpeg'], 'module_name': 'Pillow', 'module': <class 'brane.core.module.PillowModule'>, 'name': 'jpeg'}\n",
      "[DEBUG]: register cls.name = jpeg, cls = <class 'brane.core.format.JPEGFormat'>\n",
      "[DEBUG]: registered @ <class 'brane.core.format.Format'>\n",
      "[DEBUG]: in MetaFormat default_extension=csv class_info={'default_extension': 'csv', 'module_name': 'Pandas', 'module': <class 'brane.core.module.PandasModule'>, 'name': 'csv', 'variation': ['csv']}\n",
      "[DEBUG]: overwritten cls.name = csv, cls = <class 'brane.core.format.CSVFormat'>\n",
      "[DEBUG]: registered @ <class 'brane.core.format.Format'>\n",
      "[DEBUG]: in MetaFormat default_extension=tsv class_info={'default_extension': 'tsv', 'module_name': 'Pandas', 'module': <class 'brane.core.module.PandasModule'>, 'name': 'tsv', 'variation': ['tsv']}\n",
      "[DEBUG]: register cls.name = tsv, cls = <class 'brane.core.format.TSVFormat'>\n",
      "[DEBUG]: registered @ <class 'brane.core.format.Format'>\n",
      "[DEBUG]: in MetaFormat default_extension=toml class_info={'default_extension': 'toml', 'module_name': 'Toml', 'module': <class 'brane.core.module.TomlModule'>, 'name': 'toml', 'variation': ['toml']}\n",
      "[DEBUG]: register cls.name = toml, cls = <class 'brane.core.format.TOMLFormat'>\n",
      "[DEBUG]: registered @ <class 'brane.core.format.Format'>\n",
      "[DEBUG]: in MetaFormat default_extension=yaml class_info={'default_extension': 'yaml', 'variation': ['yml', 'yaml'], 'module_name': 'Pyyaml', 'module': <class 'brane.core.module.PyyamlModule'>, 'name': 'yaml'}\n",
      "[DEBUG]: register cls.name = yaml, cls = <class 'brane.core.format.YAMLFormat'>\n",
      "[DEBUG]: registered @ <class 'brane.core.format.Format'>\n",
      "[DEBUG]: in MetaFormat default_extension=npy class_info={'default_extension': 'npy', 'module_name': 'Numpy', 'module': <class 'brane.core.module.NumpyModule'>, 'name': 'npy', 'variation': ['npy']}\n",
      "[DEBUG]: register cls.name = npy, cls = <class 'brane.core.format.NPYFormat'>\n",
      "[DEBUG]: registered @ <class 'brane.core.format.Format'>\n",
      "[DEBUG]: in MetaFormat default_extension=npz class_info={'default_extension': 'npz', 'module_name': 'Numpy', 'module': <class 'brane.core.module.NumpyModule'>, 'name': 'npz', 'variation': ['npz']}\n",
      "[DEBUG]: register cls.name = npz, cls = <class 'brane.core.format.NPZFormat'>\n",
      "[DEBUG]: registered @ <class 'brane.core.format.Format'>\n",
      "[DEBUG]: register cls.name = TextIO_TXT_Object, cls = <class 'brane.core.object.TextIO_TXT_Object'>\n",
      "[DEBUG]: registered @ <class 'brane.core.object.Object'>\n",
      "[DEBUG]: register cls.name = Pickle_PKL_Object, cls = <class 'brane.core.object.Pickle_PKL_Object'>\n",
      "[DEBUG]: registered @ <class 'brane.core.object.Object'>\n",
      "[DEBUG]: register cls.name = Csv_CSV_Object, cls = <class 'brane.core.object.Csv_CSV_Object'>\n",
      "[DEBUG]: registered @ <class 'brane.core.object.Object'>\n",
      "[DEBUG]: register cls.name = Json_JSON_Object, cls = <class 'brane.core.object.Json_JSON_Object'>\n",
      "[DEBUG]: registered @ <class 'brane.core.object.Object'>\n",
      "[DEBUG]: register cls.name = PIL_Image_Object, cls = <class 'brane.core.object.PIL_Image_Object'>\n",
      "[DEBUG]: registered @ <class 'brane.core.object.Object'>\n",
      "[DEBUG]: register cls.name = PIL_JPEG_Object, cls = <class 'brane.core.object.PIL_JPEG_Object'>\n",
      "[DEBUG]: registered @ <class 'brane.core.object.Object'>\n",
      "[DEBUG]: register cls.name = PIL_PNG_Object, cls = <class 'brane.core.object.PIL_PNG_Object'>\n",
      "[DEBUG]: registered @ <class 'brane.core.object.Object'>\n",
      "[DEBUG]: register cls.name = Pandas_DataFrame_Object, cls = <class 'brane.core.object.Pandas_DataFrame_Object'>\n",
      "[DEBUG]: registered @ <class 'brane.core.object.Object'>\n",
      "brane.__init__.py called\n"
     ]
    }
   ],
   "source": [
    "from brane.core.iomanager import ExtendedIO as xio\n",
    "#xio.factory.activate()"
   ]
  },
  {
   "cell_type": "code",
   "execution_count": 50,
   "metadata": {
    "ExecuteTime": {
     "end_time": "2022-06-08T17:31:34.676198Z",
     "start_time": "2022-06-08T17:31:34.653863Z"
    },
    "scrolled": true
   },
   "outputs": [
    {
     "data": {
      "text/plain": [
       "{'TextIO': brane.core.module.TextIOModule,\n",
       " 'Json': brane.core.module.JsonModule,\n",
       " 'Csv': brane.core.module.CsvModule,\n",
       " 'Pickle': brane.core.module.PickleModule,\n",
       " 'Pillow': brane.core.module.PillowModule,\n",
       " 'CV2': brane.core.module.CV2Module,\n",
       " 'Pandas': brane.core.module.PandasModule,\n",
       " 'Numpy': brane.core.module.NumpyModule,\n",
       " 'Numpz1': brane.core.module.Numpz1Module,\n",
       " 'Numpz2': brane.core.module.Numpz2Module,\n",
       " 'Pyyaml': brane.core.module.PyyamlModule,\n",
       " 'Toml': brane.core.module.TomlModule}"
      ]
     },
     "execution_count": 50,
     "metadata": {},
     "output_type": "execute_result"
    }
   ],
   "source": [
    "xio.factory.className2Module"
   ]
  },
  {
   "cell_type": "code",
   "execution_count": 51,
   "metadata": {
    "ExecuteTime": {
     "end_time": "2022-06-08T17:31:34.896481Z",
     "start_time": "2022-06-08T17:31:34.874359Z"
    }
   },
   "outputs": [
    {
     "data": {
      "text/plain": [
       "{'TXT': brane.core.format.TXTFormat,\n",
       " 'CSV_builtin': brane.core.format.CSV_builtinFormat,\n",
       " 'JSON': brane.core.format.JSONFormat,\n",
       " 'PKL': brane.core.format.PKLFormat,\n",
       " 'PNG': brane.core.format.PNGFormat,\n",
       " 'JPEG': brane.core.format.JPEGFormat,\n",
       " 'CSV': brane.core.format.CSVFormat,\n",
       " 'TSV': brane.core.format.TSVFormat,\n",
       " 'TOML': brane.core.format.TOMLFormat,\n",
       " 'YAML': brane.core.format.YAMLFormat,\n",
       " 'NPY': brane.core.format.NPYFormat,\n",
       " 'NPZ': brane.core.format.NPZFormat}"
      ]
     },
     "execution_count": 51,
     "metadata": {},
     "output_type": "execute_result"
    }
   ],
   "source": [
    "xio.factory.className2Format"
   ]
  },
  {
   "cell_type": "code",
   "execution_count": 52,
   "metadata": {
    "ExecuteTime": {
     "end_time": "2022-06-08T17:31:35.611673Z",
     "start_time": "2022-06-08T17:31:35.595169Z"
    }
   },
   "outputs": [
    {
     "data": {
      "text/plain": [
       "{'TextIO_TXT': brane.core.object.TextIO_TXT_Object,\n",
       " 'Pickle_PKL': brane.core.object.Pickle_PKL_Object,\n",
       " 'Csv_CSV': brane.core.object.Csv_CSV_Object,\n",
       " 'Json_JSON': brane.core.object.Json_JSON_Object,\n",
       " 'PIL_Image': brane.core.object.PIL_Image_Object,\n",
       " 'PIL_JPEG': brane.core.object.PIL_JPEG_Object,\n",
       " 'PIL_PNG': brane.core.object.PIL_PNG_Object,\n",
       " 'Pandas_DataFrame': brane.core.object.Pandas_DataFrame_Object}"
      ]
     },
     "execution_count": 52,
     "metadata": {},
     "output_type": "execute_result"
    }
   ],
   "source": [
    "xio.factory.className2Object"
   ]
  },
  {
   "cell_type": "markdown",
   "metadata": {
    "ExecuteTime": {
     "end_time": "2022-06-02T14:26:54.439497Z",
     "start_time": "2022-06-02T14:26:54.409580Z"
    }
   },
   "source": [
    "tmp = xio.factory.className2Object[\"Pickle_PKL\"]#._registered_subclasses"
   ]
  },
  {
   "cell_type": "code",
   "execution_count": 53,
   "metadata": {
    "ExecuteTime": {
     "end_time": "2022-06-08T17:31:37.372210Z",
     "start_time": "2022-06-08T17:31:37.357068Z"
    }
   },
   "outputs": [],
   "source": [
    "from brane.core.module import Module\n",
    "from brane.core.format import Format\n",
    "from brane.core.object import Object"
   ]
  },
  {
   "cell_type": "markdown",
   "metadata": {
    "ExecuteTime": {
     "end_time": "2022-06-07T18:36:15.155297Z",
     "start_time": "2022-06-07T18:36:14.602074Z"
    }
   },
   "source": [
    "from brane.libs.events import BasicEvents"
   ]
  },
  {
   "cell_type": "code",
   "execution_count": 54,
   "metadata": {
    "ExecuteTime": {
     "end_time": "2022-06-08T17:31:38.018067Z",
     "start_time": "2022-06-08T17:31:38.002101Z"
    },
    "scrolled": true
   },
   "outputs": [
    {
     "data": {
      "text/plain": [
       "OrderedDict([('textio', brane.core.module.TextIOModule),\n",
       "             ('json', brane.core.module.JsonModule),\n",
       "             ('csv', brane.core.module.CsvModule),\n",
       "             ('pickle', brane.core.module.PickleModule),\n",
       "             ('Pillow', brane.core.module.PillowModule),\n",
       "             ('opencv-python', brane.core.module.CV2Module),\n",
       "             ('pandas', brane.core.module.PandasModule),\n",
       "             ('numpy', brane.core.module.NumpyModule),\n",
       "             ('numpz1', brane.core.module.Numpz1Module),\n",
       "             ('numpz2', brane.core.module.Numpz2Module),\n",
       "             ('PyYAML', brane.core.module.PyyamlModule),\n",
       "             ('toml', brane.core.module.TomlModule)])"
      ]
     },
     "execution_count": 54,
     "metadata": {},
     "output_type": "execute_result"
    }
   ],
   "source": [
    "Module.registered_modules"
   ]
  },
  {
   "cell_type": "code",
   "execution_count": 55,
   "metadata": {
    "ExecuteTime": {
     "end_time": "2022-06-08T17:31:38.584743Z",
     "start_time": "2022-06-08T17:31:38.563288Z"
    }
   },
   "outputs": [
    {
     "data": {
      "text/plain": [
       "OrderedDict([('txt', brane.core.format.TXTFormat),\n",
       "             ('json', brane.core.format.JSONFormat),\n",
       "             ('pkl', brane.core.format.PKLFormat),\n",
       "             ('png', brane.core.format.PNGFormat),\n",
       "             ('jpeg', brane.core.format.JPEGFormat),\n",
       "             ('csv', brane.core.format.CSVFormat),\n",
       "             ('tsv', brane.core.format.TSVFormat),\n",
       "             ('toml', brane.core.format.TOMLFormat),\n",
       "             ('yaml', brane.core.format.YAMLFormat),\n",
       "             ('npy', brane.core.format.NPYFormat),\n",
       "             ('npz', brane.core.format.NPZFormat)])"
      ]
     },
     "execution_count": 55,
     "metadata": {},
     "output_type": "execute_result"
    }
   ],
   "source": [
    "Format.registered_formats"
   ]
  },
  {
   "cell_type": "code",
   "execution_count": 56,
   "metadata": {
    "ExecuteTime": {
     "end_time": "2022-06-08T17:31:38.884044Z",
     "start_time": "2022-06-08T17:31:38.859516Z"
    }
   },
   "outputs": [
    {
     "data": {
      "text/plain": [
       "OrderedDict([('PIL_JPEG_Object', brane.core.object.PIL_JPEG_Object),\n",
       "             ('PIL_PNG_Object', brane.core.object.PIL_PNG_Object),\n",
       "             ('Pandas_DataFrame_Object',\n",
       "              brane.core.object.Pandas_DataFrame_Object),\n",
       "             ('PIL_Image_Object', brane.core.object.PIL_Image_Object),\n",
       "             ('TextIO_TXT_Object', brane.core.object.TextIO_TXT_Object),\n",
       "             ('Csv_CSV_Object', brane.core.object.Csv_CSV_Object),\n",
       "             ('Json_JSON_Object', brane.core.object.Json_JSON_Object),\n",
       "             ('Pickle_PKL_Object', brane.core.object.Pickle_PKL_Object)])"
      ]
     },
     "execution_count": 56,
     "metadata": {},
     "output_type": "execute_result"
    }
   ],
   "source": [
    "Object.registered_objects"
   ]
  },
  {
   "cell_type": "code",
   "execution_count": 57,
   "metadata": {
    "ExecuteTime": {
     "end_time": "2022-06-08T17:31:40.196442Z",
     "start_time": "2022-06-08T17:31:40.176344Z"
    }
   },
   "outputs": [
    {
     "data": {
      "text/plain": [
       "1. <function check_path_existence at 0x7fec197baca0>"
      ]
     },
     "execution_count": 57,
     "metadata": {},
     "output_type": "execute_result"
    }
   ],
   "source": [
    "xio.pre_read"
   ]
  },
  {
   "cell_type": "code",
   "execution_count": 58,
   "metadata": {
    "ExecuteTime": {
     "end_time": "2022-06-08T17:31:40.447840Z",
     "start_time": "2022-06-08T17:31:40.429990Z"
    }
   },
   "outputs": [
    {
     "data": {
      "text/plain": []
     },
     "execution_count": 58,
     "metadata": {},
     "output_type": "execute_result"
    }
   ],
   "source": [
    "xio.post_read"
   ]
  },
  {
   "cell_type": "code",
   "execution_count": 59,
   "metadata": {
    "ExecuteTime": {
     "end_time": "2022-06-08T17:31:40.828743Z",
     "start_time": "2022-06-08T17:31:40.801837Z"
    }
   },
   "outputs": [
    {
     "data": {
      "text/plain": [
       "1. <function create_parent_directory at 0x7fec194e88b0>"
      ]
     },
     "execution_count": 59,
     "metadata": {},
     "output_type": "execute_result"
    }
   ],
   "source": [
    "xio.pre_write"
   ]
  },
  {
   "cell_type": "code",
   "execution_count": 60,
   "metadata": {
    "ExecuteTime": {
     "end_time": "2022-06-08T17:31:41.110428Z",
     "start_time": "2022-06-08T17:31:41.089854Z"
    }
   },
   "outputs": [
    {
     "data": {
      "text/plain": []
     },
     "execution_count": 60,
     "metadata": {},
     "output_type": "execute_result"
    }
   ],
   "source": [
    "xio.post_write"
   ]
  },
  {
   "cell_type": "markdown",
   "metadata": {},
   "source": [
    "#### case-1"
   ]
  },
  {
   "cell_type": "markdown",
   "metadata": {},
   "source": [
    "##### image"
   ]
  },
  {
   "cell_type": "code",
   "execution_count": 61,
   "metadata": {
    "ExecuteTime": {
     "end_time": "2022-06-08T17:31:42.322584Z",
     "start_time": "2022-06-08T17:31:42.304586Z"
    }
   },
   "outputs": [],
   "source": [
    "path = \"./assets/image.jpg\""
   ]
  },
  {
   "cell_type": "code",
   "execution_count": 62,
   "metadata": {
    "ExecuteTime": {
     "end_time": "2022-06-08T17:31:42.684092Z",
     "start_time": "2022-06-08T17:31:42.621206Z"
    },
    "scrolled": true
   },
   "outputs": [
    {
     "name": "stdout",
     "output_type": "stream",
     "text": [
      "<class 'PIL.JpegImagePlugin.JpegImageFile'>\n"
     ]
    },
    {
     "data": {
      "image/png": "[encoded data removed]",
      "text/plain": [
       "<PIL.JpegImagePlugin.JpegImageFile image mode=RGB size=300x203>"
      ]
     },
     "execution_count": 62,
     "metadata": {},
     "output_type": "execute_result"
    }
   ],
   "source": [
    "obj = xio.read(path)\n",
    "print(type(obj))\n",
    "obj"
   ]
  },
  {
   "cell_type": "code",
   "execution_count": 63,
   "metadata": {
    "ExecuteTime": {
     "end_time": "2022-06-08T17:31:43.810288Z",
     "start_time": "2022-06-08T17:31:43.780180Z"
    },
    "scrolled": false
   },
   "outputs": [
    {
     "name": "stdout",
     "output_type": "stream",
     "text": [
      "@Meta: <class 'brane.core.object.PIL_JPEG_Object'>\n"
     ]
    }
   ],
   "source": [
    "save_path = \"./tmp_output/image2.jpg\"\n",
    "xio.write(obj, save_path)"
   ]
  },
  {
   "cell_type": "code",
   "execution_count": 64,
   "metadata": {
    "ExecuteTime": {
     "end_time": "2022-06-08T17:31:44.194487Z",
     "start_time": "2022-06-08T17:31:44.067359Z"
    }
   },
   "outputs": [
    {
     "name": "stdout",
     "output_type": "stream",
     "text": [
      "@Meta: <class 'brane.core.object.PIL_JPEG_Object'>\n"
     ]
    }
   ],
   "source": [
    "save_path = \"./tmp_output/test_dir/image2.jpeg\"\n",
    "!rm -r tmp_output/test_dir\n",
    "xio.write(obj, save_path)"
   ]
  },
  {
   "cell_type": "code",
   "execution_count": 65,
   "metadata": {
    "ExecuteTime": {
     "end_time": "2022-06-08T17:31:44.456377Z",
     "start_time": "2022-06-08T17:31:44.311320Z"
    }
   },
   "outputs": [
    {
     "name": "stdout",
     "output_type": "stream",
     "text": [
      "\u001b[01;34m./tmp_output/\u001b[00m\r\n",
      "├── array.npy\r\n",
      "├── df_.csv\r\n",
      "├── df_tiny01.csv\r\n",
      "├── \u001b[01;35mimage2.jpg\u001b[00m\r\n",
      "├── test2.hello\r\n",
      "├── \u001b[01;34mtest_dir\u001b[00m\r\n",
      "│   └── \u001b[01;35mimage2.jpeg\u001b[00m\r\n",
      "└── test.hello\r\n",
      "\r\n",
      "1 directory, 7 files\r\n"
     ]
    }
   ],
   "source": [
    "!tree ./tmp_output/"
   ]
  },
  {
   "cell_type": "code",
   "execution_count": 66,
   "metadata": {
    "ExecuteTime": {
     "end_time": "2022-06-08T17:31:44.573221Z",
     "start_time": "2022-06-08T17:31:44.554867Z"
    }
   },
   "outputs": [],
   "source": [
    "from brane.libs.hooks import PILResizeHook"
   ]
  },
  {
   "cell_type": "code",
   "execution_count": 67,
   "metadata": {
    "ExecuteTime": {
     "end_time": "2022-06-08T17:31:45.901161Z",
     "start_time": "2022-06-08T17:31:45.889635Z"
    }
   },
   "outputs": [],
   "source": [
    "xio.register_post_read_hook(PILResizeHook(size=(50,50)))"
   ]
  },
  {
   "cell_type": "code",
   "execution_count": 68,
   "metadata": {
    "ExecuteTime": {
     "end_time": "2022-06-08T17:31:46.231593Z",
     "start_time": "2022-06-08T17:31:46.105970Z"
    }
   },
   "outputs": [
    {
     "name": "stdout",
     "output_type": "stream",
     "text": [
      "\u001b[01;34m./tmp_output/\u001b[00m\r\n",
      "├── array.npy\r\n",
      "├── df_.csv\r\n",
      "├── df_tiny01.csv\r\n",
      "├── \u001b[01;35mimage2.jpg\u001b[00m\r\n",
      "├── test2.hello\r\n",
      "├── \u001b[01;34mtest_dir\u001b[00m\r\n",
      "│   └── \u001b[01;35mimage2.jpeg\u001b[00m\r\n",
      "└── test.hello\r\n",
      "\r\n",
      "1 directory, 7 files\r\n"
     ]
    }
   ],
   "source": [
    "!tree ./tmp_output/"
   ]
  },
  {
   "cell_type": "code",
   "execution_count": 69,
   "metadata": {
    "ExecuteTime": {
     "end_time": "2022-06-08T17:31:46.379416Z",
     "start_time": "2022-06-08T17:31:46.341966Z"
    }
   },
   "outputs": [
    {
     "name": "stdout",
     "output_type": "stream",
     "text": [
      "@Meta: <class 'brane.core.object.PIL_JPEG_Object'>\n",
      "@Meta: <class 'brane.core.object.PIL_PNG_Object'>\n",
      "resize\n"
     ]
    },
    {
     "data": {
      "image/png": "[encoded data removed]",
      "text/plain": [
       "<PIL.Image.Image image mode=RGB size=50x50>"
      ]
     },
     "execution_count": 69,
     "metadata": {},
     "output_type": "execute_result"
    }
   ],
   "source": [
    "xio.read(save_path)"
   ]
  },
  {
   "cell_type": "markdown",
   "metadata": {},
   "source": [
    "##### dataframe"
   ]
  },
  {
   "cell_type": "code",
   "execution_count": 70,
   "metadata": {
    "ExecuteTime": {
     "end_time": "2022-06-08T17:31:47.508187Z",
     "start_time": "2022-06-08T17:31:47.080192Z"
    },
    "scrolled": true
   },
   "outputs": [
    {
     "name": "stdout",
     "output_type": "stream",
     "text": [
      "@Meta: <class 'brane.core.object.PIL_JPEG_Object'>\n",
      "@Meta: <class 'brane.core.object.PIL_PNG_Object'>\n"
     ]
    },
    {
     "data": {
      "text/html": [
       "<div>\n",
       "<style scoped>\n",
       "    .dataframe tbody tr th:only-of-type {\n",
       "        vertical-align: middle;\n",
       "    }\n",
       "\n",
       "    .dataframe tbody tr th {\n",
       "        vertical-align: top;\n",
       "    }\n",
       "\n",
       "    .dataframe thead th {\n",
       "        text-align: right;\n",
       "    }\n",
       "</style>\n",
       "<table border=\"1\" class=\"dataframe\">\n",
       "  <thead>\n",
       "    <tr style=\"text-align: right;\">\n",
       "      <th></th>\n",
       "      <th>a</th>\n",
       "      <th>b</th>\n",
       "    </tr>\n",
       "  </thead>\n",
       "  <tbody>\n",
       "    <tr>\n",
       "      <th>0</th>\n",
       "      <td>1</td>\n",
       "      <td>-1</td>\n",
       "    </tr>\n",
       "    <tr>\n",
       "      <th>1</th>\n",
       "      <td>2</td>\n",
       "      <td>4</td>\n",
       "    </tr>\n",
       "    <tr>\n",
       "      <th>2</th>\n",
       "      <td>6</td>\n",
       "      <td>0</td>\n",
       "    </tr>\n",
       "  </tbody>\n",
       "</table>\n",
       "</div>"
      ],
      "text/plain": [
       "   a  b\n",
       "0  1 -1\n",
       "1  2  4\n",
       "2  6  0"
      ]
     },
     "execution_count": 70,
     "metadata": {},
     "output_type": "execute_result"
    }
   ],
   "source": [
    "path = \"./assets/df_tiny01.csv\"\n",
    "\n",
    "obj = xio.read(path)\n",
    "obj"
   ]
  },
  {
   "cell_type": "code",
   "execution_count": 71,
   "metadata": {
    "ExecuteTime": {
     "end_time": "2022-06-08T17:31:47.530490Z",
     "start_time": "2022-06-08T17:31:47.510600Z"
    },
    "scrolled": true
   },
   "outputs": [
    {
     "name": "stdout",
     "output_type": "stream",
     "text": [
      "@Meta: <class 'brane.core.object.PIL_JPEG_Object'>\n",
      "@Meta: <class 'brane.core.object.PIL_PNG_Object'>\n"
     ]
    },
    {
     "data": {
      "text/html": [
       "<div>\n",
       "<style scoped>\n",
       "    .dataframe tbody tr th:only-of-type {\n",
       "        vertical-align: middle;\n",
       "    }\n",
       "\n",
       "    .dataframe tbody tr th {\n",
       "        vertical-align: top;\n",
       "    }\n",
       "\n",
       "    .dataframe thead th {\n",
       "        text-align: right;\n",
       "    }\n",
       "</style>\n",
       "<table border=\"1\" class=\"dataframe\">\n",
       "  <thead>\n",
       "    <tr style=\"text-align: right;\">\n",
       "      <th></th>\n",
       "      <th>x</th>\n",
       "      <th>y</th>\n",
       "    </tr>\n",
       "  </thead>\n",
       "  <tbody>\n",
       "    <tr>\n",
       "      <th>0</th>\n",
       "      <td>a</td>\n",
       "      <td>b</td>\n",
       "    </tr>\n",
       "  </tbody>\n",
       "</table>\n",
       "</div>"
      ],
      "text/plain": [
       "   x  y\n",
       "0  a  b"
      ]
     },
     "execution_count": 71,
     "metadata": {},
     "output_type": "execute_result"
    }
   ],
   "source": [
    "path = \"./assets/df_tiny01.csv\"\n",
    "\n",
    "obj = xio.read(path, nrows=1, names=[\"x\", \"y\"])\n",
    "obj"
   ]
  },
  {
   "cell_type": "code",
   "execution_count": 72,
   "metadata": {
    "ExecuteTime": {
     "end_time": "2022-06-08T17:31:47.921311Z",
     "start_time": "2022-06-08T17:31:47.786590Z"
    }
   },
   "outputs": [
    {
     "name": "stdout",
     "output_type": "stream",
     "text": [
      "@Meta: <class 'brane.core.object.PIL_JPEG_Object'>\n",
      "@Meta: <class 'brane.core.object.PIL_PNG_Object'>\n",
      "@Meta: <class 'brane.core.object.Pandas_DataFrame_Object'>\n",
      "x,y\r\n",
      "a,b\r\n"
     ]
    }
   ],
   "source": [
    "save_path = \"./tmp_output/df_tiny01.csv\"\n",
    "xio.write(obj, save_path)\n",
    "!cat {save_path}"
   ]
  },
  {
   "cell_type": "code",
   "execution_count": 73,
   "metadata": {
    "ExecuteTime": {
     "end_time": "2022-06-08T17:31:48.029415Z",
     "start_time": "2022-06-08T17:31:48.004429Z"
    },
    "scrolled": true
   },
   "outputs": [
    {
     "name": "stdout",
     "output_type": "stream",
     "text": [
      "@Meta: <class 'brane.core.object.PIL_JPEG_Object'>\n",
      "@Meta: <class 'brane.core.object.PIL_PNG_Object'>\n"
     ]
    },
    {
     "data": {
      "text/html": [
       "<div>\n",
       "<style scoped>\n",
       "    .dataframe tbody tr th:only-of-type {\n",
       "        vertical-align: middle;\n",
       "    }\n",
       "\n",
       "    .dataframe tbody tr th {\n",
       "        vertical-align: top;\n",
       "    }\n",
       "\n",
       "    .dataframe thead th {\n",
       "        text-align: right;\n",
       "    }\n",
       "</style>\n",
       "<table border=\"1\" class=\"dataframe\">\n",
       "  <thead>\n",
       "    <tr style=\"text-align: right;\">\n",
       "      <th></th>\n",
       "      <th>x</th>\n",
       "      <th>y</th>\n",
       "    </tr>\n",
       "  </thead>\n",
       "  <tbody>\n",
       "    <tr>\n",
       "      <th>0</th>\n",
       "      <td>a</td>\n",
       "      <td>b</td>\n",
       "    </tr>\n",
       "  </tbody>\n",
       "</table>\n",
       "</div>"
      ],
      "text/plain": [
       "   x  y\n",
       "0  a  b"
      ]
     },
     "execution_count": 73,
     "metadata": {},
     "output_type": "execute_result"
    }
   ],
   "source": [
    "xio.read(save_path)# index is None on writing"
   ]
  },
  {
   "cell_type": "code",
   "execution_count": null,
   "metadata": {},
   "outputs": [],
   "source": []
  },
  {
   "cell_type": "markdown",
   "metadata": {},
   "source": [
    "#### case-2"
   ]
  },
  {
   "cell_type": "markdown",
   "metadata": {},
   "source": [
    "* example\n",
    "    + []: xio.register_read_post_hook(set_index_on_column(\"published\"), object=pd.DataFrame, skip_when_error=True)\n",
    "    + [*]: xio.register_read_all_post_hook(concat_dataframe, object=pd.DataFrame)\n",
    "    + []: objs = xio.read_all_as_list(\"./test*.csv\", sort_func=sort_by_datetime_at_first_row)"
   ]
  },
  {
   "cell_type": "markdown",
   "metadata": {},
   "source": [
    "##### multiple datafarme"
   ]
  },
  {
   "cell_type": "code",
   "execution_count": 74,
   "metadata": {
    "ExecuteTime": {
     "end_time": "2022-06-08T17:31:50.491653Z",
     "start_time": "2022-06-08T17:31:50.474382Z"
    }
   },
   "outputs": [],
   "source": [
    "from IPython import display"
   ]
  },
  {
   "cell_type": "code",
   "execution_count": 75,
   "metadata": {
    "ExecuteTime": {
     "end_time": "2022-06-08T17:31:50.746450Z",
     "start_time": "2022-06-08T17:31:50.729896Z"
    }
   },
   "outputs": [],
   "source": [
    "xio.clear_all_hooks()# readall_post.hooks = []"
   ]
  },
  {
   "cell_type": "code",
   "execution_count": 76,
   "metadata": {
    "ExecuteTime": {
     "end_time": "2022-06-08T17:31:51.077995Z",
     "start_time": "2022-06-08T17:31:51.027432Z"
    },
    "scrolled": false
   },
   "outputs": [
    {
     "name": "stdout",
     "output_type": "stream",
     "text": [
      "@Meta: <class 'brane.core.object.PIL_JPEG_Object'>\n",
      "@Meta: <class 'brane.core.object.PIL_PNG_Object'>\n",
      "@Meta: <class 'brane.core.object.PIL_JPEG_Object'>\n",
      "@Meta: <class 'brane.core.object.PIL_PNG_Object'>\n",
      "<class 'list'>\n"
     ]
    },
    {
     "data": {
      "text/html": [
       "<div>\n",
       "<style scoped>\n",
       "    .dataframe tbody tr th:only-of-type {\n",
       "        vertical-align: middle;\n",
       "    }\n",
       "\n",
       "    .dataframe tbody tr th {\n",
       "        vertical-align: top;\n",
       "    }\n",
       "\n",
       "    .dataframe thead th {\n",
       "        text-align: right;\n",
       "    }\n",
       "</style>\n",
       "<table border=\"1\" class=\"dataframe\">\n",
       "  <thead>\n",
       "    <tr style=\"text-align: right;\">\n",
       "      <th></th>\n",
       "      <th>a</th>\n",
       "      <th>b</th>\n",
       "    </tr>\n",
       "  </thead>\n",
       "  <tbody>\n",
       "    <tr>\n",
       "      <th>0</th>\n",
       "      <td>1</td>\n",
       "      <td>-1</td>\n",
       "    </tr>\n",
       "    <tr>\n",
       "      <th>1</th>\n",
       "      <td>2</td>\n",
       "      <td>4</td>\n",
       "    </tr>\n",
       "    <tr>\n",
       "      <th>2</th>\n",
       "      <td>6</td>\n",
       "      <td>0</td>\n",
       "    </tr>\n",
       "  </tbody>\n",
       "</table>\n",
       "</div>"
      ],
      "text/plain": [
       "   a  b\n",
       "0  1 -1\n",
       "1  2  4\n",
       "2  6  0"
      ]
     },
     "metadata": {},
     "output_type": "display_data"
    },
    {
     "data": {
      "text/html": [
       "<div>\n",
       "<style scoped>\n",
       "    .dataframe tbody tr th:only-of-type {\n",
       "        vertical-align: middle;\n",
       "    }\n",
       "\n",
       "    .dataframe tbody tr th {\n",
       "        vertical-align: top;\n",
       "    }\n",
       "\n",
       "    .dataframe thead th {\n",
       "        text-align: right;\n",
       "    }\n",
       "</style>\n",
       "<table border=\"1\" class=\"dataframe\">\n",
       "  <thead>\n",
       "    <tr style=\"text-align: right;\">\n",
       "      <th></th>\n",
       "      <th>a</th>\n",
       "      <th>b</th>\n",
       "    </tr>\n",
       "  </thead>\n",
       "  <tbody>\n",
       "    <tr>\n",
       "      <th>0</th>\n",
       "      <td>6</td>\n",
       "      <td>4</td>\n",
       "    </tr>\n",
       "    <tr>\n",
       "      <th>1</th>\n",
       "      <td>0</td>\n",
       "      <td>-3</td>\n",
       "    </tr>\n",
       "    <tr>\n",
       "      <th>2</th>\n",
       "      <td>7</td>\n",
       "      <td>None</td>\n",
       "    </tr>\n",
       "  </tbody>\n",
       "</table>\n",
       "</div>"
      ],
      "text/plain": [
       "   a     b\n",
       "0  6     4\n",
       "1  0    -3\n",
       "2  7  None"
      ]
     },
     "metadata": {},
     "output_type": "display_data"
    }
   ],
   "source": [
    "objs = xio.read_all_as_list(\"./assets/*tiny*.csv\")\n",
    "print(type(objs))\n",
    "\n",
    "for obj in objs:\n",
    "    display.display(obj)"
   ]
  },
  {
   "cell_type": "code",
   "execution_count": 77,
   "metadata": {
    "ExecuteTime": {
     "end_time": "2022-06-08T17:31:51.371748Z",
     "start_time": "2022-06-08T17:31:51.323323Z"
    },
    "scrolled": false
   },
   "outputs": [
    {
     "name": "stdout",
     "output_type": "stream",
     "text": [
      "@Meta: <class 'brane.core.object.PIL_JPEG_Object'>\n",
      "@Meta: <class 'brane.core.object.PIL_PNG_Object'>\n",
      "@Meta: <class 'brane.core.object.PIL_JPEG_Object'>\n",
      "@Meta: <class 'brane.core.object.PIL_PNG_Object'>\n",
      "<class 'dict'>\n",
      "./assets/df_tiny02.csv\n"
     ]
    },
    {
     "data": {
      "text/html": [
       "<div>\n",
       "<style scoped>\n",
       "    .dataframe tbody tr th:only-of-type {\n",
       "        vertical-align: middle;\n",
       "    }\n",
       "\n",
       "    .dataframe tbody tr th {\n",
       "        vertical-align: top;\n",
       "    }\n",
       "\n",
       "    .dataframe thead th {\n",
       "        text-align: right;\n",
       "    }\n",
       "</style>\n",
       "<table border=\"1\" class=\"dataframe\">\n",
       "  <thead>\n",
       "    <tr style=\"text-align: right;\">\n",
       "      <th></th>\n",
       "      <th>a</th>\n",
       "      <th>b</th>\n",
       "    </tr>\n",
       "  </thead>\n",
       "  <tbody>\n",
       "    <tr>\n",
       "      <th>0</th>\n",
       "      <td>6</td>\n",
       "      <td>4</td>\n",
       "    </tr>\n",
       "    <tr>\n",
       "      <th>1</th>\n",
       "      <td>0</td>\n",
       "      <td>-3</td>\n",
       "    </tr>\n",
       "    <tr>\n",
       "      <th>2</th>\n",
       "      <td>7</td>\n",
       "      <td>None</td>\n",
       "    </tr>\n",
       "  </tbody>\n",
       "</table>\n",
       "</div>"
      ],
      "text/plain": [
       "   a     b\n",
       "0  6     4\n",
       "1  0    -3\n",
       "2  7  None"
      ]
     },
     "metadata": {},
     "output_type": "display_data"
    },
    {
     "name": "stdout",
     "output_type": "stream",
     "text": [
      "./assets/df_tiny01.csv\n"
     ]
    },
    {
     "data": {
      "text/html": [
       "<div>\n",
       "<style scoped>\n",
       "    .dataframe tbody tr th:only-of-type {\n",
       "        vertical-align: middle;\n",
       "    }\n",
       "\n",
       "    .dataframe tbody tr th {\n",
       "        vertical-align: top;\n",
       "    }\n",
       "\n",
       "    .dataframe thead th {\n",
       "        text-align: right;\n",
       "    }\n",
       "</style>\n",
       "<table border=\"1\" class=\"dataframe\">\n",
       "  <thead>\n",
       "    <tr style=\"text-align: right;\">\n",
       "      <th></th>\n",
       "      <th>a</th>\n",
       "      <th>b</th>\n",
       "    </tr>\n",
       "  </thead>\n",
       "  <tbody>\n",
       "    <tr>\n",
       "      <th>0</th>\n",
       "      <td>1</td>\n",
       "      <td>-1</td>\n",
       "    </tr>\n",
       "    <tr>\n",
       "      <th>1</th>\n",
       "      <td>2</td>\n",
       "      <td>4</td>\n",
       "    </tr>\n",
       "    <tr>\n",
       "      <th>2</th>\n",
       "      <td>6</td>\n",
       "      <td>0</td>\n",
       "    </tr>\n",
       "  </tbody>\n",
       "</table>\n",
       "</div>"
      ],
      "text/plain": [
       "   a  b\n",
       "0  1 -1\n",
       "1  2  4\n",
       "2  6  0"
      ]
     },
     "metadata": {},
     "output_type": "display_data"
    }
   ],
   "source": [
    "objs = xio.read_all_as_dict(\"./assets/*tiny*.csv\")\n",
    "print(type(objs))\n",
    "\n",
    "for key, obj in objs.items():\n",
    "    print(key)\n",
    "    display.display(obj)"
   ]
  },
  {
   "cell_type": "code",
   "execution_count": 78,
   "metadata": {
    "ExecuteTime": {
     "end_time": "2022-06-08T17:31:51.681027Z",
     "start_time": "2022-06-08T17:31:51.631912Z"
    },
    "scrolled": false
   },
   "outputs": [
    {
     "name": "stdout",
     "output_type": "stream",
     "text": [
      "@Meta: <class 'brane.core.object.PIL_JPEG_Object'>\n",
      "@Meta: <class 'brane.core.object.PIL_PNG_Object'>\n",
      "@Meta: <class 'brane.core.object.PIL_JPEG_Object'>\n",
      "@Meta: <class 'brane.core.object.PIL_PNG_Object'>\n",
      "<class 'dict'>\n",
      "01\n"
     ]
    },
    {
     "data": {
      "text/html": [
       "<div>\n",
       "<style scoped>\n",
       "    .dataframe tbody tr th:only-of-type {\n",
       "        vertical-align: middle;\n",
       "    }\n",
       "\n",
       "    .dataframe tbody tr th {\n",
       "        vertical-align: top;\n",
       "    }\n",
       "\n",
       "    .dataframe thead th {\n",
       "        text-align: right;\n",
       "    }\n",
       "</style>\n",
       "<table border=\"1\" class=\"dataframe\">\n",
       "  <thead>\n",
       "    <tr style=\"text-align: right;\">\n",
       "      <th></th>\n",
       "      <th>a</th>\n",
       "      <th>b</th>\n",
       "    </tr>\n",
       "  </thead>\n",
       "  <tbody>\n",
       "    <tr>\n",
       "      <th>0</th>\n",
       "      <td>1</td>\n",
       "      <td>-1</td>\n",
       "    </tr>\n",
       "    <tr>\n",
       "      <th>1</th>\n",
       "      <td>2</td>\n",
       "      <td>4</td>\n",
       "    </tr>\n",
       "    <tr>\n",
       "      <th>2</th>\n",
       "      <td>6</td>\n",
       "      <td>0</td>\n",
       "    </tr>\n",
       "  </tbody>\n",
       "</table>\n",
       "</div>"
      ],
      "text/plain": [
       "   a  b\n",
       "0  1 -1\n",
       "1  2  4\n",
       "2  6  0"
      ]
     },
     "metadata": {},
     "output_type": "display_data"
    },
    {
     "name": "stdout",
     "output_type": "stream",
     "text": [
      "02\n"
     ]
    },
    {
     "data": {
      "text/html": [
       "<div>\n",
       "<style scoped>\n",
       "    .dataframe tbody tr th:only-of-type {\n",
       "        vertical-align: middle;\n",
       "    }\n",
       "\n",
       "    .dataframe tbody tr th {\n",
       "        vertical-align: top;\n",
       "    }\n",
       "\n",
       "    .dataframe thead th {\n",
       "        text-align: right;\n",
       "    }\n",
       "</style>\n",
       "<table border=\"1\" class=\"dataframe\">\n",
       "  <thead>\n",
       "    <tr style=\"text-align: right;\">\n",
       "      <th></th>\n",
       "      <th>a</th>\n",
       "      <th>b</th>\n",
       "    </tr>\n",
       "  </thead>\n",
       "  <tbody>\n",
       "    <tr>\n",
       "      <th>0</th>\n",
       "      <td>6</td>\n",
       "      <td>4</td>\n",
       "    </tr>\n",
       "    <tr>\n",
       "      <th>1</th>\n",
       "      <td>0</td>\n",
       "      <td>-3</td>\n",
       "    </tr>\n",
       "    <tr>\n",
       "      <th>2</th>\n",
       "      <td>7</td>\n",
       "      <td>None</td>\n",
       "    </tr>\n",
       "  </tbody>\n",
       "</table>\n",
       "</div>"
      ],
      "text/plain": [
       "   a     b\n",
       "0  6     4\n",
       "1  0    -3\n",
       "2  7  None"
      ]
     },
     "metadata": {},
     "output_type": "display_data"
    }
   ],
   "source": [
    "objs = xio.read_all_as_dict({\"01\": \"./assets/df_tiny01.csv\", \"02\": \"./assets/df_tiny02.csv\"})\n",
    "print(type(objs))\n",
    "\n",
    "for key, obj in objs.items():\n",
    "    print(key)\n",
    "    display.display(obj)"
   ]
  },
  {
   "cell_type": "code",
   "execution_count": 79,
   "metadata": {
    "ExecuteTime": {
     "end_time": "2022-06-08T17:31:51.998228Z",
     "start_time": "2022-06-08T17:31:51.973756Z"
    }
   },
   "outputs": [],
   "source": [
    "import pandas as pd\n",
    "def concat_dataframe(info):\n",
    "    return pd.concat(info[\"objects\"], axis=0)\n",
    "\n",
    "xio.register_post_readall_hook(concat_dataframe, object_type=pd.DataFrame)"
   ]
  },
  {
   "cell_type": "code",
   "execution_count": 80,
   "metadata": {
    "ExecuteTime": {
     "end_time": "2022-06-08T17:31:54.106992Z",
     "start_time": "2022-06-08T17:31:54.072950Z"
    },
    "scrolled": false
   },
   "outputs": [
    {
     "name": "stdout",
     "output_type": "stream",
     "text": [
      "@Meta: <class 'brane.core.object.PIL_JPEG_Object'>\n",
      "@Meta: <class 'brane.core.object.PIL_PNG_Object'>\n",
      "@Meta: <class 'brane.core.object.PIL_JPEG_Object'>\n",
      "@Meta: <class 'brane.core.object.PIL_PNG_Object'>\n"
     ]
    },
    {
     "data": {
      "text/html": [
       "<div>\n",
       "<style scoped>\n",
       "    .dataframe tbody tr th:only-of-type {\n",
       "        vertical-align: middle;\n",
       "    }\n",
       "\n",
       "    .dataframe tbody tr th {\n",
       "        vertical-align: top;\n",
       "    }\n",
       "\n",
       "    .dataframe thead th {\n",
       "        text-align: right;\n",
       "    }\n",
       "</style>\n",
       "<table border=\"1\" class=\"dataframe\">\n",
       "  <thead>\n",
       "    <tr style=\"text-align: right;\">\n",
       "      <th></th>\n",
       "      <th>a</th>\n",
       "      <th>b</th>\n",
       "    </tr>\n",
       "  </thead>\n",
       "  <tbody>\n",
       "    <tr>\n",
       "      <th>0</th>\n",
       "      <td>1</td>\n",
       "      <td>-1</td>\n",
       "    </tr>\n",
       "    <tr>\n",
       "      <th>1</th>\n",
       "      <td>2</td>\n",
       "      <td>4</td>\n",
       "    </tr>\n",
       "    <tr>\n",
       "      <th>2</th>\n",
       "      <td>6</td>\n",
       "      <td>0</td>\n",
       "    </tr>\n",
       "    <tr>\n",
       "      <th>0</th>\n",
       "      <td>6</td>\n",
       "      <td>4</td>\n",
       "    </tr>\n",
       "    <tr>\n",
       "      <th>1</th>\n",
       "      <td>0</td>\n",
       "      <td>-3</td>\n",
       "    </tr>\n",
       "    <tr>\n",
       "      <th>2</th>\n",
       "      <td>7</td>\n",
       "      <td>None</td>\n",
       "    </tr>\n",
       "  </tbody>\n",
       "</table>\n",
       "</div>"
      ],
      "text/plain": [
       "   a     b\n",
       "0  1    -1\n",
       "1  2     4\n",
       "2  6     0\n",
       "0  6     4\n",
       "1  0    -3\n",
       "2  7  None"
      ]
     },
     "execution_count": 80,
     "metadata": {},
     "output_type": "execute_result"
    }
   ],
   "source": [
    "xio.read_all_as_list(\"./assets/*tiny*.csv\")"
   ]
  },
  {
   "cell_type": "code",
   "execution_count": 81,
   "metadata": {
    "ExecuteTime": {
     "end_time": "2022-06-08T17:31:54.473258Z",
     "start_time": "2022-06-08T17:31:54.331180Z"
    }
   },
   "outputs": [
    {
     "name": "stdout",
     "output_type": "stream",
     "text": [
      "a,b\r\n",
      "1,-1\r\n",
      "2,4\r\n",
      "6,0\r\n"
     ]
    }
   ],
   "source": [
    "!cat ./assets/df_tiny01.csv"
   ]
  },
  {
   "cell_type": "code",
   "execution_count": 82,
   "metadata": {
    "ExecuteTime": {
     "end_time": "2022-06-08T17:31:54.750928Z",
     "start_time": "2022-06-08T17:31:54.609618Z"
    }
   },
   "outputs": [
    {
     "name": "stdout",
     "output_type": "stream",
     "text": [
      "a,b\r\n",
      "6,4\r\n",
      "0,-3\r\n",
      "7,None\r\n"
     ]
    }
   ],
   "source": [
    "!cat ./assets/df_tiny02.csv"
   ]
  },
  {
   "cell_type": "code",
   "execution_count": 83,
   "metadata": {
    "ExecuteTime": {
     "end_time": "2022-06-08T17:31:54.882915Z",
     "start_time": "2022-06-08T17:31:54.856402Z"
    }
   },
   "outputs": [],
   "source": [
    "from brane.typing import ContextInterface\n",
    "def sort_by_filename(context: ContextInterface) -> ContextInterface:\n",
    "    paths = context[\"paths\"]\n",
    "    objects = context[\"objects\"]\n",
    "    paths_and_objects = sorted(zip(paths, objects), key=lambda x:x[0])\n",
    "    paths_sorted, objects_sorted = list(zip(*paths_and_objects))\n",
    "    context.update({ \"paths\": list(paths_sorted), \"objects\": list(objects_sorted) })\n",
    "    return context"
   ]
  },
  {
   "cell_type": "code",
   "execution_count": 84,
   "metadata": {
    "ExecuteTime": {
     "end_time": "2022-06-08T17:31:55.315358Z",
     "start_time": "2022-06-08T17:31:55.289843Z"
    },
    "scrolled": false
   },
   "outputs": [
    {
     "name": "stdout",
     "output_type": "stream",
     "text": [
      "@Meta: <class 'brane.core.object.PIL_JPEG_Object'>\n",
      "@Meta: <class 'brane.core.object.PIL_PNG_Object'>\n",
      "@Meta: <class 'brane.core.object.PIL_JPEG_Object'>\n",
      "@Meta: <class 'brane.core.object.PIL_PNG_Object'>\n"
     ]
    },
    {
     "data": {
      "text/html": [
       "<div>\n",
       "<style scoped>\n",
       "    .dataframe tbody tr th:only-of-type {\n",
       "        vertical-align: middle;\n",
       "    }\n",
       "\n",
       "    .dataframe tbody tr th {\n",
       "        vertical-align: top;\n",
       "    }\n",
       "\n",
       "    .dataframe thead th {\n",
       "        text-align: right;\n",
       "    }\n",
       "</style>\n",
       "<table border=\"1\" class=\"dataframe\">\n",
       "  <thead>\n",
       "    <tr style=\"text-align: right;\">\n",
       "      <th></th>\n",
       "      <th>a</th>\n",
       "      <th>b</th>\n",
       "    </tr>\n",
       "  </thead>\n",
       "  <tbody>\n",
       "    <tr>\n",
       "      <th>0</th>\n",
       "      <td>1</td>\n",
       "      <td>-1</td>\n",
       "    </tr>\n",
       "    <tr>\n",
       "      <th>1</th>\n",
       "      <td>2</td>\n",
       "      <td>4</td>\n",
       "    </tr>\n",
       "    <tr>\n",
       "      <th>2</th>\n",
       "      <td>6</td>\n",
       "      <td>0</td>\n",
       "    </tr>\n",
       "    <tr>\n",
       "      <th>0</th>\n",
       "      <td>6</td>\n",
       "      <td>4</td>\n",
       "    </tr>\n",
       "    <tr>\n",
       "      <th>1</th>\n",
       "      <td>0</td>\n",
       "      <td>-3</td>\n",
       "    </tr>\n",
       "    <tr>\n",
       "      <th>2</th>\n",
       "      <td>7</td>\n",
       "      <td>None</td>\n",
       "    </tr>\n",
       "  </tbody>\n",
       "</table>\n",
       "</div>"
      ],
      "text/plain": [
       "   a     b\n",
       "0  1    -1\n",
       "1  2     4\n",
       "2  6     0\n",
       "0  6     4\n",
       "1  0    -3\n",
       "2  7  None"
      ]
     },
     "execution_count": 84,
     "metadata": {},
     "output_type": "execute_result"
    }
   ],
   "source": [
    "# there is possibility that this sort will be supported by the hook function\n",
    "xio.read_all_as_list(\"./assets/*tiny*.csv\", sort_func=sort_by_filename)"
   ]
  },
  {
   "cell_type": "code",
   "execution_count": 85,
   "metadata": {
    "ExecuteTime": {
     "end_time": "2022-06-08T17:31:55.727126Z",
     "start_time": "2022-06-08T17:31:55.572438Z"
    }
   },
   "outputs": [
    {
     "name": "stdout",
     "output_type": "stream",
     "text": [
      "\u001b[01;34m./tmp_output/\u001b[00m\r\n",
      "├── array.npy\r\n",
      "├── df_.csv\r\n",
      "├── df_tiny01.csv\r\n",
      "├── \u001b[01;35mimage2.jpg\u001b[00m\r\n",
      "├── test2.hello\r\n",
      "├── \u001b[01;34mtest_dir\u001b[00m\r\n",
      "│   └── \u001b[01;35mimage2.jpeg\u001b[00m\r\n",
      "└── test.hello\r\n",
      "\r\n",
      "1 directory, 7 files\r\n"
     ]
    }
   ],
   "source": [
    "!tree ./tmp_output/"
   ]
  },
  {
   "cell_type": "code",
   "execution_count": 86,
   "metadata": {
    "ExecuteTime": {
     "end_time": "2022-06-08T17:31:56.728602Z",
     "start_time": "2022-06-08T17:31:56.701276Z"
    }
   },
   "outputs": [],
   "source": [
    "objs = dict(\n",
    "    a=pd.DataFrame([[1,2,3], [4,5,6]], columns=[\"a\", \"b\", \"c\"]),\n",
    "    b=pd.DataFrame([[0, \"abc\", True], [1, \"def\", False], [2, \"ghi\", None]], columns=[\"int\",\"str\",\"bool\"]),\n",
    ")"
   ]
  },
  {
   "cell_type": "code",
   "execution_count": 87,
   "metadata": {
    "ExecuteTime": {
     "end_time": "2022-06-08T17:31:57.037643Z",
     "start_time": "2022-06-08T17:31:57.012142Z"
    }
   },
   "outputs": [
    {
     "name": "stdout",
     "output_type": "stream",
     "text": [
      "@Meta: <class 'brane.core.object.PIL_JPEG_Object'>\n",
      "@Meta: <class 'brane.core.object.PIL_PNG_Object'>\n",
      "@Meta: <class 'brane.core.object.Pandas_DataFrame_Object'>\n",
      "@Meta: <class 'brane.core.object.PIL_JPEG_Object'>\n",
      "@Meta: <class 'brane.core.object.PIL_PNG_Object'>\n",
      "@Meta: <class 'brane.core.object.Pandas_DataFrame_Object'>\n"
     ]
    }
   ],
   "source": [
    "xio.write_all_from_dict(obj_dict=objs, output_dir=\"./tmp_output/test_dir/\", path_ruler=lambda x:x+\".csv\")"
   ]
  },
  {
   "cell_type": "code",
   "execution_count": 88,
   "metadata": {
    "ExecuteTime": {
     "end_time": "2022-06-08T17:31:57.455667Z",
     "start_time": "2022-06-08T17:31:57.323595Z"
    }
   },
   "outputs": [
    {
     "name": "stdout",
     "output_type": "stream",
     "text": [
      "\u001b[01;34m./tmp_output/\u001b[00m\r\n",
      "├── array.npy\r\n",
      "├── df_.csv\r\n",
      "├── df_tiny01.csv\r\n",
      "├── \u001b[01;35mimage2.jpg\u001b[00m\r\n",
      "├── test2.hello\r\n",
      "├── \u001b[01;34mtest_dir\u001b[00m\r\n",
      "│   ├── a.csv\r\n",
      "│   ├── b.csv\r\n",
      "│   └── \u001b[01;35mimage2.jpeg\u001b[00m\r\n",
      "└── test.hello\r\n",
      "\r\n",
      "1 directory, 9 files\r\n"
     ]
    }
   ],
   "source": [
    "!tree ./tmp_output/"
   ]
  },
  {
   "cell_type": "code",
   "execution_count": 89,
   "metadata": {
    "ExecuteTime": {
     "end_time": "2022-06-08T17:31:58.549279Z",
     "start_time": "2022-06-08T17:31:58.518015Z"
    }
   },
   "outputs": [
    {
     "data": {
      "text/plain": [
       "[   0  1\n",
       " a  1  4\n",
       " b  2  5\n",
       " c  3  6,\n",
       "    int  str   bool\n",
       " 0    0  abc   True\n",
       " 1    1  def  False\n",
       " 2    2  ghi   None]"
      ]
     },
     "execution_count": 89,
     "metadata": {},
     "output_type": "execute_result"
    }
   ],
   "source": [
    "objs = [ objs[\"a\"].T, objs[\"b\"] ]\n",
    "objs"
   ]
  },
  {
   "cell_type": "code",
   "execution_count": 90,
   "metadata": {
    "ExecuteTime": {
     "end_time": "2022-06-08T17:31:58.773718Z",
     "start_time": "2022-06-08T17:31:58.754300Z"
    }
   },
   "outputs": [
    {
     "name": "stdout",
     "output_type": "stream",
     "text": [
      "@Meta: <class 'brane.core.object.PIL_JPEG_Object'>\n",
      "@Meta: <class 'brane.core.object.PIL_PNG_Object'>\n",
      "@Meta: <class 'brane.core.object.Pandas_DataFrame_Object'>\n",
      "@Meta: <class 'brane.core.object.PIL_JPEG_Object'>\n",
      "@Meta: <class 'brane.core.object.PIL_PNG_Object'>\n",
      "@Meta: <class 'brane.core.object.Pandas_DataFrame_Object'>\n"
     ]
    }
   ],
   "source": [
    "xio.write_all_from_list(obj_list=objs, output_dir=\"./tmp_output/test_dir/\", path_ruler=lambda x: f\"table_{x:03d}.csv\")"
   ]
  },
  {
   "cell_type": "code",
   "execution_count": 91,
   "metadata": {
    "ExecuteTime": {
     "end_time": "2022-06-08T17:32:00.131514Z",
     "start_time": "2022-06-08T17:31:59.991970Z"
    }
   },
   "outputs": [
    {
     "name": "stdout",
     "output_type": "stream",
     "text": [
      "\u001b[01;34m./tmp_output/\u001b[00m\r\n",
      "├── array.npy\r\n",
      "├── df_.csv\r\n",
      "├── df_tiny01.csv\r\n",
      "├── \u001b[01;35mimage2.jpg\u001b[00m\r\n",
      "├── test2.hello\r\n",
      "├── \u001b[01;34mtest_dir\u001b[00m\r\n",
      "│   ├── a.csv\r\n",
      "│   ├── b.csv\r\n",
      "│   ├── \u001b[01;35mimage2.jpeg\u001b[00m\r\n",
      "│   ├── table_000.csv\r\n",
      "│   └── table_001.csv\r\n",
      "└── test.hello\r\n",
      "\r\n",
      "1 directory, 11 files\r\n"
     ]
    }
   ],
   "source": [
    "!tree ./tmp_output/"
   ]
  },
  {
   "cell_type": "code",
   "execution_count": 92,
   "metadata": {
    "ExecuteTime": {
     "end_time": "2022-06-08T17:32:00.265178Z",
     "start_time": "2022-06-08T17:32:00.235771Z"
    }
   },
   "outputs": [
    {
     "name": "stdout",
     "output_type": "stream",
     "text": [
      "@Meta: <class 'brane.core.object.PIL_JPEG_Object'>\n",
      "@Meta: <class 'brane.core.object.PIL_PNG_Object'>\n",
      "@Meta: <class 'brane.core.object.PIL_JPEG_Object'>\n",
      "@Meta: <class 'brane.core.object.PIL_PNG_Object'>\n"
     ]
    }
   ],
   "source": [
    "objs = xio.read_all_as_list(multiple_paths=\"./tmp_output/*/table_*.csv\", sort_func=sort_by_filename)"
   ]
  },
  {
   "cell_type": "code",
   "execution_count": 93,
   "metadata": {
    "ExecuteTime": {
     "end_time": "2022-06-08T17:32:00.488615Z",
     "start_time": "2022-06-08T17:32:00.464296Z"
    }
   },
   "outputs": [
    {
     "data": {
      "text/html": [
       "<div>\n",
       "<style scoped>\n",
       "    .dataframe tbody tr th:only-of-type {\n",
       "        vertical-align: middle;\n",
       "    }\n",
       "\n",
       "    .dataframe tbody tr th {\n",
       "        vertical-align: top;\n",
       "    }\n",
       "\n",
       "    .dataframe thead th {\n",
       "        text-align: right;\n",
       "    }\n",
       "</style>\n",
       "<table border=\"1\" class=\"dataframe\">\n",
       "  <thead>\n",
       "    <tr style=\"text-align: right;\">\n",
       "      <th></th>\n",
       "      <th>0</th>\n",
       "      <th>1</th>\n",
       "      <th>int</th>\n",
       "      <th>str</th>\n",
       "      <th>bool</th>\n",
       "    </tr>\n",
       "  </thead>\n",
       "  <tbody>\n",
       "    <tr>\n",
       "      <th>0</th>\n",
       "      <td>1.0</td>\n",
       "      <td>4.0</td>\n",
       "      <td>NaN</td>\n",
       "      <td>NaN</td>\n",
       "      <td>NaN</td>\n",
       "    </tr>\n",
       "    <tr>\n",
       "      <th>1</th>\n",
       "      <td>2.0</td>\n",
       "      <td>5.0</td>\n",
       "      <td>NaN</td>\n",
       "      <td>NaN</td>\n",
       "      <td>NaN</td>\n",
       "    </tr>\n",
       "    <tr>\n",
       "      <th>2</th>\n",
       "      <td>3.0</td>\n",
       "      <td>6.0</td>\n",
       "      <td>NaN</td>\n",
       "      <td>NaN</td>\n",
       "      <td>NaN</td>\n",
       "    </tr>\n",
       "    <tr>\n",
       "      <th>0</th>\n",
       "      <td>NaN</td>\n",
       "      <td>NaN</td>\n",
       "      <td>0.0</td>\n",
       "      <td>abc</td>\n",
       "      <td>True</td>\n",
       "    </tr>\n",
       "    <tr>\n",
       "      <th>1</th>\n",
       "      <td>NaN</td>\n",
       "      <td>NaN</td>\n",
       "      <td>1.0</td>\n",
       "      <td>def</td>\n",
       "      <td>False</td>\n",
       "    </tr>\n",
       "    <tr>\n",
       "      <th>2</th>\n",
       "      <td>NaN</td>\n",
       "      <td>NaN</td>\n",
       "      <td>2.0</td>\n",
       "      <td>ghi</td>\n",
       "      <td>NaN</td>\n",
       "    </tr>\n",
       "  </tbody>\n",
       "</table>\n",
       "</div>"
      ],
      "text/plain": [
       "     0    1  int  str   bool\n",
       "0  1.0  4.0  NaN  NaN    NaN\n",
       "1  2.0  5.0  NaN  NaN    NaN\n",
       "2  3.0  6.0  NaN  NaN    NaN\n",
       "0  NaN  NaN  0.0  abc   True\n",
       "1  NaN  NaN  1.0  def  False\n",
       "2  NaN  NaN  2.0  ghi    NaN"
      ]
     },
     "execution_count": 93,
     "metadata": {},
     "output_type": "execute_result"
    }
   ],
   "source": [
    "objs"
   ]
  },
  {
   "cell_type": "code",
   "execution_count": null,
   "metadata": {},
   "outputs": [],
   "source": []
  },
  {
   "cell_type": "markdown",
   "metadata": {},
   "source": [
    "#### case-3"
   ]
  },
  {
   "cell_type": "code",
   "execution_count": 94,
   "metadata": {
    "ExecuteTime": {
     "end_time": "2022-06-08T17:32:03.487532Z",
     "start_time": "2022-06-08T17:32:03.473047Z"
    }
   },
   "outputs": [],
   "source": [
    "obj = {\"a\":1, \"b\":True, \"c\": [1,2,3], \"d\": {\"e\": None}}"
   ]
  },
  {
   "cell_type": "code",
   "execution_count": 95,
   "metadata": {
    "ExecuteTime": {
     "end_time": "2022-06-08T17:32:03.815632Z",
     "start_time": "2022-06-08T17:32:03.783313Z"
    }
   },
   "outputs": [
    {
     "name": "stdout",
     "output_type": "stream",
     "text": [
      "@Meta: <class 'brane.core.object.PIL_JPEG_Object'>\n",
      "@Meta: <class 'brane.core.object.PIL_PNG_Object'>\n",
      "@Meta: <class 'brane.core.object.Pandas_DataFrame_Object'>\n",
      "@Meta: <class 'brane.core.object.PIL_Image_Object'>\n",
      "@Meta: <class 'brane.core.object.TextIO_TXT_Object'>\n",
      "@Meta: <class 'brane.core.object.Csv_CSV_Object'>\n",
      "@Meta: <class 'brane.core.object.Json_JSON_Object'>\n"
     ]
    }
   ],
   "source": [
    "xio.write(obj, path=\"./assets/dict.json\", indent=4)"
   ]
  },
  {
   "cell_type": "code",
   "execution_count": 96,
   "metadata": {
    "ExecuteTime": {
     "end_time": "2022-06-08T17:32:04.456379Z",
     "start_time": "2022-06-08T17:32:04.311512Z"
    }
   },
   "outputs": [
    {
     "name": "stdout",
     "output_type": "stream",
     "text": [
      "{\r\n",
      "    \"a\": 1,\r\n",
      "    \"b\": true,\r\n",
      "    \"c\": [\r\n",
      "        1,\r\n",
      "        2,\r\n",
      "        3\r\n",
      "    ],\r\n",
      "    \"d\": {\r\n",
      "        \"e\": null\r\n",
      "    }\r\n",
      "}"
     ]
    }
   ],
   "source": [
    "!cat ./assets/dict.json"
   ]
  },
  {
   "cell_type": "code",
   "execution_count": 97,
   "metadata": {
    "ExecuteTime": {
     "end_time": "2022-06-08T17:32:05.904869Z",
     "start_time": "2022-06-08T17:32:05.869499Z"
    }
   },
   "outputs": [
    {
     "name": "stdout",
     "output_type": "stream",
     "text": [
      "@Meta: <class 'brane.core.object.PIL_JPEG_Object'>\n",
      "@Meta: <class 'brane.core.object.PIL_PNG_Object'>\n"
     ]
    },
    {
     "data": {
      "text/plain": [
       "{'a': 1, 'b': True, 'c': [1, 2, 3], 'd': {'e': None}}"
      ]
     },
     "execution_count": 97,
     "metadata": {},
     "output_type": "execute_result"
    }
   ],
   "source": [
    "obj = xio.read(\"./assets/dict.json\")\n",
    "obj"
   ]
  },
  {
   "cell_type": "code",
   "execution_count": null,
   "metadata": {},
   "outputs": [],
   "source": []
  },
  {
   "cell_type": "markdown",
   "metadata": {},
   "source": [
    "### working"
   ]
  },
  {
   "cell_type": "code",
   "execution_count": null,
   "metadata": {
    "ExecuteTime": {
     "end_time": "2022-05-15T14:46:45.150362Z",
     "start_time": "2022-05-15T14:46:45.150327Z"
    }
   },
   "outputs": [],
   "source": [
    "# モジュール指定と型付与を強く推奨\n",
    "obj: pd.DataFrame = IOManager.read(path, module=\"pandas\")"
   ]
  },
  {
   "cell_type": "markdown",
   "metadata": {},
   "source": [
    "## Others"
   ]
  },
  {
   "cell_type": "markdown",
   "metadata": {},
   "source": [
    "### IPC"
   ]
  },
  {
   "cell_type": "code",
   "execution_count": null,
   "metadata": {
    "ExecuteTime": {
     "end_time": "2022-05-15T14:46:45.156691Z",
     "start_time": "2022-05-15T14:46:45.156666Z"
    }
   },
   "outputs": [],
   "source": [
    "\n",
    "import pandas as pd\n"
   ]
  },
  {
   "cell_type": "code",
   "execution_count": null,
   "metadata": {
    "ExecuteTime": {
     "end_time": "2022-05-15T14:46:45.160235Z",
     "start_time": "2022-05-15T14:46:45.160209Z"
    }
   },
   "outputs": [],
   "source": [
    "import zmq"
   ]
  },
  {
   "cell_type": "code",
   "execution_count": null,
   "metadata": {
    "ExecuteTime": {
     "end_time": "2022-05-15T14:46:45.163867Z",
     "start_time": "2022-05-15T14:46:45.163817Z"
    }
   },
   "outputs": [],
   "source": [
    "port = 5700"
   ]
  },
  {
   "cell_type": "code",
   "execution_count": null,
   "metadata": {
    "ExecuteTime": {
     "end_time": "2022-05-15T14:46:45.167335Z",
     "start_time": "2022-05-15T14:46:45.167288Z"
    }
   },
   "outputs": [],
   "source": [
    "context = zmq.Context()"
   ]
  },
  {
   "cell_type": "code",
   "execution_count": null,
   "metadata": {
    "ExecuteTime": {
     "end_time": "2022-05-15T14:46:45.170803Z",
     "start_time": "2022-05-15T14:46:45.170771Z"
    }
   },
   "outputs": [],
   "source": [
    "#socket_type = 'PUSH'\n",
    "socket_type = 'PUB'\n",
    "\n",
    "if socket_type == \"PUSH\":\n",
    "    sock = context.socket(zmq.PUSH)\n",
    "    message_prefix = \"\"\n",
    "elif socket_type == \"PUB\":\n",
    "    sock = context.socket(zmq.PUB)\n",
    "    message_prefix = \"sub1:\"\n",
    "\n",
    "sock.bind(f\"tcp://127.0.0.1:{port}\")"
   ]
  },
  {
   "cell_type": "code",
   "execution_count": null,
   "metadata": {
    "ExecuteTime": {
     "end_time": "2022-05-15T14:46:45.173701Z",
     "start_time": "2022-05-15T14:46:45.173672Z"
    }
   },
   "outputs": [],
   "source": [
    "content = \"hello wolrd\""
   ]
  },
  {
   "cell_type": "code",
   "execution_count": null,
   "metadata": {
    "ExecuteTime": {
     "end_time": "2022-05-15T14:46:45.177105Z",
     "start_time": "2022-05-15T14:46:45.177077Z"
    }
   },
   "outputs": [],
   "source": [
    "df_tmp = pd.DataFrame({\"a\":[1,2,3], \"b\":[True, False, False]})"
   ]
  },
  {
   "cell_type": "code",
   "execution_count": null,
   "metadata": {
    "ExecuteTime": {
     "end_time": "2022-05-15T14:46:45.179103Z",
     "start_time": "2022-05-15T14:46:45.179077Z"
    }
   },
   "outputs": [],
   "source": [
    "import pickle"
   ]
  },
  {
   "cell_type": "code",
   "execution_count": null,
   "metadata": {
    "ExecuteTime": {
     "end_time": "2022-05-15T14:46:45.181055Z",
     "start_time": "2022-05-15T14:46:45.181027Z"
    }
   },
   "outputs": [],
   "source": [
    "bytes_df_tmp = pickle.dumps(df_tmp)\n",
    "type(bytes_df_tmp)"
   ]
  },
  {
   "cell_type": "code",
   "execution_count": null,
   "metadata": {
    "ExecuteTime": {
     "end_time": "2022-05-15T14:46:45.187527Z",
     "start_time": "2022-05-15T14:46:45.187500Z"
    }
   },
   "outputs": [],
   "source": [
    "bytes_df_tmp"
   ]
  },
  {
   "cell_type": "code",
   "execution_count": null,
   "metadata": {
    "ExecuteTime": {
     "end_time": "2022-05-15T14:46:45.192195Z",
     "start_time": "2022-05-15T14:46:45.192162Z"
    }
   },
   "outputs": [],
   "source": [
    "text = message_prefix + content\n",
    "sock.send(text.encode())"
   ]
  },
  {
   "cell_type": "code",
   "execution_count": null,
   "metadata": {
    "ExecuteTime": {
     "end_time": "2022-05-15T14:46:45.194572Z",
     "start_time": "2022-05-15T14:46:45.194540Z"
    }
   },
   "outputs": [],
   "source": [
    "text = \"sub1:hello\"\n",
    "sock.send(text.encode())"
   ]
  },
  {
   "cell_type": "code",
   "execution_count": null,
   "metadata": {
    "ExecuteTime": {
     "start_time": "2022-05-15T14:46:44.934Z"
    }
   },
   "outputs": [],
   "source": [
    "data = message_prefix.encode() + bytes_df_tmp\n",
    "sock.send(data)"
   ]
  },
  {
   "cell_type": "code",
   "execution_count": null,
   "metadata": {
    "ExecuteTime": {
     "start_time": "2022-05-15T14:46:44.959Z"
    },
    "scrolled": true
   },
   "outputs": [],
   "source": [
    "pickle.loads(bytes_df_tmp)"
   ]
  },
  {
   "cell_type": "code",
   "execution_count": null,
   "metadata": {},
   "outputs": [],
   "source": []
  },
  {
   "cell_type": "code",
   "execution_count": null,
   "metadata": {
    "ExecuteTime": {
     "start_time": "2022-05-15T14:46:46.181Z"
    }
   },
   "outputs": [],
   "source": [
    "# %load /home/noriaki/PL/Python/Library/zeromq/push.py\n",
    "import time\n",
    "\n",
    "\n",
    "id_ = 0\n",
    "while True:\n",
    "    id_ += 1\n",
    "    print(text)\n",
    "    time.sleep(1)\n"
   ]
  },
  {
   "cell_type": "markdown",
   "metadata": {
    "ExecuteTime": {
     "end_time": "2022-06-08T16:32:42.381603Z",
     "start_time": "2022-06-08T16:32:42.268448Z"
    }
   },
   "source": [
    "## Tutorials"
   ]
  },
  {
   "cell_type": "code",
   "execution_count": null,
   "metadata": {},
   "outputs": [],
   "source": [
    "xio.factory.className2Module\n",
    "\n",
    "xio.factory.className2Module[\"Csv\"]\n",
    "\n",
    "xio.all_modules()\n",
    "\n",
    "xio.factory.className2Module[\"Pandas\"].module.read_csv"
   ]
  },
  {
   "cell_type": "code",
   "execution_count": null,
   "metadata": {},
   "outputs": [],
   "source": [
    "from brane.core.format import create_format\n",
    "# define from config\n",
    "\n",
    "HelloFormat = create_format(default_extension=\"hello\", module=HelloModule, name=\"Hello\", variation=[\"world\"])\n",
    "\n",
    "Format.registered_formats"
   ]
  },
  {
   "cell_type": "code",
   "execution_count": null,
   "metadata": {},
   "outputs": [],
   "source": [
    "ff = xio.factory.className2Format[\"CSV\"]\n",
    "{ k: getattr(ff, k) for k in dir(ff) if not k.startswith(\"_\") and getattr(ff, k) is not None }"
   ]
  },
  {
   "cell_type": "markdown",
   "metadata": {},
   "source": [
    "* Format\n",
    "    * define them from config\n",
    "    * change priority\n",
    "    * variant extensions"
   ]
  },
  {
   "cell_type": "code",
   "execution_count": null,
   "metadata": {},
   "outputs": [],
   "source": [
    "%load_ext autoreload\n",
    "%autoreload 2"
   ]
  },
  {
   "cell_type": "code",
   "execution_count": null,
   "metadata": {},
   "outputs": [],
   "source": []
  }
 ],
 "metadata": {
  "kernelspec": {
   "display_name": "IOManager_Exp_Py39",
   "language": "python",
   "name": "iomanager_exp_py39"
  },
  "language_info": {
   "codemirror_mode": {
    "name": "ipython",
    "version": 3
   },
   "file_extension": ".py",
   "mimetype": "text/x-python",
   "name": "python",
   "nbconvert_exporter": "python",
   "pygments_lexer": "ipython3",
   "version": "3.9.12"
  },
  "toc": {
   "base_numbering": 1,
   "nav_menu": {},
   "number_sections": true,
   "sideBar": true,
   "skip_h1_title": false,
   "title_cell": "Table of Contents",
   "title_sidebar": "Contents",
   "toc_cell": false,
   "toc_position": {
    "height": "calc(100% - 180px)",
    "left": "10px",
    "top": "150px",
    "width": "263.333px"
   },
   "toc_section_display": true,
   "toc_window_display": true
  }
 },
 "nbformat": 4,
 "nbformat_minor": 2
}
