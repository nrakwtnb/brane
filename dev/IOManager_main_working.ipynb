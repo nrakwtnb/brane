{
 "cells": [
  {
   "cell_type": "markdown",
   "metadata": {
    "ExecuteTime": {
     "end_time": "2022-04-27T17:07:34.394925Z",
     "start_time": "2022-04-27T17:07:34.387465Z"
    }
   },
   "source": [
    "* main functions\n",
    "    + 統一的なIOインターフェイス\n",
    "        + 拡張子とconfigに基づく動的なモジュール判別\n",
    "        + メタデータに基づく動的なモジュール判別\n",
    "        + 複数ファイル\n",
    "            + 正規表現・ルールベースによる指定\n",
    "        + 他のマシン、GCSやS3などへの読み書き\n",
    "    + 高度なHook機能\n",
    "    + IOロギング"
   ]
  },
  {
   "cell_type": "markdown",
   "metadata": {},
   "source": [
    "### release & schedule"
   ]
  },
  {
   "cell_type": "markdown",
   "metadata": {},
   "source": [
    "* 2022/6: 1st bleeding edge version (v0.0-be.1) -> put on github (pre-repo) and create simple setup.py\n",
    "    * UIO:\n",
    "        + multiple files support may be incomplete\n",
    "        + remote storage also incomplete\n",
    "        + only support basic & minimum set of extension\n",
    "        + no support on config\n",
    "    * Hook:\n",
    "        + only support basic & minimum set of hook functions\n",
    "            - mainly focus on image and table\n",
    "* 2022/7: 2nd bleeding edge version (v0.0-be.2) -> add some test functions and consider light CI/CD\n",
    "    * UIO:\n",
    "        + multiple files support is enough updated (still provide minimum functions)\n",
    "        + remote storage may support (but restricted)\n",
    "        + increase the number of extensions\n",
    "        + implement customization via config\n",
    "    * Hook:\n",
    "        + implement customization via config as possible\n",
    "* 2022/8: 3th bleeding edge version (v0.0-be.3)\n",
    "    * User:\n",
    "        * add small documentations\n",
    "        * add simple tutorials\n",
    "    * UIO:\n",
    "        + complete basic functions as possible\n",
    "        + refine multiple files\n",
    "        + refine  customization via config\n",
    "    * Hook:\n",
    "        + refine customization via config\n",
    "    * logging:\n",
    "        + add very simple functions\n",
    "* 2022/9: pre-alpha (0.1-pre-alpha) or night-build -> new repo\n",
    "    * User:\n",
    "        * consider document structure\n",
    "        * update typings\n",
    "        * upload to pypi\n",
    "        * many tests\n",
    "    * UID:\n",
    "        + implement as possible\n",
    "    + Hook:\n",
    "        + consider extension modules\n",
    "* 2022/10: 1st alpha (0.1-alpha.1)\n",
    "    * User:\n",
    "        * update document\n",
    "        * update typings\n",
    "        * upload to pypi\n",
    "        * many tests\n",
    "    * UID:\n",
    "        + implement as possible\n",
    "    + Hook:\n",
    "        + consider extension modules\n",
    "* 2022/11: 2nd alpha (0.1-alpha.2)\n",
    "    * User:\n",
    "    * UID:\n",
    "    + Hook:\n",
    "* 2022/12: beta (0.1-beta)\n",
    "    * User:\n",
    "    * UID:\n",
    "    + Hook:\n",
    "* 2023/3: public beta (0.1-public)\n",
    "    * User:\n",
    "    * UID:\n",
    "    + Hook:\n",
    "* 2023/4: rc (0.1-rc)\n",
    "    * User:\n",
    "    * UID:\n",
    "    + Hook:\n",
    "* 2023/5: rc (0.1)\n",
    "    * User:\n",
    "    * UID:\n",
    "    + Hook:"
   ]
  },
  {
   "cell_type": "markdown",
   "metadata": {},
   "source": [
    "* schedule (past)\n",
    "    + 4月 : 一通り実装\n",
    "    + 5月 : モジュール化とユーザ定義取り込み（一部のみ）\n",
    "    + 6月 : 簡単なdocument（how to use）を作成、PyPIへの登録\n",
    "    + 7月 : 設計の再見直し・機能強化（主にhookの追加）\n",
    "    + 8月 : documentの拡充とextentionサポート\n",
    "    + 9月 : API再整理と自動デプロイ\n",
    "    + 10月 : documentの改良・FileManagerとの連携強化・beta版をリリース\n",
    "    + 11月 : ユーザ定義周りの強化と各種宣伝 (Qiita, Zenn, Medium)\n",
    "    + 12月 : stable版のリリース"
   ]
  },
  {
   "cell_type": "markdown",
   "metadata": {},
   "source": [
    "* version & schedule\n",
    "    + follow: https://semver.org/lang/ja/"
   ]
  },
  {
   "cell_type": "markdown",
   "metadata": {
    "ExecuteTime": {
     "end_time": "2022-05-06T23:12:45.827436Z",
     "start_time": "2022-05-06T23:12:45.757938Z"
    }
   },
   "source": [
    "* python version support\n",
    "\n",
    "|version|start|end|latest|\n",
    "|-|-|-|-|\n",
    "|3.10|7 months ago (04 Oct 2021) | Ends in 4 years (04 Oct 2026) | 3.10.4\n",
    "|3.9 |1 year and 7 months ago (05 Oct 2020) | Ends in 3 years and 5 months (05 Oct 2025) | 3.9.12\n",
    "|3.8 |2 years and 6 months ago (14 Oct 2019) | Ends in 2 years and 5 months (14 Oct 2024) | 3.8.13\n",
    "|3.7 |3 years and 10 months ago (27 Jun 2018) | Ends in 1 year and 1 month (27 Jun 2023) | 3.7.13"
   ]
  },
  {
   "cell_type": "markdown",
   "metadata": {},
   "source": [
    "* Bleeding Edge（ブリーディング・エッジ）\n",
    "    * これは、まだ開発の段階で、使用するのにリスクがある（＝血を流す可能性がある）ということを示しています。\n",
    "* Nightly Build（ナイトリー・ビルド）\n",
    "    * これは、バージョン管理ツール（Jenkinsなど）で毎晩自動的に生成されるバージョンのことで、ビルドは通っていることが多いですが、Bleeding Edge同様、使用にはリスクのあるバージョンです。\n",
    "* Pre-Alpha（Nightly Build）\n",
    "    * まだ予定している機能がすべて実装されていない段階のバージョンです。開発途中の毎晩ビルドされるテスト用のバージョンを示す場合もあります。\n",
    "    * 予定している機能がまだ実装されていない段階のこと。もしくは、Nightly Buildを表すこともある。\n",
    "* Alpha\n",
    "    * 開発途中のバージョンです。特に開発の初期段階にあるものを指します。プロトタイプとして開発されたものは、含みません。\n",
    "    * 未実装の機能や、未知の致命的な不具合が残っている場合もあります。動作が不安定であるという前提で開発者やテスト担当者が利用するものです。\n",
    "    * 開発途中のバージョン。特に開発の初期段階にあるものを指す。機能が実装されていなかったり、致命的なバグが存在している可能性がある。主にテスト用。\n",
    "* Beta\n",
    "    * 予定していた機能が一通り正常に動作する状態です。想定外の不具合や異常終了があるかもしれません。公式リリース前に一部のユーザーや開発メンバー周辺向けにテスト公開するくらいの出来のものです。\n",
    "    * アプリケーションのクラッシュやデータ損失、速度の遅さなどのリスクもあり、既知のバグがまだ残っている可能性があります。アルファ版で不安定過ぎる機能は、ベータ版では機能が停止されているような場合もあります。\n",
    "    * 未実装の機能や、未知の致命的な不具合が残っている場合もあります。動作が不安定であるという前提で開発者やテスト担当者が利用するものです。\n",
    "    * 機能が一通り揃っているバージョン。α版よりは安定しているものの、まだ細かいバグがある可能性がある。\n",
    "* Public Beta\n",
    "    * 一般に広く公開してバグ報告を受けるのを主な目的とするバージョンです。ベータ版を一部のユーザーに試用してもらい、不具合の洗い出し、機能要望などを聞き出すためにあります。\n",
    "    * また、製品版になる前にユーザーを獲得するための手段として期間限定で無料配布するような場合もあります。\n",
    "    * バグを探すために、一般ユーザに使ってもらい、品質を向上させるためのバージョン。無料配布し、事前にユーザを獲得する狙いもある。\n",
    "* RC（Release Candidate）\n",
    "    * リリース候補版のことです。致命的なバグがないかぎり、このバージョンがリリースされる予定となります。十分なテストが完了し、特に大きな不具合がなければ、このバージョンと同じものが、正式版となります。\n",
    "    * RC版の段階で重大な不具合が見つかり修正された場合は、RC2、RC3……とカウントアップする場合もあります。\n",
    "    * リリースの候補になるバージョンのこと。次のバージョンが出ると、RC1, RC2, RC3, ...とカウントが加算される。\n",
    "* RTM（Release to Manufacturing）または、GM（Golden Master）\n",
    "    * 出荷版です。パッケージアプリケーションの場合、このバージョンがCD-ROMやDVD-ROMになって出荷されます。最終版をマスタとして複製がたくさん作られることから「Golden Master」と呼ぶこともあります。\n",
    "* GA（General Availability）\n",
    "    * 一般ユーザーが入手可能なバージョン。リリース版のこと。"
   ]
  },
  {
   "cell_type": "markdown",
   "metadata": {},
   "source": [
    "　2010年3月の原稿執筆時現在で最新版に更新すると、「Google Chrome 5.0.307.11 beta」と表記されています。以下、数字を細かく見ると、以下のように分類できます。\n",
    "\n",
    "    5：メジャーバージョン\n",
    "    0：マイナーバージョン。この場合は、バージョン5の最初のもの\n",
    "    307：累積バージョン。ビルドバージョン。Chromeが出てから307番目に作られたもの\n",
    "    11：累積バージョンのマイナー番号（子番号）。リビジョン（修正版）\n",
    "\n",
    "　また、数字のほかに、文言も追加されています。\n",
    "\n",
    "    Stable：安定版。より多くのテストがなされ、一般に安定して使えるもの\n",
    "    Beta：ベータ版。新しい機能をより早く試してみたい人向け。多少不安定な場合もあり\n",
    "    Dev：開発版。開発者向けのプレビュー版\n"
   ]
  },
  {
   "cell_type": "markdown",
   "metadata": {},
   "source": [
    "**Alpha**\n",
    "\n",
    "The alpha phase of the release life cycle is the first phase to begin software testing (alpha is the first letter of the Greek alphabet, used as the number 1). In this phase, developers generally test the software using white-box techniques. Additional validation is then performed using black-box or gray-box techniques, by another testing team. Moving to black-box testing inside the organization is known as alpha release\n",
    "\n",
    "Alpha software can be unstable and could cause crashes or data loss. Alpha software may not contain all of the features that are planned for the final version. In general, external availability of alpha software is uncommon in proprietary software, while open source software often has publicly available alpha versions. The alpha phase usually ends with a feature freeze, indicating that no more features will be added to the software. At this time, the software is said to be feature complete.\n",
    "\n",
    "**Beta**\n",
    "\n",
    "Beta, named after the second letter of the Greek alphabet, is the software development phase following alpha. Software in the beta stage is also known as betaware. The beta phase generally begins when the software is feature complete but likely to contain a number of known or unknown bugs. Software in the beta phase will generally have many more bugs in it than completed software, as well as speed/performance issues and may still cause crashes or data loss. The focus of beta testing is reducing impacts to users, often incorporating usability testing. The process of delivering a beta version to the users is called beta release and this is typically the first time that the software is available outside of the organization that developed it. Beta version software is often useful for demonstrations and previews within an organization and to prospective customers. Some developers refer to this stage as a preview, preview release, prototype, technical preview/technology preview (TP), or early access. Some software is kept in perpetual beta, where new features and functionality are continually added to the software without establishing a firm \"final\" release.\n",
    "\n",
    "Beta testers are people who actively report issues of beta software. They are usually customers or representatives of prospective customers of the organization that develops the software. Beta testers tend to volunteer their services free of charge but often receive versions of the product they test, discounts on the release version, or other incentives.\n",
    "\n",
    "As the Internet has facilitated the rapid and inexpensive distribution of software, companies have begun to take a looser approach to the use of the word \"beta\". In February 2005, ZDNet published an article about the recent phenomenon of a beta version often staying for years and being used as if it were at the production level, disparagingly called \"perpetual beta\". It noted that Gmail and Google News, for example, had been in beta for a long period of time and were not expected to drop the beta status despite the fact that they were widely used; however, Google News did leave beta in January 2006, followed by Google Apps, including Gmail, in July 2009. This technique may allow a developer to delay offering full support and responsibility for remaining issues. In the context of Web 2.0, people even talk of perpetual betas to signify that some software is meant to stay in a beta state. Also, \"beta\" is sometimes used to indicate something more like a release candidate, or as a form of time-limited demo, or marketing technique. Since the introduction of Windows 8, Microsoft has no longer been naming its software as a beta. Instead, they have been using the term preview for most pre-release software. Since the launch of the Windows Insider Program back in 2014, all pre-release builds that are released through the program are known as Insider Preview builds.\n",
    "\n",
    "**Snapshot and Release**\n",
    "\n",
    "A snapshot version in Maven is one that has not been released.\n",
    "\n",
    "The idea is that before a 1.0 release (or any other release) is done, there exists a 1.0-SNAPSHOT. That version is what might become 1.0. It's basically \"1.0 under development\". This might be close to a real 1.0 release, or pretty far (right after the 0.9 release, for example).\n",
    "\n",
    "The difference between a \"real\" version and a snapshot version is that snapshots might get updates. That means that downloading 1.0-SNAPSHOT today might give a different file than downloading it yesterday or tomorrow.\n",
    "\n",
    "Usually, snapshot dependencies should only exist during development and no released version (i.e. no non-snapshot) should have a dependency on a snapshot version.\n",
    "\n",
    "**Nightly**\n",
    "\n",
    "A nightly build is a neutral build that takes place automatically. These typically take place when no one is likely to be working in the office so that there are no changes to the source code during the build.\n",
    "\n",
    "Nightly builds are a good thing, they provide immediate feedback to developers if they broke the build. Having a nightly build means that the software is stable and is likely to build for new users. Software that is not built regularly is difficult to release.\n",
    "\n",
    "**Milestone**\n",
    "\n",
    "Milestone versions include specific sets of functions and are released as soon as the functionality is complete.\n",
    "\n",
    "**Release Candidate [RC]**\n",
    "\n",
    "Release candidate. A release candidate (RC), also known as \"going silver\", is a beta version with the potential to be a final product, which is ready to release unless significant bugs emerge.\n",
    "\n",
    "Release Candidate (RC) is the build released internally to check if any critical problems have gone undetected into the code during the previous development period. Release candidates are NOT for production deployment, but they are for testing purposes only."
   ]
  },
  {
   "cell_type": "markdown",
   "metadata": {},
   "source": [
    "### tasks"
   ]
  },
  {
   "cell_type": "markdown",
   "metadata": {},
   "source": [
    "#### current scope\n",
    "\n",
    "* ~4/25\n",
    "\n",
    "+ hookの改良\n",
    "    - []: hookにidを付与して、重複登録を避ける\n",
    "    - [+]: Hookに__repr__を定義\n",
    "    - [+]: 登録済みhookの表示\n",
    "    - []: hookのon/off切り替え(activate fieldの付与)\n",
    "- [+]: NoneClassをそれぞれ定義\n",
    "+ configの開発\n",
    "    - []: configの随時読み込み\n",
    "    - []: 各クラスのconfig化\n",
    "\n",
    "#### reviewed scope\n",
    "\n",
    "- [@]: moduleのload (クラス定義のimport回避)\n",
    "+ hookの改良\n",
    "    - [@]: 登録したフックの初期化\n",
    "- [@]: IOManager経由(method)で登録\n",
    "- [+]: Info classを定義"
   ]
  },
  {
   "cell_type": "markdown",
   "metadata": {},
   "source": [
    "#### functions\n",
    "\n",
    "###### high-priotilized\n",
    "\n",
    "* クラス定義の自動読み込み(IOManagerで適当なモジュールを今は読み込ませている)\n",
    "* hooksの登録作業の簡易化\n",
    "    - 名前指定だけで登録\n",
    "        - hook poolに定義\n",
    "        - hook chainでhookを作成\n",
    "    - 登録したhookの除去\n",
    "* objectの遅延loadが、保存時にObject2Module内で行われるが、モジュール数が膨大になると時間がかかるため、高速化\n",
    "    - 予めハッシュ計算しておく？\n",
    "\n",
    "###### middle-priotilized\n",
    "\n",
    "###### low-priotilized"
   ]
  },
  {
   "cell_type": "markdown",
   "metadata": {},
   "source": [
    "#### class & specifications\n",
    "\n",
    "###### high-priotilized\n",
    "\n",
    "* hookの二重登録の防止\n",
    "* 各クラスタイプに対し、Noneを定義\n",
    "* キャッシュの保存先を指定(global, project, local)\n",
    "\n",
    "###### middle-priotilized\n",
    "\n",
    "* クラウド対応\n",
    "\n",
    "###### low-priotilized"
   ]
  },
  {
   "cell_type": "markdown",
   "metadata": {},
   "source": [
    "#### coding\n",
    "* typings\n",
    "* refactoring\n",
    "    - remove old implementations or comments\n",
    "    - rename temporal name\n",
    "    - update file-tree structres\n",
    "* logging"
   ]
  },
  {
   "cell_type": "markdown",
   "metadata": {},
   "source": [
    "### working memo"
   ]
  },
  {
   "cell_type": "markdown",
   "metadata": {},
   "source": [
    "##### progress memo\n",
    "* args/kwargs指定: prototype作成\n",
    "* objから保存方法の自動判別: prototype作成\n",
    "* 簡単なhookの開発 -> prototype作成\n",
    "    - pre: pathチェック -> ok\n",
    "    - post: 画像ならリサイズ -> ok\n",
    "* extentionの正規化(ext2format)を整備 -> prototypeを作成"
   ]
  },
  {
   "cell_type": "markdown",
   "metadata": {},
   "source": [
    "##### schedule\n",
    "* -4/9:\n",
    "    + hook:\n",
    "        - hookのon/off\n",
    "    + read:\n",
    "    + write:\n",
    "        - objとformatが複雑に絡み合う例を等価\n",
    "            - あるサイズ以上ならjpg、未満ならpng\n",
    "            - jpgならImageで、pngならcv2で書込\n",
    "* -4/16:\n",
    "    + hookの改良\n",
    "    + mapping:\n",
    "        - rule APIの構築\n",
    "        - user定義の取り込み\n",
    "* -4/30:\n",
    "    + hook id/nameの作成\n",
    "    + 各種定義のconfig化\n",
    "    + core/global/local configの順次読み込み\n",
    "* -5/7\n",
    "    + Module化・整備\n",
    "        + ファイルの分離やフィールド名・関数名などの見直し\n",
    "    + tutorialの拡充\n",
    "    + API引数の拡充\n",
    "* -5/14\n",
    "    + debugging toolの開発\n",
    "    + object class・登録部分の改良\n",
    "* -5/21\n",
    "    + お試しパッケージ化\n",
    "    + Module・Format・Object・Extnsionクラス・hook APIの本格拡充\n",
    "* -5/28\n",
    "    + 再整備\n",
    "    + debugging toolの本格開発\n",
    "    + テストケースの作成\n",
    "    + docstingsの充実\n",
    "* -6/4\n",
    "    + パッケージ化\n",
    "    + 簡易CI/CDの作成\n",
    "    + 最適化\n",
    "* -6/11\n",
    "    + alpha版のfix\n",
    "    + PyPIへの登録\n",
    "* -6/18\n",
    "    + documentの作成(自動生成)\n",
    "    + docstringの作成\n",
    "* -6/25\n",
    "    + tutorialの作成\n",
    "    + debugging toolの仮取り込み\n",
    "    + refactoringの再検討\n",
    "* -7/2\n",
    "    + 既存API機能の拡充\n",
    "    + user definitionに関する簡易ドキュメントの作成\n",
    "    + "
   ]
  },
  {
   "cell_type": "markdown",
   "metadata": {},
   "source": [
    "##### history memo\n",
    "* -4/2:\n",
    "    + read:\n",
    "        - argsの指定 -> \n",
    "    + write:\n",
    "        - objを与えると自動判別 -> prototype作成"
   ]
  },
  {
   "cell_type": "markdown",
   "metadata": {
    "ExecuteTime": {
     "end_time": "2021-04-16T12:43:55.643103Z",
     "start_time": "2021-04-16T12:43:55.616592Z"
    }
   },
   "source": [
    "### Idea"
   ]
  },
  {
   "cell_type": "markdown",
   "metadata": {},
   "source": [
    "* read_as_list/dictでempty list/dictの時にエラーを出すか、選択出るようにする\n",
    "* writeの場合も"
   ]
  },
  {
   "cell_type": "markdown",
   "metadata": {},
   "source": [
    "* 拡張子&モジュール自動判定機能と、フック機能はある程度分離する\n",
    "* event & hooks:\n",
    "    * how to connect\n",
    "        + evnetにhookを登録していく\n",
    "        + hookにeventを登録していく"
   ]
  },
  {
   "cell_type": "markdown",
   "metadata": {},
   "source": [
    "* 非同期機能\n",
    "    + ファイルが作成・更新されるまで待つ\n",
    "        - lockingなど読み込み可能になるまでを判定する機能\n",
    "        - 更新変化で走る\n",
    "    + ファイルの書込をバックグラウンドで実施\n",
    "* data validtion\n",
    "* hookの組み合わせをIDとして管理"
   ]
  },
  {
   "cell_type": "markdown",
   "metadata": {},
   "source": [
    "* customizability\n",
    "* reprodcution\n",
    "* reusability\n",
    "    + hook関数やその組み合わせを再利用しやすくする"
   ]
  },
  {
   "cell_type": "markdown",
   "metadata": {},
   "source": [
    "* パスの辞書を渡すと、同一キーで、値が読み込んだオブジェクトの、辞書を返す\n",
    "* パスのリストを渡すと、同一順序で、読み込んだオブジェクトのリストを返す\n",
    "* 対象ディレクトリを指定し、オブジェクトの辞書を渡すと、書込を実施\n",
    "    + デフォルトは、キーをファイル名、拡張子は推論\n",
    "    + マッピング関数やフォーマット文字列を渡して、ファイル名を生成することも可能（異なるディレクトリに書込可能にする）\n",
    "* 対象ディレクトリを指定し、オブジェクトのリストを渡すと、書込を実施\n",
    "    + デフォルトは、ファイル名の連番を生成\n",
    "    + マッピング関数やフォーマット文字列を渡して、ファイル名を生成することも可能（異なるディレクトリに書込可能にする）\n",
    "\n",
    "* 上書きは明示的に禁止、インタアクティブに確認、暗黙的に書き換え、をyaml等で設定できるようにする"
   ]
  },
  {
   "cell_type": "markdown",
   "metadata": {},
   "source": [
    "* 書込前にファイルサイズをチェック\n",
    "    + 読み書き時間をプログレスバーで指定？\n",
    "        + ルールベース\n",
    "        + ログを残して、統計推論モデルを作成?\n",
    "        + 統計推論モデルをダウンロード?\n",
    "* "
   ]
  },
  {
   "cell_type": "markdown",
   "metadata": {},
   "source": [
    "??pd.read_csvをしたようなヘルプ参照機能。\n",
    "無理そうならgio.get_module(\"csv\")でpandasを返すようにしたり、\n",
    "gio.get_read_method_from_extension(\"csv\")でpandas.read_csvを返すようにしたり..."
   ]
  },
  {
   "cell_type": "markdown",
   "metadata": {},
   "source": [
    "moduleのversion checkを各Moduleサブクラスで実施"
   ]
  },
  {
   "cell_type": "markdown",
   "metadata": {},
   "source": [
    "### extension & module list"
   ]
  },
  {
   "cell_type": "markdown",
   "metadata": {
    "ExecuteTime": {
     "end_time": "2021-04-13T14:31:31.615852Z",
     "start_time": "2021-04-13T14:31:31.608470Z"
    }
   },
   "source": [
    "* core\n",
    "    + only depending on built-in\n",
    "* basic\n",
    "    + widely or usually used\n",
    "* reinforce\n",
    "    + not freqeuntly but still famous"
   ]
  },
  {
   "cell_type": "markdown",
   "metadata": {},
   "source": [
    "#### Core-builtin (widely (no limitation on domain) and usually used)\n",
    "##### 画像系\n",
    "##### テキスト系\n",
    "* txt: (textio)\n",
    "##### 構造化テキスト系\n",
    "* json: JSON\n",
    "##### Python系\n",
    "    * pkl"
   ]
  },
  {
   "cell_type": "markdown",
   "metadata": {},
   "source": [
    "#### Core-third-party (widely (no limitation on domain) and usually (many starsin github) used)\n",
    "##### 画像系\n",
    "* jpeg, jpg: Pillow (cv2)\n",
    "* png: Pillow (cv2)\n",
    "##### 構造化テキスト系\n",
    "* csv: Pandas (CSV)\n",
    "* tsv: Pandas (CSV?)\n",
    "* yaml, yml: PyYAML\n",
    "* toml: \n",
    "* ini: \n",
    "    * xml\n",
    "##### Python系\n",
    "    * npy\n",
    "    * npz\n",
    "##### Windows\n",
    "    * xls, xlsx"
   ]
  },
  {
   "cell_type": "markdown",
   "metadata": {},
   "source": [
    "#### Plus?\n"
   ]
  },
  {
   "cell_type": "markdown",
   "metadata": {},
   "source": [
    "#### memo\n",
    "* dat, mat, pdf,  ...\n",
    "zip, gz, gzip, txt, sql, ebs, avro, orc, parquet, hdf5, 7z, tbz2, iso, tar, bz2, z, graph, properties, offsets, flac, ogg, wav, aac, mp3, gif, avi, mov, mp4, mpg, m4v, dat, mat, fig\n",
    "orc, avro, \n",
    "\n",
    "* h5, hdf5\n",
    "##### 画像系\n",
    "* bmp\n",
    "##### 画像系(特殊)\n",
    "* svg\n",
    "* gif\n",
    "##### テキスト系\n",
    "* md\n",
    "##### データ通信系\n",
    "* pb\n",
    "##### アーカイブ・圧縮系\n",
    "* zip\n",
    "* tar\n",
    "* tar.gz\n",
    "(bz, ...)\n",
    "##### モデル系\n",
    "* caffemodel\n",
    "* joblib\n",
    "##### Windows\n",
    "* ppt\n",
    "* doc\n",
    "##### その他\n",
    "* bin\n",
    "---\n",
    "##### プログラム系\n",
    "* exe\n",
    "* sh\n",
    "* c\n",
    "* h\n",
    "* cpp\n",
    "* js\n",
    "* jsx\n",
    "* css\n",
    "* html\n",
    "* sql\n",
    "* rb\n",
    "* go\n",
    "(Haskell, Rust)"
   ]
  },
  {
   "cell_type": "markdown",
   "metadata": {},
   "source": [
    "### hook functions"
   ]
  },
  {
   "cell_type": "markdown",
   "metadata": {},
   "source": [
    "#### read pre\n",
    "\n",
    "#### read post\n",
    "##### pandas module\n",
    "* optimize the dataframe\n",
    "##### Pillow module / cv2 module\n",
    "* resize the image\n",
    "\n",
    "#### read all pre\n",
    "\n",
    "#### read all post\n",
    "##### pandas module\n",
    "* concat dataframes into a sigle dataframe"
   ]
  },
  {
   "cell_type": "markdown",
   "metadata": {},
   "source": [
    "#### write pre\n",
    "* check whether the parent directory exists or not and create it\n",
    "* check whether the target path is allowed or not by user config\n",
    "* check whether the file exists or not and then forbidden overwriting or allow user to decide it interactively\n",
    "\n",
    "#### write post\n",
    "* upload data to remote storage\n",
    "\n",
    "#### write all pre\n",
    "\n",
    "#### write all post"
   ]
  },
  {
   "cell_type": "markdown",
   "metadata": {},
   "source": [
    "### start"
   ]
  },
  {
   "cell_type": "code",
   "execution_count": 1,
   "metadata": {
    "ExecuteTime": {
     "end_time": "2022-05-11T18:53:12.553969Z",
     "start_time": "2022-05-11T18:53:12.507371Z"
    }
   },
   "outputs": [],
   "source": [
    "%load_ext autoreload\n",
    "%autoreload 2\n",
    "\n",
    "from typing import Any, Union, Optional, Callable, Tuple, Dict, List, Set, Sequence, Iterable, Generator, Generic\n",
    "\n",
    "TYPE_PY = \"./brane/typing.py\"\n",
    "BASE_PY = \"./brane/core/base.py\"\n",
    "MODULE_PY = \"./brane/core/module.py\"\n",
    "FORMAT_PY = \"./brane/core/format.py\"\n",
    "OBJECT_PY = \"./brane/core/object.py\"\n",
    "EXTENSION_PY = \"./brane/core/extension.py\"\n",
    "HOOK_PY = \"./brane/core/hook.py\"\n",
    "EVENT_PY = \"./brane/core/event.py\"\n",
    "MAPPER_PY = \"./brane/core/mapper.py\"\n",
    "UTILS_PY = \"./brane/core/utils.py\"\n",
    "MAIN_PY = \"./brane/core/iomanager.py\"\n",
    "\n",
    "LIB_MODULE_PY = \"./brane/libs/modules.py\"\n",
    "LIB_FORMAT_PY = \"./brane/libs/formats.py\"\n",
    "LIB_OBJECT_PY = \"./brane/libs/objects.py\"\n",
    "LIB_EXTENSION_PY = \"./brane/libs/extensions.py\"\n",
    "LIB_HOOK_PY = \"./brane/libs/hooks.py\"\n",
    "LIB_EVENT_PY = \"./brane/libs/events.py\""
   ]
  },
  {
   "cell_type": "markdown",
   "metadata": {},
   "source": [
    "### workspace"
   ]
  },
  {
   "cell_type": "markdown",
   "metadata": {
    "ExecuteTime": {
     "end_time": "2021-04-15T16:02:25.992295Z",
     "start_time": "2021-04-15T16:02:25.929705Z"
    }
   },
   "source": [
    "import os\n",
    "\n",
    "import json\n",
    "import yaml"
   ]
  },
  {
   "cell_type": "markdown",
   "metadata": {
    "ExecuteTime": {
     "end_time": "2021-04-15T16:02:26.472365Z",
     "start_time": "2021-04-15T16:02:26.293663Z"
    }
   },
   "source": [
    "import numpy as np"
   ]
  },
  {
   "cell_type": "markdown",
   "metadata": {},
   "source": [
    "* Moduleクラスをまず定義\n",
    "* 次にFormatクラスを生成"
   ]
  },
  {
   "cell_type": "markdown",
   "metadata": {},
   "source": [
    "* replace self into cls in classmethod ?"
   ]
  },
  {
   "cell_type": "markdown",
   "metadata": {
    "ExecuteTime": {
     "end_time": "2022-05-04T19:53:03.220101Z",
     "start_time": "2022-05-04T19:53:02.598628Z"
    }
   },
   "source": [
    "    # 階層が深くなった場合に、以下、書き換え\n",
    "!rm ./bk/src/*.py ./bk/ext/*.py\n",
    "!mv ./src/*.py ./bk/src/\n",
    "!mv ./ext/*.py ./bk/ext/\n",
    "\n",
    "!touch ./src/__init__.py\n",
    "!touch ./ext/__init__.py"
   ]
  },
  {
   "cell_type": "code",
   "execution_count": 2,
   "metadata": {
    "ExecuteTime": {
     "end_time": "2022-05-11T18:51:10.404921Z",
     "start_time": "2022-05-11T18:51:10.390063Z"
    }
   },
   "outputs": [],
   "source": [
    "import os\n",
    "\n",
    "for dirname in list(set([ os.path.dirname(path) for path in [\n",
    "    TYPE_PY, BASE_PY, MODULE_PY, FORMAT_PY, OBJECT_PY, EXTENSION_PY, HOOK_PY, EVENT_PY, MAPPER_PY, UTILS_PY, MAIN_PY,\n",
    "    LIB_MODULE_PY, LIB_FORMAT_PY, LIB_OBJECT_PY, LIB_EXTENSION_PY, LIB_HOOK_PY, LIB_EVENT_PY\n",
    "] ])):\n",
    "    if dirname.replace(\"./\", \"\") not in [\"brane/core\", \"brane/libs\", \"brane\"]:\n",
    "        print(dirname)\n",
    "        os.makedirs(dirname, exist_ok=True)"
   ]
  },
  {
   "cell_type": "markdown",
   "metadata": {
    "ExecuteTime": {
     "end_time": "2021-04-18T15:11:53.449056Z",
     "start_time": "2021-04-18T15:11:53.191216Z"
    }
   },
   "source": [
    "!rm ./src/*.py\n",
    "!rm ./ext/*.py"
   ]
  },
  {
   "cell_type": "code",
   "execution_count": 2,
   "metadata": {
    "ExecuteTime": {
     "end_time": "2022-05-11T18:53:16.630897Z",
     "start_time": "2022-05-11T18:53:16.616061Z"
    }
   },
   "outputs": [],
   "source": [
    "def generate_import(module_path, names):\n",
    "    return \"from \" + module_path.lstrip(\"./\").replace(\".py\", \"\").replace(\"/\", \".\") + f\" import {names}\""
   ]
  },
  {
   "cell_type": "markdown",
   "metadata": {},
   "source": [
    "## Utils & Typing"
   ]
  },
  {
   "cell_type": "code",
   "execution_count": 7,
   "metadata": {
    "ExecuteTime": {
     "end_time": "2022-05-11T18:28:32.439350Z",
     "start_time": "2022-05-11T18:28:32.419580Z"
    }
   },
   "outputs": [
    {
     "name": "stdout",
     "output_type": "stream",
     "text": [
      "Writing ./brane/typing.py\n"
     ]
    }
   ],
   "source": [
    "%%writefile {TYPE_PY}\n",
    "from __future__ import annotations\n",
    "from typing import Any, Union, Optional, Callable, Sequence, Generator, Generic, Tuple, Dict, List, Set, NamedTuple, TypeVar\n",
    "from typing_extensions import Protocol\n",
    "\n",
    "try:\n",
    "    from typing import TypedDict # >=3.8\n",
    "except ImportError:\n",
    "    from typing_extensions import TypedDict # <=3.7\n",
    "\n",
    "class ModuleClassType:\n",
    "    pass\n",
    "\n",
    "class FormatClassType:\n",
    "    pass\n",
    "\n",
    "class ObjectClassType:\n",
    "    pass\n",
    "\n",
    "class ExtensionClassType:\n",
    "    pass\n",
    "\n",
    "class HookClassType:\n",
    "    pass\n",
    "\n",
    "class EventClassType:\n",
    "    pass\n",
    "\n",
    "class ContextInterface(TypedDict):\n",
    "    object = None\n",
    "    objects = None\n",
    "    path = None\n",
    "    paths = None\n",
    "    file = None\n",
    "    files = None\n",
    "    Module = None\n",
    "\n",
    "\n",
    "def _generate_file_type():\n",
    "    import pathlib\n",
    "    return Union[str, pathlib.Path]\n",
    "\n",
    "FileType = _generate_file_type()\n",
    "\n",
    "del _generate_file_type"
   ]
  },
  {
   "cell_type": "code",
   "execution_count": 33,
   "metadata": {
    "ExecuteTime": {
     "end_time": "2022-05-11T18:32:39.037803Z",
     "start_time": "2022-05-11T18:32:39.009985Z"
    }
   },
   "outputs": [
    {
     "name": "stdout",
     "output_type": "stream",
     "text": [
      "Overwriting ./brane/core/utils.py\n"
     ]
    }
   ],
   "source": [
    "%%writefile {UTILS_PY}\n",
    "from __future__ import annotations"
   ]
  },
  {
   "cell_type": "code",
   "execution_count": 34,
   "metadata": {
    "ExecuteTime": {
     "end_time": "2022-05-11T18:32:42.530372Z",
     "start_time": "2022-05-11T18:32:42.402791Z"
    }
   },
   "outputs": [],
   "source": [
    "!echo '{generate_import(TYPE_PY, \"*\")}' >> {UTILS_PY}"
   ]
  },
  {
   "cell_type": "code",
   "execution_count": 35,
   "metadata": {
    "ExecuteTime": {
     "end_time": "2022-05-11T18:32:43.309700Z",
     "start_time": "2022-05-11T18:32:43.285048Z"
    }
   },
   "outputs": [
    {
     "name": "stdout",
     "output_type": "stream",
     "text": [
      "Appending to ./brane/core/utils.py\n"
     ]
    }
   ],
   "source": [
    "%%writefile -a {UTILS_PY}\n",
    "\n",
    "def integrate_args(base_args: tuple, new_args: tuple) -> tuple:\n",
    "    if len(base_args) >= len(new_args):\n",
    "        base_args_list = list(base_args)\n",
    "    else:\n",
    "        additional_num = len(new_args) - len(base_args)\n",
    "        base_args_list = list(base_args) + [None for _ in range(additional_num)]\n",
    "\n",
    "    for i, arg in enumerate(new_args):\n",
    "        if arg is not None:\n",
    "            base_args_list[i] = arg\n",
    "    return tuple(base_args_list)\n",
    "\n",
    "def integrate_kwargs(base_kwargs: dict, new_kwargs: dict) -> dict:\n",
    "    return { **base_kwargs, **new_kwargs }"
   ]
  },
  {
   "cell_type": "code",
   "execution_count": 36,
   "metadata": {
    "ExecuteTime": {
     "end_time": "2022-05-11T18:32:44.575758Z",
     "start_time": "2022-05-11T18:32:44.548663Z"
    }
   },
   "outputs": [
    {
     "name": "stdout",
     "output_type": "stream",
     "text": [
      "Appending to ./brane/core/utils.py\n"
     ]
    }
   ],
   "source": [
    "%%writefile -a {UTILS_PY}\n",
    "\n",
    "def generate_classes(info_dict: dict, bases=(object,), prefix: str = \"\", suffix: str = \"\"):# temporal name\n",
    "    info = info_dict.copy()\n",
    "    generated_classes_info = {}\n",
    "\n",
    "    for class_name, class_info in info.items():\n",
    "        full_class_name = prefix+class_name+suffix\n",
    "        _ = type(full_class_name, bases, class_info)"
   ]
  },
  {
   "cell_type": "code",
   "execution_count": 37,
   "metadata": {
    "ExecuteTime": {
     "end_time": "2022-05-11T18:32:44.878183Z",
     "start_time": "2022-05-11T18:32:44.855817Z"
    }
   },
   "outputs": [
    {
     "name": "stdout",
     "output_type": "stream",
     "text": [
      "Appending to ./brane/core/utils.py\n"
     ]
    }
   ],
   "source": [
    "%%writefile -a {UTILS_PY}\n",
    "import os\n",
    "\n",
    "def get_extension_from_filname_default(path: str) -> str:\n",
    "    ext = os.path.splitext(path)[1][1:]\n",
    "    return ext"
   ]
  },
  {
   "cell_type": "markdown",
   "metadata": {},
   "source": [
    "## Base"
   ]
  },
  {
   "cell_type": "markdown",
   "metadata": {},
   "source": [
    "### definition"
   ]
  },
  {
   "cell_type": "code",
   "execution_count": 14,
   "metadata": {
    "ExecuteTime": {
     "end_time": "2022-05-11T18:28:49.464898Z",
     "start_time": "2022-05-11T18:28:49.448420Z"
    }
   },
   "outputs": [
    {
     "name": "stdout",
     "output_type": "stream",
     "text": [
      "Writing ./brane/core/base.py\n"
     ]
    }
   ],
   "source": [
    "%%writefile {BASE_PY}\n",
    "from __future__ import annotations"
   ]
  },
  {
   "cell_type": "code",
   "execution_count": 15,
   "metadata": {
    "ExecuteTime": {
     "end_time": "2022-05-11T18:28:49.826088Z",
     "start_time": "2022-05-11T18:28:49.698258Z"
    }
   },
   "outputs": [],
   "source": [
    "!echo '{generate_import(TYPE_PY, \"*\")}' >> {BASE_PY}"
   ]
  },
  {
   "cell_type": "code",
   "execution_count": 16,
   "metadata": {
    "ExecuteTime": {
     "end_time": "2022-05-11T18:28:50.049312Z",
     "start_time": "2022-05-11T18:28:50.033566Z"
    }
   },
   "outputs": [
    {
     "name": "stdout",
     "output_type": "stream",
     "text": [
      "Appending to ./brane/core/base.py\n"
     ]
    }
   ],
   "source": [
    "%%writefile -a {BASE_PY}\n",
    "from collections import OrderedDict\n",
    "\n",
    "class BaseSubclassRegister():\n",
    "    valid = True\n",
    "    #_registered_subclasses = []\n",
    "    # __registered_subclasses = []# cls.__registered_subclasses でアクセスできない# [ToDo]\n",
    "    _registered_subclasses = OrderedDict()\n",
    "    def __init_subclass__(cls):\n",
    "        # [idea memo]: nameがNoneの時は登録しないとか\n",
    "        if cls.valid:\n",
    "            #cls._registered_subclasses.append(cls)\n",
    "            name = getattr(cls, \"name\", None)\n",
    "            if name in cls._registered_subclasses:# for debug\n",
    "                print(f\"[DEBUG]: overwritten cls.name = {name}, cls = {cls}\")\n",
    "            else:\n",
    "                print(f\"[DEBUG]: register cls.name = {name}, cls = {cls}\")\n",
    "            cls._registered_subclasses.update({ name : cls })\n",
    "        # これだと継承クラス全体でregistered_moduleをシェア\n",
    "\n",
    "\n",
    "class MetaFalse(type):\n",
    "    def __new__(cls, classname, bases, class_info):\n",
    "        new_class_info = class_info.copy()\n",
    "        new_class_info.update({ \"__bool__\": lambda cls:False })\n",
    "        return type.__new__(cls, classname, bases, new_class_info)\n",
    "    def __bool__(cls):\n",
    "        return False"
   ]
  },
  {
   "cell_type": "code",
   "execution_count": 17,
   "metadata": {
    "ExecuteTime": {
     "end_time": "2022-05-11T18:28:50.326835Z",
     "start_time": "2022-05-11T18:28:50.308888Z"
    }
   },
   "outputs": [
    {
     "name": "stdout",
     "output_type": "stream",
     "text": [
      "Appending to ./brane/core/base.py\n"
     ]
    }
   ],
   "source": [
    "%%writefile -a {BASE_PY}\n",
    "\n",
    "class Context(ContextInterface):\n",
    "    object = None\n",
    "    objects = None\n",
    "    path = None\n",
    "    paths = None\n",
    "    file = None\n",
    "    files = None\n",
    "    Module = None"
   ]
  },
  {
   "cell_type": "markdown",
   "metadata": {},
   "source": [
    "### working"
   ]
  },
  {
   "cell_type": "code",
   "execution_count": 350,
   "metadata": {
    "ExecuteTime": {
     "end_time": "2021-04-05T15:02:33.070911Z",
     "start_time": "2021-04-05T15:02:33.061618Z"
    }
   },
   "outputs": [],
   "source": [
    "class Tmp():\n",
    "    __a = []\n",
    "    @classmethod\n",
    "    def b(cls):\n",
    "        return cls\n",
    "\n",
    "class Tmp2(Tmp):\n",
    "    c = cls._Tmp__a"
   ]
  },
  {
   "cell_type": "code",
   "execution_count": 351,
   "metadata": {
    "ExecuteTime": {
     "end_time": "2021-04-05T15:02:33.656416Z",
     "start_time": "2021-04-05T15:02:33.648401Z"
    }
   },
   "outputs": [
    {
     "data": {
      "text/plain": [
       "0"
      ]
     },
     "execution_count": 351,
     "metadata": {},
     "output_type": "execute_result"
    }
   ],
   "source": [
    "Tmp2.c"
   ]
  },
  {
   "cell_type": "code",
   "execution_count": 341,
   "metadata": {
    "ExecuteTime": {
     "end_time": "2021-04-05T14:57:33.960879Z",
     "start_time": "2021-04-05T14:57:33.953466Z"
    }
   },
   "outputs": [],
   "source": [
    "cls = Tmp.b()"
   ]
  },
  {
   "cell_type": "code",
   "execution_count": 342,
   "metadata": {
    "ExecuteTime": {
     "end_time": "2021-04-05T14:57:38.477980Z",
     "start_time": "2021-04-05T14:57:38.466311Z"
    }
   },
   "outputs": [
    {
     "data": {
      "text/plain": [
       "type"
      ]
     },
     "execution_count": 342,
     "metadata": {},
     "output_type": "execute_result"
    }
   ],
   "source": [
    "cls._Tmp__a"
   ]
  },
  {
   "cell_type": "code",
   "execution_count": null,
   "metadata": {},
   "outputs": [],
   "source": []
  },
  {
   "cell_type": "code",
   "execution_count": null,
   "metadata": {},
   "outputs": [],
   "source": [
    "assert False\n",
    "\n",
    "    \n",
    "    if len(base_args) >= len(new_args):\n",
    "        base_args\n",
    "        return tuple( new_args[i] if new_args[i] is not None else base_args[i] for i in range(len(base_args)) )\n",
    "    else:\n",
    "        return tuple( new_args[i] if new_args[i] is not None else base_args[i] for i in range(len(new_args)) )"
   ]
  },
  {
   "cell_type": "markdown",
   "metadata": {},
   "source": [
    "## Module"
   ]
  },
  {
   "cell_type": "markdown",
   "metadata": {},
   "source": [
    "### definition"
   ]
  },
  {
   "cell_type": "markdown",
   "metadata": {},
   "source": [
    "#### core"
   ]
  },
  {
   "cell_type": "code",
   "execution_count": 18,
   "metadata": {
    "ExecuteTime": {
     "end_time": "2022-05-11T18:28:56.144148Z",
     "start_time": "2022-05-11T18:28:56.128806Z"
    }
   },
   "outputs": [
    {
     "name": "stdout",
     "output_type": "stream",
     "text": [
      "Writing ./brane/core/module.py\n"
     ]
    }
   ],
   "source": [
    "%%writefile {MODULE_PY}\n",
    "from __future__ import annotations"
   ]
  },
  {
   "cell_type": "code",
   "execution_count": 19,
   "metadata": {
    "ExecuteTime": {
     "end_time": "2022-05-11T18:28:56.771479Z",
     "start_time": "2022-05-11T18:28:56.408285Z"
    }
   },
   "outputs": [],
   "source": [
    "!echo '{generate_import(TYPE_PY, \"*\")}' >> {MODULE_PY}\n",
    "!echo '{generate_import(BASE_PY, \"BaseSubclassRegister\")}' >> {MODULE_PY}\n",
    "!echo '{generate_import(UTILS_PY, \"integrate_args, integrate_kwargs\")}' >> {MODULE_PY}"
   ]
  },
  {
   "cell_type": "code",
   "execution_count": 20,
   "metadata": {
    "ExecuteTime": {
     "end_time": "2022-05-11T18:28:56.806748Z",
     "start_time": "2022-05-11T18:28:56.776493Z"
    }
   },
   "outputs": [
    {
     "name": "stdout",
     "output_type": "stream",
     "text": [
      "Appending to ./brane/core/module.py\n"
     ]
    }
   ],
   "source": [
    "%%writefile -a {MODULE_PY}\n",
    "\n",
    "class Module(ModuleClassType, BaseSubclassRegister):\n",
    "    name: Optional[str] = None\n",
    "    module: Any = None\n",
    "    loaded: bool = False\n",
    "\n",
    "    base_args_read: tuple = ()\n",
    "    base_kwargs_read: dict = {}\n",
    "    base_args_write: tuple = ()\n",
    "    base_kwargs_write: dict = {}\n",
    "    generate_params_read = None # unnecessary ?\n",
    "    generate_params_write = None\n",
    "    \n",
    "    module_method_read = None\n",
    "    module_method_write = None\n",
    "    swap_args: bool = None### temporal arg name\n",
    "    object_method_write : str = None### temporal arg name\n",
    "    \n",
    "    require_file_stream_read = False# temporal arg name # unnecessary ?\n",
    "\n",
    "    # # if False, not register the module\n",
    "    # valid = True# temporal arg name\n",
    "    # #@property\n",
    "    # #def valid(self):\n",
    "    # #    return self._valid\n",
    "\n",
    "    #def load_modules(cls):\n",
    "    @classmethod\n",
    "    def load_modules(cls):\n",
    "        # allow lazy loading of modules\n",
    "        pass\n",
    "        # raise NotImplementedError\n",
    "\n",
    "    @classmethod\n",
    "    def read(cls, file, *args, **kwargs):\n",
    "        # generate the args and keyword args passed to read method\n",
    "        base_args_read, base_kwargs_read = cls.base_args_read, cls.base_kwargs_read.copy()\n",
    "        # [ARG]: unnecessary\n",
    "        # if cls.generate_params_read:\n",
    "        #     base_args_read, base_kwargs_read = cls.generate_params_read(base_args_read, base_kwargs_read)\n",
    "\n",
    "        args_read = integrate_args(base_args_read, args)\n",
    "        kwargs_read = integrate_kwargs(base_kwargs_read, kwargs)\n",
    "        # ToDo: args and kwargs -> ???\n",
    "\n",
    "        # read\n",
    "        if cls.module_method_read:\n",
    "            return cls.module_method_read(file, *args_read, **kwargs_read)\n",
    "        else:\n",
    "            raise NotImplementedError\n",
    "\n",
    "    @classmethod\n",
    "    def write(cls, obj, file, *args, **kwargs):\n",
    "        base_args_write, base_kwargs_write = cls.base_args_write, cls.base_kwargs_write.copy()\n",
    "        if cls.generate_params_write:\n",
    "            base_args_write, base_kwargs_write = cls.generate_params_write(obj, base_args_write, base_kwargs_write)\n",
    "            \n",
    "        args_write = integrate_args(base_args_write, args)\n",
    "        kwargs_write = integrate_kwargs(base_kwargs_write, kwargs)\n",
    "        \n",
    "        \n",
    "        if cls.module_method_write:\n",
    "            if cls.swap_args:\n",
    "                cls.module_method_write(file, obj, *args_write, **kwargs_write)\n",
    "            else:\n",
    "                cls.module_method_write(obj, file, *args_write, **kwargs_write)\n",
    "        elif cls.object_method_write and hasattr(obj, cls.object_method_write):\n",
    "            getattr(obj, cls.object_method_write)(file, *args_write, **kwargs_write)\n",
    "        else:\n",
    "            raise NotImplementedError\n",
    "        \n",
    "    #_registered_subclasses = []\n",
    "    _registered_subclasses = {}\n",
    "    registered_modules = _registered_subclasses\n",
    "    # [ToDo]: define class-propetry or dynamical attibutes by using meta class\n",
    "    #@property\n",
    "    #def registered_modules(cls):\n",
    "    #    return [ c for c in cls.__registered_subclasses if c != cls ]\n",
    "    \n",
    "    # def __init_subclass__(cls):\n",
    "    #     #super().__init_subclass__()\n",
    "    #     #super(cls).__class__.registered_modules.append(cls)\n",
    "    #     #print(cls)\n",
    "    #     if cls.valid:\n",
    "    #         cls.registered_modules.append(cls)\n",
    "    #     # これだと継承クラス全体でregistered_moduleをシェア\n",
    "        \n",
    "    #def __init__(self):\n",
    "    #    self.registered_modules = []\n",
    "    #def __init_subclass__(cls):\n",
    "    #    print(super())\n",
    "    #    super().registered_modules.append(cls)\n"
   ]
  },
  {
   "cell_type": "code",
   "execution_count": 21,
   "metadata": {
    "ExecuteTime": {
     "end_time": "2022-05-11T18:28:58.531919Z",
     "start_time": "2022-05-11T18:28:58.396069Z"
    }
   },
   "outputs": [],
   "source": [
    "!echo '{generate_import(BASE_PY, \"MetaFalse\")}' >> {MODULE_PY}"
   ]
  },
  {
   "cell_type": "code",
   "execution_count": 22,
   "metadata": {
    "ExecuteTime": {
     "end_time": "2022-05-11T18:28:58.769313Z",
     "start_time": "2022-05-11T18:28:58.732716Z"
    }
   },
   "outputs": [
    {
     "name": "stdout",
     "output_type": "stream",
     "text": [
      "Appending to ./brane/core/module.py\n"
     ]
    }
   ],
   "source": [
    "%%writefile -a {MODULE_PY}\n",
    "\n",
    "class NoneModule(Module, metaclass=MetaFalse):\n",
    "    valid = False###\n",
    "    name = \"None\"\n",
    "    \n",
    "    #@classmethod # not work for class\n",
    "    #def __bool__(cls):\n",
    "    #    return False"
   ]
  },
  {
   "cell_type": "markdown",
   "metadata": {},
   "source": [
    "#### libs"
   ]
  },
  {
   "cell_type": "code",
   "execution_count": 51,
   "metadata": {
    "ExecuteTime": {
     "end_time": "2022-05-11T18:58:28.429956Z",
     "start_time": "2022-05-11T18:58:28.408904Z"
    }
   },
   "outputs": [
    {
     "name": "stdout",
     "output_type": "stream",
     "text": [
      "Overwriting ./brane/libs/modules.py\n"
     ]
    }
   ],
   "source": [
    "%%writefile {LIB_MODULE_PY}\n",
    "from __future__ import annotations"
   ]
  },
  {
   "cell_type": "code",
   "execution_count": 52,
   "metadata": {
    "ExecuteTime": {
     "end_time": "2022-05-11T18:58:29.039928Z",
     "start_time": "2022-05-11T18:58:28.784391Z"
    }
   },
   "outputs": [],
   "source": [
    "!echo '{generate_import(TYPE_PY, \"*\")}' >> {LIB_MODULE_PY}\n",
    "!echo '{generate_import(MODULE_PY, \"Module\")}' >> {LIB_MODULE_PY}"
   ]
  },
  {
   "cell_type": "code",
   "execution_count": 53,
   "metadata": {
    "ExecuteTime": {
     "end_time": "2022-05-11T18:58:29.196643Z",
     "start_time": "2022-05-11T18:58:29.167438Z"
    }
   },
   "outputs": [
    {
     "name": "stdout",
     "output_type": "stream",
     "text": [
      "Appending to ./brane/libs/modules.py\n"
     ]
    }
   ],
   "source": [
    "%%writefile -a {LIB_MODULE_PY}\n",
    "# temproal (Module ? Enccoding/Decoding ?)\n",
    "\n",
    "class PILModule(Module):\n",
    "    name = \"PIL\"### pillow ?\n",
    "    object_method_write = \"save\"\n",
    "\n",
    "    @classmethod\n",
    "    def load_modules(cls):\n",
    "        from PIL import Image as PILImage\n",
    "        cls.module = PILImage\n",
    "        cls.module_method_read = PILImage.open\n",
    "\n",
    "class CV2Module(Module):\n",
    "    name = \"cv2\"\n",
    "    \n",
    "    @classmethod\n",
    "    def load_modules(cls):\n",
    "        import cv2\n",
    "        cls.module = cv2\n",
    "        cls.module_method_read = cv2.imread\n",
    "        cls.module_method_write = cv2.imwrite\n",
    "        swap_args = True\n",
    "\n",
    "class PandasModule(Module):\n",
    "    name = \"pandas\"\n",
    "    base_kwargs_write = {\"index\":None}\n",
    "    object_method_write = \"to_csv\"\n",
    "\n",
    "    @classmethod\n",
    "    def load_modules(cls):\n",
    "        import pandas as pd\n",
    "        cls.module = pd\n",
    "        cls.module_method_read = pd.read_csv\n",
    "\n",
    "class JsonModule(Module):\n",
    "    name = \"json\"\n",
    "    base_kwargs_write = {\"indent\":2}\n",
    "\n",
    "    @classmethod\n",
    "    def load_modules(cls):\n",
    "        import json\n",
    "        cls.module = json\n",
    "\n",
    "    @classmethod\n",
    "    def read(cls, file, *args, **kwargs):\n",
    "        import json\n",
    "        with open(file, \"r\") as f:\n",
    "            obj = json.load(fp=f, *args, **kwargs)\n",
    "        return obj\n",
    "\n",
    "    @classmethod\n",
    "    def write(cls, obj, file, *args, **kwargs):\n",
    "        import json\n",
    "        with open(file, \"w\") as f:\n",
    "            json.dump(obj=obj, fp=f, *args, **kwargs)\n",
    "        return True###\n",
    "\n",
    "class TextIOModule(Module):\n",
    "    name = \"textio\"###\n",
    "    loaded = True\n",
    "\n",
    "    #@classmethod\n",
    "    #def load_modules(cls):\n",
    "    #    pass\n",
    "\n",
    "    @classmethod\n",
    "    def read(cls, file, *args, **kwargs):\n",
    "        with open(file, \"r\") as f:\n",
    "            text = f.readlines(*args, **kwargs)\n",
    "        return text\n",
    "\n",
    "    @classmethod\n",
    "    def write(cls, obj, file, *args, **kwargs):\n",
    "        with open(file, \"w\") as f:\n",
    "            f.writelines(text, *args, **kwargs)\n",
    "        return True###\n"
   ]
  },
  {
   "cell_type": "markdown",
   "metadata": {},
   "source": [
    "#### workspace"
   ]
  },
  {
   "cell_type": "code",
   "execution_count": 9,
   "metadata": {
    "ExecuteTime": {
     "end_time": "2021-04-14T13:50:30.238088Z",
     "start_time": "2021-04-14T13:50:30.232555Z"
    }
   },
   "outputs": [],
   "source": [
    "class TmpModule(TextIOModule):\n",
    "    pass\n",
    "\n",
    "class TmpModule2(PandasModule):\n",
    "    valid = False"
   ]
  },
  {
   "cell_type": "code",
   "execution_count": null,
   "metadata": {},
   "outputs": [],
   "source": []
  },
  {
   "cell_type": "code",
   "execution_count": 8,
   "metadata": {
    "ExecuteTime": {
     "end_time": "2021-04-14T13:50:29.634583Z",
     "start_time": "2021-04-14T13:50:29.627167Z"
    }
   },
   "outputs": [],
   "source": []
  },
  {
   "cell_type": "code",
   "execution_count": 10,
   "metadata": {
    "ExecuteTime": {
     "end_time": "2021-04-14T13:50:33.605500Z",
     "start_time": "2021-04-14T13:50:33.586598Z"
    }
   },
   "outputs": [
    {
     "data": {
      "text/plain": [
       "{'PIL': __main__.PILModule,\n",
       " 'cv2': __main__.CV2Module,\n",
       " 'pandas': __main__.PandasModule,\n",
       " 'textio': __main__.TmpModule}"
      ]
     },
     "execution_count": 10,
     "metadata": {},
     "output_type": "execute_result"
    }
   ],
   "source": [
    "modules_info = { m.name : m for m in Module.registered_modules }### tmp\n",
    "if None in modules_info:\n",
    "    modules_info.pop(None)\n",
    "modules_info"
   ]
  },
  {
   "cell_type": "markdown",
   "metadata": {
    "ExecuteTime": {
     "end_time": "2021-03-31T01:10:00.127101Z",
     "start_time": "2021-03-31T01:10:00.121367Z"
    }
   },
   "source": [
    "textio keyは上書きされてしまう"
   ]
  },
  {
   "cell_type": "markdown",
   "metadata": {},
   "source": [
    "### test"
   ]
  },
  {
   "cell_type": "code",
   "execution_count": 38,
   "metadata": {
    "ExecuteTime": {
     "end_time": "2022-05-11T18:32:56.495981Z",
     "start_time": "2022-05-11T18:32:56.478031Z"
    }
   },
   "outputs": [
    {
     "name": "stdout",
     "output_type": "stream",
     "text": [
      "[DEBUG]: register cls.name = None, cls = <class 'brane.core.module.Module'>\n"
     ]
    }
   ],
   "source": [
    "from brane.core.module import Module, NoneModule"
   ]
  },
  {
   "cell_type": "code",
   "execution_count": 39,
   "metadata": {
    "ExecuteTime": {
     "end_time": "2022-05-11T18:32:58.010049Z",
     "start_time": "2022-05-11T18:32:57.982808Z"
    }
   },
   "outputs": [
    {
     "data": {
      "text/plain": [
       "(False, False)"
      ]
     },
     "execution_count": 39,
     "metadata": {},
     "output_type": "execute_result"
    }
   ],
   "source": [
    "bool(NoneModule), bool(NoneModule())"
   ]
  },
  {
   "cell_type": "code",
   "execution_count": 41,
   "metadata": {
    "ExecuteTime": {
     "end_time": "2022-05-11T18:33:05.806036Z",
     "start_time": "2022-05-11T18:33:05.774766Z"
    }
   },
   "outputs": [
    {
     "name": "stdout",
     "output_type": "stream",
     "text": [
      "[DEBUG]: register cls.name = PIL, cls = <class 'brane.libs.modules.PILModule'>\n",
      "[DEBUG]: register cls.name = cv2, cls = <class 'brane.libs.modules.CV2Module'>\n",
      "[DEBUG]: register cls.name = pandas, cls = <class 'brane.libs.modules.PandasModule'>\n",
      "[DEBUG]: register cls.name = json, cls = <class 'brane.libs.modules.JsonModule'>\n",
      "[DEBUG]: register cls.name = textio, cls = <class 'brane.libs.modules.TextIOModule'>\n"
     ]
    }
   ],
   "source": [
    "from brane.libs.modules import PandasModule"
   ]
  },
  {
   "cell_type": "code",
   "execution_count": 42,
   "metadata": {
    "ExecuteTime": {
     "end_time": "2022-05-11T18:33:07.406724Z",
     "start_time": "2022-05-11T18:33:07.386688Z"
    }
   },
   "outputs": [
    {
     "data": {
      "text/plain": [
       "{None: brane.core.module.Module,\n",
       " 'PIL': brane.libs.modules.PILModule,\n",
       " 'cv2': brane.libs.modules.CV2Module,\n",
       " 'pandas': brane.libs.modules.PandasModule,\n",
       " 'json': brane.libs.modules.JsonModule,\n",
       " 'textio': brane.libs.modules.TextIOModule}"
      ]
     },
     "execution_count": 42,
     "metadata": {},
     "output_type": "execute_result"
    }
   ],
   "source": [
    "Module.registered_modules"
   ]
  },
  {
   "cell_type": "markdown",
   "metadata": {},
   "source": [
    "### working"
   ]
  },
  {
   "cell_type": "code",
   "execution_count": 30,
   "metadata": {
    "ExecuteTime": {
     "end_time": "2021-04-01T15:33:15.193712Z",
     "start_time": "2021-04-01T15:33:15.189502Z"
    }
   },
   "outputs": [
    {
     "data": {
      "text/plain": [
       "[__main__.Module,\n",
       " __main__.PILModule,\n",
       " __main__.CV2Module,\n",
       " __main__.PandasModule,\n",
       " __main__.TextIOModule,\n",
       " __main__.TmpModule]"
      ]
     },
     "execution_count": 30,
     "metadata": {},
     "output_type": "execute_result"
    }
   ],
   "source": [
    "Module.registered_modules"
   ]
  },
  {
   "cell_type": "code",
   "execution_count": 31,
   "metadata": {
    "ExecuteTime": {
     "end_time": "2021-04-01T15:33:21.996929Z",
     "start_time": "2021-04-01T15:33:21.984976Z"
    }
   },
   "outputs": [
    {
     "data": {
      "text/plain": [
       "[__main__.Module,\n",
       " __main__.PILModule,\n",
       " __main__.CV2Module,\n",
       " __main__.PandasModule,\n",
       " __main__.TextIOModule,\n",
       " __main__.TmpModule]"
      ]
     },
     "execution_count": 31,
     "metadata": {},
     "output_type": "execute_result"
    }
   ],
   "source": [
    "Module._registered_subclasses"
   ]
  },
  {
   "cell_type": "code",
   "execution_count": 9,
   "metadata": {
    "ExecuteTime": {
     "end_time": "2021-03-31T01:09:44.981686Z",
     "start_time": "2021-03-31T01:09:44.975604Z"
    }
   },
   "outputs": [
    {
     "data": {
      "text/plain": [
       "(None, 'PIL')"
      ]
     },
     "execution_count": 9,
     "metadata": {},
     "output_type": "execute_result"
    }
   ],
   "source": [
    "Module.name, PILModule.name"
   ]
  },
  {
   "cell_type": "code",
   "execution_count": 129,
   "metadata": {
    "ExecuteTime": {
     "end_time": "2021-03-31T15:36:05.203273Z",
     "start_time": "2021-03-31T15:36:05.196000Z"
    }
   },
   "outputs": [
    {
     "data": {
      "text/plain": [
       "<super: type, None>"
      ]
     },
     "execution_count": 129,
     "metadata": {},
     "output_type": "execute_result"
    }
   ],
   "source": [
    "super(PILModule.__class__)"
   ]
  },
  {
   "cell_type": "code",
   "execution_count": 208,
   "metadata": {
    "ExecuteTime": {
     "end_time": "2021-04-01T14:26:03.046197Z",
     "start_time": "2021-04-01T14:26:03.041885Z"
    }
   },
   "outputs": [
    {
     "data": {
      "text/plain": [
       "[__main__.PILModule,\n",
       " __main__.CV2Module,\n",
       " __main__.PandasModule,\n",
       " __main__.TextIOModule]"
      ]
     },
     "execution_count": 208,
     "metadata": {},
     "output_type": "execute_result"
    }
   ],
   "source": [
    "Module.__subclasses__()"
   ]
  },
  {
   "cell_type": "code",
   "execution_count": 225,
   "metadata": {
    "ExecuteTime": {
     "end_time": "2021-04-01T14:40:01.095972Z",
     "start_time": "2021-04-01T14:40:01.091536Z"
    }
   },
   "outputs": [],
   "source": [
    "def get_all_descendant_nodes(parent_node, get_child_nodes, depth=0):\n",
    "    # max_recursion\n",
    "    # remove duplices ?\n",
    "    # how will we treat in the case of not-DAG i.e. cyclic graphs ?\n",
    "    # メモ化（child nodeが2つ以上のparent nodeを持つ場合、2回探索されてしまう）\n",
    "    \n",
    "    all_descendant_nodes = []\n",
    "    children_nodes = get_child_nodes(parent_node)\n",
    "    for child_node in children_nodes:\n",
    "        all_descendant_nodes.extend( get_all_descendant_nodes(child_node, get_child_nodes=get_child_nodes, depth=depth+1) + [(child_node, depth+1)] )\n",
    "\n",
    "    return all_descendant_nodes\n",
    "    #if len(children_nodes) > 0:\n",
    "    #    return all_descendant_nodes\n",
    "    #else:\n",
    "    #    return [parent_node]"
   ]
  },
  {
   "cell_type": "code",
   "execution_count": 226,
   "metadata": {
    "ExecuteTime": {
     "end_time": "2021-04-01T14:40:01.434768Z",
     "start_time": "2021-04-01T14:40:01.428086Z"
    }
   },
   "outputs": [
    {
     "data": {
      "text/plain": [
       "[(__main__.PILModule, 1),\n",
       " (__main__.CV2Module, 1),\n",
       " (__main__.PandasModule, 1),\n",
       " (__main__.TmpModule, 2),\n",
       " (__main__.TextIOModule, 1)]"
      ]
     },
     "execution_count": 226,
     "metadata": {},
     "output_type": "execute_result"
    }
   ],
   "source": [
    "get_all_descendant_nodes(Module, lambda cls: cls.__subclasses__())"
   ]
  },
  {
   "cell_type": "code",
   "execution_count": 213,
   "metadata": {
    "ExecuteTime": {
     "end_time": "2021-04-01T14:35:49.345661Z",
     "start_time": "2021-04-01T14:35:49.336753Z"
    }
   },
   "outputs": [
    {
     "data": {
      "text/plain": [
       "<function Module.__subclasses__()>"
      ]
     },
     "execution_count": 213,
     "metadata": {},
     "output_type": "execute_result"
    }
   ],
   "source": [
    "Module.__subclasses__"
   ]
  },
  {
   "cell_type": "code",
   "execution_count": 209,
   "metadata": {
    "ExecuteTime": {
     "end_time": "2021-04-01T14:26:57.760686Z",
     "start_time": "2021-04-01T14:26:57.755359Z"
    }
   },
   "outputs": [
    {
     "data": {
      "text/plain": [
       "[__main__.PILModule,\n",
       " __main__.CV2Module,\n",
       " __main__.PandasModule,\n",
       " __main__.TextIOModule,\n",
       " __main__.TmpModule]"
      ]
     },
     "execution_count": 209,
     "metadata": {},
     "output_type": "execute_result"
    }
   ],
   "source": [
    "Module.registered_modules"
   ]
  },
  {
   "cell_type": "code",
   "execution_count": 132,
   "metadata": {
    "ExecuteTime": {
     "end_time": "2021-03-31T15:36:33.185919Z",
     "start_time": "2021-03-31T15:36:33.182342Z"
    },
    "scrolled": true
   },
   "outputs": [
    {
     "data": {
      "text/plain": [
       "[__main__.PILModule, __main__.Module, object]"
      ]
     },
     "execution_count": 132,
     "metadata": {},
     "output_type": "execute_result"
    }
   ],
   "source": [
    "PILModule.mro()"
   ]
  },
  {
   "cell_type": "code",
   "execution_count": null,
   "metadata": {},
   "outputs": [],
   "source": []
  },
  {
   "cell_type": "markdown",
   "metadata": {},
   "source": [
    "#### workspace"
   ]
  },
  {
   "cell_type": "code",
   "execution_count": null,
   "metadata": {},
   "outputs": [],
   "source": [
    "def f1(*args_, **kwargs_):\n",
    "    def f2(func):\n",
    "        def f3(*args, **kwargs)\n",
    "            func(*args, )"
   ]
  },
  {
   "cell_type": "markdown",
   "metadata": {},
   "source": [
    "PandaModule.read_generator({\"sep\":\" \"}) => pd.read_csv(*, sep=\" \")\n",
    "でcsvとtsv両方に対応できるようにする"
   ]
  },
  {
   "cell_type": "code",
   "execution_count": null,
   "metadata": {},
   "outputs": [],
   "source": []
  },
  {
   "cell_type": "code",
   "execution_count": 47,
   "metadata": {
    "ExecuteTime": {
     "end_time": "2021-04-14T15:36:10.030364Z",
     "start_time": "2021-04-14T15:36:10.024489Z"
    }
   },
   "outputs": [],
   "source": [
    "class Tmp():\n",
    "    __a = []\n",
    "    _b = []\n",
    "class Tmp2(Tmp):\n",
    "    @classmethod\n",
    "    def f(cls):\n",
    "        return cls.__a\n",
    "    @classmethod\n",
    "    def g(cls):\n",
    "        return cls.__b"
   ]
  },
  {
   "cell_type": "code",
   "execution_count": 50,
   "metadata": {
    "ExecuteTime": {
     "end_time": "2021-04-14T15:36:55.682407Z",
     "start_time": "2021-04-14T15:36:55.656252Z"
    }
   },
   "outputs": [
    {
     "data": {
      "text/plain": [
       "[]"
      ]
     },
     "execution_count": 50,
     "metadata": {},
     "output_type": "execute_result"
    }
   ],
   "source": [
    "Tmp._Tmp__a"
   ]
  },
  {
   "cell_type": "code",
   "execution_count": 51,
   "metadata": {
    "ExecuteTime": {
     "end_time": "2021-04-14T15:37:02.657737Z",
     "start_time": "2021-04-14T15:37:02.653847Z"
    }
   },
   "outputs": [
    {
     "data": {
      "text/plain": [
       "[]"
      ]
     },
     "execution_count": 51,
     "metadata": {},
     "output_type": "execute_result"
    }
   ],
   "source": [
    "Tmp2._Tmp__a"
   ]
  },
  {
   "cell_type": "code",
   "execution_count": 52,
   "metadata": {
    "ExecuteTime": {
     "end_time": "2021-04-14T15:37:06.861492Z",
     "start_time": "2021-04-14T15:37:06.838530Z"
    }
   },
   "outputs": [
    {
     "ename": "AttributeError",
     "evalue": "type object 'Tmp2' has no attribute '_Tmp2__a'",
     "output_type": "error",
     "traceback": [
      "\u001b[0;31m---------------------------------------------------------------------------\u001b[0m",
      "\u001b[0;31mAttributeError\u001b[0m                            Traceback (most recent call last)",
      "\u001b[0;32m<ipython-input-52-4325f9af1003>\u001b[0m in \u001b[0;36m<module>\u001b[0;34m\u001b[0m\n\u001b[0;32m----> 1\u001b[0;31m \u001b[0mTmp2\u001b[0m\u001b[0;34m.\u001b[0m\u001b[0m_Tmp2__a\u001b[0m\u001b[0;34m\u001b[0m\u001b[0;34m\u001b[0m\u001b[0m\n\u001b[0m",
      "\u001b[0;31mAttributeError\u001b[0m: type object 'Tmp2' has no attribute '_Tmp2__a'"
     ]
    }
   ],
   "source": [
    "Tmp2._Tmp2__a"
   ]
  },
  {
   "cell_type": "code",
   "execution_count": 53,
   "metadata": {
    "ExecuteTime": {
     "end_time": "2021-04-14T15:37:10.279246Z",
     "start_time": "2021-04-14T15:37:10.254379Z"
    }
   },
   "outputs": [
    {
     "ename": "AttributeError",
     "evalue": "type object 'Tmp2' has no attribute '_Tmp2__a'",
     "output_type": "error",
     "traceback": [
      "\u001b[0;31m---------------------------------------------------------------------------\u001b[0m",
      "\u001b[0;31mAttributeError\u001b[0m                            Traceback (most recent call last)",
      "\u001b[0;32m<ipython-input-53-8be98f46c8c1>\u001b[0m in \u001b[0;36m<module>\u001b[0;34m\u001b[0m\n\u001b[0;32m----> 1\u001b[0;31m \u001b[0mTmp2\u001b[0m\u001b[0;34m.\u001b[0m\u001b[0mf\u001b[0m\u001b[0;34m(\u001b[0m\u001b[0;34m)\u001b[0m\u001b[0;34m\u001b[0m\u001b[0;34m\u001b[0m\u001b[0m\n\u001b[0m",
      "\u001b[0;32m<ipython-input-47-0af05935cae6>\u001b[0m in \u001b[0;36mf\u001b[0;34m(cls)\u001b[0m\n\u001b[1;32m      5\u001b[0m     \u001b[0;34m@\u001b[0m\u001b[0mclassmethod\u001b[0m\u001b[0;34m\u001b[0m\u001b[0;34m\u001b[0m\u001b[0m\n\u001b[1;32m      6\u001b[0m     \u001b[0;32mdef\u001b[0m \u001b[0mf\u001b[0m\u001b[0;34m(\u001b[0m\u001b[0mcls\u001b[0m\u001b[0;34m)\u001b[0m\u001b[0;34m:\u001b[0m\u001b[0;34m\u001b[0m\u001b[0;34m\u001b[0m\u001b[0m\n\u001b[0;32m----> 7\u001b[0;31m         \u001b[0;32mreturn\u001b[0m \u001b[0mcls\u001b[0m\u001b[0;34m.\u001b[0m\u001b[0m__a\u001b[0m\u001b[0;34m\u001b[0m\u001b[0;34m\u001b[0m\u001b[0m\n\u001b[0m\u001b[1;32m      8\u001b[0m     \u001b[0;34m@\u001b[0m\u001b[0mclassmethod\u001b[0m\u001b[0;34m\u001b[0m\u001b[0;34m\u001b[0m\u001b[0m\n\u001b[1;32m      9\u001b[0m     \u001b[0;32mdef\u001b[0m \u001b[0mg\u001b[0m\u001b[0;34m(\u001b[0m\u001b[0mcls\u001b[0m\u001b[0;34m)\u001b[0m\u001b[0;34m:\u001b[0m\u001b[0;34m\u001b[0m\u001b[0;34m\u001b[0m\u001b[0m\n",
      "\u001b[0;31mAttributeError\u001b[0m: type object 'Tmp2' has no attribute '_Tmp2__a'"
     ]
    }
   ],
   "source": [
    "Tmp2.f()"
   ]
  },
  {
   "cell_type": "code",
   "execution_count": null,
   "metadata": {},
   "outputs": [],
   "source": []
  },
  {
   "cell_type": "code",
   "execution_count": 89,
   "metadata": {
    "ExecuteTime": {
     "end_time": "2021-04-18T04:05:55.804315Z",
     "start_time": "2021-04-18T04:05:55.786091Z"
    }
   },
   "outputs": [],
   "source": [
    "df = pd.DataFrame({\"a\":[1], \"b\":[\"a\\\"a,\"], \"c\":[None], \"d\": [{\"a\":2}], \"e\": [lambda x:x]})"
   ]
  },
  {
   "cell_type": "code",
   "execution_count": 90,
   "metadata": {
    "ExecuteTime": {
     "end_time": "2021-04-18T04:05:56.391525Z",
     "start_time": "2021-04-18T04:05:56.349573Z"
    }
   },
   "outputs": [
    {
     "data": {
      "text/html": [
       "<div>\n",
       "<style scoped>\n",
       "    .dataframe tbody tr th:only-of-type {\n",
       "        vertical-align: middle;\n",
       "    }\n",
       "\n",
       "    .dataframe tbody tr th {\n",
       "        vertical-align: top;\n",
       "    }\n",
       "\n",
       "    .dataframe thead th {\n",
       "        text-align: right;\n",
       "    }\n",
       "</style>\n",
       "<table border=\"1\" class=\"dataframe\">\n",
       "  <thead>\n",
       "    <tr style=\"text-align: right;\">\n",
       "      <th></th>\n",
       "      <th>a</th>\n",
       "      <th>b</th>\n",
       "      <th>c</th>\n",
       "      <th>d</th>\n",
       "      <th>e</th>\n",
       "    </tr>\n",
       "  </thead>\n",
       "  <tbody>\n",
       "    <tr>\n",
       "      <td>0</td>\n",
       "      <td>1</td>\n",
       "      <td>a\"a,</td>\n",
       "      <td>None</td>\n",
       "      <td>{'a': 2}</td>\n",
       "      <td>&lt;function &lt;lambda&gt; at 0x7f23557cf400&gt;</td>\n",
       "    </tr>\n",
       "  </tbody>\n",
       "</table>\n",
       "</div>"
      ],
      "text/plain": [
       "   a     b     c         d                                      e\n",
       "0  1  a\"a,  None  {'a': 2}  <function <lambda> at 0x7f23557cf400>"
      ]
     },
     "execution_count": 90,
     "metadata": {},
     "output_type": "execute_result"
    }
   ],
   "source": [
    "df"
   ]
  },
  {
   "cell_type": "code",
   "execution_count": 91,
   "metadata": {
    "ExecuteTime": {
     "end_time": "2021-04-18T04:05:58.982371Z",
     "start_time": "2021-04-18T04:05:58.962976Z"
    }
   },
   "outputs": [],
   "source": [
    "df.to_csv(\"./df_test.csv\", index=None)"
   ]
  },
  {
   "cell_type": "code",
   "execution_count": 82,
   "metadata": {
    "ExecuteTime": {
     "end_time": "2021-04-18T04:05:15.435459Z",
     "start_time": "2021-04-18T04:05:15.408889Z"
    }
   },
   "outputs": [],
   "source": [
    "def check_characters_inclusion(target_chars):\n",
    "    def check_characters_inclusion_(x):\n",
    "        set_x = set(str(x))\n",
    "        return { t: t in set_x for t in target_chars }\n",
    "    return check_characters_inclusion_\n",
    "\n",
    "target_chars = (\",\", \"\\t\")\n",
    "df_check = df.applymap(check_characters_inclusion(target_chars))\n",
    "char2inclusion = {}\n",
    "for char in target_chars:\n",
    "    df_ = df_check.applymap(lambda x: x[char])\n",
    "    char2inclusion.update({ char: df_.any(axis=0).any() })"
   ]
  },
  {
   "cell_type": "code",
   "execution_count": 92,
   "metadata": {
    "ExecuteTime": {
     "end_time": "2021-04-18T04:06:00.028058Z",
     "start_time": "2021-04-18T04:06:00.013058Z"
    }
   },
   "outputs": [
    {
     "data": {
      "text/plain": [
       "{',': False, '\\t': False}"
      ]
     },
     "execution_count": 92,
     "metadata": {},
     "output_type": "execute_result"
    }
   ],
   "source": [
    "char2inclusion"
   ]
  },
  {
   "cell_type": "code",
   "execution_count": 93,
   "metadata": {
    "ExecuteTime": {
     "end_time": "2021-04-18T04:06:00.821450Z",
     "start_time": "2021-04-18T04:06:00.775844Z"
    }
   },
   "outputs": [
    {
     "data": {
      "text/plain": [
       "',a,b,c,d,e\\n0,1,\"a\"\"a,\",,{\\'a\\': 2},<function <lambda> at 0x7f23557cf400>\\n'"
      ]
     },
     "execution_count": 93,
     "metadata": {},
     "output_type": "execute_result"
    }
   ],
   "source": [
    "df.to_csv()"
   ]
  },
  {
   "cell_type": "code",
   "execution_count": 94,
   "metadata": {
    "ExecuteTime": {
     "end_time": "2021-04-18T04:06:06.727644Z",
     "start_time": "2021-04-18T04:06:06.598114Z"
    }
   },
   "outputs": [
    {
     "name": "stdout",
     "output_type": "stream",
     "text": [
      "a,b,c,d,e\r\n",
      "1,\"a\"\"a,\",,{'a': 2},<function <lambda> at 0x7f23557cf400>\r\n"
     ]
    }
   ],
   "source": [
    "!cat ./df_test.csv"
   ]
  },
  {
   "cell_type": "code",
   "execution_count": 95,
   "metadata": {
    "ExecuteTime": {
     "end_time": "2021-04-18T04:06:15.413163Z",
     "start_time": "2021-04-18T04:06:15.345973Z"
    }
   },
   "outputs": [],
   "source": [
    "df2 = pd.read_csv(\"./df_test.csv\")"
   ]
  },
  {
   "cell_type": "code",
   "execution_count": 96,
   "metadata": {
    "ExecuteTime": {
     "end_time": "2021-04-18T04:06:18.600478Z",
     "start_time": "2021-04-18T04:06:18.540055Z"
    }
   },
   "outputs": [
    {
     "data": {
      "text/html": [
       "<div>\n",
       "<style scoped>\n",
       "    .dataframe tbody tr th:only-of-type {\n",
       "        vertical-align: middle;\n",
       "    }\n",
       "\n",
       "    .dataframe tbody tr th {\n",
       "        vertical-align: top;\n",
       "    }\n",
       "\n",
       "    .dataframe thead th {\n",
       "        text-align: right;\n",
       "    }\n",
       "</style>\n",
       "<table border=\"1\" class=\"dataframe\">\n",
       "  <thead>\n",
       "    <tr style=\"text-align: right;\">\n",
       "      <th></th>\n",
       "      <th>a</th>\n",
       "      <th>b</th>\n",
       "      <th>c</th>\n",
       "      <th>d</th>\n",
       "      <th>e</th>\n",
       "    </tr>\n",
       "  </thead>\n",
       "  <tbody>\n",
       "    <tr>\n",
       "      <td>0</td>\n",
       "      <td>1</td>\n",
       "      <td>a\"a,</td>\n",
       "      <td>NaN</td>\n",
       "      <td>{'a': 2}</td>\n",
       "      <td>&lt;function &lt;lambda&gt; at 0x7f23557cf400&gt;</td>\n",
       "    </tr>\n",
       "  </tbody>\n",
       "</table>\n",
       "</div>"
      ],
      "text/plain": [
       "   a     b   c         d                                      e\n",
       "0  1  a\"a, NaN  {'a': 2}  <function <lambda> at 0x7f23557cf400>"
      ]
     },
     "execution_count": 96,
     "metadata": {},
     "output_type": "execute_result"
    }
   ],
   "source": [
    "df2"
   ]
  },
  {
   "cell_type": "code",
   "execution_count": 69,
   "metadata": {
    "ExecuteTime": {
     "end_time": "2021-04-18T03:56:36.620792Z",
     "start_time": "2021-04-18T03:56:36.596630Z"
    }
   },
   "outputs": [
    {
     "data": {
      "text/plain": [
       "str"
      ]
     },
     "execution_count": 69,
     "metadata": {},
     "output_type": "execute_result"
    }
   ],
   "source": [
    "type(df2[\"e\"].iloc[0])"
   ]
  },
  {
   "cell_type": "code",
   "execution_count": null,
   "metadata": {},
   "outputs": [],
   "source": []
  },
  {
   "cell_type": "code",
   "execution_count": 61,
   "metadata": {
    "ExecuteTime": {
     "end_time": "2021-04-18T03:55:18.892998Z",
     "start_time": "2021-04-18T03:55:18.868670Z"
    }
   },
   "outputs": [
    {
     "data": {
      "text/plain": [
       "a     int64\n",
       "b    object\n",
       "c    object\n",
       "d    object\n",
       "e    object\n",
       "dtype: object"
      ]
     },
     "execution_count": 61,
     "metadata": {},
     "output_type": "execute_result"
    }
   ],
   "source": [
    "df.dtypes"
   ]
  },
  {
   "cell_type": "code",
   "execution_count": null,
   "metadata": {},
   "outputs": [],
   "source": [
    "generate_params_write\n",
    "def check_csv_or_tsv(df, pd.DataFrame):# pd.Series\n",
    "    for "
   ]
  },
  {
   "cell_type": "code",
   "execution_count": null,
   "metadata": {},
   "outputs": [],
   "source": []
  },
  {
   "cell_type": "markdown",
   "metadata": {},
   "source": [
    "### backup"
   ]
  },
  {
   "cell_type": "code",
   "execution_count": 199,
   "metadata": {
    "ExecuteTime": {
     "end_time": "2021-04-02T23:30:39.978471Z",
     "start_time": "2021-04-02T23:30:39.974915Z"
    }
   },
   "outputs": [],
   "source": [
    "import io"
   ]
  },
  {
   "cell_type": "code",
   "execution_count": 208,
   "metadata": {
    "ExecuteTime": {
     "end_time": "2021-04-02T23:31:55.817911Z",
     "start_time": "2021-04-02T23:31:55.802426Z"
    }
   },
   "outputs": [
    {
     "data": {
      "text/plain": [
       "_io.TextIOWrapper"
      ]
     },
     "execution_count": 208,
     "metadata": {},
     "output_type": "execute_result"
    }
   ],
   "source": [
    "f = open(\"./tmp.csv\", \"r\")\n",
    "type(f)"
   ]
  },
  {
   "cell_type": "code",
   "execution_count": 209,
   "metadata": {
    "ExecuteTime": {
     "end_time": "2021-04-02T23:31:55.955757Z",
     "start_time": "2021-04-02T23:31:55.950059Z"
    }
   },
   "outputs": [
    {
     "data": {
      "text/plain": [
       "True"
      ]
     },
     "execution_count": 209,
     "metadata": {},
     "output_type": "execute_result"
    }
   ],
   "source": [
    "isinstance(f, io.TextIOWrapper)"
   ]
  },
  {
   "cell_type": "code",
   "execution_count": 210,
   "metadata": {
    "ExecuteTime": {
     "end_time": "2021-04-02T23:31:56.962247Z",
     "start_time": "2021-04-02T23:31:56.951024Z"
    }
   },
   "outputs": [],
   "source": [
    "f.close()"
   ]
  },
  {
   "cell_type": "code",
   "execution_count": 202,
   "metadata": {
    "ExecuteTime": {
     "end_time": "2021-04-02T23:30:59.331252Z",
     "start_time": "2021-04-02T23:30:59.327404Z"
    }
   },
   "outputs": [],
   "source": [
    "f = open(\"./tmp.csv\", \"rb\")"
   ]
  },
  {
   "cell_type": "code",
   "execution_count": 203,
   "metadata": {
    "ExecuteTime": {
     "end_time": "2021-04-02T23:31:01.332256Z",
     "start_time": "2021-04-02T23:31:01.326327Z"
    }
   },
   "outputs": [
    {
     "data": {
      "text/plain": [
       "_io.BufferedReader"
      ]
     },
     "execution_count": 203,
     "metadata": {},
     "output_type": "execute_result"
    }
   ],
   "source": [
    "type(f)"
   ]
  },
  {
   "cell_type": "code",
   "execution_count": 200,
   "metadata": {
    "ExecuteTime": {
     "end_time": "2021-04-02T23:30:50.044225Z",
     "start_time": "2021-04-02T23:30:50.033405Z"
    }
   },
   "outputs": [
    {
     "data": {
      "text/plain": [
       "True"
      ]
     },
     "execution_count": 200,
     "metadata": {},
     "output_type": "execute_result"
    }
   ],
   "source": [
    "isinstance(f, io.BufferedReader)"
   ]
  },
  {
   "cell_type": "code",
   "execution_count": 204,
   "metadata": {
    "ExecuteTime": {
     "end_time": "2021-04-02T23:31:43.355914Z",
     "start_time": "2021-04-02T23:31:43.352591Z"
    }
   },
   "outputs": [],
   "source": [
    "f.close()"
   ]
  },
  {
   "cell_type": "markdown",
   "metadata": {},
   "source": [
    "## Format"
   ]
  },
  {
   "cell_type": "markdown",
   "metadata": {},
   "source": [
    "### definition"
   ]
  },
  {
   "cell_type": "markdown",
   "metadata": {},
   "source": [
    "#### core"
   ]
  },
  {
   "cell_type": "markdown",
   "metadata": {},
   "source": [
    "abstractclassについては、nameをregisterしないようにできないか？"
   ]
  },
  {
   "cell_type": "code",
   "execution_count": 43,
   "metadata": {
    "ExecuteTime": {
     "end_time": "2022-05-11T18:33:46.400938Z",
     "start_time": "2022-05-11T18:33:46.374712Z"
    }
   },
   "outputs": [
    {
     "name": "stdout",
     "output_type": "stream",
     "text": [
      "Writing ./brane/core/format.py\n"
     ]
    }
   ],
   "source": [
    "%%writefile {FORMAT_PY}\n",
    "from __future__ import annotations"
   ]
  },
  {
   "cell_type": "code",
   "execution_count": 44,
   "metadata": {
    "ExecuteTime": {
     "end_time": "2022-05-11T18:33:48.248041Z",
     "start_time": "2022-05-11T18:33:47.999863Z"
    }
   },
   "outputs": [],
   "source": [
    "!echo '{generate_import(TYPE_PY, \"*\")}' >> {FORMAT_PY}\n",
    "!echo '{generate_import(BASE_PY, \"BaseSubclassRegister\")}' >> {FORMAT_PY}"
   ]
  },
  {
   "cell_type": "code",
   "execution_count": 45,
   "metadata": {
    "ExecuteTime": {
     "end_time": "2022-05-11T18:33:49.450839Z",
     "start_time": "2022-05-11T18:33:49.422178Z"
    }
   },
   "outputs": [
    {
     "name": "stdout",
     "output_type": "stream",
     "text": [
      "Appending to ./brane/core/format.py\n"
     ]
    }
   ],
   "source": [
    "%%writefile -a {FORMAT_PY}\n",
    "\n",
    "class MetaFormat(type):\n",
    "    def __new__(cls, classname, bases, class_info):\n",
    "        class_info[\"name\"] = class_info.get(\"default_extension\", None)\n",
    "        return type.__new__(cls, classname, bases, class_info)\n",
    "\n",
    "#class Format():\n",
    "class Format(FormatClassType, BaseSubclassRegister, metaclass=MetaFormat):\n",
    "    # Image, Text ...\n",
    "    data_type = None\n",
    "    # jpg, png, tsv,... (flexible/variable/dynamical)\n",
    "    default_extension = None\n",
    "    ## experimental attr & name\n",
    "    #module_read = None\n",
    "    ## experimental attr & name\n",
    "    #module_write = None\n",
    "    #\n",
    "    #def read(self, obj):\n",
    "    #    raise NotImplementedError\n",
    "    #\n",
    "    #def write(self, obj):\n",
    "    #    raise NotImplementedError\n",
    "    \n",
    "    # valid = True\n",
    "    \n",
    "    #_registered_subclasses = []\n",
    "    _registered_subclasses = {}#OrderedDict()\n",
    "    registered_formats = _registered_subclasses\n",
    "    # registered_formats = []\n",
    "    # def __init_subclass__(cls):\n",
    "    #     if cls.valid:\n",
    "    #         cls.registered_formats.append(cls)\n",
    "    #     # これだと継承クラス全体でregistered_moduleをシェア\n",
    "    \n",
    "    # valid for python >= 3.9\n",
    "    # [TODO]: remove metaclass and use the follwoing lines if python < 3.9 are forbidden\n",
    "    # @classmethod\n",
    "    # @property\n",
    "    # def name(cls):\n",
    "    #     return cls.default_extension"
   ]
  },
  {
   "cell_type": "code",
   "execution_count": 46,
   "metadata": {
    "ExecuteTime": {
     "end_time": "2022-05-11T18:33:50.343584Z",
     "start_time": "2022-05-11T18:33:50.200736Z"
    }
   },
   "outputs": [],
   "source": [
    "!echo '{generate_import(BASE_PY, \"MetaFalse\")}' >> {FORMAT_PY}"
   ]
  },
  {
   "cell_type": "code",
   "execution_count": 47,
   "metadata": {
    "ExecuteTime": {
     "end_time": "2022-05-11T18:33:50.521746Z",
     "start_time": "2022-05-11T18:33:50.483234Z"
    }
   },
   "outputs": [
    {
     "name": "stdout",
     "output_type": "stream",
     "text": [
      "Appending to ./brane/core/format.py\n"
     ]
    }
   ],
   "source": [
    "%%writefile -a {FORMAT_PY}\n",
    "class MetaNoneFormat(MetaFormat, MetaFalse):# [MEMO]: deprecated after removing MetaFormat\n",
    "    pass\n",
    "\n",
    "class NoneFormat(Format, metaclass=MetaNoneFormat):\n",
    "    valid = False"
   ]
  },
  {
   "cell_type": "markdown",
   "metadata": {},
   "source": [
    "#### libs"
   ]
  },
  {
   "cell_type": "code",
   "execution_count": 58,
   "metadata": {
    "ExecuteTime": {
     "end_time": "2022-05-11T18:35:35.008047Z",
     "start_time": "2022-05-11T18:35:34.994185Z"
    }
   },
   "outputs": [
    {
     "name": "stdout",
     "output_type": "stream",
     "text": [
      "Overwriting ./brane/libs/formats.py\n"
     ]
    }
   ],
   "source": [
    "%%writefile {LIB_FORMAT_PY}\n",
    "from __future__ import annotations"
   ]
  },
  {
   "cell_type": "code",
   "execution_count": 59,
   "metadata": {
    "ExecuteTime": {
     "end_time": "2022-05-11T18:35:35.397502Z",
     "start_time": "2022-05-11T18:35:35.269037Z"
    }
   },
   "outputs": [],
   "source": [
    "!echo '{generate_import(TYPE_PY, \"*\")}' >> {LIB_FORMAT_PY}"
   ]
  },
  {
   "cell_type": "code",
   "execution_count": 60,
   "metadata": {
    "ExecuteTime": {
     "end_time": "2022-05-11T18:35:35.978517Z",
     "start_time": "2022-05-11T18:35:35.957768Z"
    }
   },
   "outputs": [
    {
     "name": "stdout",
     "output_type": "stream",
     "text": [
      "Appending to ./brane/libs/formats.py\n"
     ]
    }
   ],
   "source": [
    "%%writefile -a {LIB_FORMAT_PY}\n",
    "class DataType():\n",
    "    pass\n",
    "\n",
    "class ImageType():\n",
    "    pass\n",
    "\n",
    "class TableType():\n",
    "    pass\n",
    "\n",
    "class ArrayType():# List\n",
    "    pass\n",
    "\n",
    "class CollectionType():# other data containers\n",
    "    pass\n",
    "\n",
    "class DictType():# Map\n",
    "    pass\n",
    "\n",
    "class TextType():\n",
    "    pass"
   ]
  },
  {
   "cell_type": "code",
   "execution_count": 61,
   "metadata": {
    "ExecuteTime": {
     "end_time": "2022-05-11T18:35:36.702915Z",
     "start_time": "2022-05-11T18:35:36.461817Z"
    }
   },
   "outputs": [],
   "source": [
    "!echo '{generate_import(FORMAT_PY, \"Format\")}' >> {LIB_FORMAT_PY}\n",
    "!echo '{generate_import(LIB_MODULE_PY, \"PILModule, PandasModule, JsonModule\")}' >> {LIB_FORMAT_PY}"
   ]
  },
  {
   "cell_type": "code",
   "execution_count": 62,
   "metadata": {
    "ExecuteTime": {
     "end_time": "2022-05-11T18:35:38.358257Z",
     "start_time": "2022-05-11T18:35:38.328768Z"
    }
   },
   "outputs": [
    {
     "name": "stdout",
     "output_type": "stream",
     "text": [
      "Appending to ./brane/libs/formats.py\n"
     ]
    }
   ],
   "source": [
    "%%writefile -a {LIB_FORMAT_PY}\n",
    "\n",
    "# temporal (Data ? Format ?)\n",
    "class JPEGFormat(Format):\n",
    "    data_type = ImageType\n",
    "    default_extension = \"jpg\"\n",
    "    #module_read = PILImage\n",
    "    #module_write = PILImage\n",
    "    #read = PILModule.read### exp\n",
    "    module = PILModule### exp\n",
    "\n",
    "#class PNGFormat(Format):\n",
    "#    data_type = ImageType\n",
    "#    default_extension = \"png\"\n",
    "#    read = PILModule.read### exp\n",
    "\n",
    "class TSVFormat(Format):\n",
    "    data_type = TableType\n",
    "    default_extension = \"tsv\"\n",
    "    #read = PandasModule.read### exp\n",
    "    module = PandasModule### exp\n",
    "\n",
    "class CSVFormat(Format):\n",
    "    data_type = TableType\n",
    "    default_extension = \"csv\"\n",
    "    #read = PandasModule.read### exp\n",
    "    module = PandasModule### exp"
   ]
  },
  {
   "cell_type": "code",
   "execution_count": 63,
   "metadata": {
    "ExecuteTime": {
     "end_time": "2022-05-11T18:35:38.721849Z",
     "start_time": "2022-05-11T18:35:38.701707Z"
    }
   },
   "outputs": [
    {
     "name": "stdout",
     "output_type": "stream",
     "text": [
      "Appending to ./brane/libs/formats.py\n"
     ]
    }
   ],
   "source": [
    "%%writefile -a {LIB_FORMAT_PY}\n",
    "attributes = dict(\n",
    "    data_type = ImageType,\n",
    "    default_extension = \"png\",\n",
    "    #read = PILModule.read### exp\n",
    "    module = PILModule### exp\n",
    ")\n",
    "PNGFormat = type(\"PNGFormat\", (Format, ), attributes)\n",
    "\n",
    "attributes = dict(\n",
    "    data_type = DictType,\n",
    "    default_extension = \"json\",\n",
    "    #read = PILModule.read### exp\n",
    "    module = JsonModule### exp\n",
    ")\n",
    "JsonFormat = type(\"JsonFormat\", (Format, ), attributes)"
   ]
  },
  {
   "cell_type": "markdown",
   "metadata": {},
   "source": [
    "### test"
   ]
  },
  {
   "cell_type": "code",
   "execution_count": 64,
   "metadata": {
    "ExecuteTime": {
     "end_time": "2022-05-11T18:35:40.243612Z",
     "start_time": "2022-05-11T18:35:40.222565Z"
    }
   },
   "outputs": [],
   "source": [
    "from brane.core.format import Format"
   ]
  },
  {
   "cell_type": "code",
   "execution_count": 65,
   "metadata": {
    "ExecuteTime": {
     "end_time": "2022-05-11T18:35:40.519808Z",
     "start_time": "2022-05-11T18:35:40.496927Z"
    }
   },
   "outputs": [
    {
     "data": {
      "text/plain": [
       "{None: brane.core.format.Format}"
      ]
     },
     "execution_count": 65,
     "metadata": {},
     "output_type": "execute_result"
    }
   ],
   "source": [
    "Format.registered_formats"
   ]
  },
  {
   "cell_type": "code",
   "execution_count": 66,
   "metadata": {
    "ExecuteTime": {
     "end_time": "2022-05-11T18:35:40.787539Z",
     "start_time": "2022-05-11T18:35:40.761732Z"
    }
   },
   "outputs": [
    {
     "name": "stdout",
     "output_type": "stream",
     "text": [
      "[DEBUG]: register cls.name = jpg, cls = <class 'brane.libs.formats.JPEGFormat'>\n",
      "[DEBUG]: register cls.name = tsv, cls = <class 'brane.libs.formats.TSVFormat'>\n",
      "[DEBUG]: register cls.name = csv, cls = <class 'brane.libs.formats.CSVFormat'>\n",
      "[DEBUG]: register cls.name = png, cls = <class 'brane.core.format.PNGFormat'>\n",
      "[DEBUG]: register cls.name = json, cls = <class 'brane.core.format.JsonFormat'>\n"
     ]
    }
   ],
   "source": [
    "from brane.libs.formats import PNGFormat"
   ]
  },
  {
   "cell_type": "code",
   "execution_count": 67,
   "metadata": {
    "ExecuteTime": {
     "end_time": "2022-05-11T18:35:41.037604Z",
     "start_time": "2022-05-11T18:35:41.022739Z"
    }
   },
   "outputs": [
    {
     "data": {
      "text/plain": [
       "{None: brane.core.format.Format,\n",
       " 'jpg': brane.libs.formats.JPEGFormat,\n",
       " 'tsv': brane.libs.formats.TSVFormat,\n",
       " 'csv': brane.libs.formats.CSVFormat,\n",
       " 'png': brane.core.format.PNGFormat,\n",
       " 'json': brane.core.format.JsonFormat}"
      ]
     },
     "execution_count": 67,
     "metadata": {},
     "output_type": "execute_result"
    }
   ],
   "source": [
    "Format.registered_formats"
   ]
  },
  {
   "cell_type": "markdown",
   "metadata": {},
   "source": [
    "### working"
   ]
  },
  {
   "cell_type": "code",
   "execution_count": 42,
   "metadata": {
    "ExecuteTime": {
     "end_time": "2022-05-04T15:16:26.507796Z",
     "start_time": "2022-05-04T15:16:26.435289Z"
    }
   },
   "outputs": [
    {
     "data": {
      "text/plain": [
       "{None: src.format.Format}"
      ]
     },
     "execution_count": 42,
     "metadata": {},
     "output_type": "execute_result"
    }
   ],
   "source": [
    "Format.registered_formats"
   ]
  },
  {
   "cell_type": "code",
   "execution_count": null,
   "metadata": {
    "ExecuteTime": {
     "end_time": "2021-03-30T15:04:08.367208Z",
     "start_time": "2021-03-30T15:04:08.354412Z"
    }
   },
   "outputs": [],
   "source": [
    "assert False\n",
    "alpha = {\n",
    "    \"jpg\": JPEGFormat,\n",
    "    \"jpeg\": JPEGFormat,\n",
    "    \"png\": PNGFormat,\n",
    "    \"tsv\": TSVFormat,\n",
    "    \"csv\": CSVFormat,\n",
    "}\n",
    "\n",
    "# consider case \"JPEG\", \"CSV\"..."
   ]
  },
  {
   "cell_type": "code",
   "execution_count": 38,
   "metadata": {
    "ExecuteTime": {
     "end_time": "2021-04-01T15:34:48.529055Z",
     "start_time": "2021-04-01T15:34:48.520311Z"
    }
   },
   "outputs": [
    {
     "data": {
      "text/plain": [
       "[__main__.Format,\n",
       " __main__.JPEGFormat,\n",
       " __main__.TSVFormat,\n",
       " __main__.CSVFormat,\n",
       " __main__.PNGFormat,\n",
       " __main__.PNGFormat]"
      ]
     },
     "execution_count": 38,
     "metadata": {},
     "output_type": "execute_result"
    }
   ],
   "source": [
    "Format.registered_formats"
   ]
  },
  {
   "cell_type": "markdown",
   "metadata": {},
   "source": [
    "## Objects"
   ]
  },
  {
   "cell_type": "markdown",
   "metadata": {},
   "source": [
    "### definition"
   ]
  },
  {
   "cell_type": "markdown",
   "metadata": {},
   "source": [
    "#### core"
   ]
  },
  {
   "cell_type": "code",
   "execution_count": 68,
   "metadata": {
    "ExecuteTime": {
     "end_time": "2022-05-11T18:35:45.669505Z",
     "start_time": "2022-05-11T18:35:45.642020Z"
    }
   },
   "outputs": [
    {
     "name": "stdout",
     "output_type": "stream",
     "text": [
      "Writing ./brane/core/object.py\n"
     ]
    }
   ],
   "source": [
    "%%writefile {OBJECT_PY}\n",
    "from __future__ import annotations"
   ]
  },
  {
   "cell_type": "code",
   "execution_count": 69,
   "metadata": {
    "ExecuteTime": {
     "end_time": "2022-05-11T18:35:46.361458Z",
     "start_time": "2022-05-11T18:35:46.097729Z"
    }
   },
   "outputs": [],
   "source": [
    "!echo '{generate_import(TYPE_PY, \"*\")}' >> {OBJECT_PY}\n",
    "!echo '{generate_import(BASE_PY, \"BaseSubclassRegister\")}' >> {OBJECT_PY}"
   ]
  },
  {
   "cell_type": "code",
   "execution_count": 70,
   "metadata": {
    "ExecuteTime": {
     "end_time": "2022-05-11T18:35:46.702614Z",
     "start_time": "2022-05-11T18:35:46.682495Z"
    }
   },
   "outputs": [
    {
     "name": "stdout",
     "output_type": "stream",
     "text": [
      "Appending to ./brane/core/object.py\n"
     ]
    }
   ],
   "source": [
    "%%writefile -a {OBJECT_PY}\n",
    "\n",
    "class MetaObject(type):\n",
    "    def __new__(cls, classname, bases, class_info):\n",
    "        #print(f\"[DEBUG]: @MetaObject, cls={cls}, classname={classname} bases={bases}, class_info={class_info}\")\n",
    "        class_info[\"name\"] = classname#class_info.get(\"__name__\", None)\n",
    "        return type.__new__(cls, classname, bases, class_info)\n",
    "\n",
    "    @property\n",
    "    def object(cls):\n",
    "        cls.load_objects()\n",
    "        print(\"@Meta:\", cls)\n",
    "        return cls.object_type\n",
    "\n",
    "class Object(ObjectClassType, BaseSubclassRegister, metaclass=MetaObject):\n",
    "    # required\n",
    "    format = None\n",
    "    module = None\n",
    "    # registered_objects が自身を含むため、仮で設定 (定義しておかないと、get_module_from_objectで、Object.objectにアクセスしようとして怒られてしまう)\n",
    "    object_type = type### temporal\n",
    "    \n",
    "    # optional\n",
    "    type_evaluation = None\n",
    "    format_checker = None\n",
    "    module_checker = None\n",
    "\n",
    "    _registered_subclasses = {}#[]\n",
    "    registered_objects = _registered_subclasses\n",
    "\n",
    "    #  valid = True\n",
    "    #  registered_objects = []\n",
    "    #  def __init_subclass__(cls):\n",
    "    #      if valid:\n",
    "    #          cls.registered_objects.append(cls)\n",
    "    \n",
    "    @classmethod\n",
    "    def load_objects(cls):\n",
    "        pass\n",
    "        #raise NotImplementedError\n",
    "    \n",
    "    #@property\n",
    "    #def name(cls):\n",
    "    #    return cls.__name__\n",
    "    #    #return str(cls.module.object)"
   ]
  },
  {
   "cell_type": "markdown",
   "metadata": {},
   "source": [
    "#### libs"
   ]
  },
  {
   "cell_type": "code",
   "execution_count": 71,
   "metadata": {
    "ExecuteTime": {
     "end_time": "2022-05-11T18:35:48.754931Z",
     "start_time": "2022-05-11T18:35:48.738895Z"
    },
    "scrolled": true
   },
   "outputs": [
    {
     "name": "stdout",
     "output_type": "stream",
     "text": [
      "Writing ./brane/libs/objects.py\n"
     ]
    }
   ],
   "source": [
    "%%writefile {LIB_OBJECT_PY}\n",
    "from __future__ import annotations"
   ]
  },
  {
   "cell_type": "code",
   "execution_count": 72,
   "metadata": {
    "ExecuteTime": {
     "end_time": "2022-05-11T18:35:56.318991Z",
     "start_time": "2022-05-11T18:35:55.820100Z"
    }
   },
   "outputs": [],
   "source": [
    "!echo '{generate_import(TYPE_PY, \"*\")}' >> {LIB_OBJECT_PY}\n",
    "!echo '{generate_import(OBJECT_PY, \"Object\")}' >> {LIB_OBJECT_PY}\n",
    "!echo '{generate_import(LIB_MODULE_PY, \"PILModule, PandasModule, JsonModule\")}' >> {LIB_OBJECT_PY}\n",
    "!echo '{generate_import(LIB_FORMAT_PY, \"JPEGFormat, PNGFormat, CSVFormat, JsonFormat\")}' >> {LIB_OBJECT_PY}"
   ]
  },
  {
   "cell_type": "code",
   "execution_count": 73,
   "metadata": {
    "ExecuteTime": {
     "end_time": "2022-05-11T18:35:57.609828Z",
     "start_time": "2022-05-11T18:35:57.583392Z"
    }
   },
   "outputs": [
    {
     "name": "stdout",
     "output_type": "stream",
     "text": [
      "Appending to ./brane/libs/objects.py\n"
     ]
    }
   ],
   "source": [
    "%%writefile -a {LIB_OBJECT_PY}\n",
    "\n",
    "class PIL_Image_Object(Object):\n",
    "    format = JPEGFormat\n",
    "    module = PILModule\n",
    "    #write = PILModule.write\n",
    "\n",
    "    @classmethod\n",
    "    def load_objects(cls):\n",
    "        from PIL import Image as PILImage\n",
    "        cls.object_type = PILImage.Image\n",
    "\n",
    "class PIL_JPEG_Object(Object):\n",
    "    format = JPEGFormat\n",
    "    module = PILModule\n",
    "    #write = PILModule.write\n",
    "\n",
    "    @classmethod\n",
    "    def load_objects(cls):\n",
    "        from PIL import JpegImagePlugin\n",
    "        cls.object_type = JpegImagePlugin.JpegImageFile\n",
    "\n",
    "class PIL_PNG_Object(Object):\n",
    "    format = PNGFormat###\n",
    "    module = PILModule\n",
    "    #write = PILModule.write\n",
    "\n",
    "    @classmethod\n",
    "    def load_objects(cls):\n",
    "        from PIL import PngImagePlugin\n",
    "        cls.object_type = PngImagePlugin.PngImageFile\n",
    "\n",
    "class Pandas_DataFrame_Object(Object):\n",
    "    type_evaluation = \"isinstance\"### temporal name and value\n",
    "    format_checker = lambda obj: CSVFormat\n",
    "    module_checker = lambda obj, fmt: PandasModule\n",
    "\n",
    "    @classmethod\n",
    "    def load_objects(cls):\n",
    "        import pandas as pd\n",
    "        cls.object_type = pd.DataFrame\n",
    "\n",
    "class Json_Json_Object(Object):\n",
    "    format = JsonFormat\n",
    "    module = JsonModule\n",
    "\n",
    "    @classmethod\n",
    "    def load_objects(cls):\n",
    "        cls.object_type = dict"
   ]
  },
  {
   "cell_type": "markdown",
   "metadata": {},
   "source": [
    "### test"
   ]
  },
  {
   "cell_type": "code",
   "execution_count": 76,
   "metadata": {
    "ExecuteTime": {
     "end_time": "2022-05-11T18:36:06.338485Z",
     "start_time": "2022-05-11T18:36:06.313161Z"
    },
    "scrolled": true
   },
   "outputs": [
    {
     "name": "stdout",
     "output_type": "stream",
     "text": [
      "[DEBUG]: register cls.name = Object, cls = <class 'brane.core.object.Object'>\n"
     ]
    }
   ],
   "source": [
    "from brane.core.object import Object"
   ]
  },
  {
   "cell_type": "code",
   "execution_count": 77,
   "metadata": {
    "ExecuteTime": {
     "end_time": "2022-05-11T18:36:06.603077Z",
     "start_time": "2022-05-11T18:36:06.586196Z"
    }
   },
   "outputs": [
    {
     "data": {
      "text/plain": [
       "{'Object': brane.core.object.Object}"
      ]
     },
     "execution_count": 77,
     "metadata": {},
     "output_type": "execute_result"
    }
   ],
   "source": [
    "Object.registered_objects"
   ]
  },
  {
   "cell_type": "code",
   "execution_count": 78,
   "metadata": {
    "ExecuteTime": {
     "end_time": "2022-05-11T18:36:12.799391Z",
     "start_time": "2022-05-11T18:36:12.782638Z"
    }
   },
   "outputs": [
    {
     "name": "stdout",
     "output_type": "stream",
     "text": [
      "[DEBUG]: register cls.name = PIL_Image_Object, cls = <class 'brane.libs.objects.PIL_Image_Object'>\n",
      "[DEBUG]: register cls.name = PIL_JPEG_Object, cls = <class 'brane.libs.objects.PIL_JPEG_Object'>\n",
      "[DEBUG]: register cls.name = PIL_PNG_Object, cls = <class 'brane.libs.objects.PIL_PNG_Object'>\n",
      "[DEBUG]: register cls.name = Pandas_DataFrame_Object, cls = <class 'brane.libs.objects.Pandas_DataFrame_Object'>\n",
      "[DEBUG]: register cls.name = Json_Json_Object, cls = <class 'brane.libs.objects.Json_Json_Object'>\n"
     ]
    }
   ],
   "source": [
    "from brane.libs.objects import Pandas_DataFrame_Object"
   ]
  },
  {
   "cell_type": "code",
   "execution_count": 79,
   "metadata": {
    "ExecuteTime": {
     "end_time": "2022-05-11T18:36:13.199542Z",
     "start_time": "2022-05-11T18:36:13.167938Z"
    }
   },
   "outputs": [
    {
     "data": {
      "text/plain": [
       "{'Object': brane.core.object.Object,\n",
       " 'PIL_Image_Object': brane.libs.objects.PIL_Image_Object,\n",
       " 'PIL_JPEG_Object': brane.libs.objects.PIL_JPEG_Object,\n",
       " 'PIL_PNG_Object': brane.libs.objects.PIL_PNG_Object,\n",
       " 'Pandas_DataFrame_Object': brane.libs.objects.Pandas_DataFrame_Object,\n",
       " 'Json_Json_Object': brane.libs.objects.Json_Json_Object}"
      ]
     },
     "execution_count": 79,
     "metadata": {},
     "output_type": "execute_result"
    }
   ],
   "source": [
    "Object.registered_objects"
   ]
  },
  {
   "cell_type": "code",
   "execution_count": 80,
   "metadata": {
    "ExecuteTime": {
     "end_time": "2022-05-11T18:36:13.976182Z",
     "start_time": "2022-05-11T18:36:13.948310Z"
    }
   },
   "outputs": [
    {
     "data": {
      "text/plain": [
       "'Pandas_DataFrame_Object'"
      ]
     },
     "execution_count": 80,
     "metadata": {},
     "output_type": "execute_result"
    }
   ],
   "source": [
    "Pandas_DataFrame_Object.name"
   ]
  },
  {
   "cell_type": "code",
   "execution_count": 81,
   "metadata": {
    "ExecuteTime": {
     "end_time": "2022-05-11T18:36:14.923734Z",
     "start_time": "2022-05-11T18:36:14.368971Z"
    }
   },
   "outputs": [
    {
     "name": "stdout",
     "output_type": "stream",
     "text": [
      "@Meta: <class 'brane.libs.objects.Pandas_DataFrame_Object'>\n"
     ]
    },
    {
     "data": {
      "text/plain": [
       "(type, pandas.core.frame.DataFrame)"
      ]
     },
     "execution_count": 81,
     "metadata": {},
     "output_type": "execute_result"
    }
   ],
   "source": [
    "Pandas_DataFrame_Object.object_type, Pandas_DataFrame_Object.object"
   ]
  },
  {
   "cell_type": "code",
   "execution_count": 82,
   "metadata": {
    "ExecuteTime": {
     "end_time": "2022-05-11T18:36:14.941993Z",
     "start_time": "2022-05-11T18:36:14.925970Z"
    }
   },
   "outputs": [
    {
     "data": {
      "text/plain": [
       "pandas.core.frame.DataFrame"
      ]
     },
     "execution_count": 82,
     "metadata": {},
     "output_type": "execute_result"
    }
   ],
   "source": [
    "Pandas_DataFrame_Object.object_type"
   ]
  },
  {
   "cell_type": "code",
   "execution_count": null,
   "metadata": {},
   "outputs": [],
   "source": []
  },
  {
   "cell_type": "markdown",
   "metadata": {},
   "source": [
    "### working"
   ]
  },
  {
   "cell_type": "code",
   "execution_count": 20,
   "metadata": {
    "ExecuteTime": {
     "end_time": "2021-04-18T14:50:32.609970Z",
     "start_time": "2021-04-18T14:50:32.185658Z"
    }
   },
   "outputs": [],
   "source": [
    "import pandas as pd"
   ]
  },
  {
   "cell_type": "code",
   "execution_count": 53,
   "metadata": {
    "ExecuteTime": {
     "end_time": "2021-04-14T14:02:19.878348Z",
     "start_time": "2021-04-14T14:02:19.865886Z"
    },
    "scrolled": true
   },
   "outputs": [
    {
     "data": {
      "text/plain": [
       "-9223366138773035044"
      ]
     },
     "execution_count": 53,
     "metadata": {},
     "output_type": "execute_result"
    }
   ],
   "source": [
    "hash(type(obj))"
   ]
  },
  {
   "cell_type": "code",
   "execution_count": null,
   "metadata": {},
   "outputs": [],
   "source": []
  },
  {
   "cell_type": "code",
   "execution_count": 53,
   "metadata": {
    "ExecuteTime": {
     "end_time": "2021-04-01T15:38:47.641057Z",
     "start_time": "2021-04-01T15:38:47.623881Z"
    }
   },
   "outputs": [
    {
     "data": {
      "text/plain": [
       "[__main__.Object,\n",
       " __main__.PIL_JPEG_Object,\n",
       " __main__.PIL_PNG_Object,\n",
       " __main__.Pandas_DataFrame_Object]"
      ]
     },
     "execution_count": 53,
     "metadata": {},
     "output_type": "execute_result"
    }
   ],
   "source": [
    "Object.registered_objects"
   ]
  },
  {
   "cell_type": "code",
   "execution_count": 115,
   "metadata": {
    "ExecuteTime": {
     "end_time": "2021-04-01T15:59:22.848505Z",
     "start_time": "2021-04-01T15:59:22.829245Z"
    }
   },
   "outputs": [
    {
     "data": {
      "text/plain": [
       "__main__.PandasModule"
      ]
     },
     "execution_count": 115,
     "metadata": {},
     "output_type": "execute_result"
    }
   ],
   "source": [
    "obj = pd.DataFrame([{\"a\":1, \"b\":-1}, {\"a\":2, \"b\":4}, {\"a\":6, \"b\":0}])\n",
    "module = get_module_from_object(obj)\n",
    "module"
   ]
  },
  {
   "cell_type": "code",
   "execution_count": 116,
   "metadata": {
    "ExecuteTime": {
     "end_time": "2021-04-01T15:59:23.377774Z",
     "start_time": "2021-04-01T15:59:23.360258Z"
    }
   },
   "outputs": [
    {
     "data": {
      "text/plain": [
       "True"
      ]
     },
     "execution_count": 116,
     "metadata": {},
     "output_type": "execute_result"
    }
   ],
   "source": [
    "module.write(obj, \"tmp.csv\")"
   ]
  },
  {
   "cell_type": "code",
   "execution_count": 117,
   "metadata": {
    "ExecuteTime": {
     "end_time": "2021-04-01T15:59:24.104799Z",
     "start_time": "2021-04-01T15:59:23.981921Z"
    }
   },
   "outputs": [
    {
     "name": "stdout",
     "output_type": "stream",
     "text": [
      "a,b\r\n",
      "1,-1\r\n",
      "2,4\r\n",
      "6,0\r\n"
     ]
    }
   ],
   "source": [
    "!cat tmp.csv"
   ]
  },
  {
   "cell_type": "code",
   "execution_count": 189,
   "metadata": {
    "ExecuteTime": {
     "end_time": "2021-03-31T16:01:01.085040Z",
     "start_time": "2021-03-31T16:01:01.079878Z"
    }
   },
   "outputs": [
    {
     "data": {
      "text/plain": [
       "__main__.CSVFormat"
      ]
     },
     "execution_count": 189,
     "metadata": {},
     "output_type": "execute_result"
    }
   ],
   "source": [
    "fmt"
   ]
  },
  {
   "cell_type": "code",
   "execution_count": 190,
   "metadata": {
    "ExecuteTime": {
     "end_time": "2021-03-31T16:01:07.047018Z",
     "start_time": "2021-03-31T16:01:07.036653Z"
    }
   },
   "outputs": [
    {
     "data": {
      "text/plain": [
       "'csv'"
      ]
     },
     "execution_count": 190,
     "metadata": {},
     "output_type": "execute_result"
    }
   ],
   "source": [
    "fmt.default_extension"
   ]
  },
  {
   "cell_type": "code",
   "execution_count": null,
   "metadata": {},
   "outputs": [],
   "source": []
  },
  {
   "cell_type": "code",
   "execution_count": 16,
   "metadata": {
    "ExecuteTime": {
     "end_time": "2021-03-31T01:10:15.514857Z",
     "start_time": "2021-03-31T01:10:15.511898Z"
    }
   },
   "outputs": [],
   "source": [
    "eta = {\n",
    "    JpegImagePlugin.JpegImageFile: PILModule,\n",
    "    PngImagePlugin: PILModule,\n",
    "    pd.DataFrame: PandasModule,\n",
    "}"
   ]
  },
  {
   "cell_type": "markdown",
   "metadata": {},
   "source": [
    "## Extension\n",
    "* depends on Format"
   ]
  },
  {
   "cell_type": "code",
   "execution_count": 19,
   "metadata": {
    "ExecuteTime": {
     "end_time": "2021-04-14T13:51:20.202694Z",
     "start_time": "2021-04-14T13:51:20.193548Z"
    },
    "scrolled": false
   },
   "outputs": [
    {
     "data": {
      "text/plain": [
       "{None: __main__.Format,\n",
       " 'jpg': __main__.JPEGFormat,\n",
       " 'tsv': __main__.TSVFormat,\n",
       " 'csv': __main__.CSVFormat,\n",
       " 'png': __main__.PNGFormat}"
      ]
     },
     "execution_count": 19,
     "metadata": {},
     "output_type": "execute_result"
    }
   ],
   "source": [
    "ext2format = { format.default_extension: format for format in Format.registered_formats }\n",
    "ext2format"
   ]
  },
  {
   "cell_type": "markdown",
   "metadata": {},
   "source": [
    "### definition"
   ]
  },
  {
   "cell_type": "markdown",
   "metadata": {},
   "source": [
    "#### core"
   ]
  },
  {
   "cell_type": "markdown",
   "metadata": {},
   "source": [
    "NormalExtension2FormatをMapperに移すべき？ただし安直にやると循環参照になる"
   ]
  },
  {
   "cell_type": "code",
   "execution_count": 97,
   "metadata": {
    "ExecuteTime": {
     "end_time": "2022-05-11T18:37:28.620062Z",
     "start_time": "2022-05-11T18:37:28.598095Z"
    }
   },
   "outputs": [
    {
     "name": "stdout",
     "output_type": "stream",
     "text": [
      "Overwriting ./brane/core/extension.py\n"
     ]
    }
   ],
   "source": [
    "%%writefile {EXTENSION_PY}\n",
    "from __future__ import annotations"
   ]
  },
  {
   "cell_type": "code",
   "execution_count": 98,
   "metadata": {
    "ExecuteTime": {
     "end_time": "2022-05-11T18:37:29.179337Z",
     "start_time": "2022-05-11T18:37:28.911695Z"
    }
   },
   "outputs": [],
   "source": [
    "!echo '{generate_import(TYPE_PY, \"*\")}' >> {EXTENSION_PY}\n",
    "!echo '{generate_import(FORMAT_PY, \"Format\")}' >> {EXTENSION_PY}"
   ]
  },
  {
   "cell_type": "code",
   "execution_count": 99,
   "metadata": {
    "ExecuteTime": {
     "end_time": "2022-05-11T18:37:29.240233Z",
     "start_time": "2022-05-11T18:37:29.205072Z"
    },
    "code_folding": []
   },
   "outputs": [
    {
     "name": "stdout",
     "output_type": "stream",
     "text": [
      "Appending to ./brane/core/extension.py\n"
     ]
    }
   ],
   "source": [
    "%%writefile -a {EXTENSION_PY}\n",
    "# class-dependency: Format\n",
    "\n",
    "class NormalExtension2Format:\n",
    "    ext2format = { format.default_extension: format for _, format in Format.registered_formats.items() }\n",
    "\n",
    "    @classmethod\n",
    "    def get_format_from_normalized_extension(cls, ext_name):\n",
    "        # dynamically generated\n",
    "        ext2format_dyn = { format.default_extension: format for _, format in Format.registered_formats.items() }\n",
    "        return ext2format_dyn.get(ext_name, None)"
   ]
  },
  {
   "cell_type": "code",
   "execution_count": 100,
   "metadata": {
    "ExecuteTime": {
     "end_time": "2022-05-11T18:37:29.584221Z",
     "start_time": "2022-05-11T18:37:29.550641Z"
    }
   },
   "outputs": [
    {
     "name": "stdout",
     "output_type": "stream",
     "text": [
      "Appending to ./brane/core/extension.py\n"
     ]
    }
   ],
   "source": [
    "%%writefile -a {EXTENSION_PY}\n",
    "# class-dependency: Extension2Format\n",
    "\n",
    "class MetaExtension(type):\n",
    "    def __new__(cls, classname, bases, class_info):\n",
    "        new_class_info = class_info.copy()\n",
    "        ext_name = class_info.get(\"name\", None)# [TODO]: name keyを必ずもつ必要が有るか？\n",
    "        #fmt = Extension2Format.ext2format.get(ext_name, None)# [TODO]: refine in the future\n",
    "        #fmt = Extension2Format.get_format(ext_name)# [TODO]: refine in the future\n",
    "        #fmt = NormalExtension2Format.ext2format.get(ext_name, None)# [TODO]: refine in the future\n",
    "        fmt = NormalExtension2Format.get_format_from_normalized_extension(ext_name)# [TODO]: refine in the future\n",
    "        print(f\"[DEBUG]: in MetaExtension ext_name={ext_name} fmt={fmt} class_info={class_info}\")\n",
    "        if fmt:\n",
    "            new_class_info.update({\"format\": fmt})\n",
    "        if ext_name not in class_info.get(\"variation\", []):\n",
    "            new_class_info.setdefault(\"variation\", []).append(ext_name)\n",
    "        return type.__new__(cls, classname, bases, new_class_info)\n"
   ]
  },
  {
   "cell_type": "code",
   "execution_count": 101,
   "metadata": {
    "ExecuteTime": {
     "end_time": "2022-05-11T18:37:29.994240Z",
     "start_time": "2022-05-11T18:37:29.843287Z"
    }
   },
   "outputs": [],
   "source": [
    "!echo '{generate_import(BASE_PY, \"BaseSubclassRegister\")}' >> {EXTENSION_PY}"
   ]
  },
  {
   "cell_type": "code",
   "execution_count": 102,
   "metadata": {
    "ExecuteTime": {
     "end_time": "2022-05-11T18:37:30.211834Z",
     "start_time": "2022-05-11T18:37:30.174349Z"
    },
    "scrolled": true
   },
   "outputs": [
    {
     "name": "stdout",
     "output_type": "stream",
     "text": [
      "Appending to ./brane/core/extension.py\n"
     ]
    }
   ],
   "source": [
    "%%writefile -a {EXTENSION_PY}\n",
    "\n",
    "def normalize_extension_default(ext):\n",
    "    return ext.strip().lower()\n",
    "\n",
    "class Extension(ExtensionClassType, BaseSubclassRegister, metaclass=MetaExtension):\n",
    "    #__metaclass__ = metaExtension # seem not to work (use meclass in class definition)\n",
    "    name = None\n",
    "    format = None\n",
    "    \n",
    "    # registered_objects が自身を含むため、仮で設定 (定義しておかないと、get_module_from_objectで、Object.objectにアクセスしようとして怒られてしまう)\n",
    "    # 本来はNoneで設定していた\n",
    "    variation = []# variations ? // use tuple instead of list or replace later ?\n",
    "    \n",
    "    preprocess = normalize_extension_default\n",
    "    \n",
    "    _registered_subclasses = {}#[]\n",
    "    registered_extensions = _registered_subclasses\n",
    "\n",
    "    # registered_formats = []\n",
    "    # def __init_subclass__(cls):\n",
    "    #     cls.registered_formats.append(cls)\n",
    "    #     # これだと継承クラス全体でregistered_moduleをシェア"
   ]
  },
  {
   "cell_type": "code",
   "execution_count": 103,
   "metadata": {
    "ExecuteTime": {
     "end_time": "2022-05-11T18:37:30.668382Z",
     "start_time": "2022-05-11T18:37:30.508219Z"
    }
   },
   "outputs": [],
   "source": [
    "!echo '{generate_import(BASE_PY, \"MetaFalse\")}' >> {EXTENSION_PY}"
   ]
  },
  {
   "cell_type": "code",
   "execution_count": 104,
   "metadata": {
    "ExecuteTime": {
     "end_time": "2022-05-11T18:37:32.575308Z",
     "start_time": "2022-05-11T18:37:32.528477Z"
    }
   },
   "outputs": [
    {
     "name": "stdout",
     "output_type": "stream",
     "text": [
      "Appending to ./brane/core/extension.py\n"
     ]
    }
   ],
   "source": [
    "%%writefile -a {EXTENSION_PY}\n",
    "\n",
    "class MetaNoneExtension(MetaExtension, MetaFalse):\n",
    "    pass\n",
    "\n",
    "class NoneExtension(Extension, metaclass=MetaNoneExtension):\n",
    "    valid = False"
   ]
  },
  {
   "cell_type": "markdown",
   "metadata": {},
   "source": [
    "#### libs\n",
    "\n",
    "dynamically generated"
   ]
  },
  {
   "cell_type": "markdown",
   "metadata": {
    "ExecuteTime": {
     "end_time": "2022-05-03T09:58:45.526690Z",
     "start_time": "2022-05-03T09:58:45.515319Z"
    }
   },
   "source": [
    "    #%%writefile -a {LIB_EXTENSION_PY}\n",
    "    #from src.base import Extension\n",
    "\n",
    "    # ext2format の class定義による実現\n",
    "    #class JPEGExtention(Extension):\n",
    "    #    name = \"jpg\"\n",
    "    #    format = JPEGFormat\n",
    "    #    variation = [\"jpg\", \"jpeg\"]# variations ? // use tuple instead of list or replace later ?\n",
    "    #    #preprocess = lambda ext: ext.lower()\n",
    "    #\n",
    "    #class PNGExtention(Extension):\n",
    "    #    name = \"png\"\n",
    "    #    format = PNGFormat\n",
    "    #    variation = [\"png\"]# variations ? // use tuple instead of list or replace later ?\n",
    "    #    #preprocess = lambda ext: ext.lower()\n",
    "\n",
    "    #class CSVExtension(Extension):\n",
    "    #    name = \"csv\"\n",
    "    #    #format = CSVFormat\n",
    "    #    #variation = []# variations ? // use tuple instead of list or replace later ?\n",
    "    #    #preprocess = lambda ext: ext.lower()\n",
    "    #    \n",
    "    #class TSVExtension(Extension):\n",
    "    #    name = \"tsv\"\n",
    "    #    #format = TSVFormat\n",
    "    #    #variation = []#[\"tsv\"]# variations ? // use tuple instead of list or replace later ?\n",
    "    #    #preprocess = lambda ext: ext.lower()"
   ]
  },
  {
   "cell_type": "code",
   "execution_count": 91,
   "metadata": {
    "ExecuteTime": {
     "end_time": "2022-05-11T18:36:33.359627Z",
     "start_time": "2022-05-11T18:36:33.318652Z"
    }
   },
   "outputs": [
    {
     "name": "stdout",
     "output_type": "stream",
     "text": [
      "Writing ./brane/libs/extensions.py\n"
     ]
    }
   ],
   "source": [
    "%%writefile {LIB_EXTENSION_PY}\n",
    "from __future__ import annotations"
   ]
  },
  {
   "cell_type": "code",
   "execution_count": 92,
   "metadata": {
    "ExecuteTime": {
     "end_time": "2022-05-11T18:36:35.172771Z",
     "start_time": "2022-05-11T18:36:34.744581Z"
    }
   },
   "outputs": [],
   "source": [
    "!echo '{generate_import(TYPE_PY, \"*\")}' >> {LIB_EXTENSION_PY}\n",
    "!echo '{generate_import(EXTENSION_PY, \"Extension\")}' >> {LIB_EXTENSION_PY}\n",
    "!echo '{generate_import(UTILS_PY, \"generate_classes\")}' >> {LIB_EXTENSION_PY}"
   ]
  },
  {
   "cell_type": "code",
   "execution_count": 93,
   "metadata": {
    "ExecuteTime": {
     "end_time": "2022-05-11T18:36:35.273958Z",
     "start_time": "2022-05-11T18:36:35.247708Z"
    }
   },
   "outputs": [
    {
     "name": "stdout",
     "output_type": "stream",
     "text": [
      "Appending to ./brane/libs/extensions.py\n"
     ]
    }
   ],
   "source": [
    "%%writefile -a {LIB_EXTENSION_PY}\n",
    "\n",
    "def register_Extension_classes(class_info):\n",
    "    generate_classes(class_info, (Extension,), suffix=\"Extension\")"
   ]
  },
  {
   "cell_type": "code",
   "execution_count": 94,
   "metadata": {
    "ExecuteTime": {
     "end_time": "2022-05-11T18:36:37.045185Z",
     "start_time": "2022-05-11T18:36:37.012114Z"
    }
   },
   "outputs": [
    {
     "name": "stdout",
     "output_type": "stream",
     "text": [
      "Appending to ./brane/libs/extensions.py\n"
     ]
    }
   ],
   "source": [
    "%%writefile -a {LIB_EXTENSION_PY}\n",
    "info = {\n",
    "    \"JPEG\": {\n",
    "        \"name\": \"jpg\",\n",
    "        \"variation\": [\"jpeg\"]\n",
    "    },\n",
    "    \"PNG\": {\n",
    "        \"name\": \"png\",\n",
    "    },\n",
    "    \"CSV\": {\n",
    "        \"name\": \"csv\",\n",
    "    },\n",
    "    \"TSV\": {\n",
    "        \"name\": \"tsv\",\n",
    "    },\n",
    "    \"JSON\": {\n",
    "        \"name\": \"json\",\n",
    "    },\n",
    "}\n",
    "\n",
    "# temporal\n",
    "register_Extension_classes(info)"
   ]
  },
  {
   "cell_type": "markdown",
   "metadata": {
    "ExecuteTime": {
     "end_time": "2021-04-11T10:53:38.454092Z",
     "start_time": "2021-04-11T10:53:38.447426Z"
    }
   },
   "source": [
    "#ExtensionClass\n",
    "def add_class_info_ExtensionClass_(class_info):\n",
    "    global ext2format\n",
    "    ext_name = class_info[\"name\"]\n",
    "    fmt = ext2format.get(ext_name, None)\n",
    "    if fmt:\n",
    "        class_info.update({\"format\": fmt})\n",
    "    if ext_name not in class_info.get(\"variation\", []):\n",
    "        class_info.setdefault(\"variation\", []).append(ext_name)"
   ]
  },
  {
   "cell_type": "markdown",
   "metadata": {},
   "source": [
    "### test"
   ]
  },
  {
   "cell_type": "code",
   "execution_count": 105,
   "metadata": {
    "ExecuteTime": {
     "end_time": "2022-05-11T18:37:35.863849Z",
     "start_time": "2022-05-11T18:37:35.845072Z"
    },
    "scrolled": true
   },
   "outputs": [
    {
     "name": "stdout",
     "output_type": "stream",
     "text": [
      "[DEBUG]: in MetaExtension ext_name=None fmt=<class 'brane.core.format.Format'> class_info={'__module__': 'brane.core.extension', '__qualname__': 'Extension', 'name': None, 'format': None, 'variation': [], 'preprocess': <function normalize_extension_default at 0x7f24afb8de50>, '_registered_subclasses': {}, 'registered_extensions': {}}\n",
      "[DEBUG]: register cls.name = None, cls = <class 'brane.core.extension.Extension'>\n",
      "[DEBUG]: in MetaExtension ext_name=None fmt=<class 'brane.core.format.Format'> class_info={'__module__': 'brane.core.extension', '__qualname__': 'NoneExtension', 'valid': False}\n"
     ]
    }
   ],
   "source": [
    "from brane.core.extension import Extension"
   ]
  },
  {
   "cell_type": "code",
   "execution_count": 106,
   "metadata": {
    "ExecuteTime": {
     "end_time": "2022-05-11T18:37:37.893835Z",
     "start_time": "2022-05-11T18:37:37.860698Z"
    }
   },
   "outputs": [
    {
     "data": {
      "text/plain": [
       "{None: brane.core.extension.Extension}"
      ]
     },
     "execution_count": 106,
     "metadata": {},
     "output_type": "execute_result"
    }
   ],
   "source": [
    "Extension.registered_extensions"
   ]
  },
  {
   "cell_type": "code",
   "execution_count": 107,
   "metadata": {
    "ExecuteTime": {
     "end_time": "2022-05-11T18:37:42.938886Z",
     "start_time": "2022-05-11T18:37:42.916325Z"
    }
   },
   "outputs": [
    {
     "name": "stdout",
     "output_type": "stream",
     "text": [
      "[DEBUG]: in MetaExtension ext_name=jpg fmt=<class 'brane.libs.formats.JPEGFormat'> class_info={'name': 'jpg', 'variation': ['jpeg']}\n",
      "[DEBUG]: register cls.name = jpg, cls = <class 'brane.core.extension.JPEGExtension'>\n",
      "[DEBUG]: in MetaExtension ext_name=png fmt=<class 'brane.core.format.PNGFormat'> class_info={'name': 'png'}\n",
      "[DEBUG]: register cls.name = png, cls = <class 'brane.core.extension.PNGExtension'>\n",
      "[DEBUG]: in MetaExtension ext_name=csv fmt=<class 'brane.libs.formats.CSVFormat'> class_info={'name': 'csv'}\n",
      "[DEBUG]: register cls.name = csv, cls = <class 'brane.core.extension.CSVExtension'>\n",
      "[DEBUG]: in MetaExtension ext_name=tsv fmt=<class 'brane.libs.formats.TSVFormat'> class_info={'name': 'tsv'}\n",
      "[DEBUG]: register cls.name = tsv, cls = <class 'brane.core.extension.TSVExtension'>\n",
      "[DEBUG]: in MetaExtension ext_name=json fmt=<class 'brane.core.format.JsonFormat'> class_info={'name': 'json'}\n",
      "[DEBUG]: register cls.name = json, cls = <class 'brane.core.extension.JSONExtension'>\n"
     ]
    }
   ],
   "source": [
    "from brane.libs.extensions import info"
   ]
  },
  {
   "cell_type": "code",
   "execution_count": 108,
   "metadata": {
    "ExecuteTime": {
     "end_time": "2022-05-11T18:37:43.798321Z",
     "start_time": "2022-05-11T18:37:43.759431Z"
    }
   },
   "outputs": [
    {
     "data": {
      "text/plain": [
       "{None: brane.core.extension.Extension,\n",
       " 'jpg': brane.core.extension.JPEGExtension,\n",
       " 'png': brane.core.extension.PNGExtension,\n",
       " 'csv': brane.core.extension.CSVExtension,\n",
       " 'tsv': brane.core.extension.TSVExtension,\n",
       " 'json': brane.core.extension.JSONExtension}"
      ]
     },
     "execution_count": 108,
     "metadata": {},
     "output_type": "execute_result"
    }
   ],
   "source": [
    "Extension.registered_extensions"
   ]
  },
  {
   "cell_type": "markdown",
   "metadata": {},
   "source": [
    "### working"
   ]
  },
  {
   "cell_type": "code",
   "execution_count": 119,
   "metadata": {
    "ExecuteTime": {
     "end_time": "2021-04-14T15:19:36.591327Z",
     "start_time": "2021-04-14T15:19:36.583757Z"
    }
   },
   "outputs": [
    {
     "data": {
      "text/plain": [
       "__main__.JPEGExtension"
      ]
     },
     "execution_count": 119,
     "metadata": {},
     "output_type": "execute_result"
    }
   ],
   "source": [
    "ext = \"jpg\"\n",
    "Extension2Extension.get_extension_class(ext)"
   ]
  },
  {
   "cell_type": "code",
   "execution_count": 131,
   "metadata": {
    "ExecuteTime": {
     "end_time": "2021-04-14T15:21:33.598446Z",
     "start_time": "2021-04-14T15:21:33.593019Z"
    },
    "scrolled": true
   },
   "outputs": [
    {
     "data": {
      "text/plain": [
       "__main__.JPEGFormat"
      ]
     },
     "execution_count": 131,
     "metadata": {},
     "output_type": "execute_result"
    }
   ],
   "source": [
    "Extension2Format.get_format(ext)"
   ]
  },
  {
   "cell_type": "code",
   "execution_count": 150,
   "metadata": {
    "ExecuteTime": {
     "end_time": "2021-04-14T15:27:13.698624Z",
     "start_time": "2021-04-14T15:27:13.686593Z"
    }
   },
   "outputs": [
    {
     "data": {
      "text/plain": [
       "__main__.PILModule"
      ]
     },
     "execution_count": 150,
     "metadata": {},
     "output_type": "execute_result"
    }
   ],
   "source": [
    "Extension2Module.get_module(ext)"
   ]
  },
  {
   "cell_type": "code",
   "execution_count": null,
   "metadata": {},
   "outputs": [],
   "source": []
  },
  {
   "cell_type": "code",
   "execution_count": null,
   "metadata": {},
   "outputs": [],
   "source": []
  },
  {
   "cell_type": "code",
   "execution_count": 61,
   "metadata": {
    "ExecuteTime": {
     "end_time": "2021-04-14T14:27:23.110345Z",
     "start_time": "2021-04-14T14:27:23.106861Z"
    }
   },
   "outputs": [],
   "source": [
    "get_format = Extension2Format.get_format"
   ]
  },
  {
   "cell_type": "code",
   "execution_count": 63,
   "metadata": {
    "ExecuteTime": {
     "end_time": "2021-04-14T14:27:34.448597Z",
     "start_time": "2021-04-14T14:27:34.439901Z"
    }
   },
   "outputs": [
    {
     "data": {
      "text/plain": [
       "__main__.JPEGFormat"
      ]
     },
     "execution_count": 63,
     "metadata": {},
     "output_type": "execute_result"
    }
   ],
   "source": [
    "get_format(\"jpg\")"
   ]
  },
  {
   "cell_type": "code",
   "execution_count": null,
   "metadata": {},
   "outputs": [],
   "source": []
  },
  {
   "cell_type": "code",
   "execution_count": 42,
   "metadata": {
    "ExecuteTime": {
     "end_time": "2021-04-14T13:55:19.878543Z",
     "start_time": "2021-04-14T13:55:19.874503Z"
    },
    "scrolled": false
   },
   "outputs": [
    {
     "data": {
      "text/plain": [
       "__main__.JPEGFormat"
      ]
     },
     "execution_count": 42,
     "metadata": {},
     "output_type": "execute_result"
    }
   ],
   "source": [
    "ext = \"JPEG\"\n",
    "get_format(ext)"
   ]
  },
  {
   "cell_type": "code",
   "execution_count": 43,
   "metadata": {
    "ExecuteTime": {
     "end_time": "2021-04-14T13:55:20.071390Z",
     "start_time": "2021-04-14T13:55:20.064413Z"
    }
   },
   "outputs": [
    {
     "data": {
      "text/plain": [
       "__main__.PNGFormat"
      ]
     },
     "execution_count": 43,
     "metadata": {},
     "output_type": "execute_result"
    }
   ],
   "source": [
    "ext = \"PNG\"\n",
    "get_format(ext)"
   ]
  },
  {
   "cell_type": "code",
   "execution_count": 44,
   "metadata": {
    "ExecuteTime": {
     "end_time": "2021-04-14T13:55:20.659271Z",
     "start_time": "2021-04-14T13:55:20.630613Z"
    }
   },
   "outputs": [
    {
     "data": {
      "text/plain": [
       "__main__.CSVFormat"
      ]
     },
     "execution_count": 44,
     "metadata": {},
     "output_type": "execute_result"
    }
   ],
   "source": [
    "ext = \"Csv\"\n",
    "get_format(ext)"
   ]
  },
  {
   "cell_type": "code",
   "execution_count": null,
   "metadata": {},
   "outputs": [],
   "source": []
  },
  {
   "cell_type": "code",
   "execution_count": 77,
   "metadata": {
    "ExecuteTime": {
     "end_time": "2021-04-01T15:50:25.183010Z",
     "start_time": "2021-04-01T15:50:25.178078Z"
    }
   },
   "outputs": [
    {
     "data": {
      "text/plain": [
       "[__main__.Extension,\n",
       " __main__.CSVExtension,\n",
       " __main__.TSVExtension,\n",
       " __main__.JPEGExtension,\n",
       " __main__.PNGExtension]"
      ]
     },
     "execution_count": 77,
     "metadata": {},
     "output_type": "execute_result"
    }
   ],
   "source": [
    "Extension.registered_formats"
   ]
  },
  {
   "cell_type": "code",
   "execution_count": 91,
   "metadata": {
    "ExecuteTime": {
     "end_time": "2021-03-31T01:19:23.893262Z",
     "start_time": "2021-03-31T01:19:23.888078Z"
    }
   },
   "outputs": [],
   "source": [
    "info = {\n",
    "    \"JPEG\": {\n",
    "        \"name\": \"jpg\",\n",
    "        \"variation\": [\"jpeg\"]\n",
    "    },\n",
    "    \"PNG\": {\n",
    "        \"name\": \"png\",\n",
    "    }\n",
    "}"
   ]
  },
  {
   "cell_type": "code",
   "execution_count": 92,
   "metadata": {
    "ExecuteTime": {
     "end_time": "2021-03-31T01:19:24.034862Z",
     "start_time": "2021-03-31T01:19:24.025238Z"
    }
   },
   "outputs": [],
   "source": [
    "with open(\"./ext_info_sample.yml\", \"w\") as f:\n",
    "    yaml.safe_dump(info, f)"
   ]
  },
  {
   "cell_type": "code",
   "execution_count": 193,
   "metadata": {
    "ExecuteTime": {
     "end_time": "2021-04-02T23:12:40.433134Z",
     "start_time": "2021-04-02T23:12:40.424550Z"
    }
   },
   "outputs": [],
   "source": [
    "with open(\"./ext_info_sample.json\", \"w\") as f:\n",
    "    json.dump(info, f, ensure_ascii=True, indent=2)"
   ]
  },
  {
   "cell_type": "code",
   "execution_count": 93,
   "metadata": {
    "ExecuteTime": {
     "end_time": "2021-03-31T01:19:24.492655Z",
     "start_time": "2021-03-31T01:19:24.375689Z"
    }
   },
   "outputs": [
    {
     "name": "stdout",
     "output_type": "stream",
     "text": [
      "JPEG:\r\n",
      "  name: jpg\r\n",
      "  variation:\r\n",
      "  - jpeg\r\n",
      "PNG:\r\n",
      "  name: png\r\n"
     ]
    }
   ],
   "source": [
    "!cat ./ext_info_sample.yml"
   ]
  },
  {
   "cell_type": "code",
   "execution_count": 94,
   "metadata": {
    "ExecuteTime": {
     "end_time": "2021-03-31T01:19:24.534903Z",
     "start_time": "2021-03-31T01:19:24.531145Z"
    }
   },
   "outputs": [],
   "source": [
    "ext2format = { format.default_extension: format for format in Format.registered_formats }"
   ]
  },
  {
   "cell_type": "code",
   "execution_count": 95,
   "metadata": {
    "ExecuteTime": {
     "end_time": "2021-03-31T01:19:24.717778Z",
     "start_time": "2021-03-31T01:19:24.713429Z"
    }
   },
   "outputs": [
    {
     "data": {
      "text/plain": [
       "{'jpg': __main__.JPEGFormat,\n",
       " 'tsv': __main__.TSVFormat,\n",
       " 'csv': __main__.CSVFormat,\n",
       " 'png': __main__.PNGFormat}"
      ]
     },
     "execution_count": 95,
     "metadata": {},
     "output_type": "execute_result"
    }
   ],
   "source": [
    "ext2format"
   ]
  },
  {
   "cell_type": "code",
   "execution_count": 96,
   "metadata": {
    "ExecuteTime": {
     "end_time": "2021-03-31T01:19:24.867439Z",
     "start_time": "2021-03-31T01:19:24.861641Z"
    }
   },
   "outputs": [],
   "source": [
    "for ext_key, ext_info in info.items():\n",
    "    ext_name = ext_info[\"name\"]\n",
    "    fmt = ext2format.get(ext_name, None)\n",
    "    if fmt:\n",
    "        ext_info.update({\"format\": fmt})\n",
    "    if ext_name not in ext_info.get(\"variation\", []):\n",
    "        ext_info.setdefault(\"variation\", []).append(ext_name)\n",
    "    _ = type(f\"{LIB_key}Extension\", (Extension, object), ext_info)"
   ]
  },
  {
   "cell_type": "code",
   "execution_count": 97,
   "metadata": {
    "ExecuteTime": {
     "end_time": "2021-03-31T01:19:25.123937Z",
     "start_time": "2021-03-31T01:19:25.119135Z"
    }
   },
   "outputs": [
    {
     "data": {
      "text/plain": [
       "[__main__.CSVExtension,\n",
       " __main__.TSVExtension,\n",
       " __main__.JPEGExtension,\n",
       " __main__.PNGExtension]"
      ]
     },
     "execution_count": 97,
     "metadata": {},
     "output_type": "execute_result"
    }
   ],
   "source": [
    "Extension.registered_formats"
   ]
  },
  {
   "cell_type": "code",
   "execution_count": 98,
   "metadata": {
    "ExecuteTime": {
     "end_time": "2021-03-31T01:19:25.219667Z",
     "start_time": "2021-03-31T01:19:25.215163Z"
    }
   },
   "outputs": [
    {
     "data": {
      "text/plain": [
       "{'JPEG': {'name': 'jpg',\n",
       "  'variation': ['jpeg', 'jpg'],\n",
       "  'format': __main__.JPEGFormat},\n",
       " 'PNG': {'name': 'png', 'format': __main__.PNGFormat, 'variation': ['png']}}"
      ]
     },
     "execution_count": 98,
     "metadata": {},
     "output_type": "execute_result"
    }
   ],
   "source": [
    "info"
   ]
  },
  {
   "cell_type": "code",
   "execution_count": null,
   "metadata": {},
   "outputs": [],
   "source": []
  },
  {
   "cell_type": "markdown",
   "metadata": {},
   "source": [
    "## Mapper"
   ]
  },
  {
   "cell_type": "markdown",
   "metadata": {},
   "source": [
    "### definition"
   ]
  },
  {
   "cell_type": "code",
   "execution_count": 109,
   "metadata": {
    "ExecuteTime": {
     "end_time": "2022-05-11T18:37:50.261599Z",
     "start_time": "2022-05-11T18:37:50.241816Z"
    }
   },
   "outputs": [
    {
     "name": "stdout",
     "output_type": "stream",
     "text": [
      "Writing ./brane/core/mapper.py\n"
     ]
    }
   ],
   "source": [
    "%%writefile {MAPPER_PY}\n",
    "from __future__ import annotations"
   ]
  },
  {
   "cell_type": "code",
   "execution_count": 110,
   "metadata": {
    "ExecuteTime": {
     "end_time": "2022-05-11T18:37:53.070225Z",
     "start_time": "2022-05-11T18:37:52.463118Z"
    }
   },
   "outputs": [],
   "source": [
    "!echo '{generate_import(TYPE_PY, \"*\")}' >> {MAPPER_PY}\n",
    "!echo '{generate_import(MODULE_PY, \"NoneModule\")}' >> {MAPPER_PY}\n",
    "!echo '{generate_import(FORMAT_PY, \"NoneFormat\")}' >> {MAPPER_PY}\n",
    "!echo '{generate_import(OBJECT_PY, \"Object\")}' >> {MAPPER_PY}\n",
    "!echo '{generate_import(EXTENSION_PY, \"Extension, NoneExtension\")}' >> {MAPPER_PY}"
   ]
  },
  {
   "cell_type": "markdown",
   "metadata": {},
   "source": [
    "#### Ext2Fmt and Ext2Mod (R)"
   ]
  },
  {
   "cell_type": "code",
   "execution_count": 111,
   "metadata": {
    "ExecuteTime": {
     "end_time": "2022-05-11T18:37:53.093433Z",
     "start_time": "2022-05-11T18:37:53.072856Z"
    }
   },
   "outputs": [
    {
     "name": "stdout",
     "output_type": "stream",
     "text": [
      "Appending to ./brane/core/mapper.py\n"
     ]
    }
   ],
   "source": [
    "%%writefile -a {MAPPER_PY}\n",
    "\n",
    "class Extension2Extension():### rename\n",
    "    # [TODO];: caching\n",
    "    @classmethod\n",
    "    def get_extension_class(cls, ext: str) -> ExtensionClassType:# ignore: this type is defined later\n",
    "        for _, Ext in Extension.registered_extensions.items():###\n",
    "            ext_normalzied = Ext.preprocess(ext)\n",
    "            if ext_normalzied in Ext.variation:\n",
    "                return Ext\n",
    "        assert False, \"no extension found\"# [TODO]: エラーをraiseするか、NoneExtensionをreturnするか\n",
    "        return NoneExtension\n",
    "\n",
    "class Extension2Format(Extension2Extension):\n",
    "    #def get_format_from_extension_name(ext):\n",
    "    @classmethod\n",
    "    def get_format(cls, ext: str) -> FormatClassType:\n",
    "        Ext = cls.get_extension_class(ext)\n",
    "        if Ext:###\n",
    "            return Ext.format\n",
    "        else:\n",
    "            return NoneFormat\n",
    "\n",
    "class Extension2Module(Extension2Extension):\n",
    "    @classmethod\n",
    "    def get_module(cls, ext: str) -> ModuleClassType:\n",
    "        Ext = cls.get_extension_class(ext)\n",
    "        if Ext:\n",
    "            if hasattr(Ext, \"module\"):\n",
    "                return Ext.module\n",
    "            else:\n",
    "                Fmt = Ext.format\n",
    "                if hasattr(Fmt, \"module\"):\n",
    "                    return Fmt.module\n",
    "                else:\n",
    "                    raise NotImplementedError\n",
    "        else:\n",
    "            assert False, \"no module found\"# [TODO]: エラーをraiseするか、NoneModuleをreturnするか\n",
    "            return NoneModule"
   ]
  },
  {
   "cell_type": "markdown",
   "metadata": {},
   "source": [
    "#### Obj-Fmt2Mod (W)"
   ]
  },
  {
   "cell_type": "code",
   "execution_count": 112,
   "metadata": {
    "ExecuteTime": {
     "end_time": "2022-05-11T18:37:55.391158Z",
     "start_time": "2022-05-11T18:37:55.371683Z"
    }
   },
   "outputs": [
    {
     "name": "stdout",
     "output_type": "stream",
     "text": [
      "Appending to ./brane/core/mapper.py\n"
     ]
    }
   ],
   "source": [
    "%%writefile -a {MAPPER_PY}\n",
    "# if fmt is given, it priotize\n",
    "# if necesaryy, also return format (may be used to decide filename extention)\n",
    "\n",
    "# In the future, I'd like to use hashed-key for quick search\n",
    "class ObjectFormat2Module:\n",
    "    def get_module_from_object(obj, fmt=None) -> ModuleClassType:\n",
    "        for _, Obj in Object.registered_objects.items():### -> global var.\n",
    "            # type(obj) == Obj.object # Objにtype-eq評価か、isinstance評価か決めるattributeを付与したので、そちらで制御\n",
    "            Obj.load_objects()### will be removed in the future\n",
    "            #     -> Objのattributes (objectなどload_objectsでセットされるもの)にアクセスした際に、自動で読み出されるようにするため\n",
    "            if isinstance(obj, Obj.object):\n",
    "                if hasattr(Obj, \"module\") and Obj.module is not None:\n",
    "                    module = Obj.module\n",
    "                    return module\n",
    "                elif hasattr(Obj, \"module_checker\"):\n",
    "                    if hasattr(Obj, \"format\") and Obj.format is not None:\n",
    "                        fmt = Obj.format\n",
    "                        print(\"Obj.format\", fmt)\n",
    "                    elif hasattr(Obj, \"format_checker\") and Obj.format_checker is not None:\n",
    "                        fmt = Obj.format_checker(obj)\n",
    "                        print(\"Obj.format_checker\", fmt)\n",
    "                    module = Obj.module_checker(obj, fmt)\n",
    "                    print(\"module\", module)\n",
    "                    return module\n",
    "        assert False, \"no object found\"# [TODO]: エラーをraiseするか、NoneModuleをreturnするか\n",
    "        return NoneObject"
   ]
  },
  {
   "cell_type": "markdown",
   "metadata": {},
   "source": [
    "### test"
   ]
  },
  {
   "cell_type": "code",
   "execution_count": 113,
   "metadata": {
    "ExecuteTime": {
     "end_time": "2022-05-11T18:38:02.087941Z",
     "start_time": "2022-05-11T18:38:02.068781Z"
    }
   },
   "outputs": [],
   "source": [
    "from brane.core.mapper import Extension2Extension, Extension2Format, Extension2Module, ObjectFormat2Module"
   ]
  },
  {
   "cell_type": "code",
   "execution_count": 114,
   "metadata": {
    "ExecuteTime": {
     "end_time": "2022-05-11T18:38:05.777646Z",
     "start_time": "2022-05-11T18:38:05.732411Z"
    }
   },
   "outputs": [
    {
     "data": {
      "text/plain": [
       "brane.core.extension.CSVExtension"
      ]
     },
     "execution_count": 114,
     "metadata": {},
     "output_type": "execute_result"
    }
   ],
   "source": [
    "Extension2Extension.get_extension_class(\"csv\")"
   ]
  },
  {
   "cell_type": "code",
   "execution_count": 115,
   "metadata": {
    "ExecuteTime": {
     "end_time": "2022-05-11T18:38:06.417753Z",
     "start_time": "2022-05-11T18:38:06.393984Z"
    }
   },
   "outputs": [
    {
     "data": {
      "text/plain": [
       "brane.libs.formats.CSVFormat"
      ]
     },
     "execution_count": 115,
     "metadata": {},
     "output_type": "execute_result"
    }
   ],
   "source": [
    "Extension2Format.get_format(\"csv\")"
   ]
  },
  {
   "cell_type": "code",
   "execution_count": 116,
   "metadata": {
    "ExecuteTime": {
     "end_time": "2022-05-11T18:38:06.733463Z",
     "start_time": "2022-05-11T18:38:06.700001Z"
    }
   },
   "outputs": [
    {
     "data": {
      "text/plain": [
       "brane.libs.modules.PandasModule"
      ]
     },
     "execution_count": 116,
     "metadata": {},
     "output_type": "execute_result"
    }
   ],
   "source": [
    "Extension2Module.get_module(\"csv\")"
   ]
  },
  {
   "cell_type": "code",
   "execution_count": 117,
   "metadata": {
    "ExecuteTime": {
     "end_time": "2022-05-11T18:38:08.455305Z",
     "start_time": "2022-05-11T18:38:08.421269Z"
    }
   },
   "outputs": [],
   "source": [
    "import pandas as pd"
   ]
  },
  {
   "cell_type": "code",
   "execution_count": 118,
   "metadata": {
    "ExecuteTime": {
     "end_time": "2022-05-11T18:38:08.766270Z",
     "start_time": "2022-05-11T18:38:08.699417Z"
    }
   },
   "outputs": [
    {
     "name": "stdout",
     "output_type": "stream",
     "text": [
      "@Meta: <class 'brane.core.object.Object'>\n",
      "@Meta: <class 'brane.libs.objects.PIL_Image_Object'>\n",
      "@Meta: <class 'brane.libs.objects.PIL_JPEG_Object'>\n",
      "@Meta: <class 'brane.libs.objects.PIL_PNG_Object'>\n",
      "@Meta: <class 'brane.libs.objects.Pandas_DataFrame_Object'>\n",
      "Obj.format_checker <class 'brane.libs.formats.CSVFormat'>\n",
      "module <class 'brane.libs.modules.PandasModule'>\n"
     ]
    },
    {
     "data": {
      "text/plain": [
       "brane.libs.modules.PandasModule"
      ]
     },
     "execution_count": 118,
     "metadata": {},
     "output_type": "execute_result"
    }
   ],
   "source": [
    "ObjectFormat2Module.get_module_from_object(obj=pd.DataFrame([]))"
   ]
  },
  {
   "cell_type": "code",
   "execution_count": 119,
   "metadata": {
    "ExecuteTime": {
     "end_time": "2022-05-11T18:38:09.010815Z",
     "start_time": "2022-05-11T18:38:08.986662Z"
    }
   },
   "outputs": [
    {
     "name": "stdout",
     "output_type": "stream",
     "text": [
      "@Meta: <class 'brane.core.object.Object'>\n",
      "@Meta: <class 'brane.libs.objects.PIL_Image_Object'>\n",
      "@Meta: <class 'brane.libs.objects.PIL_JPEG_Object'>\n",
      "@Meta: <class 'brane.libs.objects.PIL_PNG_Object'>\n",
      "@Meta: <class 'brane.libs.objects.Pandas_DataFrame_Object'>\n",
      "Obj.format_checker <class 'brane.libs.formats.CSVFormat'>\n",
      "module <class 'brane.libs.modules.PandasModule'>\n"
     ]
    },
    {
     "data": {
      "text/plain": [
       "brane.libs.modules.PandasModule"
      ]
     },
     "execution_count": 119,
     "metadata": {},
     "output_type": "execute_result"
    }
   ],
   "source": [
    "ObjectFormat2Module.get_module_from_object(obj=pd.DataFrame([]), fmt=\"txt\")"
   ]
  },
  {
   "cell_type": "code",
   "execution_count": null,
   "metadata": {},
   "outputs": [],
   "source": []
  },
  {
   "cell_type": "code",
   "execution_count": 23,
   "metadata": {
    "ExecuteTime": {
     "end_time": "2022-05-08T18:08:24.302424Z",
     "start_time": "2022-05-08T18:08:24.283942Z"
    }
   },
   "outputs": [
    {
     "data": {
      "text/plain": [
       "pandas.core.frame.DataFrame"
      ]
     },
     "execution_count": 23,
     "metadata": {},
     "output_type": "execute_result"
    }
   ],
   "source": [
    "type(obj)"
   ]
  },
  {
   "cell_type": "code",
   "execution_count": 37,
   "metadata": {
    "ExecuteTime": {
     "end_time": "2022-05-08T18:34:57.655093Z",
     "start_time": "2022-05-08T18:34:57.482684Z"
    }
   },
   "outputs": [
    {
     "data": {
      "text/plain": [
       "ext.formats.CSVFormat"
      ]
     },
     "execution_count": 37,
     "metadata": {},
     "output_type": "execute_result"
    }
   ],
   "source": [
    "fmt = Object.registered_objects[\"Pandas_DataFrame_Object\"].format_checker(obj)\n",
    "fmt"
   ]
  },
  {
   "cell_type": "code",
   "execution_count": 38,
   "metadata": {
    "ExecuteTime": {
     "end_time": "2022-05-08T18:34:58.210741Z",
     "start_time": "2022-05-08T18:34:58.191991Z"
    }
   },
   "outputs": [
    {
     "data": {
      "text/plain": [
       "ext.modules.PandasModule"
      ]
     },
     "execution_count": 38,
     "metadata": {},
     "output_type": "execute_result"
    }
   ],
   "source": [
    "Object.registered_objects[\"Pandas_DataFrame_Object\"].module_checker(obj, fmt)"
   ]
  },
  {
   "cell_type": "code",
   "execution_count": 39,
   "metadata": {
    "ExecuteTime": {
     "end_time": "2022-05-08T18:34:58.575416Z",
     "start_time": "2022-05-08T18:34:58.543797Z"
    }
   },
   "outputs": [
    {
     "name": "stdout",
     "output_type": "stream",
     "text": [
      "load module to define object\n",
      "<class 'ext.objects.Pandas_DataFrame_Object'> <class 'pandas.core.frame.DataFrame'>\n",
      "@Meta: <class 'ext.objects.Pandas_DataFrame_Object'>\n"
     ]
    },
    {
     "data": {
      "text/plain": [
       "True"
      ]
     },
     "execution_count": 39,
     "metadata": {},
     "output_type": "execute_result"
    }
   ],
   "source": [
    "isinstance(obj, Object.registered_objects[\"Pandas_DataFrame_Object\"].object)"
   ]
  },
  {
   "cell_type": "code",
   "execution_count": null,
   "metadata": {},
   "outputs": [],
   "source": []
  },
  {
   "cell_type": "markdown",
   "metadata": {},
   "source": [
    "## Hook"
   ]
  },
  {
   "cell_type": "markdown",
   "metadata": {},
   "source": [
    "* 複数のhookを集めて、名前を付けたい\n",
    "    * 例：PILResizeHookとCV2ResizeHook -> ImageResizeHook"
   ]
  },
  {
   "cell_type": "markdown",
   "metadata": {},
   "source": [
    "### definition"
   ]
  },
  {
   "cell_type": "markdown",
   "metadata": {},
   "source": [
    "#### core"
   ]
  },
  {
   "cell_type": "code",
   "execution_count": 24,
   "metadata": {
    "ExecuteTime": {
     "end_time": "2022-05-11T18:52:55.629800Z",
     "start_time": "2022-05-11T18:52:55.601344Z"
    }
   },
   "outputs": [
    {
     "name": "stdout",
     "output_type": "stream",
     "text": [
      "Overwriting ./brane/core/hook.py\n"
     ]
    }
   ],
   "source": [
    "%%writefile {HOOK_PY}\n",
    "from __future__ import annotations"
   ]
  },
  {
   "cell_type": "code",
   "execution_count": 25,
   "metadata": {
    "ExecuteTime": {
     "end_time": "2022-05-11T18:52:56.164494Z",
     "start_time": "2022-05-11T18:52:55.916300Z"
    }
   },
   "outputs": [],
   "source": [
    "!echo '{generate_import(TYPE_PY, \"*\")}' >> {HOOK_PY}\n",
    "!echo '{generate_import(BASE_PY, \"Context\")}' >> {HOOK_PY}"
   ]
  },
  {
   "cell_type": "code",
   "execution_count": 26,
   "metadata": {
    "ExecuteTime": {
     "end_time": "2022-05-11T18:52:56.743626Z",
     "start_time": "2022-05-11T18:52:56.722415Z"
    }
   },
   "outputs": [
    {
     "name": "stdout",
     "output_type": "stream",
     "text": [
      "Appending to ./brane/core/hook.py\n"
     ]
    }
   ],
   "source": [
    "%%writefile -a {HOOK_PY}\n",
    "\n",
    "HookFlagType = Optional[Union[str, set[str]]]\n",
    "\n",
    "class Hook(HookClassType):\n",
    "    hook_name: Optional[str] = None\n",
    "    flag: HookFlagType = None # other name convention: marker\n",
    "    _active: bool = True\n",
    "    def __init__(self, name: str = None):\n",
    "        self.hook_name: Optional[str] = name\n",
    "        self.flag: HookFlagType = None # other name convention: marker\n",
    "        self._active: bool = True\n",
    "\n",
    "    def condition(self, info: ContextInterface) -> bool:\n",
    "        return True\n",
    "\n",
    "    def __call__(self, info: ContextInterface) -> ContextInterface:\n",
    "        raise NotImplementedError\n",
    "    \n",
    "    @property\n",
    "    def active(self) -> bool:\n",
    "        return self._active\n",
    "\n",
    "    #def __repr__(self) -> str:\n",
    "    #    if self.hook_name is not None:\n",
    "    #        return self.hook_name\n",
    "    #    else:\n",
    "    #        return \"\"\n",
    "\n",
    "class FunctionHook(Hook):\n",
    "    def __init__(self, func, condition_func=lambda info: True, name=None, **kwargs_exp):\n",
    "        \"\"\"\n",
    "\n",
    "        kwargs_exp: experimental keyword aruguments\n",
    "        * skip_wehn_error\n",
    "        * object_type\n",
    "        \"\"\"\n",
    "        super().__init__(name)\n",
    "        self.hook_func = func\n",
    "        #self.hook_name = name\n",
    "        #self.condition_func = condition_func\n",
    "\n",
    "        if \"skip_when_error\" in kwargs_exp:\n",
    "            self.skip_when_error = kwargs_exp[\"skip_when_error\"]# not used yet\n",
    "\n",
    "        if \"object_type\" in kwargs_exp:\n",
    "            target_object_type = kwargs_exp[\"object_type\"]\n",
    "            container_type = kwargs_exp.get(\"container_type\", None)\n",
    "            def check_object_type(obj):### [ARG]: should use higher order function ?\n",
    "                # nonlocal target_object_type\n",
    "                return isinstance(obj, target_object_type)\n",
    "\n",
    "            if container_type == \"list\":\n",
    "                def new_condition(info: ContextInterface):\n",
    "                    objs = info.get(\"objects\", None)\n",
    "                    container_type_check = isinstance(objs, list)\n",
    "                    return container_type_check and all(map(check_object_type, objs)) and condition_func(info)\n",
    "            elif container_type == \"tuple\":\n",
    "                raise NotImplementedError\n",
    "            elif container_type == \"dict\":\n",
    "                raise NotImplementedError\n",
    "            else:\n",
    "                def new_condition(info: ContextInterface):\n",
    "                    # info = { \"object\": obj, ... }\n",
    "                    obj = info.get(\"object\", None)\n",
    "                    return check_object_type(obj) and condition_func(info)\n",
    "            self.condition_func = new_condition\n",
    "        else:\n",
    "            self.condition_func = condition_func\n",
    "\n",
    "    def __call__(self, info: ContextInterface):\n",
    "        return self.hook_func(info)\n",
    "    \n",
    "    def condition(self, info: ContextInterface) -> bool:\n",
    "        return self.condition_func(info)\n",
    "\n",
    "    def __repr__(self) -> str:\n",
    "        if self.hook_name is not None:\n",
    "            return self.hook_name\n",
    "        else:\n",
    "            return repr(self.hook_func)"
   ]
  },
  {
   "cell_type": "markdown",
   "metadata": {},
   "source": [
    "#### libs"
   ]
  },
  {
   "cell_type": "code",
   "execution_count": 123,
   "metadata": {
    "ExecuteTime": {
     "end_time": "2022-05-11T18:38:25.965841Z",
     "start_time": "2022-05-11T18:38:25.934852Z"
    }
   },
   "outputs": [
    {
     "name": "stdout",
     "output_type": "stream",
     "text": [
      "Writing ./brane/libs/hooks.py\n"
     ]
    }
   ],
   "source": [
    "%%writefile {LIB_HOOK_PY}\n",
    "from __future__ import annotations"
   ]
  },
  {
   "cell_type": "code",
   "execution_count": 124,
   "metadata": {
    "ExecuteTime": {
     "end_time": "2022-05-11T18:38:31.626476Z",
     "start_time": "2022-05-11T18:38:31.249844Z"
    }
   },
   "outputs": [],
   "source": [
    "!echo '{generate_import(TYPE_PY, \"*\")}' >> {LIB_HOOK_PY}\n",
    "!echo '{generate_import(HOOK_PY, \"Hook\")}' >> {LIB_HOOK_PY}\n",
    "!echo '{generate_import(LIB_OBJECT_PY, \"PIL_JPEG_Object, PIL_PNG_Object\")}' >> {LIB_HOOK_PY}"
   ]
  },
  {
   "cell_type": "code",
   "execution_count": 125,
   "metadata": {
    "ExecuteTime": {
     "end_time": "2022-05-11T18:38:31.666075Z",
     "start_time": "2022-05-11T18:38:31.629458Z"
    }
   },
   "outputs": [
    {
     "name": "stdout",
     "output_type": "stream",
     "text": [
      "Appending to ./brane/libs/hooks.py\n"
     ]
    }
   ],
   "source": [
    "%%writefile -a {LIB_HOOK_PY}\n",
    "\n",
    "class PILResizeHook(Hook):\n",
    "    hook_name = \"PILResize\"\n",
    "    def __init__(self, size, resample=None):\n",
    "        from PIL import Image as PILImage\n",
    "        if resample is None:\n",
    "            resample = PILImage.BILINEAR\n",
    "        self.size = size\n",
    "        self.resample = resample\n",
    "\n",
    "    def condition(self, info: ContextInterface):\n",
    "        obj = info.get(\"object\", None)\n",
    "        return isinstance(obj, PIL_JPEG_Object.object) or isinstance(obj, PIL_PNG_Object.object)\n",
    "\n",
    "    def __call__(self, info: ContextInterface):\n",
    "        print(\"resize\")\n",
    "        obj = info.get(\"object\")\n",
    "        return obj.resize(self.size, self.resample)"
   ]
  },
  {
   "cell_type": "markdown",
   "metadata": {},
   "source": [
    "#### hook definitions"
   ]
  },
  {
   "cell_type": "code",
   "execution_count": 126,
   "metadata": {
    "ExecuteTime": {
     "end_time": "2022-05-11T18:38:36.102981Z",
     "start_time": "2022-05-11T18:38:36.072580Z"
    }
   },
   "outputs": [
    {
     "name": "stdout",
     "output_type": "stream",
     "text": [
      "Appending to ./brane/libs/hooks.py\n"
     ]
    }
   ],
   "source": [
    "%%writefile -a {LIB_HOOK_PY}\n",
    "\n",
    "import os\n",
    "\n",
    "# add candidate suggestion function ?\n",
    "def check_path_existence(info):\n",
    "    path = info[\"path\"]\n",
    "    assert os.path.exists(path), f\"The specified path is not found, {path}\"\n",
    "\n",
    "def create_parent_directory(info):\n",
    "    path = info[\"path\"]\n",
    "    parent_dir = os.path.dirname(path)\n",
    "    os.makedirs(parent_dir, exist_ok=True)"
   ]
  },
  {
   "cell_type": "markdown",
   "metadata": {},
   "source": [
    "### test"
   ]
  },
  {
   "cell_type": "code",
   "execution_count": 4,
   "metadata": {
    "ExecuteTime": {
     "end_time": "2022-05-11T18:47:51.886092Z",
     "start_time": "2022-05-11T18:47:51.864840Z"
    }
   },
   "outputs": [
    {
     "name": "stdout",
     "output_type": "stream",
     "text": [
      "[DEBUG]: register cls.name = Object, cls = <class 'brane.core.object.Object'>\n",
      "[DEBUG]: register cls.name = None, cls = <class 'brane.core.module.Module'>\n",
      "[DEBUG]: register cls.name = PIL, cls = <class 'brane.libs.modules.PILModule'>\n",
      "[DEBUG]: register cls.name = cv2, cls = <class 'brane.libs.modules.CV2Module'>\n",
      "[DEBUG]: register cls.name = pandas, cls = <class 'brane.libs.modules.PandasModule'>\n",
      "[DEBUG]: register cls.name = json, cls = <class 'brane.libs.modules.JsonModule'>\n",
      "[DEBUG]: register cls.name = textio, cls = <class 'brane.libs.modules.TextIOModule'>\n",
      "[DEBUG]: register cls.name = None, cls = <class 'brane.core.format.Format'>\n",
      "[DEBUG]: register cls.name = jpg, cls = <class 'brane.libs.formats.JPEGFormat'>\n",
      "[DEBUG]: register cls.name = tsv, cls = <class 'brane.libs.formats.TSVFormat'>\n",
      "[DEBUG]: register cls.name = csv, cls = <class 'brane.libs.formats.CSVFormat'>\n",
      "[DEBUG]: register cls.name = png, cls = <class 'brane.core.format.PNGFormat'>\n",
      "[DEBUG]: register cls.name = json, cls = <class 'brane.core.format.JsonFormat'>\n",
      "[DEBUG]: register cls.name = PIL_Image_Object, cls = <class 'brane.libs.objects.PIL_Image_Object'>\n",
      "[DEBUG]: register cls.name = PIL_JPEG_Object, cls = <class 'brane.libs.objects.PIL_JPEG_Object'>\n",
      "[DEBUG]: register cls.name = PIL_PNG_Object, cls = <class 'brane.libs.objects.PIL_PNG_Object'>\n",
      "[DEBUG]: register cls.name = Pandas_DataFrame_Object, cls = <class 'brane.libs.objects.Pandas_DataFrame_Object'>\n",
      "[DEBUG]: register cls.name = Json_Json_Object, cls = <class 'brane.libs.objects.Json_Json_Object'>\n"
     ]
    }
   ],
   "source": [
    "from brane.core.hook import FunctionHook\n",
    "from brane.libs.hooks import check_path_existence"
   ]
  },
  {
   "cell_type": "code",
   "execution_count": 5,
   "metadata": {
    "ExecuteTime": {
     "end_time": "2022-05-11T18:47:53.234367Z",
     "start_time": "2022-05-11T18:47:53.209768Z"
    }
   },
   "outputs": [
    {
     "data": {
      "text/plain": [
       "<function check_path_existence at 0x7f7968128160>"
      ]
     },
     "execution_count": 5,
     "metadata": {},
     "output_type": "execute_result"
    }
   ],
   "source": [
    "hook1 = FunctionHook(func=check_path_existence)\n",
    "hook1"
   ]
  },
  {
   "cell_type": "code",
   "execution_count": 6,
   "metadata": {
    "ExecuteTime": {
     "end_time": "2022-05-11T18:47:53.510021Z",
     "start_time": "2022-05-11T18:47:53.488103Z"
    }
   },
   "outputs": [
    {
     "data": {
      "text/plain": [
       "my_hook"
      ]
     },
     "execution_count": 6,
     "metadata": {},
     "output_type": "execute_result"
    }
   ],
   "source": [
    "hook1 = FunctionHook(func=check_path_existence, name=\"my_hook\")\n",
    "hook1"
   ]
  },
  {
   "cell_type": "markdown",
   "metadata": {},
   "source": [
    "### develop"
   ]
  },
  {
   "cell_type": "code",
   "execution_count": null,
   "metadata": {},
   "outputs": [],
   "source": [
    "class ObjectTriggerHook(Hook):\n",
    "    def __init__(self, object_type: str, func, condition_func=lambda info: True, name=None, **kwargs_exp):\n",
    "        self.hook_name = name\n",
    "\n",
    "        if \"skip_when_error\" in kwargs_exp:\n",
    "            self.skip_when_error = kwargs_exp[\"skip_when_error\"]\n",
    "\n",
    "        if \"object_type\" in kwargs_exp:\n",
    "            target_object_type = kwargs_exp[\"object_type\"]\n",
    "            container_type = kwargs_exp.get(\"container_type\", None)\n",
    "            def check_object_type(obj):### [ARG]: should use higher order function ?\n",
    "                # nonlocal target_object_type\n",
    "                return isinstance(obj, target_object_type)\n",
    "\n",
    "            if container_type == \"list\":\n",
    "                def new_condition(info):\n",
    "                    objs = info.get(\"objects\", None)\n",
    "                    container_type_check = isinstance(objs, list)\n",
    "                    return container_type_check and all(map(check_object_type, objs)) and condition_func(info)\n",
    "            elif container_type == \"tuple\":\n",
    "                raise NotImplementedError\n",
    "            elif container_type == \"dict\":\n",
    "                raise NotImplementedError\n",
    "            else:\n",
    "                def new_condition(info):\n",
    "                    # info = { \"object\": obj, ... }\n",
    "                    obj = info.get(\"object\", None)\n",
    "                    return check_object_type(obj) and condition_func(info)\n",
    "            self.condition_func = new_condition\n",
    "        else:\n",
    "            self.condition_func = condition_func\n",
    "\n",
    "    def __call__(self, info):\n",
    "        return self.hook_func(info)\n",
    "    \n",
    "    def condition(self, info):\n",
    "        return self.condition_func(info)"
   ]
  },
  {
   "cell_type": "code",
   "execution_count": null,
   "metadata": {},
   "outputs": [],
   "source": []
  },
  {
   "cell_type": "code",
   "execution_count": 55,
   "metadata": {
    "ExecuteTime": {
     "end_time": "2022-05-04T20:25:53.518948Z",
     "start_time": "2022-05-04T20:25:53.466463Z"
    }
   },
   "outputs": [
    {
     "name": "stdout",
     "output_type": "stream",
     "text": [
      "Appending to ./src/hook.py\n"
     ]
    }
   ],
   "source": [
    "class FunctionHook(Hook):\n",
    "    def __init__(self, func, condition_func=lambda info: True, name=None, **kwargs_exp):\n",
    "        \"\"\"\n",
    "\n",
    "        kwargs_exp: experimental keyword aruguments\n",
    "        * skip_wehn_error\n",
    "        * object_type: type\n",
    "        * container_type (Optional[str]): literal: list, tuple, dict\n",
    "        \"\"\"\n",
    "        self.hook_func = func\n",
    "        self.hook_name = name\n",
    "        #self.condition_func = condition_func\n",
    "        \n",
    "        if \"skip_when_error\" in kwargs_exp:\n",
    "            self.skip_when_error = kwargs_exp[\"skip_when_error\"]# not used yet\n",
    "\n",
    "        if \"object_type\" in kwargs_exp:\n",
    "            target_object_type = kwargs_exp[\"object_type\"]\n",
    "            container_type = kwargs_exp.get(\"container_type\", None)\n",
    "            def check_object_type(obj):### [ARG]: should use higher order function ?\n",
    "                # nonlocal target_object_type\n",
    "                return isinstance(obj, target_object_type)\n",
    "\n",
    "            if container_type == \"list\":\n",
    "                def new_condition(info):\n",
    "                    #print(\"[LOG: hook-coondition]\")\n",
    "                    objs = info.get(\"objects\", None)\n",
    "                    container_type_check = isinstance(objs, list)\n",
    "                    return container_type_check and all(map(check_object_type, objs)) and condition_func(info)\n",
    "            elif container_type == \"tuple\":\n",
    "                raise NotImplementedError\n",
    "            elif container_type == \"dict\":\n",
    "                raise NotImplementedError\n",
    "            else:\n",
    "                def new_condition(info):\n",
    "                    # info = { \"object\": obj, ... }\n",
    "                    obj = info.get(\"object\", None)\n",
    "                    return check_object_type(obj) and condition_func(info)\n",
    "            self.condition_func = new_condition\n",
    "        else:\n",
    "            self.condition_func = condition_func\n",
    "\n",
    "    def __call__(self, info):\n",
    "        return self.hook_func(info)\n",
    "\n",
    "    def condition(self, info) -> bool:\n",
    "        return self.condition_func(info)\n",
    "\n",
    "    def __repr__(self) -> str:\n",
    "        if self.hook_name is not None:\n",
    "            return self.hook_name\n",
    "        else:\n",
    "            return repr(self.hook_func)"
   ]
  },
  {
   "cell_type": "markdown",
   "metadata": {},
   "source": [
    "### working"
   ]
  },
  {
   "cell_type": "code",
   "execution_count": 41,
   "metadata": {
    "ExecuteTime": {
     "end_time": "2021-04-14T13:54:32.040477Z",
     "start_time": "2021-04-14T13:54:32.008199Z"
    }
   },
   "outputs": [
    {
     "ename": "NameError",
     "evalue": "name 'call_hooks' is not defined",
     "output_type": "error",
     "traceback": [
      "\u001b[0;31m---------------------------------------------------------------------------\u001b[0m",
      "\u001b[0;31mNameError\u001b[0m                                 Traceback (most recent call last)",
      "\u001b[0;32m<ipython-input-41-6f869a9f7c4a>\u001b[0m in \u001b[0;36m<module>\u001b[0;34m\u001b[0m\n\u001b[0;32m----> 1\u001b[0;31m \u001b[0mcall_hooks\u001b[0m\u001b[0;34m(\u001b[0m\u001b[0;34m[\u001b[0m\u001b[0mFunctionHook\u001b[0m\u001b[0;34m(\u001b[0m\u001b[0mcheck_path_existence\u001b[0m\u001b[0;34m)\u001b[0m\u001b[0;34m]\u001b[0m\u001b[0;34m,\u001b[0m \u001b[0;34m{\u001b[0m\u001b[0;34m\"path\"\u001b[0m\u001b[0;34m:\u001b[0m\u001b[0;34m\"./tmp.csv\"\u001b[0m\u001b[0;34m}\u001b[0m\u001b[0;34m)\u001b[0m\u001b[0;34m\u001b[0m\u001b[0;34m\u001b[0m\u001b[0m\n\u001b[0m",
      "\u001b[0;31mNameError\u001b[0m: name 'call_hooks' is not defined"
     ]
    }
   ],
   "source": [
    "call_hooks([FunctionHook(check_path_existence)], {\"path\":\"./tmp.csv\"})"
   ]
  },
  {
   "cell_type": "code",
   "execution_count": 295,
   "metadata": {
    "ExecuteTime": {
     "end_time": "2021-04-04T15:43:45.431742Z",
     "start_time": "2021-04-04T15:43:45.405376Z"
    }
   },
   "outputs": [
    {
     "ename": "AssertionError",
     "evalue": "",
     "output_type": "error",
     "traceback": [
      "\u001b[0;31m---------------------------------------------------------------------------\u001b[0m",
      "\u001b[0;31mAssertionError\u001b[0m                            Traceback (most recent call last)",
      "\u001b[0;32m<ipython-input-295-6a1f3a7e1569>\u001b[0m in \u001b[0;36m<module>\u001b[0;34m\u001b[0m\n\u001b[0;32m----> 1\u001b[0;31m \u001b[0mFunctionEvent\u001b[0m\u001b[0;34m(\u001b[0m\u001b[0mcheck_path_existence\u001b[0m\u001b[0;34m)\u001b[0m\u001b[0;34m(\u001b[0m\u001b[0;34m{\u001b[0m\u001b[0;34m\"path\"\u001b[0m\u001b[0;34m:\u001b[0m\u001b[0;34m\"./tmp.cs\"\u001b[0m\u001b[0;34m}\u001b[0m\u001b[0;34m)\u001b[0m\u001b[0;34m\u001b[0m\u001b[0;34m\u001b[0m\u001b[0m\n\u001b[0m",
      "\u001b[0;32m<ipython-input-293-d34138946a27>\u001b[0m in \u001b[0;36m__call__\u001b[0;34m(self, info)\u001b[0m\n\u001b[1;32m     11\u001b[0m \u001b[0;34m\u001b[0m\u001b[0m\n\u001b[1;32m     12\u001b[0m     \u001b[0;32mdef\u001b[0m \u001b[0m__call__\u001b[0m\u001b[0;34m(\u001b[0m\u001b[0mself\u001b[0m\u001b[0;34m,\u001b[0m \u001b[0minfo\u001b[0m\u001b[0;34m)\u001b[0m\u001b[0;34m:\u001b[0m\u001b[0;34m\u001b[0m\u001b[0;34m\u001b[0m\u001b[0m\n\u001b[0;32m---> 13\u001b[0;31m         \u001b[0;32mreturn\u001b[0m \u001b[0mself\u001b[0m\u001b[0;34m.\u001b[0m\u001b[0mevent_func\u001b[0m\u001b[0;34m(\u001b[0m\u001b[0minfo\u001b[0m\u001b[0;34m)\u001b[0m\u001b[0;34m\u001b[0m\u001b[0;34m\u001b[0m\u001b[0m\n\u001b[0m\u001b[1;32m     14\u001b[0m \u001b[0;34m\u001b[0m\u001b[0m\n\u001b[1;32m     15\u001b[0m \u001b[0;32mclass\u001b[0m \u001b[0mPILResizeEvent\u001b[0m\u001b[0;34m(\u001b[0m\u001b[0mEvent\u001b[0m\u001b[0;34m)\u001b[0m\u001b[0;34m:\u001b[0m\u001b[0;34m\u001b[0m\u001b[0;34m\u001b[0m\u001b[0m\n",
      "\u001b[0;32m<ipython-input-231-060f75872f65>\u001b[0m in \u001b[0;36mcheck_path_existence\u001b[0;34m(info)\u001b[0m\n\u001b[1;32m      1\u001b[0m \u001b[0;32mdef\u001b[0m \u001b[0mcheck_path_existence\u001b[0m\u001b[0;34m(\u001b[0m\u001b[0minfo\u001b[0m\u001b[0;34m)\u001b[0m\u001b[0;34m:\u001b[0m\u001b[0;34m\u001b[0m\u001b[0;34m\u001b[0m\u001b[0m\n\u001b[1;32m      2\u001b[0m     \u001b[0mpath\u001b[0m \u001b[0;34m=\u001b[0m \u001b[0minfo\u001b[0m\u001b[0;34m[\u001b[0m\u001b[0;34m\"path\"\u001b[0m\u001b[0;34m]\u001b[0m\u001b[0;34m\u001b[0m\u001b[0;34m\u001b[0m\u001b[0m\n\u001b[0;32m----> 3\u001b[0;31m     \u001b[0;32massert\u001b[0m \u001b[0mos\u001b[0m\u001b[0;34m.\u001b[0m\u001b[0mpath\u001b[0m\u001b[0;34m.\u001b[0m\u001b[0mexists\u001b[0m\u001b[0;34m(\u001b[0m\u001b[0mpath\u001b[0m\u001b[0;34m)\u001b[0m\u001b[0;34m\u001b[0m\u001b[0;34m\u001b[0m\u001b[0m\n\u001b[0m",
      "\u001b[0;31mAssertionError\u001b[0m: "
     ]
    }
   ],
   "source": [
    "FunctionEvent(check_path_existence)({\"path\":\"./tmp.cs\"})"
   ]
  },
  {
   "cell_type": "markdown",
   "metadata": {},
   "source": [
    "### backup"
   ]
  },
  {
   "cell_type": "markdown",
   "metadata": {},
   "source": [
    "## Event"
   ]
  },
  {
   "cell_type": "markdown",
   "metadata": {},
   "source": [
    "### definition"
   ]
  },
  {
   "cell_type": "markdown",
   "metadata": {
    "ExecuteTime": {
     "end_time": "2021-04-14T13:53:40.558255Z",
     "start_time": "2021-04-14T13:53:40.545300Z"
    }
   },
   "source": [
    "class EventManager():\n",
    "    events = {}\n",
    "    @classmethod\n",
    "    def add_events(cls, event: Event):\n",
    "        print(event.name)\n",
    "        events.update({ \"1\": event })"
   ]
  },
  {
   "cell_type": "markdown",
   "metadata": {},
   "source": [
    "eventをクラスで定義すべきか、インスタンスで定義すべきか？\n",
    "\n",
    "ユーザが独自にEventを作成することは念頭に置いていない"
   ]
  },
  {
   "cell_type": "markdown",
   "metadata": {},
   "source": [
    "#### core"
   ]
  },
  {
   "cell_type": "code",
   "execution_count": 134,
   "metadata": {
    "ExecuteTime": {
     "end_time": "2022-05-11T18:39:48.888303Z",
     "start_time": "2022-05-11T18:39:48.864005Z"
    }
   },
   "outputs": [
    {
     "name": "stdout",
     "output_type": "stream",
     "text": [
      "Writing ./brane/core/event.py\n"
     ]
    }
   ],
   "source": [
    "%%writefile {EVENT_PY}\n",
    "from __future__ import annotations"
   ]
  },
  {
   "cell_type": "code",
   "execution_count": 135,
   "metadata": {
    "ExecuteTime": {
     "end_time": "2022-05-11T18:39:49.418295Z",
     "start_time": "2022-05-11T18:39:49.147034Z"
    }
   },
   "outputs": [],
   "source": [
    "!echo '{generate_import(TYPE_PY, \"*\")}' >> {EVENT_PY}\n",
    "!echo '{generate_import(HOOK_PY, \"Hook\")}' >> {EVENT_PY}"
   ]
  },
  {
   "cell_type": "code",
   "execution_count": 136,
   "metadata": {
    "ExecuteTime": {
     "end_time": "2022-05-11T18:39:49.517841Z",
     "start_time": "2022-05-11T18:39:49.492950Z"
    }
   },
   "outputs": [
    {
     "name": "stdout",
     "output_type": "stream",
     "text": [
      "Appending to ./brane/core/event.py\n"
     ]
    }
   ],
   "source": [
    "%%writefile -a {EVENT_PY}\n",
    "\n",
    "#HookFuncType = Hook\n",
    "ObjOrMultipleTypeGenerator = lambda T: Union[T, List[T], Tuple[T], Set[T]] # [ARG]: better name ?\n",
    "\n",
    "def convert_obj_into_list(obj) -> list:# convert_iterator ?\n",
    "    if isinstance(obj, list):\n",
    "        return list(obj)\n",
    "    elif isinstance(obj, tuple):\n",
    "        return list(obj)\n",
    "    elif isinstance(obj, set):\n",
    "        return list(obj)\n",
    "    else:\n",
    "        return [obj]\n",
    "\n",
    "\n",
    "class Event(EventClassType):\n",
    "    #def __new__(cls):\n",
    "    #    self = super().__new__(cls)### temporal ?\n",
    "    #    EventManager.add_events(self)\n",
    "    #    return self\n",
    "\n",
    "    def __init__(self, event_name: str = \"\", hook_funcs: Optional[ObjOrMultipleTypeGenerator(HookClassType)] = None):\n",
    "        if hook_funcs:\n",
    "            self.hooks = convert_obj_into_list(hook_funcs)\n",
    "        else:\n",
    "            self.hooks = []\n",
    "        self.event_name = event_name\n",
    "\n",
    "    #def add_hook_func(self, hook_funcs: ObjOrMultipleTypeGenerator(HookFuncType)):\n",
    "    #@classmethod\n",
    "    def add_hooks(self, hook_funcs: ObjOrMultipleTypeGenerator(HookClassType)):\n",
    "        hook_funcs = convert_obj_into_list(hook_funcs)\n",
    "        #self.hooks.extend(hook_funcs)\n",
    "        self.hooks.extend(hook_funcs)\n",
    "\n",
    "    #@classmethod\n",
    "    def clear_hooks(self):\n",
    "        self.hooks = []\n",
    "\n",
    "    def check_flag(self, flag: Optional[Union[str, set(str)]]) -> bool:\n",
    "        if flag is None:\n",
    "            flag = set()\n",
    "        elif isinstance(flag, str):\n",
    "            flag = set(flag)\n",
    "        # [TODO]: implement\n",
    "        return True\n",
    "\n",
    "    #def call_hooks(hooks, info):\n",
    "    #def fire(self, info):\n",
    "    #@classmethod\n",
    "    def fire(self, info: ContextInterface):\n",
    "        #for hook in self.hooks:\n",
    "        for hook in self.hooks:\n",
    "            if hook.active and self.check_flag(hook.flag) and hook.condition(info):\n",
    "                res = hook(info)\n",
    "                #if isinstance(res, dict): => if hook.return_as_context: (because it is not true for object is dict)\n",
    "                #    info.update(res)\n",
    "                #elif res is None:\n",
    "                if res is None:\n",
    "                    pass\n",
    "                else:\n",
    "                    info.update({ \"object\": res })\n",
    "        return info\n",
    "    \n",
    "    def __repr__(self):\n",
    "        return \"\\n\".join([ f\"{i}. {repr(hook)}\" for i, hook in enumerate(self.hooks, start=1) ])"
   ]
  },
  {
   "cell_type": "markdown",
   "metadata": {},
   "source": [
    "#### libs"
   ]
  },
  {
   "cell_type": "code",
   "execution_count": 137,
   "metadata": {
    "ExecuteTime": {
     "end_time": "2022-05-11T18:39:52.622793Z",
     "start_time": "2022-05-11T18:39:52.599402Z"
    }
   },
   "outputs": [
    {
     "name": "stdout",
     "output_type": "stream",
     "text": [
      "Writing ./brane/libs/events.py\n"
     ]
    }
   ],
   "source": [
    "%%writefile {LIB_EVENT_PY}\n",
    "from __future__ import annotations"
   ]
  },
  {
   "cell_type": "code",
   "execution_count": 138,
   "metadata": {
    "ExecuteTime": {
     "end_time": "2022-05-11T18:39:53.608871Z",
     "start_time": "2022-05-11T18:39:53.354998Z"
    }
   },
   "outputs": [],
   "source": [
    "!echo '{generate_import(TYPE_PY, \"*\")}' >> {LIB_EVENT_PY}\n",
    "!echo '{generate_import(EVENT_PY, \"Event\")}' >> {LIB_EVENT_PY}"
   ]
  },
  {
   "cell_type": "code",
   "execution_count": 139,
   "metadata": {
    "ExecuteTime": {
     "end_time": "2022-05-11T18:39:53.999990Z",
     "start_time": "2022-05-11T18:39:53.961960Z"
    }
   },
   "outputs": [
    {
     "name": "stdout",
     "output_type": "stream",
     "text": [
      "Appending to ./brane/libs/events.py\n"
     ]
    }
   ],
   "source": [
    "%%writefile -a {LIB_EVENT_PY}\n",
    "\n",
    "class BasicEvents:\n",
    "    read_pre = Event(event_name=\"read_pre\")\n",
    "    read_post = Event(event_name=\"read_post\")\n",
    "    write_pre = Event(event_name=\"write_pre\")\n",
    "    write_post = Event(event_name=\"write_post\")\n",
    "\n",
    "    readall_pre = Event(event_name=\"readall_pre\")\n",
    "    readall_post = Event(event_name=\"readall_post\")\n",
    "    writeall_pre = Event(event_name=\"writeall_pre\")\n",
    "    writeall_post = Event(event_name=\"writeall_post\")"
   ]
  },
  {
   "cell_type": "markdown",
   "metadata": {
    "ExecuteTime": {
     "end_time": "2022-04-29T03:26:52.513243Z",
     "start_time": "2022-04-29T03:26:52.491596Z"
    }
   },
   "source": [
    "%%writefile -a {LIB_EVENT_PY}\n",
    "from src.base import Event\n",
    "class ReadPreEvent(Event):\n",
    "    hooks = []\n",
    "\n",
    "class ReadPostEvent(Event):\n",
    "    hooks = []\n",
    "\n",
    "class WritePreEvent(Event):\n",
    "    hooks = []\n",
    "\n",
    "class WritePostEvent(Event):\n",
    "    hooks = []\n",
    "\n",
    "class ReadAllPreEvent(Event):\n",
    "    hooks = []\n",
    "\n",
    "class ReadAllPostEvent(Event):\n",
    "    hooks = []\n",
    "\n",
    "class WriteAllPreEvent(Event):\n",
    "    hooks = []\n",
    "\n",
    "class WriteAllPostEvent(Event):\n",
    "    hooks = []"
   ]
  },
  {
   "cell_type": "markdown",
   "metadata": {},
   "source": [
    "##### hook"
   ]
  },
  {
   "cell_type": "markdown",
   "metadata": {
    "ExecuteTime": {
     "end_time": "2021-04-13T13:19:07.520997Z",
     "start_time": "2021-04-13T13:19:07.516622Z"
    }
   },
   "source": [
    "read_pre_event.add_hook_func(check_path_existence)\n",
    "write_pre_event.add_hook_func(create_parent_directory)"
   ]
  },
  {
   "cell_type": "code",
   "execution_count": 140,
   "metadata": {
    "ExecuteTime": {
     "end_time": "2022-05-11T18:40:06.812330Z",
     "start_time": "2022-05-11T18:40:06.542720Z"
    }
   },
   "outputs": [],
   "source": [
    "!echo '{generate_import(HOOK_PY, \"FunctionHook\")}' >> {LIB_EVENT_PY}\n",
    "!echo '{generate_import(LIB_HOOK_PY, \"check_path_existence, create_parent_directory\")}' >> {LIB_EVENT_PY}"
   ]
  },
  {
   "cell_type": "code",
   "execution_count": 141,
   "metadata": {
    "ExecuteTime": {
     "end_time": "2022-05-11T18:40:07.786850Z",
     "start_time": "2022-05-11T18:40:07.760799Z"
    }
   },
   "outputs": [
    {
     "name": "stdout",
     "output_type": "stream",
     "text": [
      "Appending to ./brane/libs/events.py\n"
     ]
    }
   ],
   "source": [
    "%%writefile -a {LIB_EVENT_PY}\n",
    "BasicEvents.read_pre.add_hooks(FunctionHook(check_path_existence))\n",
    "BasicEvents.write_pre.add_hooks(FunctionHook(create_parent_directory))"
   ]
  },
  {
   "cell_type": "markdown",
   "metadata": {
    "ExecuteTime": {
     "end_time": "2022-05-03T09:59:02.676206Z",
     "start_time": "2022-05-03T09:59:02.654472Z"
    }
   },
   "source": [
    "%%writefile -a {LIB_EVENT_PY}\n",
    "#from ext.events import ReadPreEvent, WritePreEvent\n",
    "from src.base import FunctionHook\n",
    "from ext.hooks import check_path_existence, create_parent_directory"
   ]
  },
  {
   "cell_type": "markdown",
   "metadata": {},
   "source": [
    "### test"
   ]
  },
  {
   "cell_type": "code",
   "execution_count": 144,
   "metadata": {
    "ExecuteTime": {
     "end_time": "2022-05-11T18:40:20.570105Z",
     "start_time": "2022-05-11T18:40:20.549372Z"
    }
   },
   "outputs": [],
   "source": [
    "from brane.libs.events import BasicEvents"
   ]
  },
  {
   "cell_type": "code",
   "execution_count": 145,
   "metadata": {
    "ExecuteTime": {
     "end_time": "2022-05-11T18:40:20.831258Z",
     "start_time": "2022-05-11T18:40:20.811324Z"
    }
   },
   "outputs": [
    {
     "data": {
      "text/plain": [
       "('read_pre', [<function check_path_existence at 0x7f24af56bf70>])"
      ]
     },
     "execution_count": 145,
     "metadata": {},
     "output_type": "execute_result"
    }
   ],
   "source": [
    "BasicEvents.read_pre.event_name, BasicEvents.read_pre.hooks"
   ]
  },
  {
   "cell_type": "code",
   "execution_count": 146,
   "metadata": {
    "ExecuteTime": {
     "end_time": "2022-05-11T18:40:21.772318Z",
     "start_time": "2022-05-11T18:40:21.750977Z"
    }
   },
   "outputs": [
    {
     "data": {
      "text/plain": [
       "('read_post', [])"
      ]
     },
     "execution_count": 146,
     "metadata": {},
     "output_type": "execute_result"
    }
   ],
   "source": [
    "BasicEvents.read_post.event_name, BasicEvents.read_post.hooks"
   ]
  },
  {
   "cell_type": "code",
   "execution_count": 147,
   "metadata": {
    "ExecuteTime": {
     "end_time": "2022-05-11T18:40:22.586912Z",
     "start_time": "2022-05-11T18:40:22.556635Z"
    }
   },
   "outputs": [
    {
     "data": {
      "text/plain": [
       "1. <function check_path_existence at 0x7f24af56bf70>\n",
       "2. my_hook"
      ]
     },
     "execution_count": 147,
     "metadata": {},
     "output_type": "execute_result"
    }
   ],
   "source": [
    "BasicEvents.read_pre.add_hooks(FunctionHook(func=lambda x:x, name=\"my_hook\"))\n",
    "BasicEvents.read_pre"
   ]
  },
  {
   "cell_type": "code",
   "execution_count": 148,
   "metadata": {
    "ExecuteTime": {
     "end_time": "2022-05-11T18:40:22.850870Z",
     "start_time": "2022-05-11T18:40:22.831477Z"
    }
   },
   "outputs": [
    {
     "data": {
      "text/plain": [
       "1. <function check_path_existence at 0x7f24af56bf70>\n",
       "2. my_hook"
      ]
     },
     "execution_count": 148,
     "metadata": {},
     "output_type": "execute_result"
    }
   ],
   "source": [
    "BasicEvents.read_pre"
   ]
  },
  {
   "cell_type": "code",
   "execution_count": null,
   "metadata": {},
   "outputs": [],
   "source": []
  },
  {
   "cell_type": "code",
   "execution_count": null,
   "metadata": {},
   "outputs": [],
   "source": []
  },
  {
   "cell_type": "markdown",
   "metadata": {},
   "source": [
    "## IOManager"
   ]
  },
  {
   "cell_type": "markdown",
   "metadata": {},
   "source": [
    "* ToDo:\n",
    "    + wrap raw function event to event class automatically"
   ]
  },
  {
   "cell_type": "markdown",
   "metadata": {},
   "source": [
    "### definition"
   ]
  },
  {
   "cell_type": "markdown",
   "metadata": {},
   "source": [
    "* ToDo: hookに渡すinfoもクラス化する ??"
   ]
  },
  {
   "cell_type": "markdown",
   "metadata": {},
   "source": [
    "BasicEventsはextension module (= EXT_XXXで指定されるファイル)に配置されているが、\n",
    "MAINがそれに依存してよいか？"
   ]
  },
  {
   "cell_type": "code",
   "execution_count": 63,
   "metadata": {
    "ExecuteTime": {
     "end_time": "2022-05-12T18:25:21.123898Z",
     "start_time": "2022-05-12T18:25:21.035695Z"
    },
    "scrolled": true
   },
   "outputs": [
    {
     "name": "stdout",
     "output_type": "stream",
     "text": [
      "Overwriting ./brane/core/iomanager.py\n"
     ]
    }
   ],
   "source": [
    "%%writefile {MAIN_PY}\n",
    "from __future__ import annotations"
   ]
  },
  {
   "cell_type": "code",
   "execution_count": 64,
   "metadata": {
    "ExecuteTime": {
     "end_time": "2022-05-12T18:25:22.011329Z",
     "start_time": "2022-05-12T18:25:21.267476Z"
    }
   },
   "outputs": [],
   "source": [
    "!echo '{generate_import(TYPE_PY, \"*\")}' >> {MAIN_PY}\n",
    "!echo '{generate_import(BASE_PY, \"Context\")}' >> {MAIN_PY}\n",
    "!echo '{generate_import(MAPPER_PY, \"Extension2Module, Extension2Format, ObjectFormat2Module\")}' >> {MAIN_PY}\n",
    "!echo '{generate_import(HOOK_PY, \"FunctionHook, Hook\")}' >> {MAIN_PY}\n",
    "!echo '{generate_import(LIB_EVENT_PY, \"BasicEvents\")}' >> {MAIN_PY}\n",
    "!echo '{generate_import(UTILS_PY, \"get_extension_from_filname_default, integrate_args, integrate_kwargs\")}' >> {MAIN_PY}"
   ]
  },
  {
   "cell_type": "code",
   "execution_count": 65,
   "metadata": {
    "ExecuteTime": {
     "end_time": "2022-05-12T18:25:22.056439Z",
     "start_time": "2022-05-12T18:25:22.018150Z"
    }
   },
   "outputs": [
    {
     "name": "stdout",
     "output_type": "stream",
     "text": [
      "Appending to ./brane/core/iomanager.py\n"
     ]
    }
   ],
   "source": [
    "%%writefile -a {MAIN_PY}\n",
    "### temporal just activate class definitions\n",
    "from brane.libs.modules import PILModule\n",
    "from brane.libs.formats import TableType\n",
    "from brane.libs.objects import PIL_Image_Object\n",
    "from brane.libs.extensions import info"
   ]
  },
  {
   "cell_type": "code",
   "execution_count": 66,
   "metadata": {
    "ExecuteTime": {
     "end_time": "2022-05-12T18:25:22.082728Z",
     "start_time": "2022-05-12T18:25:22.060026Z"
    }
   },
   "outputs": [
    {
     "name": "stdout",
     "output_type": "stream",
     "text": [
      "Appending to ./brane/core/iomanager.py\n"
     ]
    }
   ],
   "source": [
    "%%writefile -a {MAIN_PY}\n",
    "from pathlib import Path\n",
    "# [ARG]: moved to hook.py ?\n",
    "\n",
    "class HookManager(object):\n",
    "    \"\"\" This is a temporal class.\n",
    "    [ARGS]:\n",
    "    * consider better class name\n",
    "    * refactor this class\n",
    "    \"\"\"\n",
    "    @classmethod\n",
    "    def get_hook_class(cls, hook, **hook_kwargs):\n",
    "        if isinstance(hook, Hook):\n",
    "            return hook\n",
    "        else:### detail check ?\n",
    "            return FunctionHook(hook, **hook_kwargs)\n",
    "\n",
    "    @classmethod\n",
    "    def connect_hook_and_event(cls, event, hook, **hook_kwargs):\n",
    "        hook = cls.get_hook_class(hook, **hook_kwargs)\n",
    "        event.add_hooks(hook)\n",
    "\n",
    "    @classmethod\n",
    "    def register_read_pre_hook(cls, hook, **hook_kwargs):\n",
    "        cls.connect_hook_and_event(BasicEvents.read_pre, hook, **hook_kwargs)\n",
    "\n",
    "    @classmethod\n",
    "    def register_read_post_hook(cls, hook, **hook_kwargs):\n",
    "        cls.connect_hook_and_event(BasicEvents.read_post, hook, **hook_kwargs)\n",
    "\n",
    "    @classmethod\n",
    "    def register_write_pre_hook(cls, hook, **hook_kwargs):\n",
    "        cls.connect_hook_and_event(BasicEvents.write_pre, hook, **hook_kwargs)\n",
    "\n",
    "    @classmethod\n",
    "    def register_write_post_hook(cls, hook, **hook_kwargs):\n",
    "        cls.connect_hook_and_event(BasicEvents.write_post, hook, **hook_kwargs)\n",
    "\n",
    "    @classmethod\n",
    "    def register_read_all_post_hook(cls, hook, **hook_kwargs):\n",
    "        func = FunctionHook(hook, container_type=\"list\", **hook_kwargs)### temporal\n",
    "        #ReadAllPostEvent.add_hooks(func)\n",
    "        BasicEvents.readall_post.add_hooks(func)\n",
    "        # use cls.connect_hook_and_event\n",
    "\n",
    "    @classmethod\n",
    "    def register_write_all_post_hook(cls, hook, **hook_kwargs):\n",
    "        raise NotImplementedError\n",
    "\n",
    "    @classmethod\n",
    "    def clear_hooks(cls, event):\n",
    "        event.clear_hooks()\n",
    "\n",
    "    @classmethod\n",
    "    def clear_read_pre_hook(cls):\n",
    "        cls.clear_hooks(BasicEvents.read_pre)\n",
    "\n",
    "    @classmethod\n",
    "    def clear_read_post_hook(cls):\n",
    "        cls.clear_hooks(BasicEvents.read_post)\n",
    "\n",
    "    @classmethod\n",
    "    def clear_write_pre_hook(cls):\n",
    "        cls.clear_hooks(BasicEvents.write_pre)\n",
    "\n",
    "    @classmethod\n",
    "    def clear_write_post_hook(cls):\n",
    "        cls.clear_hooks(BasicEvents.write_post)\n",
    "\n",
    "    @classmethod\n",
    "    def clear_read_all_post_hook(cls):\n",
    "        raise NotImplementedError\n",
    "\n",
    "    @classmethod\n",
    "    def clear_write_all_post_hook(cls):\n",
    "        raise NotImplementedError"
   ]
  },
  {
   "cell_type": "code",
   "execution_count": 67,
   "metadata": {
    "ExecuteTime": {
     "end_time": "2022-05-12T18:25:23.182286Z",
     "start_time": "2022-05-12T18:25:23.098436Z"
    }
   },
   "outputs": [
    {
     "name": "stdout",
     "output_type": "stream",
     "text": [
      "Appending to ./brane/core/iomanager.py\n"
     ]
    }
   ],
   "source": [
    "%%writefile -a {MAIN_PY}\n",
    "\n",
    "class IOLogger(object):\n",
    "    \"v4.2\"\n",
    "    # for debug at this stage\n",
    "    log = []\n",
    "\n",
    "class IOManager(HookManager):\n",
    "    \"\"\"\n",
    "    [ARGS]\n",
    "    * refactor for better implementation\n",
    "    * use mixin ?\n",
    "    \"\"\"\n",
    "\n",
    "    get_extension_from_filename = get_extension_from_filname_default\n",
    "    logger = IOLogger()\n",
    "    \n",
    "    @classmethod\n",
    "    def read(cls, path, *args, **kwargs):# add args and kwargs\n",
    "        ext = cls.get_extension_from_filename(path)\n",
    "        #Fmt = Extension2Format.get_format(ext)\n",
    "        #if Fmt is None:\n",
    "        #    raise NotImplementedError(f\"Cannot find the corresponding format for given extension {ext}\")\n",
    "        Mdl = Extension2Module.get_module(ext)\n",
    "        if Mdl is None:\n",
    "            raise NotImplementedError(f\"Cannot find the corresponding module for given extension {ext}\")\n",
    "        Mdl.load_modules()\n",
    "\n",
    "        #context = { \"path\": path, \"ext\": ext, \"Format\": Fmt }\n",
    "        context: ContextInterface = Context({ \"path\": path, \"ext\": ext, \"Module\": Mdl })# add Fmt as supplementary ?\n",
    "        context = BasicEvents.read_pre.fire(context)\n",
    "        path = context[\"path\"]\n",
    "        base_args = context.get(\"args\", ())\n",
    "        base_kwargs = context.get(\"kwargs\", {})\n",
    "        base_args = integrate_args(base_args, args)\n",
    "        base_kwargs = integrate_kwargs(base_kwargs, kwargs)\n",
    "\n",
    "        cls.logger.log.append( { \"path\": path, \"ext\": ext, \"module\": Mdl.name, \"args\": args, \"kwargs\": kwargs } )\n",
    "        obj = Mdl.read(file=path, *base_args, **base_kwargs)\n",
    "\n",
    "        context.update({ \"object\": obj })\n",
    "        context = BasicEvents.read_post.fire(context)\n",
    "        obj = context[\"object\"]\n",
    "        return obj\n",
    "    \n",
    "    @classmethod\n",
    "    def read_all_as_list(cls, multiple_paths: list[str], read_args: tuple = (), read_kwargs: dict = {}, *args, **kwargs):\n",
    "        paths: list = []\n",
    "        if isinstance(multiple_paths, str):\n",
    "            import glob\n",
    "            paths = glob.glob(multiple_paths, recursive=True)\n",
    "        elif isinstance(multiple_paths, list):# [TODO]: include tuple ?\n",
    "            assert all(map(lambda path: isinstance(path, str), multiple_paths))\n",
    "            paths = multiple_paths\n",
    "        else:\n",
    "            raise NotImplementedError\n",
    "        if len(paths) == 0:\n",
    "            return {}\n",
    "\n",
    "        context: ContextInterface = Context({ \"paths\": paths })\n",
    "        context = BasicEvents.readall_pre.fire(context)\n",
    "        objs = []\n",
    "        for path in paths:\n",
    "            obj = cls.read(path=path, *read_args, **read_kwargs)\n",
    "            objs.append(obj)\n",
    "        context.update({ \"objects\": objs })\n",
    "\n",
    "        # experimental\n",
    "        if \"sort_func\" in kwargs:\n",
    "            sort_func = kwargs[\"sort_func\"]\n",
    "            context = sort_func(context)\n",
    "        \n",
    "        context = BasicEvents.readall_post.fire(context)\n",
    "        if \"object\" in context:\n",
    "            return context[\"object\"]\n",
    "        else:\n",
    "            return context[\"objects\"]\n",
    "\n",
    "    @classmethod\n",
    "    def read_all_as_dict(cls, multiple_paths: dict[str, str], read_args: tuple = (), read_kwargs: dict = {}, *args, **kwargs):\n",
    "        paths: dict = {}\n",
    "        if isinstance(multiple_paths, str):\n",
    "            import glob\n",
    "            paths = { path: path for path in glob.glob(multiple_paths, recursive=True) }\n",
    "        elif isinstance(multiple_paths, list):\n",
    "            assert all(map(lambda path: isinstance(path, str), multiple_paths))\n",
    "            paths = { path: path for path in multiple_paths }\n",
    "        elif isinstance(multiple_paths, dict):\n",
    "            assert all(map(lambda path: isinstance(path, str), multiple_paths.values()))\n",
    "            paths = multiple_paths\n",
    "        else:\n",
    "            raise NotImplementedError\n",
    "        if len(paths) == 0:\n",
    "            return {}\n",
    "\n",
    "        context: ContextInterface = Context({ \"paths\": paths })\n",
    "        context = BasicEvents.readall_pre.fire(context)\n",
    "        objs = {}\n",
    "        for key, path in paths.items():\n",
    "            obj = cls.read(path=path, *read_args, **read_kwargs)# [ARG]: parameter 'file' (stream or path ?)\n",
    "            objs.update({ key: obj })\n",
    "        context.update({ \"objects\": objs })\n",
    "\n",
    "        # experimental\n",
    "        if \"sort_func\" in kwargs:\n",
    "            sort_func = kwargs[\"sort_func\"]\n",
    "            context = sort_func(context)\n",
    "\n",
    "        context = BasicEvents.readall_post.fire(context)\n",
    "        if \"object\" in context:\n",
    "            return context[\"object\"]\n",
    "        else:\n",
    "            return context[\"objects\"]\n",
    "\n",
    "    @classmethod\n",
    "    def write(cls, obj, path, *args, **kwargs):# [ARG]: addtional args: ext=None, \n",
    "        ext = cls.get_extension_from_filename(path)\n",
    "        Fmt = Extension2Format.get_format(ext) if ext else None### replace NoneFormat\n",
    "        Mdl = ObjectFormat2Module.get_module_from_object(obj, fmt=Fmt)\n",
    "        if Mdl is None:\n",
    "            raise NotImplementedError(f\"Cannot find the corresponding module for given object type {type(obj)}\")\n",
    "        Mdl.load_modules()\n",
    "\n",
    "        context: ContextInterface = Context({ \"path\": path, \"object\": obj, \"Module\": Mdl })\n",
    "        context = BasicEvents.write_pre.fire(context)\n",
    "        base_args = context.get(\"args\", ())\n",
    "        base_kwargs = context.get(\"kwargs\", {})\n",
    "        base_args = integrate_args(base_args, args)\n",
    "        base_kwargs = integrate_kwargs(base_kwargs, kwargs)\n",
    "\n",
    "        Mdl.write(obj=obj, file=path, *base_args, **base_kwargs)\n",
    "        context = BasicEvents.write_post.fire(context)\n",
    "\n",
    "    @classmethod\n",
    "    def write_all_from_list(cls, obj_list: list, output_dir: Optional[PathType] = None, path_ruler = None,\n",
    "                            write_args: tuple = (), write_kwargs: dict = {}, *args, **kwargs):\n",
    "        # [ARG]: list case is the special case of dict, to say, the index can be seen as the key -> unify two ??\n",
    "        # [TODO]: should allow the iterator...\n",
    "        # path assignemtn option\n",
    "        # 1. output_dir + str(idx)\n",
    "        # 2. path_ruler(obj_list)\n",
    "        # 3. output_dir + path_ruler(obj_list)\n",
    "        if not isinstance(obj_list, list):# [NOTE]: This is used for dynamical check\n",
    "            raise ValueError(f\"obj_list should be python `list` but the actual type is {type(obj_list)}\")# [TODO]: implement some function for value check\n",
    "\n",
    "        paths: list[str, PathType] = []\n",
    "        if output_dir is not None:\n",
    "            if path_ruler is None:\n",
    "                path_ruler = lambda idx: str(idx)\n",
    "            paths = [ Path(output_dir) / path_ruler(idx) for idx in range(len(obj_list)) ]\n",
    "        elif path_ruler is not None:\n",
    "            paths = [ path_ruler(idx) for idx in range(len(obj_list)) ]\n",
    "        else:\n",
    "            raise ValueError(\"Either output_dir or path_ruler should not be None\")\n",
    "\n",
    "        context: ContextInterface = Context({ \"paths\": paths, \"objects\": obj_list })\n",
    "        context = BasicEvents.writeall_pre.fire(context)\n",
    "        for idx, obj in enumerate(obj_list):\n",
    "            path = paths[idx]\n",
    "            cls.write(obj=obj, path=path, *write_args, **write_kwargs)\n",
    "\n",
    "        context = BasicEvents.writeall_post.fire(context)\n",
    "\n",
    "    @classmethod\n",
    "    def write_all_from_dict(cls, obj_dict: dict, output_dir: Optional[PathType] = None, path_ruler = None,\n",
    "                            write_args: tuple = (), write_kwargs: dict = {}, *args, **kwargs):\n",
    "        # path assignemtn option\n",
    "        # 1. output_dir + key\n",
    "        # 2. path_ruler(obj_dict)\n",
    "        # 3. output_dir + path_ruler(obj_dict)\n",
    "        if not isinstance(obj_dict, dict):# [NOTE]: This is used for dynamical check\n",
    "            raise ValueError(f\"obj_dict should be python `dict` but the actual type is {type(obj_dict)}\")\n",
    "\n",
    "        paths: dict[str, PathType] = {}\n",
    "        if output_dir is not None:\n",
    "            if path_ruler is None:\n",
    "                path_ruler = lambda key: key\n",
    "            paths = { key: Path(output_dir) / path_ruler(key) for key in obj_dict.keys() }\n",
    "        elif path_ruler is not None:\n",
    "            paths = { key: path_ruler(key) for key in obj_dict.keys() }\n",
    "        else:\n",
    "            raise ValueError(\"Either output_dir or path_ruler should not be None\")\n",
    "\n",
    "        context: ContextInterface = Context({ \"paths\": paths, \"objects\": obj_dict })\n",
    "        context = BasicEvents.writeall_pre.fire(context)\n",
    "        for key, obj in obj_dict.items():\n",
    "            path = paths[key]\n",
    "            cls.write(obj=obj, path=path, *write_args, **write_kwargs)\n",
    "\n",
    "        context = BasicEvents.writeall_post.fire(context)"
   ]
  },
  {
   "cell_type": "markdown",
   "metadata": {},
   "source": [
    "* dictなのかlistなのか、のcontainer_typeの情報をcontextに加える"
   ]
  },
  {
   "cell_type": "markdown",
   "metadata": {},
   "source": [
    "### test"
   ]
  },
  {
   "cell_type": "code",
   "execution_count": 3,
   "metadata": {
    "ExecuteTime": {
     "end_time": "2022-05-11T18:53:22.616458Z",
     "start_time": "2022-05-11T18:53:22.582837Z"
    },
    "scrolled": true
   },
   "outputs": [
    {
     "name": "stdout",
     "output_type": "stream",
     "text": [
      "[DEBUG]: register cls.name = None, cls = <class 'brane.core.module.Module'>\n",
      "[DEBUG]: register cls.name = None, cls = <class 'brane.core.format.Format'>\n",
      "[DEBUG]: register cls.name = Object, cls = <class 'brane.core.object.Object'>\n",
      "[DEBUG]: in MetaExtension ext_name=None fmt=<class 'brane.core.format.Format'> class_info={'__module__': 'brane.core.extension', '__qualname__': 'Extension', 'name': None, 'format': None, 'variation': [], 'preprocess': <function normalize_extension_default at 0x7f8acc407dc0>, '_registered_subclasses': {}, 'registered_extensions': {}}\n",
      "[DEBUG]: register cls.name = None, cls = <class 'brane.core.extension.Extension'>\n",
      "[DEBUG]: in MetaExtension ext_name=None fmt=<class 'brane.core.format.Format'> class_info={'__module__': 'brane.core.extension', '__qualname__': 'NoneExtension', 'valid': False}\n",
      "[DEBUG]: register cls.name = PIL, cls = <class 'brane.libs.modules.PILModule'>\n",
      "[DEBUG]: register cls.name = cv2, cls = <class 'brane.libs.modules.CV2Module'>\n",
      "[DEBUG]: register cls.name = pandas, cls = <class 'brane.libs.modules.PandasModule'>\n",
      "[DEBUG]: register cls.name = json, cls = <class 'brane.libs.modules.JsonModule'>\n",
      "[DEBUG]: register cls.name = textio, cls = <class 'brane.libs.modules.TextIOModule'>\n",
      "[DEBUG]: register cls.name = jpg, cls = <class 'brane.libs.formats.JPEGFormat'>\n",
      "[DEBUG]: register cls.name = tsv, cls = <class 'brane.libs.formats.TSVFormat'>\n",
      "[DEBUG]: register cls.name = csv, cls = <class 'brane.libs.formats.CSVFormat'>\n",
      "[DEBUG]: register cls.name = png, cls = <class 'brane.core.format.PNGFormat'>\n",
      "[DEBUG]: register cls.name = json, cls = <class 'brane.core.format.JsonFormat'>\n",
      "[DEBUG]: register cls.name = PIL_Image_Object, cls = <class 'brane.libs.objects.PIL_Image_Object'>\n",
      "[DEBUG]: register cls.name = PIL_JPEG_Object, cls = <class 'brane.libs.objects.PIL_JPEG_Object'>\n",
      "[DEBUG]: register cls.name = PIL_PNG_Object, cls = <class 'brane.libs.objects.PIL_PNG_Object'>\n",
      "[DEBUG]: register cls.name = Pandas_DataFrame_Object, cls = <class 'brane.libs.objects.Pandas_DataFrame_Object'>\n",
      "[DEBUG]: register cls.name = Json_Json_Object, cls = <class 'brane.libs.objects.Json_Json_Object'>\n",
      "[DEBUG]: in MetaExtension ext_name=jpg fmt=<class 'brane.libs.formats.JPEGFormat'> class_info={'name': 'jpg', 'variation': ['jpeg']}\n",
      "[DEBUG]: register cls.name = jpg, cls = <class 'brane.core.extension.JPEGExtension'>\n",
      "[DEBUG]: in MetaExtension ext_name=png fmt=<class 'brane.core.format.PNGFormat'> class_info={'name': 'png'}\n",
      "[DEBUG]: register cls.name = png, cls = <class 'brane.core.extension.PNGExtension'>\n",
      "[DEBUG]: in MetaExtension ext_name=csv fmt=<class 'brane.libs.formats.CSVFormat'> class_info={'name': 'csv'}\n",
      "[DEBUG]: register cls.name = csv, cls = <class 'brane.core.extension.CSVExtension'>\n",
      "[DEBUG]: in MetaExtension ext_name=tsv fmt=<class 'brane.libs.formats.TSVFormat'> class_info={'name': 'tsv'}\n",
      "[DEBUG]: register cls.name = tsv, cls = <class 'brane.core.extension.TSVExtension'>\n",
      "[DEBUG]: in MetaExtension ext_name=json fmt=<class 'brane.core.format.JsonFormat'> class_info={'name': 'json'}\n",
      "[DEBUG]: register cls.name = json, cls = <class 'brane.core.extension.JSONExtension'>\n"
     ]
    }
   ],
   "source": [
    "from brane.core.iomanager import IOManager as gio"
   ]
  },
  {
   "cell_type": "code",
   "execution_count": 4,
   "metadata": {
    "ExecuteTime": {
     "end_time": "2022-05-11T18:53:22.928587Z",
     "start_time": "2022-05-11T18:53:22.904021Z"
    }
   },
   "outputs": [],
   "source": [
    "from brane.core.module import Module\n",
    "from brane.core.extension import Extension\n",
    "from brane.core.format import Format\n",
    "from brane.core.object import Object"
   ]
  },
  {
   "cell_type": "code",
   "execution_count": 5,
   "metadata": {
    "ExecuteTime": {
     "end_time": "2022-05-11T18:53:23.284063Z",
     "start_time": "2022-05-11T18:53:23.268493Z"
    }
   },
   "outputs": [],
   "source": [
    "from brane.libs.events import BasicEvents"
   ]
  },
  {
   "cell_type": "code",
   "execution_count": 6,
   "metadata": {
    "ExecuteTime": {
     "end_time": "2022-05-11T18:53:23.723463Z",
     "start_time": "2022-05-11T18:53:23.693901Z"
    }
   },
   "outputs": [
    {
     "data": {
      "text/plain": [
       "{None: brane.core.module.Module,\n",
       " 'PIL': brane.libs.modules.PILModule,\n",
       " 'cv2': brane.libs.modules.CV2Module,\n",
       " 'pandas': brane.libs.modules.PandasModule,\n",
       " 'json': brane.libs.modules.JsonModule,\n",
       " 'textio': brane.libs.modules.TextIOModule}"
      ]
     },
     "execution_count": 6,
     "metadata": {},
     "output_type": "execute_result"
    }
   ],
   "source": [
    "Module._registered_subclasses"
   ]
  },
  {
   "cell_type": "code",
   "execution_count": 7,
   "metadata": {
    "ExecuteTime": {
     "end_time": "2022-05-11T18:53:24.203567Z",
     "start_time": "2022-05-11T18:53:24.186773Z"
    }
   },
   "outputs": [
    {
     "data": {
      "text/plain": [
       "{None: brane.core.format.Format,\n",
       " 'jpg': brane.libs.formats.JPEGFormat,\n",
       " 'tsv': brane.libs.formats.TSVFormat,\n",
       " 'csv': brane.libs.formats.CSVFormat,\n",
       " 'png': brane.core.format.PNGFormat,\n",
       " 'json': brane.core.format.JsonFormat}"
      ]
     },
     "execution_count": 7,
     "metadata": {},
     "output_type": "execute_result"
    }
   ],
   "source": [
    "Format._registered_subclasses"
   ]
  },
  {
   "cell_type": "code",
   "execution_count": 8,
   "metadata": {
    "ExecuteTime": {
     "end_time": "2022-05-11T18:53:24.653716Z",
     "start_time": "2022-05-11T18:53:24.633972Z"
    }
   },
   "outputs": [
    {
     "data": {
      "text/plain": [
       "{'Object': brane.core.object.Object,\n",
       " 'PIL_Image_Object': brane.libs.objects.PIL_Image_Object,\n",
       " 'PIL_JPEG_Object': brane.libs.objects.PIL_JPEG_Object,\n",
       " 'PIL_PNG_Object': brane.libs.objects.PIL_PNG_Object,\n",
       " 'Pandas_DataFrame_Object': brane.libs.objects.Pandas_DataFrame_Object,\n",
       " 'Json_Json_Object': brane.libs.objects.Json_Json_Object}"
      ]
     },
     "execution_count": 8,
     "metadata": {},
     "output_type": "execute_result"
    }
   ],
   "source": [
    "Object._registered_subclasses"
   ]
  },
  {
   "cell_type": "code",
   "execution_count": 9,
   "metadata": {
    "ExecuteTime": {
     "end_time": "2022-05-11T18:53:25.173989Z",
     "start_time": "2022-05-11T18:53:25.155012Z"
    }
   },
   "outputs": [
    {
     "data": {
      "text/plain": [
       "{None: brane.core.extension.Extension,\n",
       " 'jpg': brane.core.extension.JPEGExtension,\n",
       " 'png': brane.core.extension.PNGExtension,\n",
       " 'csv': brane.core.extension.CSVExtension,\n",
       " 'tsv': brane.core.extension.TSVExtension,\n",
       " 'json': brane.core.extension.JSONExtension}"
      ]
     },
     "execution_count": 9,
     "metadata": {},
     "output_type": "execute_result"
    }
   ],
   "source": [
    "Extension._registered_subclasses"
   ]
  },
  {
   "cell_type": "code",
   "execution_count": 10,
   "metadata": {
    "ExecuteTime": {
     "end_time": "2022-05-11T18:53:26.319332Z",
     "start_time": "2022-05-11T18:53:26.298642Z"
    }
   },
   "outputs": [
    {
     "data": {
      "text/plain": [
       "1. <function check_path_existence at 0x7f8acc40d9d0>"
      ]
     },
     "execution_count": 10,
     "metadata": {},
     "output_type": "execute_result"
    }
   ],
   "source": [
    "BasicEvents.read_pre"
   ]
  },
  {
   "cell_type": "code",
   "execution_count": 11,
   "metadata": {
    "ExecuteTime": {
     "end_time": "2022-05-11T18:53:26.728280Z",
     "start_time": "2022-05-11T18:53:26.704816Z"
    }
   },
   "outputs": [
    {
     "data": {
      "text/plain": []
     },
     "execution_count": 11,
     "metadata": {},
     "output_type": "execute_result"
    }
   ],
   "source": [
    "BasicEvents.read_post"
   ]
  },
  {
   "cell_type": "code",
   "execution_count": 12,
   "metadata": {
    "ExecuteTime": {
     "end_time": "2022-05-11T18:53:27.060132Z",
     "start_time": "2022-05-11T18:53:27.028698Z"
    }
   },
   "outputs": [
    {
     "data": {
      "text/plain": [
       "1. <function create_parent_directory at 0x7f8acc420a60>"
      ]
     },
     "execution_count": 12,
     "metadata": {},
     "output_type": "execute_result"
    }
   ],
   "source": [
    "BasicEvents.write_pre"
   ]
  },
  {
   "cell_type": "code",
   "execution_count": 13,
   "metadata": {
    "ExecuteTime": {
     "end_time": "2022-05-11T18:53:27.350683Z",
     "start_time": "2022-05-11T18:53:27.335952Z"
    }
   },
   "outputs": [
    {
     "data": {
      "text/plain": []
     },
     "execution_count": 13,
     "metadata": {},
     "output_type": "execute_result"
    }
   ],
   "source": [
    "BasicEvents.write_post"
   ]
  },
  {
   "cell_type": "markdown",
   "metadata": {},
   "source": [
    "#### case-1"
   ]
  },
  {
   "cell_type": "markdown",
   "metadata": {},
   "source": [
    "##### image"
   ]
  },
  {
   "cell_type": "code",
   "execution_count": 18,
   "metadata": {
    "ExecuteTime": {
     "end_time": "2022-05-11T18:53:48.445532Z",
     "start_time": "2022-05-11T18:53:48.418770Z"
    }
   },
   "outputs": [],
   "source": [
    "path = \"./assets/image.jpg\""
   ]
  },
  {
   "cell_type": "code",
   "execution_count": 19,
   "metadata": {
    "ExecuteTime": {
     "end_time": "2022-05-11T18:53:48.744292Z",
     "start_time": "2022-05-11T18:53:48.712228Z"
    },
    "scrolled": false
   },
   "outputs": [
    {
     "name": "stdout",
     "output_type": "stream",
     "text": [
      "@Meta: <class 'brane.libs.objects.PIL_JPEG_Object'>\n",
      "resize\n",
      "<class 'PIL.Image.Image'>\n"
     ]
    },
    {
     "data": {
      "image/png": "[encoded data removed]",
      "text/plain": [
       "<PIL.Image.Image image mode=RGB size=50x50>"
      ]
     },
     "execution_count": 19,
     "metadata": {},
     "output_type": "execute_result"
    }
   ],
   "source": [
    "obj = gio.read(path)\n",
    "print(type(obj))\n",
    "obj"
   ]
  },
  {
   "cell_type": "code",
   "execution_count": 20,
   "metadata": {
    "ExecuteTime": {
     "end_time": "2022-05-11T18:53:49.032707Z",
     "start_time": "2022-05-11T18:53:49.016767Z"
    },
    "scrolled": false
   },
   "outputs": [
    {
     "name": "stdout",
     "output_type": "stream",
     "text": [
      "@Meta: <class 'brane.core.object.Object'>\n",
      "@Meta: <class 'brane.libs.objects.PIL_Image_Object'>\n"
     ]
    }
   ],
   "source": [
    "save_path = \"./tmp_output/image2.jpg\"\n",
    "gio.write(obj, save_path)"
   ]
  },
  {
   "cell_type": "code",
   "execution_count": 21,
   "metadata": {
    "ExecuteTime": {
     "end_time": "2022-05-11T18:53:50.300553Z",
     "start_time": "2022-05-11T18:53:50.155914Z"
    }
   },
   "outputs": [
    {
     "name": "stdout",
     "output_type": "stream",
     "text": [
      "rm: cannot remove 'tmp_output/test_dir': No such file or directory\n",
      "@Meta: <class 'brane.core.object.Object'>\n",
      "@Meta: <class 'brane.libs.objects.PIL_Image_Object'>\n"
     ]
    }
   ],
   "source": [
    "save_path = \"./tmp_output/test_dir/image2.jpeg\"\n",
    "!rm -r tmp_output/test_dir\n",
    "gio.write(obj, save_path)"
   ]
  },
  {
   "cell_type": "code",
   "execution_count": 22,
   "metadata": {
    "ExecuteTime": {
     "end_time": "2022-05-11T18:53:51.305925Z",
     "start_time": "2022-05-11T18:53:51.157518Z"
    }
   },
   "outputs": [
    {
     "name": "stdout",
     "output_type": "stream",
     "text": [
      "\u001b[01;34m./tmp_output/\u001b[00m\r\n",
      "├── \u001b[01;35mimage2.jpg\u001b[00m\r\n",
      "└── \u001b[01;34mtest_dir\u001b[00m\r\n",
      "    └── \u001b[01;35mimage2.jpeg\u001b[00m\r\n",
      "\r\n",
      "1 directory, 2 files\r\n"
     ]
    }
   ],
   "source": [
    "!tree ./tmp_output/"
   ]
  },
  {
   "cell_type": "code",
   "execution_count": 23,
   "metadata": {
    "ExecuteTime": {
     "end_time": "2022-05-11T18:53:52.630089Z",
     "start_time": "2022-05-11T18:53:52.611810Z"
    }
   },
   "outputs": [],
   "source": [
    "from brane.libs.hooks import PILResizeHook"
   ]
  },
  {
   "cell_type": "code",
   "execution_count": 24,
   "metadata": {
    "ExecuteTime": {
     "end_time": "2022-05-11T18:53:52.924179Z",
     "start_time": "2022-05-11T18:53:52.909484Z"
    }
   },
   "outputs": [],
   "source": [
    "gio.register_read_post_hook(PILResizeHook(size=(50,50)))"
   ]
  },
  {
   "cell_type": "code",
   "execution_count": 25,
   "metadata": {
    "ExecuteTime": {
     "end_time": "2022-05-11T18:53:53.420668Z",
     "start_time": "2022-05-11T18:53:53.385486Z"
    }
   },
   "outputs": [
    {
     "name": "stdout",
     "output_type": "stream",
     "text": [
      "@Meta: <class 'brane.libs.objects.PIL_JPEG_Object'>\n",
      "resize\n",
      "@Meta: <class 'brane.libs.objects.PIL_JPEG_Object'>\n",
      "@Meta: <class 'brane.libs.objects.PIL_PNG_Object'>\n"
     ]
    },
    {
     "data": {
      "image/png": "[encoded data removed]",
      "text/plain": [
       "<PIL.Image.Image image mode=RGB size=50x50>"
      ]
     },
     "execution_count": 25,
     "metadata": {},
     "output_type": "execute_result"
    }
   ],
   "source": [
    "gio.read(save_path)"
   ]
  },
  {
   "cell_type": "code",
   "execution_count": null,
   "metadata": {},
   "outputs": [],
   "source": []
  },
  {
   "cell_type": "markdown",
   "metadata": {},
   "source": [
    "##### dataframe"
   ]
  },
  {
   "cell_type": "code",
   "execution_count": 26,
   "metadata": {
    "ExecuteTime": {
     "end_time": "2022-05-11T18:54:03.172670Z",
     "start_time": "2022-05-11T18:54:02.695332Z"
    },
    "scrolled": true
   },
   "outputs": [
    {
     "name": "stdout",
     "output_type": "stream",
     "text": [
      "@Meta: <class 'brane.libs.objects.PIL_JPEG_Object'>\n",
      "@Meta: <class 'brane.libs.objects.PIL_PNG_Object'>\n",
      "@Meta: <class 'brane.libs.objects.PIL_JPEG_Object'>\n",
      "@Meta: <class 'brane.libs.objects.PIL_PNG_Object'>\n"
     ]
    },
    {
     "data": {
      "text/html": [
       "<div>\n",
       "<style scoped>\n",
       "    .dataframe tbody tr th:only-of-type {\n",
       "        vertical-align: middle;\n",
       "    }\n",
       "\n",
       "    .dataframe tbody tr th {\n",
       "        vertical-align: top;\n",
       "    }\n",
       "\n",
       "    .dataframe thead th {\n",
       "        text-align: right;\n",
       "    }\n",
       "</style>\n",
       "<table border=\"1\" class=\"dataframe\">\n",
       "  <thead>\n",
       "    <tr style=\"text-align: right;\">\n",
       "      <th></th>\n",
       "      <th>a</th>\n",
       "      <th>b</th>\n",
       "    </tr>\n",
       "  </thead>\n",
       "  <tbody>\n",
       "    <tr>\n",
       "      <th>0</th>\n",
       "      <td>1</td>\n",
       "      <td>-1</td>\n",
       "    </tr>\n",
       "    <tr>\n",
       "      <th>1</th>\n",
       "      <td>2</td>\n",
       "      <td>4</td>\n",
       "    </tr>\n",
       "    <tr>\n",
       "      <th>2</th>\n",
       "      <td>6</td>\n",
       "      <td>0</td>\n",
       "    </tr>\n",
       "  </tbody>\n",
       "</table>\n",
       "</div>"
      ],
      "text/plain": [
       "   a  b\n",
       "0  1 -1\n",
       "1  2  4\n",
       "2  6  0"
      ]
     },
     "execution_count": 26,
     "metadata": {},
     "output_type": "execute_result"
    }
   ],
   "source": [
    "path = \"./assets/df_tiny01.csv\"\n",
    "\n",
    "obj = gio.read(path)\n",
    "obj"
   ]
  },
  {
   "cell_type": "code",
   "execution_count": 27,
   "metadata": {
    "ExecuteTime": {
     "end_time": "2022-05-11T18:54:11.748351Z",
     "start_time": "2022-05-11T18:54:11.715468Z"
    },
    "scrolled": true
   },
   "outputs": [
    {
     "name": "stdout",
     "output_type": "stream",
     "text": [
      "@Meta: <class 'brane.libs.objects.PIL_JPEG_Object'>\n",
      "@Meta: <class 'brane.libs.objects.PIL_PNG_Object'>\n",
      "@Meta: <class 'brane.libs.objects.PIL_JPEG_Object'>\n",
      "@Meta: <class 'brane.libs.objects.PIL_PNG_Object'>\n"
     ]
    },
    {
     "data": {
      "text/html": [
       "<div>\n",
       "<style scoped>\n",
       "    .dataframe tbody tr th:only-of-type {\n",
       "        vertical-align: middle;\n",
       "    }\n",
       "\n",
       "    .dataframe tbody tr th {\n",
       "        vertical-align: top;\n",
       "    }\n",
       "\n",
       "    .dataframe thead th {\n",
       "        text-align: right;\n",
       "    }\n",
       "</style>\n",
       "<table border=\"1\" class=\"dataframe\">\n",
       "  <thead>\n",
       "    <tr style=\"text-align: right;\">\n",
       "      <th></th>\n",
       "      <th>x</th>\n",
       "      <th>y</th>\n",
       "    </tr>\n",
       "  </thead>\n",
       "  <tbody>\n",
       "    <tr>\n",
       "      <th>0</th>\n",
       "      <td>a</td>\n",
       "      <td>b</td>\n",
       "    </tr>\n",
       "  </tbody>\n",
       "</table>\n",
       "</div>"
      ],
      "text/plain": [
       "   x  y\n",
       "0  a  b"
      ]
     },
     "execution_count": 27,
     "metadata": {},
     "output_type": "execute_result"
    }
   ],
   "source": [
    "path = \"./assets/df_tiny01.csv\"\n",
    "\n",
    "obj = gio.read(path, nrows=1, names=[\"x\", \"y\"])\n",
    "obj"
   ]
  },
  {
   "cell_type": "code",
   "execution_count": 28,
   "metadata": {
    "ExecuteTime": {
     "end_time": "2022-05-11T18:54:15.948322Z",
     "start_time": "2022-05-11T18:54:15.789754Z"
    }
   },
   "outputs": [
    {
     "name": "stdout",
     "output_type": "stream",
     "text": [
      "@Meta: <class 'brane.core.object.Object'>\n",
      "@Meta: <class 'brane.libs.objects.PIL_Image_Object'>\n",
      "@Meta: <class 'brane.libs.objects.PIL_JPEG_Object'>\n",
      "@Meta: <class 'brane.libs.objects.PIL_PNG_Object'>\n",
      "@Meta: <class 'brane.libs.objects.Pandas_DataFrame_Object'>\n",
      "Obj.format_checker <class 'brane.libs.formats.CSVFormat'>\n",
      "module <class 'brane.libs.modules.PandasModule'>\n",
      "x,y\r\n",
      "a,b\r\n"
     ]
    }
   ],
   "source": [
    "save_path = \"./tmp_output/df_tiny01.csv\"\n",
    "gio.write(obj, save_path)\n",
    "!cat {save_path}"
   ]
  },
  {
   "cell_type": "code",
   "execution_count": 29,
   "metadata": {
    "ExecuteTime": {
     "end_time": "2022-05-11T18:54:28.109349Z",
     "start_time": "2022-05-11T18:54:28.042145Z"
    },
    "scrolled": true
   },
   "outputs": [
    {
     "name": "stdout",
     "output_type": "stream",
     "text": [
      "@Meta: <class 'brane.libs.objects.PIL_JPEG_Object'>\n",
      "@Meta: <class 'brane.libs.objects.PIL_PNG_Object'>\n",
      "@Meta: <class 'brane.libs.objects.PIL_JPEG_Object'>\n",
      "@Meta: <class 'brane.libs.objects.PIL_PNG_Object'>\n"
     ]
    },
    {
     "data": {
      "text/html": [
       "<div>\n",
       "<style scoped>\n",
       "    .dataframe tbody tr th:only-of-type {\n",
       "        vertical-align: middle;\n",
       "    }\n",
       "\n",
       "    .dataframe tbody tr th {\n",
       "        vertical-align: top;\n",
       "    }\n",
       "\n",
       "    .dataframe thead th {\n",
       "        text-align: right;\n",
       "    }\n",
       "</style>\n",
       "<table border=\"1\" class=\"dataframe\">\n",
       "  <thead>\n",
       "    <tr style=\"text-align: right;\">\n",
       "      <th></th>\n",
       "      <th>x</th>\n",
       "      <th>y</th>\n",
       "    </tr>\n",
       "  </thead>\n",
       "  <tbody>\n",
       "    <tr>\n",
       "      <th>0</th>\n",
       "      <td>a</td>\n",
       "      <td>b</td>\n",
       "    </tr>\n",
       "  </tbody>\n",
       "</table>\n",
       "</div>"
      ],
      "text/plain": [
       "   x  y\n",
       "0  a  b"
      ]
     },
     "execution_count": 29,
     "metadata": {},
     "output_type": "execute_result"
    }
   ],
   "source": [
    "gio.read(save_path)# index is None on writing"
   ]
  },
  {
   "cell_type": "code",
   "execution_count": null,
   "metadata": {},
   "outputs": [],
   "source": []
  },
  {
   "cell_type": "markdown",
   "metadata": {},
   "source": [
    "#### case-2"
   ]
  },
  {
   "cell_type": "markdown",
   "metadata": {},
   "source": [
    "* example\n",
    "    + []: gio.register_read_post_hook(set_index_on_column(\"published\"), object=pd.DataFrame, skip_when_error=True)\n",
    "    + [*]: gio.register_read_all_post_hook(concat_dataframe, object=pd.DataFrame)\n",
    "    + []: objs = gio.read_all_as_list(\"./test*.csv\", sort_func=sort_by_datetime_at_first_row)"
   ]
  },
  {
   "cell_type": "markdown",
   "metadata": {},
   "source": [
    "##### multiple datafarme"
   ]
  },
  {
   "cell_type": "code",
   "execution_count": 32,
   "metadata": {
    "ExecuteTime": {
     "end_time": "2022-05-11T18:55:16.022421Z",
     "start_time": "2022-05-11T18:55:16.006294Z"
    }
   },
   "outputs": [],
   "source": [
    "from IPython import display"
   ]
  },
  {
   "cell_type": "code",
   "execution_count": 30,
   "metadata": {
    "ExecuteTime": {
     "end_time": "2022-05-11T18:54:55.779516Z",
     "start_time": "2022-05-11T18:54:55.746236Z"
    }
   },
   "outputs": [],
   "source": [
    "BasicEvents.readall_post.hooks = []"
   ]
  },
  {
   "cell_type": "code",
   "execution_count": 35,
   "metadata": {
    "ExecuteTime": {
     "end_time": "2022-05-11T18:55:28.355621Z",
     "start_time": "2022-05-11T18:55:28.322910Z"
    },
    "scrolled": false
   },
   "outputs": [
    {
     "name": "stdout",
     "output_type": "stream",
     "text": [
      "@Meta: <class 'brane.libs.objects.PIL_JPEG_Object'>\n",
      "@Meta: <class 'brane.libs.objects.PIL_PNG_Object'>\n",
      "@Meta: <class 'brane.libs.objects.PIL_JPEG_Object'>\n",
      "@Meta: <class 'brane.libs.objects.PIL_PNG_Object'>\n",
      "@Meta: <class 'brane.libs.objects.PIL_JPEG_Object'>\n",
      "@Meta: <class 'brane.libs.objects.PIL_PNG_Object'>\n",
      "@Meta: <class 'brane.libs.objects.PIL_JPEG_Object'>\n",
      "@Meta: <class 'brane.libs.objects.PIL_PNG_Object'>\n",
      "<class 'list'>\n"
     ]
    },
    {
     "data": {
      "text/html": [
       "<div>\n",
       "<style scoped>\n",
       "    .dataframe tbody tr th:only-of-type {\n",
       "        vertical-align: middle;\n",
       "    }\n",
       "\n",
       "    .dataframe tbody tr th {\n",
       "        vertical-align: top;\n",
       "    }\n",
       "\n",
       "    .dataframe thead th {\n",
       "        text-align: right;\n",
       "    }\n",
       "</style>\n",
       "<table border=\"1\" class=\"dataframe\">\n",
       "  <thead>\n",
       "    <tr style=\"text-align: right;\">\n",
       "      <th></th>\n",
       "      <th>a</th>\n",
       "      <th>b</th>\n",
       "    </tr>\n",
       "  </thead>\n",
       "  <tbody>\n",
       "    <tr>\n",
       "      <th>0</th>\n",
       "      <td>6</td>\n",
       "      <td>4</td>\n",
       "    </tr>\n",
       "    <tr>\n",
       "      <th>1</th>\n",
       "      <td>0</td>\n",
       "      <td>-3</td>\n",
       "    </tr>\n",
       "    <tr>\n",
       "      <th>2</th>\n",
       "      <td>7</td>\n",
       "      <td>None</td>\n",
       "    </tr>\n",
       "  </tbody>\n",
       "</table>\n",
       "</div>"
      ],
      "text/plain": [
       "   a     b\n",
       "0  6     4\n",
       "1  0    -3\n",
       "2  7  None"
      ]
     },
     "metadata": {},
     "output_type": "display_data"
    },
    {
     "data": {
      "text/html": [
       "<div>\n",
       "<style scoped>\n",
       "    .dataframe tbody tr th:only-of-type {\n",
       "        vertical-align: middle;\n",
       "    }\n",
       "\n",
       "    .dataframe tbody tr th {\n",
       "        vertical-align: top;\n",
       "    }\n",
       "\n",
       "    .dataframe thead th {\n",
       "        text-align: right;\n",
       "    }\n",
       "</style>\n",
       "<table border=\"1\" class=\"dataframe\">\n",
       "  <thead>\n",
       "    <tr style=\"text-align: right;\">\n",
       "      <th></th>\n",
       "      <th>a</th>\n",
       "      <th>b</th>\n",
       "    </tr>\n",
       "  </thead>\n",
       "  <tbody>\n",
       "    <tr>\n",
       "      <th>0</th>\n",
       "      <td>1</td>\n",
       "      <td>-1</td>\n",
       "    </tr>\n",
       "    <tr>\n",
       "      <th>1</th>\n",
       "      <td>2</td>\n",
       "      <td>4</td>\n",
       "    </tr>\n",
       "    <tr>\n",
       "      <th>2</th>\n",
       "      <td>6</td>\n",
       "      <td>0</td>\n",
       "    </tr>\n",
       "  </tbody>\n",
       "</table>\n",
       "</div>"
      ],
      "text/plain": [
       "   a  b\n",
       "0  1 -1\n",
       "1  2  4\n",
       "2  6  0"
      ]
     },
     "metadata": {},
     "output_type": "display_data"
    }
   ],
   "source": [
    "objs = gio.read_all_as_list(\"./assets/*tiny*.csv\")\n",
    "print(type(objs))\n",
    "\n",
    "for obj in objs:\n",
    "    display.display(obj)"
   ]
  },
  {
   "cell_type": "code",
   "execution_count": 36,
   "metadata": {
    "ExecuteTime": {
     "end_time": "2022-05-11T18:55:35.776739Z",
     "start_time": "2022-05-11T18:55:35.734217Z"
    },
    "scrolled": false
   },
   "outputs": [
    {
     "name": "stdout",
     "output_type": "stream",
     "text": [
      "@Meta: <class 'brane.libs.objects.PIL_JPEG_Object'>\n",
      "@Meta: <class 'brane.libs.objects.PIL_PNG_Object'>\n",
      "@Meta: <class 'brane.libs.objects.PIL_JPEG_Object'>\n",
      "@Meta: <class 'brane.libs.objects.PIL_PNG_Object'>\n",
      "@Meta: <class 'brane.libs.objects.PIL_JPEG_Object'>\n",
      "@Meta: <class 'brane.libs.objects.PIL_PNG_Object'>\n",
      "@Meta: <class 'brane.libs.objects.PIL_JPEG_Object'>\n",
      "@Meta: <class 'brane.libs.objects.PIL_PNG_Object'>\n",
      "<class 'dict'>\n",
      "./assets/df_tiny02.csv\n"
     ]
    },
    {
     "data": {
      "text/html": [
       "<div>\n",
       "<style scoped>\n",
       "    .dataframe tbody tr th:only-of-type {\n",
       "        vertical-align: middle;\n",
       "    }\n",
       "\n",
       "    .dataframe tbody tr th {\n",
       "        vertical-align: top;\n",
       "    }\n",
       "\n",
       "    .dataframe thead th {\n",
       "        text-align: right;\n",
       "    }\n",
       "</style>\n",
       "<table border=\"1\" class=\"dataframe\">\n",
       "  <thead>\n",
       "    <tr style=\"text-align: right;\">\n",
       "      <th></th>\n",
       "      <th>a</th>\n",
       "      <th>b</th>\n",
       "    </tr>\n",
       "  </thead>\n",
       "  <tbody>\n",
       "    <tr>\n",
       "      <th>0</th>\n",
       "      <td>6</td>\n",
       "      <td>4</td>\n",
       "    </tr>\n",
       "    <tr>\n",
       "      <th>1</th>\n",
       "      <td>0</td>\n",
       "      <td>-3</td>\n",
       "    </tr>\n",
       "    <tr>\n",
       "      <th>2</th>\n",
       "      <td>7</td>\n",
       "      <td>None</td>\n",
       "    </tr>\n",
       "  </tbody>\n",
       "</table>\n",
       "</div>"
      ],
      "text/plain": [
       "   a     b\n",
       "0  6     4\n",
       "1  0    -3\n",
       "2  7  None"
      ]
     },
     "metadata": {},
     "output_type": "display_data"
    },
    {
     "name": "stdout",
     "output_type": "stream",
     "text": [
      "./assets/df_tiny01.csv\n"
     ]
    },
    {
     "data": {
      "text/html": [
       "<div>\n",
       "<style scoped>\n",
       "    .dataframe tbody tr th:only-of-type {\n",
       "        vertical-align: middle;\n",
       "    }\n",
       "\n",
       "    .dataframe tbody tr th {\n",
       "        vertical-align: top;\n",
       "    }\n",
       "\n",
       "    .dataframe thead th {\n",
       "        text-align: right;\n",
       "    }\n",
       "</style>\n",
       "<table border=\"1\" class=\"dataframe\">\n",
       "  <thead>\n",
       "    <tr style=\"text-align: right;\">\n",
       "      <th></th>\n",
       "      <th>a</th>\n",
       "      <th>b</th>\n",
       "    </tr>\n",
       "  </thead>\n",
       "  <tbody>\n",
       "    <tr>\n",
       "      <th>0</th>\n",
       "      <td>1</td>\n",
       "      <td>-1</td>\n",
       "    </tr>\n",
       "    <tr>\n",
       "      <th>1</th>\n",
       "      <td>2</td>\n",
       "      <td>4</td>\n",
       "    </tr>\n",
       "    <tr>\n",
       "      <th>2</th>\n",
       "      <td>6</td>\n",
       "      <td>0</td>\n",
       "    </tr>\n",
       "  </tbody>\n",
       "</table>\n",
       "</div>"
      ],
      "text/plain": [
       "   a  b\n",
       "0  1 -1\n",
       "1  2  4\n",
       "2  6  0"
      ]
     },
     "metadata": {},
     "output_type": "display_data"
    }
   ],
   "source": [
    "objs = gio.read_all_as_dict(\"./assets/*tiny*.csv\")\n",
    "print(type(objs))\n",
    "\n",
    "for key, obj in objs.items():\n",
    "    print(key)\n",
    "    display.display(obj)"
   ]
  },
  {
   "cell_type": "code",
   "execution_count": 37,
   "metadata": {
    "ExecuteTime": {
     "end_time": "2022-05-11T18:55:47.740426Z",
     "start_time": "2022-05-11T18:55:47.692949Z"
    },
    "scrolled": false
   },
   "outputs": [
    {
     "name": "stdout",
     "output_type": "stream",
     "text": [
      "@Meta: <class 'brane.libs.objects.PIL_JPEG_Object'>\n",
      "@Meta: <class 'brane.libs.objects.PIL_PNG_Object'>\n",
      "@Meta: <class 'brane.libs.objects.PIL_JPEG_Object'>\n",
      "@Meta: <class 'brane.libs.objects.PIL_PNG_Object'>\n",
      "@Meta: <class 'brane.libs.objects.PIL_JPEG_Object'>\n",
      "@Meta: <class 'brane.libs.objects.PIL_PNG_Object'>\n",
      "@Meta: <class 'brane.libs.objects.PIL_JPEG_Object'>\n",
      "@Meta: <class 'brane.libs.objects.PIL_PNG_Object'>\n",
      "<class 'dict'>\n",
      "01\n"
     ]
    },
    {
     "data": {
      "text/html": [
       "<div>\n",
       "<style scoped>\n",
       "    .dataframe tbody tr th:only-of-type {\n",
       "        vertical-align: middle;\n",
       "    }\n",
       "\n",
       "    .dataframe tbody tr th {\n",
       "        vertical-align: top;\n",
       "    }\n",
       "\n",
       "    .dataframe thead th {\n",
       "        text-align: right;\n",
       "    }\n",
       "</style>\n",
       "<table border=\"1\" class=\"dataframe\">\n",
       "  <thead>\n",
       "    <tr style=\"text-align: right;\">\n",
       "      <th></th>\n",
       "      <th>a</th>\n",
       "      <th>b</th>\n",
       "    </tr>\n",
       "  </thead>\n",
       "  <tbody>\n",
       "    <tr>\n",
       "      <th>0</th>\n",
       "      <td>1</td>\n",
       "      <td>-1</td>\n",
       "    </tr>\n",
       "    <tr>\n",
       "      <th>1</th>\n",
       "      <td>2</td>\n",
       "      <td>4</td>\n",
       "    </tr>\n",
       "    <tr>\n",
       "      <th>2</th>\n",
       "      <td>6</td>\n",
       "      <td>0</td>\n",
       "    </tr>\n",
       "  </tbody>\n",
       "</table>\n",
       "</div>"
      ],
      "text/plain": [
       "   a  b\n",
       "0  1 -1\n",
       "1  2  4\n",
       "2  6  0"
      ]
     },
     "metadata": {},
     "output_type": "display_data"
    },
    {
     "name": "stdout",
     "output_type": "stream",
     "text": [
      "02\n"
     ]
    },
    {
     "data": {
      "text/html": [
       "<div>\n",
       "<style scoped>\n",
       "    .dataframe tbody tr th:only-of-type {\n",
       "        vertical-align: middle;\n",
       "    }\n",
       "\n",
       "    .dataframe tbody tr th {\n",
       "        vertical-align: top;\n",
       "    }\n",
       "\n",
       "    .dataframe thead th {\n",
       "        text-align: right;\n",
       "    }\n",
       "</style>\n",
       "<table border=\"1\" class=\"dataframe\">\n",
       "  <thead>\n",
       "    <tr style=\"text-align: right;\">\n",
       "      <th></th>\n",
       "      <th>a</th>\n",
       "      <th>b</th>\n",
       "    </tr>\n",
       "  </thead>\n",
       "  <tbody>\n",
       "    <tr>\n",
       "      <th>0</th>\n",
       "      <td>6</td>\n",
       "      <td>4</td>\n",
       "    </tr>\n",
       "    <tr>\n",
       "      <th>1</th>\n",
       "      <td>0</td>\n",
       "      <td>-3</td>\n",
       "    </tr>\n",
       "    <tr>\n",
       "      <th>2</th>\n",
       "      <td>7</td>\n",
       "      <td>None</td>\n",
       "    </tr>\n",
       "  </tbody>\n",
       "</table>\n",
       "</div>"
      ],
      "text/plain": [
       "   a     b\n",
       "0  6     4\n",
       "1  0    -3\n",
       "2  7  None"
      ]
     },
     "metadata": {},
     "output_type": "display_data"
    }
   ],
   "source": [
    "objs = gio.read_all_as_dict({\"01\": \"./assets/df_tiny01.csv\", \"02\": \"./assets/df_tiny02.csv\"})\n",
    "print(type(objs))\n",
    "\n",
    "for key, obj in objs.items():\n",
    "    print(key)\n",
    "    display.display(obj)"
   ]
  },
  {
   "cell_type": "code",
   "execution_count": 38,
   "metadata": {
    "ExecuteTime": {
     "end_time": "2022-05-11T18:55:50.162637Z",
     "start_time": "2022-05-11T18:55:50.131770Z"
    }
   },
   "outputs": [],
   "source": [
    "import pandas as pd\n",
    "def concat_dataframe(info):\n",
    "    return pd.concat(info[\"objects\"], axis=0)\n",
    "\n",
    "gio.register_read_all_post_hook(concat_dataframe, object=pd.DataFrame)"
   ]
  },
  {
   "cell_type": "code",
   "execution_count": 39,
   "metadata": {
    "ExecuteTime": {
     "end_time": "2022-05-11T18:55:54.745135Z",
     "start_time": "2022-05-11T18:55:54.698878Z"
    },
    "scrolled": false
   },
   "outputs": [
    {
     "name": "stdout",
     "output_type": "stream",
     "text": [
      "@Meta: <class 'brane.libs.objects.PIL_JPEG_Object'>\n",
      "@Meta: <class 'brane.libs.objects.PIL_PNG_Object'>\n",
      "@Meta: <class 'brane.libs.objects.PIL_JPEG_Object'>\n",
      "@Meta: <class 'brane.libs.objects.PIL_PNG_Object'>\n",
      "@Meta: <class 'brane.libs.objects.PIL_JPEG_Object'>\n",
      "@Meta: <class 'brane.libs.objects.PIL_PNG_Object'>\n",
      "@Meta: <class 'brane.libs.objects.PIL_JPEG_Object'>\n",
      "@Meta: <class 'brane.libs.objects.PIL_PNG_Object'>\n"
     ]
    },
    {
     "data": {
      "text/html": [
       "<div>\n",
       "<style scoped>\n",
       "    .dataframe tbody tr th:only-of-type {\n",
       "        vertical-align: middle;\n",
       "    }\n",
       "\n",
       "    .dataframe tbody tr th {\n",
       "        vertical-align: top;\n",
       "    }\n",
       "\n",
       "    .dataframe thead th {\n",
       "        text-align: right;\n",
       "    }\n",
       "</style>\n",
       "<table border=\"1\" class=\"dataframe\">\n",
       "  <thead>\n",
       "    <tr style=\"text-align: right;\">\n",
       "      <th></th>\n",
       "      <th>a</th>\n",
       "      <th>b</th>\n",
       "    </tr>\n",
       "  </thead>\n",
       "  <tbody>\n",
       "    <tr>\n",
       "      <th>0</th>\n",
       "      <td>6</td>\n",
       "      <td>4</td>\n",
       "    </tr>\n",
       "    <tr>\n",
       "      <th>1</th>\n",
       "      <td>0</td>\n",
       "      <td>-3</td>\n",
       "    </tr>\n",
       "    <tr>\n",
       "      <th>2</th>\n",
       "      <td>7</td>\n",
       "      <td>None</td>\n",
       "    </tr>\n",
       "    <tr>\n",
       "      <th>0</th>\n",
       "      <td>1</td>\n",
       "      <td>-1</td>\n",
       "    </tr>\n",
       "    <tr>\n",
       "      <th>1</th>\n",
       "      <td>2</td>\n",
       "      <td>4</td>\n",
       "    </tr>\n",
       "    <tr>\n",
       "      <th>2</th>\n",
       "      <td>6</td>\n",
       "      <td>0</td>\n",
       "    </tr>\n",
       "  </tbody>\n",
       "</table>\n",
       "</div>"
      ],
      "text/plain": [
       "   a     b\n",
       "0  6     4\n",
       "1  0    -3\n",
       "2  7  None\n",
       "0  1    -1\n",
       "1  2     4\n",
       "2  6     0"
      ]
     },
     "execution_count": 39,
     "metadata": {},
     "output_type": "execute_result"
    }
   ],
   "source": [
    "gio.read_all_as_list(\"./assets/*tiny*.csv\")"
   ]
  },
  {
   "cell_type": "code",
   "execution_count": 40,
   "metadata": {
    "ExecuteTime": {
     "end_time": "2022-05-11T18:56:01.155606Z",
     "start_time": "2022-05-11T18:56:01.021347Z"
    }
   },
   "outputs": [
    {
     "name": "stdout",
     "output_type": "stream",
     "text": [
      "a,b\r\n",
      "1,-1\r\n",
      "2,4\r\n",
      "6,0\r\n"
     ]
    }
   ],
   "source": [
    "!cat ./assets/df_tiny01.csv"
   ]
  },
  {
   "cell_type": "code",
   "execution_count": 41,
   "metadata": {
    "ExecuteTime": {
     "end_time": "2022-05-11T18:56:04.975327Z",
     "start_time": "2022-05-11T18:56:04.836145Z"
    }
   },
   "outputs": [
    {
     "name": "stdout",
     "output_type": "stream",
     "text": [
      "a,b\r\n",
      "6,4\r\n",
      "0,-3\r\n",
      "7,None\r\n"
     ]
    }
   ],
   "source": [
    "!cat ./assets/df_tiny02.csv"
   ]
  },
  {
   "cell_type": "code",
   "execution_count": 43,
   "metadata": {
    "ExecuteTime": {
     "end_time": "2022-05-11T18:56:12.053340Z",
     "start_time": "2022-05-11T18:56:12.032820Z"
    }
   },
   "outputs": [],
   "source": [
    "from brane.typing import ContextInterface\n",
    "def sort_by_filename(context: ContextInterface) -> ContextInterface:\n",
    "    paths = context[\"paths\"]\n",
    "    objects = context[\"objects\"]\n",
    "    paths_and_objects = sorted(zip(paths, objects), key=lambda x:x[0])\n",
    "    paths_sorted, objects_sorted = list(zip(*paths_and_objects))\n",
    "    context.update({ \"paths\": list(paths_sorted), \"objects\": list(objects_sorted) })\n",
    "    return context"
   ]
  },
  {
   "cell_type": "code",
   "execution_count": 44,
   "metadata": {
    "ExecuteTime": {
     "end_time": "2022-05-11T18:56:18.865490Z",
     "start_time": "2022-05-11T18:56:18.823860Z"
    },
    "scrolled": false
   },
   "outputs": [
    {
     "name": "stdout",
     "output_type": "stream",
     "text": [
      "@Meta: <class 'brane.libs.objects.PIL_JPEG_Object'>\n",
      "@Meta: <class 'brane.libs.objects.PIL_PNG_Object'>\n",
      "@Meta: <class 'brane.libs.objects.PIL_JPEG_Object'>\n",
      "@Meta: <class 'brane.libs.objects.PIL_PNG_Object'>\n",
      "@Meta: <class 'brane.libs.objects.PIL_JPEG_Object'>\n",
      "@Meta: <class 'brane.libs.objects.PIL_PNG_Object'>\n",
      "@Meta: <class 'brane.libs.objects.PIL_JPEG_Object'>\n",
      "@Meta: <class 'brane.libs.objects.PIL_PNG_Object'>\n"
     ]
    },
    {
     "data": {
      "text/html": [
       "<div>\n",
       "<style scoped>\n",
       "    .dataframe tbody tr th:only-of-type {\n",
       "        vertical-align: middle;\n",
       "    }\n",
       "\n",
       "    .dataframe tbody tr th {\n",
       "        vertical-align: top;\n",
       "    }\n",
       "\n",
       "    .dataframe thead th {\n",
       "        text-align: right;\n",
       "    }\n",
       "</style>\n",
       "<table border=\"1\" class=\"dataframe\">\n",
       "  <thead>\n",
       "    <tr style=\"text-align: right;\">\n",
       "      <th></th>\n",
       "      <th>a</th>\n",
       "      <th>b</th>\n",
       "    </tr>\n",
       "  </thead>\n",
       "  <tbody>\n",
       "    <tr>\n",
       "      <th>0</th>\n",
       "      <td>1</td>\n",
       "      <td>-1</td>\n",
       "    </tr>\n",
       "    <tr>\n",
       "      <th>1</th>\n",
       "      <td>2</td>\n",
       "      <td>4</td>\n",
       "    </tr>\n",
       "    <tr>\n",
       "      <th>2</th>\n",
       "      <td>6</td>\n",
       "      <td>0</td>\n",
       "    </tr>\n",
       "    <tr>\n",
       "      <th>0</th>\n",
       "      <td>6</td>\n",
       "      <td>4</td>\n",
       "    </tr>\n",
       "    <tr>\n",
       "      <th>1</th>\n",
       "      <td>0</td>\n",
       "      <td>-3</td>\n",
       "    </tr>\n",
       "    <tr>\n",
       "      <th>2</th>\n",
       "      <td>7</td>\n",
       "      <td>None</td>\n",
       "    </tr>\n",
       "  </tbody>\n",
       "</table>\n",
       "</div>"
      ],
      "text/plain": [
       "   a     b\n",
       "0  1    -1\n",
       "1  2     4\n",
       "2  6     0\n",
       "0  6     4\n",
       "1  0    -3\n",
       "2  7  None"
      ]
     },
     "execution_count": 44,
     "metadata": {},
     "output_type": "execute_result"
    }
   ],
   "source": [
    "# there is possibility that this sort will be supported by the hook function\n",
    "gio.read_all_as_list(\"./assets/*tiny*.csv\", sort_func=sort_by_filename)"
   ]
  },
  {
   "cell_type": "code",
   "execution_count": 45,
   "metadata": {
    "ExecuteTime": {
     "end_time": "2022-05-11T18:56:21.788028Z",
     "start_time": "2022-05-11T18:56:21.643568Z"
    }
   },
   "outputs": [
    {
     "name": "stdout",
     "output_type": "stream",
     "text": [
      "\u001b[01;34m./tmp_output/\u001b[00m\r\n",
      "├── df_tiny01.csv\r\n",
      "├── \u001b[01;35mimage2.jpg\u001b[00m\r\n",
      "└── \u001b[01;34mtest_dir\u001b[00m\r\n",
      "    └── \u001b[01;35mimage2.jpeg\u001b[00m\r\n",
      "\r\n",
      "1 directory, 3 files\r\n"
     ]
    }
   ],
   "source": [
    "!tree ./tmp_output/"
   ]
  },
  {
   "cell_type": "code",
   "execution_count": 78,
   "metadata": {
    "ExecuteTime": {
     "end_time": "2022-05-12T18:27:32.173742Z",
     "start_time": "2022-05-12T18:27:32.138194Z"
    }
   },
   "outputs": [],
   "source": [
    "objs = dict(\n",
    "    a=pd.DataFrame([[1,2,3], [4,5,6]], columns=[\"a\", \"b\", \"c\"]),\n",
    "    b=pd.DataFrame([[0, \"abc\", True], [1, \"def\", False], [2, \"ghi\", None]], columns=[\"int\",\"str\",\"bool\"]),\n",
    ")"
   ]
  },
  {
   "cell_type": "code",
   "execution_count": 47,
   "metadata": {
    "ExecuteTime": {
     "end_time": "2022-05-11T18:56:28.293048Z",
     "start_time": "2022-05-11T18:56:28.259805Z"
    }
   },
   "outputs": [
    {
     "name": "stdout",
     "output_type": "stream",
     "text": [
      "@Meta: <class 'brane.core.object.Object'>\n",
      "@Meta: <class 'brane.libs.objects.PIL_Image_Object'>\n",
      "@Meta: <class 'brane.libs.objects.PIL_JPEG_Object'>\n",
      "@Meta: <class 'brane.libs.objects.PIL_PNG_Object'>\n",
      "@Meta: <class 'brane.libs.objects.Pandas_DataFrame_Object'>\n",
      "Obj.format_checker <class 'brane.libs.formats.CSVFormat'>\n",
      "module <class 'brane.libs.modules.PandasModule'>\n",
      "@Meta: <class 'brane.core.object.Object'>\n",
      "@Meta: <class 'brane.libs.objects.PIL_Image_Object'>\n",
      "@Meta: <class 'brane.libs.objects.PIL_JPEG_Object'>\n",
      "@Meta: <class 'brane.libs.objects.PIL_PNG_Object'>\n",
      "@Meta: <class 'brane.libs.objects.Pandas_DataFrame_Object'>\n",
      "Obj.format_checker <class 'brane.libs.formats.CSVFormat'>\n",
      "module <class 'brane.libs.modules.PandasModule'>\n"
     ]
    }
   ],
   "source": [
    "gio.write_all_from_dict(obj_dict=objs, output_dir=\"./tmp_output/test_dir/\", path_ruler=lambda x:x+\".csv\")"
   ]
  },
  {
   "cell_type": "code",
   "execution_count": 48,
   "metadata": {
    "ExecuteTime": {
     "end_time": "2022-05-11T18:56:30.061510Z",
     "start_time": "2022-05-11T18:56:29.921944Z"
    }
   },
   "outputs": [
    {
     "name": "stdout",
     "output_type": "stream",
     "text": [
      "\u001b[01;34m./tmp_output/\u001b[00m\r\n",
      "├── df_tiny01.csv\r\n",
      "├── \u001b[01;35mimage2.jpg\u001b[00m\r\n",
      "└── \u001b[01;34mtest_dir\u001b[00m\r\n",
      "    ├── a.csv\r\n",
      "    ├── b.csv\r\n",
      "    └── \u001b[01;35mimage2.jpeg\u001b[00m\r\n",
      "\r\n",
      "1 directory, 5 files\r\n"
     ]
    }
   ],
   "source": [
    "!tree ./tmp_output/"
   ]
  },
  {
   "cell_type": "code",
   "execution_count": 79,
   "metadata": {
    "ExecuteTime": {
     "end_time": "2022-05-12T18:27:36.957916Z",
     "start_time": "2022-05-12T18:27:36.920892Z"
    }
   },
   "outputs": [
    {
     "data": {
      "text/plain": [
       "[   0  1\n",
       " a  1  4\n",
       " b  2  5\n",
       " c  3  6,\n",
       "    int  str   bool\n",
       " 0    0  abc   True\n",
       " 1    1  def  False\n",
       " 2    2  ghi   None]"
      ]
     },
     "execution_count": 79,
     "metadata": {},
     "output_type": "execute_result"
    }
   ],
   "source": [
    "objs = [ objs[\"a\"].T, objs[\"b\"] ]\n",
    "objs"
   ]
  },
  {
   "cell_type": "code",
   "execution_count": 82,
   "metadata": {
    "ExecuteTime": {
     "end_time": "2022-05-12T18:30:52.820562Z",
     "start_time": "2022-05-12T18:30:52.544947Z"
    }
   },
   "outputs": [
    {
     "name": "stdout",
     "output_type": "stream",
     "text": [
      "@Meta: <class 'brane.core.object.Object'>\n",
      "@Meta: <class 'brane.libs.objects.PIL_Image_Object'>\n",
      "@Meta: <class 'brane.libs.objects.PIL_JPEG_Object'>\n",
      "@Meta: <class 'brane.libs.objects.PIL_PNG_Object'>\n",
      "@Meta: <class 'brane.libs.objects.Pandas_DataFrame_Object'>\n",
      "Obj.format_checker <class 'brane.libs.formats.CSVFormat'>\n",
      "module <class 'brane.libs.modules.PandasModule'>\n",
      "@Meta: <class 'brane.core.object.Object'>\n",
      "@Meta: <class 'brane.libs.objects.PIL_Image_Object'>\n",
      "@Meta: <class 'brane.libs.objects.PIL_JPEG_Object'>\n",
      "@Meta: <class 'brane.libs.objects.PIL_PNG_Object'>\n",
      "@Meta: <class 'brane.libs.objects.Pandas_DataFrame_Object'>\n",
      "Obj.format_checker <class 'brane.libs.formats.CSVFormat'>\n",
      "module <class 'brane.libs.modules.PandasModule'>\n"
     ]
    }
   ],
   "source": [
    "gio.write_all_from_list(obj_list=objs, output_dir=\"./tmp_output/test_dir/\", path_ruler=lambda x: f\"table_{x:03d}.csv\")"
   ]
  },
  {
   "cell_type": "code",
   "execution_count": 83,
   "metadata": {
    "ExecuteTime": {
     "end_time": "2022-05-12T18:31:04.486915Z",
     "start_time": "2022-05-12T18:31:04.335151Z"
    }
   },
   "outputs": [
    {
     "name": "stdout",
     "output_type": "stream",
     "text": [
      "\u001b[01;34m./tmp_output/\u001b[00m\r\n",
      "├── df_tiny01.csv\r\n",
      "├── \u001b[01;35mimage2.jpg\u001b[00m\r\n",
      "└── \u001b[01;34mtest_dir\u001b[00m\r\n",
      "    ├── a.csv\r\n",
      "    ├── b.csv\r\n",
      "    ├── \u001b[01;35mimage2.jpeg\u001b[00m\r\n",
      "    ├── table_000.csv\r\n",
      "    └── table_001.csv\r\n",
      "\r\n",
      "1 directory, 7 files\r\n"
     ]
    }
   ],
   "source": [
    "!tree ./tmp_output/"
   ]
  },
  {
   "cell_type": "code",
   "execution_count": 84,
   "metadata": {
    "ExecuteTime": {
     "end_time": "2022-05-12T18:32:05.100442Z",
     "start_time": "2022-05-12T18:32:05.043378Z"
    }
   },
   "outputs": [
    {
     "name": "stdout",
     "output_type": "stream",
     "text": [
      "@Meta: <class 'brane.libs.objects.PIL_JPEG_Object'>\n",
      "@Meta: <class 'brane.libs.objects.PIL_PNG_Object'>\n",
      "@Meta: <class 'brane.libs.objects.PIL_JPEG_Object'>\n",
      "@Meta: <class 'brane.libs.objects.PIL_PNG_Object'>\n",
      "@Meta: <class 'brane.libs.objects.PIL_JPEG_Object'>\n",
      "@Meta: <class 'brane.libs.objects.PIL_PNG_Object'>\n",
      "@Meta: <class 'brane.libs.objects.PIL_JPEG_Object'>\n",
      "@Meta: <class 'brane.libs.objects.PIL_PNG_Object'>\n"
     ]
    }
   ],
   "source": [
    "objs = gio.read_all_as_list(multiple_paths=\"./tmp_output/*/table_*.csv\", sort_func=sort_by_filename)"
   ]
  },
  {
   "cell_type": "code",
   "execution_count": 87,
   "metadata": {
    "ExecuteTime": {
     "end_time": "2022-05-12T18:32:20.889371Z",
     "start_time": "2022-05-12T18:32:20.859114Z"
    }
   },
   "outputs": [
    {
     "data": {
      "text/html": [
       "<div>\n",
       "<style scoped>\n",
       "    .dataframe tbody tr th:only-of-type {\n",
       "        vertical-align: middle;\n",
       "    }\n",
       "\n",
       "    .dataframe tbody tr th {\n",
       "        vertical-align: top;\n",
       "    }\n",
       "\n",
       "    .dataframe thead th {\n",
       "        text-align: right;\n",
       "    }\n",
       "</style>\n",
       "<table border=\"1\" class=\"dataframe\">\n",
       "  <thead>\n",
       "    <tr style=\"text-align: right;\">\n",
       "      <th></th>\n",
       "      <th>0</th>\n",
       "      <th>1</th>\n",
       "      <th>int</th>\n",
       "      <th>str</th>\n",
       "      <th>bool</th>\n",
       "    </tr>\n",
       "  </thead>\n",
       "  <tbody>\n",
       "    <tr>\n",
       "      <th>0</th>\n",
       "      <td>1.0</td>\n",
       "      <td>4.0</td>\n",
       "      <td>NaN</td>\n",
       "      <td>NaN</td>\n",
       "      <td>NaN</td>\n",
       "    </tr>\n",
       "    <tr>\n",
       "      <th>1</th>\n",
       "      <td>2.0</td>\n",
       "      <td>5.0</td>\n",
       "      <td>NaN</td>\n",
       "      <td>NaN</td>\n",
       "      <td>NaN</td>\n",
       "    </tr>\n",
       "    <tr>\n",
       "      <th>2</th>\n",
       "      <td>3.0</td>\n",
       "      <td>6.0</td>\n",
       "      <td>NaN</td>\n",
       "      <td>NaN</td>\n",
       "      <td>NaN</td>\n",
       "    </tr>\n",
       "    <tr>\n",
       "      <th>0</th>\n",
       "      <td>NaN</td>\n",
       "      <td>NaN</td>\n",
       "      <td>0.0</td>\n",
       "      <td>abc</td>\n",
       "      <td>True</td>\n",
       "    </tr>\n",
       "    <tr>\n",
       "      <th>1</th>\n",
       "      <td>NaN</td>\n",
       "      <td>NaN</td>\n",
       "      <td>1.0</td>\n",
       "      <td>def</td>\n",
       "      <td>False</td>\n",
       "    </tr>\n",
       "    <tr>\n",
       "      <th>2</th>\n",
       "      <td>NaN</td>\n",
       "      <td>NaN</td>\n",
       "      <td>2.0</td>\n",
       "      <td>ghi</td>\n",
       "      <td>NaN</td>\n",
       "    </tr>\n",
       "  </tbody>\n",
       "</table>\n",
       "</div>"
      ],
      "text/plain": [
       "     0    1  int  str   bool\n",
       "0  1.0  4.0  NaN  NaN    NaN\n",
       "1  2.0  5.0  NaN  NaN    NaN\n",
       "2  3.0  6.0  NaN  NaN    NaN\n",
       "0  NaN  NaN  0.0  abc   True\n",
       "1  NaN  NaN  1.0  def  False\n",
       "2  NaN  NaN  2.0  ghi    NaN"
      ]
     },
     "execution_count": 87,
     "metadata": {},
     "output_type": "execute_result"
    }
   ],
   "source": [
    "objs"
   ]
  },
  {
   "cell_type": "code",
   "execution_count": null,
   "metadata": {},
   "outputs": [],
   "source": []
  },
  {
   "cell_type": "code",
   "execution_count": null,
   "metadata": {},
   "outputs": [],
   "source": []
  },
  {
   "cell_type": "code",
   "execution_count": null,
   "metadata": {},
   "outputs": [],
   "source": []
  },
  {
   "cell_type": "code",
   "execution_count": null,
   "metadata": {},
   "outputs": [],
   "source": []
  },
  {
   "cell_type": "markdown",
   "metadata": {},
   "source": [
    "#### case-3"
   ]
  },
  {
   "cell_type": "code",
   "execution_count": 49,
   "metadata": {
    "ExecuteTime": {
     "end_time": "2022-05-11T18:56:35.283285Z",
     "start_time": "2022-05-11T18:56:35.263855Z"
    }
   },
   "outputs": [],
   "source": [
    "obj = {\"a\":1, \"b\":True, \"c\": [1,2,3], \"d\": {\"e\": None}}"
   ]
  },
  {
   "cell_type": "code",
   "execution_count": 54,
   "metadata": {
    "ExecuteTime": {
     "end_time": "2022-05-11T18:58:37.976553Z",
     "start_time": "2022-05-11T18:58:37.831590Z"
    }
   },
   "outputs": [
    {
     "name": "stdout",
     "output_type": "stream",
     "text": [
      "[DEBUG]: overwritten cls.name = PIL, cls = <class 'brane.libs.modules.PILModule'>\n",
      "[DEBUG]: overwritten cls.name = cv2, cls = <class 'brane.libs.modules.CV2Module'>\n",
      "[DEBUG]: overwritten cls.name = pandas, cls = <class 'brane.libs.modules.PandasModule'>\n",
      "[DEBUG]: overwritten cls.name = json, cls = <class 'brane.libs.modules.JsonModule'>\n",
      "[DEBUG]: overwritten cls.name = textio, cls = <class 'brane.libs.modules.TextIOModule'>\n",
      "@Meta: <class 'brane.core.object.Object'>\n",
      "@Meta: <class 'brane.libs.objects.PIL_Image_Object'>\n",
      "@Meta: <class 'brane.libs.objects.PIL_JPEG_Object'>\n",
      "@Meta: <class 'brane.libs.objects.PIL_PNG_Object'>\n",
      "@Meta: <class 'brane.libs.objects.Pandas_DataFrame_Object'>\n",
      "@Meta: <class 'brane.libs.objects.Json_Json_Object'>\n"
     ]
    }
   ],
   "source": [
    "gio.write(obj, path=\"./assets/dict.json\", indent=4)"
   ]
  },
  {
   "cell_type": "code",
   "execution_count": 56,
   "metadata": {
    "ExecuteTime": {
     "end_time": "2022-05-11T18:58:45.286990Z",
     "start_time": "2022-05-11T18:58:45.144197Z"
    }
   },
   "outputs": [
    {
     "name": "stdout",
     "output_type": "stream",
     "text": [
      "{\r\n",
      "    \"a\": 1,\r\n",
      "    \"b\": true,\r\n",
      "    \"c\": [\r\n",
      "        1,\r\n",
      "        2,\r\n",
      "        3\r\n",
      "    ],\r\n",
      "    \"d\": {\r\n",
      "        \"e\": null\r\n",
      "    }\r\n",
      "}"
     ]
    }
   ],
   "source": [
    "!cat ./assets/dict.json"
   ]
  },
  {
   "cell_type": "code",
   "execution_count": 58,
   "metadata": {
    "ExecuteTime": {
     "end_time": "2022-05-11T18:58:59.054116Z",
     "start_time": "2022-05-11T18:58:59.022984Z"
    }
   },
   "outputs": [
    {
     "name": "stdout",
     "output_type": "stream",
     "text": [
      "@Meta: <class 'brane.libs.objects.PIL_JPEG_Object'>\n",
      "@Meta: <class 'brane.libs.objects.PIL_PNG_Object'>\n",
      "@Meta: <class 'brane.libs.objects.PIL_JPEG_Object'>\n",
      "@Meta: <class 'brane.libs.objects.PIL_PNG_Object'>\n"
     ]
    },
    {
     "data": {
      "text/plain": [
       "{'a': 1, 'b': True, 'c': [1, 2, 3], 'd': {'e': None}}"
      ]
     },
     "execution_count": 58,
     "metadata": {},
     "output_type": "execute_result"
    }
   ],
   "source": [
    "obj = gio.read(\"./assets/dict.json\")\n",
    "obj"
   ]
  },
  {
   "cell_type": "code",
   "execution_count": 59,
   "metadata": {
    "ExecuteTime": {
     "end_time": "2022-05-11T18:59:18.407682Z",
     "start_time": "2022-05-11T18:59:18.379671Z"
    }
   },
   "outputs": [],
   "source": [
    "from brane.core.mapper import Extension2Module"
   ]
  },
  {
   "cell_type": "code",
   "execution_count": null,
   "metadata": {},
   "outputs": [],
   "source": []
  },
  {
   "cell_type": "code",
   "execution_count": null,
   "metadata": {},
   "outputs": [],
   "source": []
  },
  {
   "cell_type": "markdown",
   "metadata": {},
   "source": [
    "### working"
   ]
  },
  {
   "cell_type": "code",
   "execution_count": null,
   "metadata": {},
   "outputs": [],
   "source": [
    "# モジュール指定と型付与を強く推奨\n",
    "obj: pd.DataFrame = IOManager.read(path, module=\"pandas\")"
   ]
  },
  {
   "cell_type": "markdown",
   "metadata": {},
   "source": [
    "## Others"
   ]
  },
  {
   "cell_type": "markdown",
   "metadata": {},
   "source": [
    "### IPC"
   ]
  },
  {
   "cell_type": "code",
   "execution_count": null,
   "metadata": {},
   "outputs": [],
   "source": [
    "\n",
    "import pandas as pd\n"
   ]
  },
  {
   "cell_type": "code",
   "execution_count": 139,
   "metadata": {
    "ExecuteTime": {
     "end_time": "2021-04-13T13:37:59.135790Z",
     "start_time": "2021-04-13T13:37:59.131081Z"
    }
   },
   "outputs": [],
   "source": [
    "import zmq"
   ]
  },
  {
   "cell_type": "code",
   "execution_count": 141,
   "metadata": {
    "ExecuteTime": {
     "end_time": "2021-04-13T13:39:43.499361Z",
     "start_time": "2021-04-13T13:39:43.495335Z"
    }
   },
   "outputs": [],
   "source": [
    "port = 5700"
   ]
  },
  {
   "cell_type": "code",
   "execution_count": 142,
   "metadata": {
    "ExecuteTime": {
     "end_time": "2021-04-13T13:39:46.296395Z",
     "start_time": "2021-04-13T13:39:46.289491Z"
    }
   },
   "outputs": [],
   "source": [
    "context = zmq.Context()"
   ]
  },
  {
   "cell_type": "code",
   "execution_count": 143,
   "metadata": {
    "ExecuteTime": {
     "end_time": "2021-04-13T13:40:02.423333Z",
     "start_time": "2021-04-13T13:40:02.417661Z"
    }
   },
   "outputs": [],
   "source": [
    "#socket_type = 'PUSH'\n",
    "socket_type = 'PUB'\n",
    "\n",
    "if socket_type == \"PUSH\":\n",
    "    sock = context.socket(zmq.PUSH)\n",
    "    message_prefix = \"\"\n",
    "elif socket_type == \"PUB\":\n",
    "    sock = context.socket(zmq.PUB)\n",
    "    message_prefix = \"sub1:\"\n",
    "\n",
    "sock.bind(f\"tcp://127.0.0.1:{port}\")"
   ]
  },
  {
   "cell_type": "code",
   "execution_count": 144,
   "metadata": {
    "ExecuteTime": {
     "end_time": "2021-04-13T13:43:35.656058Z",
     "start_time": "2021-04-13T13:43:35.649423Z"
    }
   },
   "outputs": [],
   "source": [
    "content = \"hello wolrd\""
   ]
  },
  {
   "cell_type": "code",
   "execution_count": 148,
   "metadata": {
    "ExecuteTime": {
     "end_time": "2021-04-13T13:44:38.977322Z",
     "start_time": "2021-04-13T13:44:38.962328Z"
    }
   },
   "outputs": [],
   "source": [
    "df_tmp = pd.DataFrame({\"a\":[1,2,3], \"b\":[True, False, False]})"
   ]
  },
  {
   "cell_type": "code",
   "execution_count": 149,
   "metadata": {
    "ExecuteTime": {
     "end_time": "2021-04-13T13:45:23.739034Z",
     "start_time": "2021-04-13T13:45:23.736571Z"
    }
   },
   "outputs": [],
   "source": [
    "import pickle"
   ]
  },
  {
   "cell_type": "code",
   "execution_count": 150,
   "metadata": {
    "ExecuteTime": {
     "end_time": "2021-04-13T13:45:47.797404Z",
     "start_time": "2021-04-13T13:45:47.792203Z"
    }
   },
   "outputs": [
    {
     "data": {
      "text/plain": [
       "bytes"
      ]
     },
     "execution_count": 150,
     "metadata": {},
     "output_type": "execute_result"
    }
   ],
   "source": [
    "bytes_df_tmp = pickle.dumps(df_tmp)\n",
    "type(bytes_df_tmp)"
   ]
  },
  {
   "cell_type": "code",
   "execution_count": 156,
   "metadata": {
    "ExecuteTime": {
     "end_time": "2021-04-13T13:47:20.445874Z",
     "start_time": "2021-04-13T13:47:20.436061Z"
    }
   },
   "outputs": [
    {
     "data": {
      "text/plain": [
       "b'\\x80\\x03cpandas.core.frame\\nDataFrame\\nq\\x00)\\x81q\\x01}q\\x02(X\\x05\\x00\\x00\\x00_dataq\\x03cpandas.core.internals.managers\\nBlockManager\\nq\\x04)\\x81q\\x05(]q\\x06(cpandas.core.indexes.base\\n_new_Index\\nq\\x07cpandas.core.indexes.base\\nIndex\\nq\\x08}q\\t(X\\x04\\x00\\x00\\x00dataq\\ncnumpy.core.multiarray\\n_reconstruct\\nq\\x0bcnumpy\\nndarray\\nq\\x0cK\\x00\\x85q\\rC\\x01bq\\x0e\\x87q\\x0fRq\\x10(K\\x01K\\x02\\x85q\\x11cnumpy\\ndtype\\nq\\x12X\\x02\\x00\\x00\\x00O8q\\x13K\\x00K\\x01\\x87q\\x14Rq\\x15(K\\x03X\\x01\\x00\\x00\\x00|q\\x16NNNJ\\xff\\xff\\xff\\xffJ\\xff\\xff\\xff\\xffK?tq\\x17b\\x89]q\\x18(X\\x01\\x00\\x00\\x00aq\\x19X\\x01\\x00\\x00\\x00bq\\x1aetq\\x1bbX\\x04\\x00\\x00\\x00nameq\\x1cNu\\x86q\\x1dRq\\x1eh\\x07cpandas.core.indexes.range\\nRangeIndex\\nq\\x1f}q (h\\x1cNX\\x05\\x00\\x00\\x00startq!K\\x00X\\x04\\x00\\x00\\x00stopq\"K\\x03X\\x04\\x00\\x00\\x00stepq#K\\x01u\\x86q$Rq%e]q&(h\\x0bh\\x0cK\\x00\\x85q\\'h\\x0e\\x87q(Rq)(K\\x01K\\x01K\\x03\\x86q*h\\x12X\\x02\\x00\\x00\\x00i8q+K\\x00K\\x01\\x87q,Rq-(K\\x03X\\x01\\x00\\x00\\x00<q.NNNJ\\xff\\xff\\xff\\xffJ\\xff\\xff\\xff\\xffK\\x00tq/b\\x89C\\x18\\x01\\x00\\x00\\x00\\x00\\x00\\x00\\x00\\x02\\x00\\x00\\x00\\x00\\x00\\x00\\x00\\x03\\x00\\x00\\x00\\x00\\x00\\x00\\x00q0tq1bh\\x0bh\\x0cK\\x00\\x85q2h\\x0e\\x87q3Rq4(K\\x01K\\x01K\\x03\\x86q5h\\x12X\\x02\\x00\\x00\\x00b1q6K\\x00K\\x01\\x87q7Rq8(K\\x03h\\x16NNNJ\\xff\\xff\\xff\\xffJ\\xff\\xff\\xff\\xffK\\x00tq9b\\x89C\\x03\\x01\\x00\\x00q:tq;be]q<(h\\x07h\\x08}q=(h\\nh\\x0bh\\x0cK\\x00\\x85q>h\\x0e\\x87q?Rq@(K\\x01K\\x01\\x85qAh\\x15\\x89]qBh\\x19atqCbh\\x1cNu\\x86qDRqEh\\x07h\\x08}qF(h\\nh\\x0bh\\x0cK\\x00\\x85qGh\\x0e\\x87qHRqI(K\\x01K\\x01\\x85qJh\\x15\\x89]qKh\\x1aatqLbh\\x1cNu\\x86qMRqNe}qOX\\x06\\x00\\x00\\x000.14.1qP}qQ(X\\x04\\x00\\x00\\x00axesqRh\\x06X\\x06\\x00\\x00\\x00blocksqS]qT(}qU(X\\x06\\x00\\x00\\x00valuesqVh)X\\x08\\x00\\x00\\x00mgr_locsqWcbuiltins\\nslice\\nqXK\\x00K\\x01K\\x01\\x87qYRqZu}q[(hVh4hWhXK\\x01K\\x02K\\x01\\x87q\\\\Rq]ueustq^bX\\x04\\x00\\x00\\x00_typq_X\\t\\x00\\x00\\x00dataframeq`X\\t\\x00\\x00\\x00_metadataqa]qbub.'"
      ]
     },
     "execution_count": 156,
     "metadata": {},
     "output_type": "execute_result"
    }
   ],
   "source": [
    "bytes_df_tmp"
   ]
  },
  {
   "cell_type": "code",
   "execution_count": 146,
   "metadata": {
    "ExecuteTime": {
     "end_time": "2021-04-13T13:43:40.966794Z",
     "start_time": "2021-04-13T13:43:40.948508Z"
    }
   },
   "outputs": [],
   "source": [
    "text = message_prefix + content\n",
    "sock.send(text.encode())"
   ]
  },
  {
   "cell_type": "code",
   "execution_count": 153,
   "metadata": {
    "ExecuteTime": {
     "end_time": "2021-04-13T13:46:31.666531Z",
     "start_time": "2021-04-13T13:46:31.648814Z"
    }
   },
   "outputs": [],
   "source": [
    "text = \"sub1:hello\"\n",
    "sock.send(text.encode())"
   ]
  },
  {
   "cell_type": "code",
   "execution_count": 164,
   "metadata": {
    "ExecuteTime": {
     "end_time": "2021-04-13T13:54:18.333920Z",
     "start_time": "2021-04-13T13:54:18.326331Z"
    }
   },
   "outputs": [],
   "source": [
    "data = message_prefix.encode() + bytes_df_tmp\n",
    "sock.send(data)"
   ]
  },
  {
   "cell_type": "code",
   "execution_count": 162,
   "metadata": {
    "ExecuteTime": {
     "end_time": "2021-04-13T13:51:25.164600Z",
     "start_time": "2021-04-13T13:51:25.147017Z"
    },
    "scrolled": true
   },
   "outputs": [
    {
     "data": {
      "text/html": [
       "<div>\n",
       "<style scoped>\n",
       "    .dataframe tbody tr th:only-of-type {\n",
       "        vertical-align: middle;\n",
       "    }\n",
       "\n",
       "    .dataframe tbody tr th {\n",
       "        vertical-align: top;\n",
       "    }\n",
       "\n",
       "    .dataframe thead th {\n",
       "        text-align: right;\n",
       "    }\n",
       "</style>\n",
       "<table border=\"1\" class=\"dataframe\">\n",
       "  <thead>\n",
       "    <tr style=\"text-align: right;\">\n",
       "      <th></th>\n",
       "      <th>a</th>\n",
       "      <th>b</th>\n",
       "    </tr>\n",
       "  </thead>\n",
       "  <tbody>\n",
       "    <tr>\n",
       "      <td>0</td>\n",
       "      <td>1</td>\n",
       "      <td>True</td>\n",
       "    </tr>\n",
       "    <tr>\n",
       "      <td>1</td>\n",
       "      <td>2</td>\n",
       "      <td>False</td>\n",
       "    </tr>\n",
       "    <tr>\n",
       "      <td>2</td>\n",
       "      <td>3</td>\n",
       "      <td>False</td>\n",
       "    </tr>\n",
       "  </tbody>\n",
       "</table>\n",
       "</div>"
      ],
      "text/plain": [
       "   a      b\n",
       "0  1   True\n",
       "1  2  False\n",
       "2  3  False"
      ]
     },
     "execution_count": 162,
     "metadata": {},
     "output_type": "execute_result"
    }
   ],
   "source": [
    "pickle.loads(bytes_df_tmp)"
   ]
  },
  {
   "cell_type": "code",
   "execution_count": null,
   "metadata": {},
   "outputs": [],
   "source": []
  },
  {
   "cell_type": "code",
   "execution_count": null,
   "metadata": {
    "ExecuteTime": {
     "end_time": "2021-04-13T13:38:18.232168Z",
     "start_time": "2021-04-13T13:38:18.193122Z"
    }
   },
   "outputs": [],
   "source": [
    "# %load /home/noriaki/PL/Python/Library/zeromq/push.py\n",
    "import time\n",
    "\n",
    "\n",
    "id_ = 0\n",
    "while True:\n",
    "    id_ += 1\n",
    "    print(text)\n",
    "    time.sleep(1)\n"
   ]
  },
  {
   "cell_type": "code",
   "execution_count": null,
   "metadata": {},
   "outputs": [],
   "source": []
  }
 ],
 "metadata": {
  "kernelspec": {
   "display_name": "IOManager_Exp_Py39",
   "language": "python",
   "name": "iomanager_exp_py39"
  },
  "language_info": {
   "codemirror_mode": {
    "name": "ipython",
    "version": 3
   },
   "file_extension": ".py",
   "mimetype": "text/x-python",
   "name": "python",
   "nbconvert_exporter": "python",
   "pygments_lexer": "ipython3",
   "version": "3.9.12"
  },
  "toc": {
   "base_numbering": 1,
   "nav_menu": {},
   "number_sections": true,
   "sideBar": true,
   "skip_h1_title": false,
   "title_cell": "Table of Contents",
   "title_sidebar": "Contents",
   "toc_cell": false,
   "toc_position": {
    "height": "calc(100% - 180px)",
    "left": "10px",
    "top": "150px",
    "width": "263.333px"
   },
   "toc_section_display": true,
   "toc_window_display": true
  }
 },
 "nbformat": 4,
 "nbformat_minor": 2
}
